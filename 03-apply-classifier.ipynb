{
 "cells": [
  {
   "cell_type": "code",
   "id": "initial_id",
   "metadata": {
    "collapsed": true,
    "ExecuteTime": {
     "end_time": "2024-09-02T15:54:20.526827Z",
     "start_time": "2024-09-02T15:54:07.465256Z"
    }
   },
   "source": [
    "from datasets.CSVDataset import CSVDataset\n",
    "from utils import reduce_dataset\n",
    "from train import kfold_grid_search\n",
    "import torch\n",
    "\n",
    "device = torch.device('cuda:0' if torch.cuda.is_available() else 'cpu')\n",
    "dataset = CSVDataset(\"data/features/ResNet50_features.csv\")\n",
    "dataset = reduce_dataset(dataset, discard_ratio=0.99)\n",
    "kfold_grid_search(dataset, device,\n",
    "                  checkpoint_file_path=None,  #\"grid-search-25.json\",\n",
    "                  batch_size=16,\n",
    "                  hidden_layer_combs=[1],\n",
    "                  neuron_combs=[512],\n",
    "                  learning_rate_combs=[0.001],\n",
    "                  dropout_combs=[0.2],\n",
    "                  threshold_combs=[1.1])\n"
   ],
   "outputs": [
    {
     "name": "stdout",
     "output_type": "stream",
     "text": [
      "data/features/ResNet50_features.pickle\n",
      "(0/1) (hidden_layers=1, neurons=512, dropout=0.2, threshold=1.1, learning_rate=0.001, weight_decay=0.0)\n"
     ]
    },
    {
     "name": "stderr",
     "output_type": "stream",
     "text": [
      "Fold 1: 100%|██████████| 20/20 [00:01<00:00, 10.23it/s]\n",
      "Testing: 100%|██████████| 50/50 [00:00<00:00, 1066.46it/s]\n",
      "Fold 2: 100%|██████████| 20/20 [00:01<00:00, 10.91it/s]\n",
      "Testing: 100%|██████████| 50/50 [00:00<00:00, 1598.62it/s]\n",
      "Fold 3: 100%|██████████| 20/20 [00:01<00:00, 10.86it/s]\n",
      "Testing: 100%|██████████| 50/50 [00:00<00:00, 1600.09it/s]\n",
      "Fold 4: 100%|██████████| 20/20 [00:01<00:00, 10.13it/s]\n",
      "Testing: 100%|██████████| 50/50 [00:00<00:00, 1599.78it/s]\n",
      "Fold 5: 100%|██████████| 20/20 [00:01<00:00, 10.41it/s]\n",
      "Testing: 100%|██████████| 50/50 [00:00<00:00, 1599.52it/s]"
     ]
    },
    {
     "name": "stdout",
     "output_type": "stream",
     "text": [
      "{'test_loss': 0.8707956263671512, 'test_accuracy': 0.7172333333333334, 'test_precision': 0.0, 'test_recall': 0.0, 'test_f1': 0.0, 'test_mcc': 0.0}\n"
     ]
    },
    {
     "name": "stderr",
     "output_type": "stream",
     "text": [
      "\n"
     ]
    }
   ],
   "execution_count": 1
  },
  {
   "metadata": {
    "ExecuteTime": {
     "end_time": "2024-09-02T15:54:20.614889Z",
     "start_time": "2024-09-02T15:54:20.604958Z"
    }
   },
   "cell_type": "code",
   "source": "",
   "id": "f01fbc77b26dc0ad",
   "outputs": [],
   "execution_count": null
  }
 ],
 "metadata": {
  "kernelspec": {
   "display_name": "Python 3",
   "language": "python",
   "name": "python3"
  },
  "language_info": {
   "codemirror_mode": {
    "name": "ipython",
    "version": 2
   },
   "file_extension": ".py",
   "mimetype": "text/x-python",
   "name": "python",
   "nbconvert_exporter": "python",
   "pygments_lexer": "ipython2",
   "version": "2.7.6"
  }
 },
 "nbformat": 4,
 "nbformat_minor": 5
}
