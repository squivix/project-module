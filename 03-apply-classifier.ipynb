{
 "cells": [
  {
   "cell_type": "code",
   "id": "initial_id",
   "metadata": {
    "collapsed": true,
    "ExecuteTime": {
     "end_time": "2024-09-02T14:34:49.916462Z",
     "start_time": "2024-09-02T14:34:49.769531Z"
    }
   },
   "source": [
    "from datasets.CSVDataset import CSVDataset\n",
    "from utils import reduce_dataset\n",
    "\n",
    "dataset=CSVDataset(\"features/InceptionV3_reduced.csv\")\n",
    "subset=reduce_dataset(dataset,discard_ratio=0.9)\n",
    "len(subset)\n"
   ],
   "outputs": [
    {
     "data": {
      "text/plain": [
       "30"
      ]
     },
     "execution_count": 18,
     "metadata": {},
     "output_type": "execute_result"
    }
   ],
   "execution_count": 18
  }
 ],
 "metadata": {
  "kernelspec": {
   "display_name": "Python 3",
   "language": "python",
   "name": "python3"
  },
  "language_info": {
   "codemirror_mode": {
    "name": "ipython",
    "version": 2
   },
   "file_extension": ".py",
   "mimetype": "text/x-python",
   "name": "python",
   "nbconvert_exporter": "python",
   "pygments_lexer": "ipython2",
   "version": "2.7.6"
  }
 },
 "nbformat": 4,
 "nbformat_minor": 5
}
