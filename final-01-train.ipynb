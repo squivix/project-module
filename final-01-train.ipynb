{
 "cells": [
  {
   "metadata": {
    "ExecuteTime": {
     "end_time": "2025-02-01T23:00:48.893052Z",
     "start_time": "2025-02-01T23:00:46.191712Z"
    }
   },
   "cell_type": "code",
   "source": [
    "import json\n",
    "import os\n",
    "from datetime import datetime\n",
    "from pathlib import Path\n",
    "\n",
    "import pandas as pd\n",
    "import torch\n",
    "from torch.utils.data import DataLoader\n",
    "\n",
    "from candidate_extractors.TemplateMatchExtractor import TemplateMatchExtractor\n",
    "from candidate_extractors.TemplateMatchExtractor import generate_dataset_from_slides\n",
    "from datasets.LabeledImageDataset import LabeledImageDataset\n",
    "from models.resnet import Resnet50Model, Resnet18Model\n",
    "from train import train_classifier\n",
    "from utils import reduce_dataset, split_dataset\n",
    "from utils import plot_model_metrics"
   ],
   "id": "178fcda7c051eefd",
   "outputs": [],
   "execution_count": 1
  },
  {
   "metadata": {
    "ExecuteTime": {
     "end_time": "2025-02-01T23:00:48.898681Z",
     "start_time": "2025-02-01T23:00:48.893052Z"
    }
   },
   "cell_type": "code",
   "source": [
    "slides_root_dir = \"data/whole-slides/gut\"\n",
    "annotations_root_dir = \"data/annotations/json\"\n",
    "candidates_dataset_dir = \"output/candidates\"\n",
    "model_output_dir = \"output/models\""
   ],
   "id": "2692a85d7bf5fc3a",
   "outputs": [],
   "execution_count": 2
  },
  {
   "metadata": {
    "ExecuteTime": {
     "end_time": "2025-02-01T23:00:48.984384Z",
     "start_time": "2025-02-01T23:00:48.980495Z"
    }
   },
   "cell_type": "code",
   "source": [
    "extractor = TemplateMatchExtractor()\n",
    "generate_dataset_from_slides(slides_root_dir, extractor, candidates_dataset_dir)"
   ],
   "id": "64c6e36f90e183bd",
   "outputs": [
    {
     "name": "stdout",
     "output_type": "stream",
     "text": [
      "Found cached candidates dataset output/candidates\n"
     ]
    }
   ],
   "execution_count": 3
  },
  {
   "metadata": {
    "ExecuteTime": {
     "end_time": "2025-02-01T23:00:49.086613Z",
     "start_time": "2025-02-01T23:00:48.988236Z"
    }
   },
   "cell_type": "code",
   "source": [
    "def load_annotations(directory):\n",
    "    slide_data = {\"slide_name\": [], \"n_positive_annotations\": []}\n",
    "    for annotations_file in os.listdir(directory):\n",
    "        with open(f\"{directory}/{annotations_file}\") as f:\n",
    "            annotations = json.load(f)\n",
    "            slide_name = Path(annotations_file).stem\n",
    "            slide_data[\"slide_name\"].append(slide_name)\n",
    "            slide_data[\"n_positive_annotations\"].append(len(annotations))\n",
    "    return pd.DataFrame(slide_data)\n",
    "\n",
    "\n",
    "def assign_categories(dataframe):\n",
    "    q1, median, q3 = dataframe['n_positive_annotations'].quantile([0.25, 0.5, 0.75])\n",
    "\n",
    "    def categorize_quartiles(n_annotations):\n",
    "        if n_annotations <= q1:\n",
    "            return \"Low\"\n",
    "        elif q1 < n_annotations <= median:\n",
    "            return \"Medium\"\n",
    "        elif median < n_annotations <= q3:\n",
    "            return \"High\"\n",
    "        else:\n",
    "            return \"Very High\"\n",
    "\n",
    "    dataframe['category'] = dataframe['n_positive_annotations'].apply(lambda x: categorize_quartiles(x))\n",
    "    return dataframe\n",
    "\n",
    "\n",
    "def split_data(dataframe, train_portion=0.7):\n",
    "    train_set = pd.DataFrame()\n",
    "    test_set = pd.DataFrame()\n",
    "    for category in dataframe['category'].unique():\n",
    "        category_slides = dataframe[dataframe['category'] == category]\n",
    "        train_samples = category_slides.sample(frac=train_portion)\n",
    "        test_samples = category_slides.drop(train_samples.index)\n",
    "        train_set = pd.concat([train_set, train_samples])\n",
    "        test_set = pd.concat([test_set, test_samples])\n",
    "    return train_set, test_set\n",
    "\n",
    "\n",
    "slides_df = load_annotations(annotations_root_dir)\n",
    "slides_df = assign_categories(slides_df)\n",
    "train_slides, test_slides = split_data(slides_df)\n",
    "print(\"Train Slides\")\n",
    "train_slides"
   ],
   "id": "4295d7777077b1e8",
   "outputs": [
    {
     "name": "stdout",
     "output_type": "stream",
     "text": [
      "Train Slides\n"
     ]
    },
    {
     "data": {
      "text/plain": [
       "   slide_name  n_positive_annotations   category\n",
       "13     593446                      15        Low\n",
       "0      522021                       1        Low\n",
       "2      593433                       3        Low\n",
       "18     593451                       1        Low\n",
       "19     593452                     167  Very High\n",
       "16     593449                     226  Very High\n",
       "5      593436                     151  Very High\n",
       "12     593445                     100  Very High\n",
       "8      593439                      27     Medium\n",
       "14     593447                      25     Medium\n",
       "3      593434                      27     Medium\n",
       "21     593454                      20     Medium\n",
       "7      593438                      78       High\n",
       "6      593437                      87       High\n",
       "11     593444                      30       High\n",
       "9      593440                      51       High"
      ],
      "text/html": [
       "<div>\n",
       "<style scoped>\n",
       "    .dataframe tbody tr th:only-of-type {\n",
       "        vertical-align: middle;\n",
       "    }\n",
       "\n",
       "    .dataframe tbody tr th {\n",
       "        vertical-align: top;\n",
       "    }\n",
       "\n",
       "    .dataframe thead th {\n",
       "        text-align: right;\n",
       "    }\n",
       "</style>\n",
       "<table border=\"1\" class=\"dataframe\">\n",
       "  <thead>\n",
       "    <tr style=\"text-align: right;\">\n",
       "      <th></th>\n",
       "      <th>slide_name</th>\n",
       "      <th>n_positive_annotations</th>\n",
       "      <th>category</th>\n",
       "    </tr>\n",
       "  </thead>\n",
       "  <tbody>\n",
       "    <tr>\n",
       "      <th>13</th>\n",
       "      <td>593446</td>\n",
       "      <td>15</td>\n",
       "      <td>Low</td>\n",
       "    </tr>\n",
       "    <tr>\n",
       "      <th>0</th>\n",
       "      <td>522021</td>\n",
       "      <td>1</td>\n",
       "      <td>Low</td>\n",
       "    </tr>\n",
       "    <tr>\n",
       "      <th>2</th>\n",
       "      <td>593433</td>\n",
       "      <td>3</td>\n",
       "      <td>Low</td>\n",
       "    </tr>\n",
       "    <tr>\n",
       "      <th>18</th>\n",
       "      <td>593451</td>\n",
       "      <td>1</td>\n",
       "      <td>Low</td>\n",
       "    </tr>\n",
       "    <tr>\n",
       "      <th>19</th>\n",
       "      <td>593452</td>\n",
       "      <td>167</td>\n",
       "      <td>Very High</td>\n",
       "    </tr>\n",
       "    <tr>\n",
       "      <th>16</th>\n",
       "      <td>593449</td>\n",
       "      <td>226</td>\n",
       "      <td>Very High</td>\n",
       "    </tr>\n",
       "    <tr>\n",
       "      <th>5</th>\n",
       "      <td>593436</td>\n",
       "      <td>151</td>\n",
       "      <td>Very High</td>\n",
       "    </tr>\n",
       "    <tr>\n",
       "      <th>12</th>\n",
       "      <td>593445</td>\n",
       "      <td>100</td>\n",
       "      <td>Very High</td>\n",
       "    </tr>\n",
       "    <tr>\n",
       "      <th>8</th>\n",
       "      <td>593439</td>\n",
       "      <td>27</td>\n",
       "      <td>Medium</td>\n",
       "    </tr>\n",
       "    <tr>\n",
       "      <th>14</th>\n",
       "      <td>593447</td>\n",
       "      <td>25</td>\n",
       "      <td>Medium</td>\n",
       "    </tr>\n",
       "    <tr>\n",
       "      <th>3</th>\n",
       "      <td>593434</td>\n",
       "      <td>27</td>\n",
       "      <td>Medium</td>\n",
       "    </tr>\n",
       "    <tr>\n",
       "      <th>21</th>\n",
       "      <td>593454</td>\n",
       "      <td>20</td>\n",
       "      <td>Medium</td>\n",
       "    </tr>\n",
       "    <tr>\n",
       "      <th>7</th>\n",
       "      <td>593438</td>\n",
       "      <td>78</td>\n",
       "      <td>High</td>\n",
       "    </tr>\n",
       "    <tr>\n",
       "      <th>6</th>\n",
       "      <td>593437</td>\n",
       "      <td>87</td>\n",
       "      <td>High</td>\n",
       "    </tr>\n",
       "    <tr>\n",
       "      <th>11</th>\n",
       "      <td>593444</td>\n",
       "      <td>30</td>\n",
       "      <td>High</td>\n",
       "    </tr>\n",
       "    <tr>\n",
       "      <th>9</th>\n",
       "      <td>593440</td>\n",
       "      <td>51</td>\n",
       "      <td>High</td>\n",
       "    </tr>\n",
       "  </tbody>\n",
       "</table>\n",
       "</div>"
      ]
     },
     "execution_count": 4,
     "metadata": {},
     "output_type": "execute_result"
    }
   ],
   "execution_count": 4
  },
  {
   "metadata": {
    "ExecuteTime": {
     "end_time": "2025-02-01T23:00:49.113687Z",
     "start_time": "2025-02-01T23:00:49.108335Z"
    }
   },
   "cell_type": "code",
   "source": [
    "print(\"Test Slides\")\n",
    "test_slides"
   ],
   "id": "a3fae8ba87d946e9",
   "outputs": [
    {
     "name": "stdout",
     "output_type": "stream",
     "text": [
      "Test Slides\n"
     ]
    },
    {
     "data": {
      "text/plain": [
       "   slide_name  n_positive_annotations   category\n",
       "10     593441                       4        Low\n",
       "15     593448                      13        Low\n",
       "1      522934                     129  Very High\n",
       "4      593435                      91  Very High\n",
       "20     593453                      18     Medium\n",
       "17     593450                      50       High"
      ],
      "text/html": [
       "<div>\n",
       "<style scoped>\n",
       "    .dataframe tbody tr th:only-of-type {\n",
       "        vertical-align: middle;\n",
       "    }\n",
       "\n",
       "    .dataframe tbody tr th {\n",
       "        vertical-align: top;\n",
       "    }\n",
       "\n",
       "    .dataframe thead th {\n",
       "        text-align: right;\n",
       "    }\n",
       "</style>\n",
       "<table border=\"1\" class=\"dataframe\">\n",
       "  <thead>\n",
       "    <tr style=\"text-align: right;\">\n",
       "      <th></th>\n",
       "      <th>slide_name</th>\n",
       "      <th>n_positive_annotations</th>\n",
       "      <th>category</th>\n",
       "    </tr>\n",
       "  </thead>\n",
       "  <tbody>\n",
       "    <tr>\n",
       "      <th>10</th>\n",
       "      <td>593441</td>\n",
       "      <td>4</td>\n",
       "      <td>Low</td>\n",
       "    </tr>\n",
       "    <tr>\n",
       "      <th>15</th>\n",
       "      <td>593448</td>\n",
       "      <td>13</td>\n",
       "      <td>Low</td>\n",
       "    </tr>\n",
       "    <tr>\n",
       "      <th>1</th>\n",
       "      <td>522934</td>\n",
       "      <td>129</td>\n",
       "      <td>Very High</td>\n",
       "    </tr>\n",
       "    <tr>\n",
       "      <th>4</th>\n",
       "      <td>593435</td>\n",
       "      <td>91</td>\n",
       "      <td>Very High</td>\n",
       "    </tr>\n",
       "    <tr>\n",
       "      <th>20</th>\n",
       "      <td>593453</td>\n",
       "      <td>18</td>\n",
       "      <td>Medium</td>\n",
       "    </tr>\n",
       "    <tr>\n",
       "      <th>17</th>\n",
       "      <td>593450</td>\n",
       "      <td>50</td>\n",
       "      <td>High</td>\n",
       "    </tr>\n",
       "  </tbody>\n",
       "</table>\n",
       "</div>"
      ]
     },
     "execution_count": 5,
     "metadata": {},
     "output_type": "execute_result"
    }
   ],
   "execution_count": 5
  },
  {
   "metadata": {
    "ExecuteTime": {
     "end_time": "2025-02-01T23:00:49.996394Z",
     "start_time": "2025-02-01T23:00:49.141221Z"
    }
   },
   "cell_type": "code",
   "source": [
    "from datasets.SlideSeperatedDataset import SlideSeperatedDataset\n",
    "\n",
    "device = torch.device('cuda:0' if torch.cuda.is_available() else 'cpu')\n",
    "print(f\"Device: {device}\")\n",
    "\n",
    "batch_size = 256\n",
    "dataset = SlideSeperatedDataset(candidates_dataset_dir, set(train_slides[\"slide_name\"]))\n",
    "dataset = reduce_dataset(dataset, discard_ratio=0.0)\n",
    "train_dataset, validation_dataset = split_dataset(dataset, train_ratio=0.9)\n",
    "# train_dataset = undersample_dataset(train_dataset)\n",
    "\n",
    "train_loader = DataLoader(train_dataset,\n",
    "                          batch_size=batch_size,\n",
    "                          shuffle=True)\n",
    "validation_loader = DataLoader(validation_dataset,\n",
    "                               batch_size=batch_size,\n",
    "                               shuffle=True, )\n",
    "\n",
    "model = Resnet18Model(hidden_layers=1, units_per_layer=2048,\n",
    "                      dropout=0.3, focal_alpha=0.9, focal_gamma=2.0)\n",
    "\n",
    "print(f\"Dataset: {len(train_dataset):,} training, {len(validation_dataset):,} validation\")\n"
   ],
   "id": "b2b32d9e85e9a12f",
   "outputs": [
    {
     "name": "stdout",
     "output_type": "stream",
     "text": [
      "Device: cuda:0\n",
      "Dataset: 158,890 training, 17,655 validation\n"
     ]
    }
   ],
   "execution_count": 6
  },
  {
   "metadata": {
    "ExecuteTime": {
     "end_time": "2025-02-01T23:00:50.026115Z",
     "start_time": "2025-02-01T23:00:50.022300Z"
    }
   },
   "cell_type": "code",
   "source": "print(model)",
   "id": "cb40554ee9021bc3",
   "outputs": [
    {
     "name": "stdout",
     "output_type": "stream",
     "text": [
      "Resnet18Model(\n",
      "  (pretrained_model): ResNet(\n",
      "    (conv1): Conv2d(3, 64, kernel_size=(7, 7), stride=(2, 2), padding=(3, 3), bias=False)\n",
      "    (bn1): BatchNorm2d(64, eps=1e-05, momentum=0.1, affine=True, track_running_stats=True)\n",
      "    (relu): ReLU(inplace=True)\n",
      "    (maxpool): MaxPool2d(kernel_size=3, stride=2, padding=1, dilation=1, ceil_mode=False)\n",
      "    (layer1): Sequential(\n",
      "      (0): BasicBlock(\n",
      "        (conv1): Conv2d(64, 64, kernel_size=(3, 3), stride=(1, 1), padding=(1, 1), bias=False)\n",
      "        (bn1): BatchNorm2d(64, eps=1e-05, momentum=0.1, affine=True, track_running_stats=True)\n",
      "        (relu): ReLU(inplace=True)\n",
      "        (conv2): Conv2d(64, 64, kernel_size=(3, 3), stride=(1, 1), padding=(1, 1), bias=False)\n",
      "        (bn2): BatchNorm2d(64, eps=1e-05, momentum=0.1, affine=True, track_running_stats=True)\n",
      "      )\n",
      "      (1): BasicBlock(\n",
      "        (conv1): Conv2d(64, 64, kernel_size=(3, 3), stride=(1, 1), padding=(1, 1), bias=False)\n",
      "        (bn1): BatchNorm2d(64, eps=1e-05, momentum=0.1, affine=True, track_running_stats=True)\n",
      "        (relu): ReLU(inplace=True)\n",
      "        (conv2): Conv2d(64, 64, kernel_size=(3, 3), stride=(1, 1), padding=(1, 1), bias=False)\n",
      "        (bn2): BatchNorm2d(64, eps=1e-05, momentum=0.1, affine=True, track_running_stats=True)\n",
      "      )\n",
      "    )\n",
      "    (layer2): Sequential(\n",
      "      (0): BasicBlock(\n",
      "        (conv1): Conv2d(64, 128, kernel_size=(3, 3), stride=(2, 2), padding=(1, 1), bias=False)\n",
      "        (bn1): BatchNorm2d(128, eps=1e-05, momentum=0.1, affine=True, track_running_stats=True)\n",
      "        (relu): ReLU(inplace=True)\n",
      "        (conv2): Conv2d(128, 128, kernel_size=(3, 3), stride=(1, 1), padding=(1, 1), bias=False)\n",
      "        (bn2): BatchNorm2d(128, eps=1e-05, momentum=0.1, affine=True, track_running_stats=True)\n",
      "        (downsample): Sequential(\n",
      "          (0): Conv2d(64, 128, kernel_size=(1, 1), stride=(2, 2), bias=False)\n",
      "          (1): BatchNorm2d(128, eps=1e-05, momentum=0.1, affine=True, track_running_stats=True)\n",
      "        )\n",
      "      )\n",
      "      (1): BasicBlock(\n",
      "        (conv1): Conv2d(128, 128, kernel_size=(3, 3), stride=(1, 1), padding=(1, 1), bias=False)\n",
      "        (bn1): BatchNorm2d(128, eps=1e-05, momentum=0.1, affine=True, track_running_stats=True)\n",
      "        (relu): ReLU(inplace=True)\n",
      "        (conv2): Conv2d(128, 128, kernel_size=(3, 3), stride=(1, 1), padding=(1, 1), bias=False)\n",
      "        (bn2): BatchNorm2d(128, eps=1e-05, momentum=0.1, affine=True, track_running_stats=True)\n",
      "      )\n",
      "    )\n",
      "    (layer3): Sequential(\n",
      "      (0): BasicBlock(\n",
      "        (conv1): Conv2d(128, 256, kernel_size=(3, 3), stride=(2, 2), padding=(1, 1), bias=False)\n",
      "        (bn1): BatchNorm2d(256, eps=1e-05, momentum=0.1, affine=True, track_running_stats=True)\n",
      "        (relu): ReLU(inplace=True)\n",
      "        (conv2): Conv2d(256, 256, kernel_size=(3, 3), stride=(1, 1), padding=(1, 1), bias=False)\n",
      "        (bn2): BatchNorm2d(256, eps=1e-05, momentum=0.1, affine=True, track_running_stats=True)\n",
      "        (downsample): Sequential(\n",
      "          (0): Conv2d(128, 256, kernel_size=(1, 1), stride=(2, 2), bias=False)\n",
      "          (1): BatchNorm2d(256, eps=1e-05, momentum=0.1, affine=True, track_running_stats=True)\n",
      "        )\n",
      "      )\n",
      "      (1): BasicBlock(\n",
      "        (conv1): Conv2d(256, 256, kernel_size=(3, 3), stride=(1, 1), padding=(1, 1), bias=False)\n",
      "        (bn1): BatchNorm2d(256, eps=1e-05, momentum=0.1, affine=True, track_running_stats=True)\n",
      "        (relu): ReLU(inplace=True)\n",
      "        (conv2): Conv2d(256, 256, kernel_size=(3, 3), stride=(1, 1), padding=(1, 1), bias=False)\n",
      "        (bn2): BatchNorm2d(256, eps=1e-05, momentum=0.1, affine=True, track_running_stats=True)\n",
      "      )\n",
      "    )\n",
      "    (layer4): Sequential(\n",
      "      (0): BasicBlock(\n",
      "        (conv1): Conv2d(256, 512, kernel_size=(3, 3), stride=(2, 2), padding=(1, 1), bias=False)\n",
      "        (bn1): BatchNorm2d(512, eps=1e-05, momentum=0.1, affine=True, track_running_stats=True)\n",
      "        (relu): ReLU(inplace=True)\n",
      "        (conv2): Conv2d(512, 512, kernel_size=(3, 3), stride=(1, 1), padding=(1, 1), bias=False)\n",
      "        (bn2): BatchNorm2d(512, eps=1e-05, momentum=0.1, affine=True, track_running_stats=True)\n",
      "        (downsample): Sequential(\n",
      "          (0): Conv2d(256, 512, kernel_size=(1, 1), stride=(2, 2), bias=False)\n",
      "          (1): BatchNorm2d(512, eps=1e-05, momentum=0.1, affine=True, track_running_stats=True)\n",
      "        )\n",
      "      )\n",
      "      (1): BasicBlock(\n",
      "        (conv1): Conv2d(512, 512, kernel_size=(3, 3), stride=(1, 1), padding=(1, 1), bias=False)\n",
      "        (bn1): BatchNorm2d(512, eps=1e-05, momentum=0.1, affine=True, track_running_stats=True)\n",
      "        (relu): ReLU(inplace=True)\n",
      "        (conv2): Conv2d(512, 512, kernel_size=(3, 3), stride=(1, 1), padding=(1, 1), bias=False)\n",
      "        (bn2): BatchNorm2d(512, eps=1e-05, momentum=0.1, affine=True, track_running_stats=True)\n",
      "      )\n",
      "    )\n",
      "    (avgpool): AdaptiveAvgPool2d(output_size=(1, 1))\n",
      "    (fc): Identity()\n",
      "  )\n",
      "  (model): MLPBinaryClassifier(\n",
      "    (model): Sequential(\n",
      "      (0): Linear(in_features=512, out_features=2048, bias=True)\n",
      "      (1): ReLU()\n",
      "      (2): Dropout(p=0.3, inplace=False)\n",
      "      (3): Linear(in_features=2048, out_features=2048, bias=True)\n",
      "      (4): ReLU()\n",
      "      (5): Dropout(p=0.3, inplace=False)\n",
      "      (6): Linear(in_features=2048, out_features=1, bias=True)\n",
      "      (7): Sigmoid()\n",
      "    )\n",
      "  )\n",
      ")\n"
     ]
    }
   ],
   "execution_count": 7
  },
  {
   "metadata": {
    "ExecuteTime": {
     "end_time": "2025-02-01T23:00:50.192048Z",
     "start_time": "2025-02-01T23:00:50.179254Z"
    }
   },
   "cell_type": "code",
   "source": "print(f\"Training starts {datetime.now().isoformat()}\")",
   "id": "5e0cca2c19fbc272",
   "outputs": [
    {
     "name": "stdout",
     "output_type": "stream",
     "text": [
      "Training starts 2025-02-02T00:00:50.179254\n"
     ]
    }
   ],
   "execution_count": 8
  },
  {
   "metadata": {
    "ExecuteTime": {
     "end_time": "2025-02-02T16:13:35.900388Z",
     "start_time": "2025-02-01T23:00:50.254555Z"
    }
   },
   "cell_type": "code",
   "source": [
    "\n",
    "model = model.to(device)\n",
    "model, model_metrics = train_classifier(model, train_loader, validation_loader, device,\n",
    "                                        start_learning_rate=0.000075,\n",
    "                                        max_epochs=100,\n",
    "                                        checkpoint_every=1,\n",
    "                                        eval_every=1)\n"
   ],
   "id": "8e7b03124287917b",
   "outputs": [
    {
     "name": "stderr",
     "output_type": "stream",
     "text": [
      "Epoch 1 training: 100%|██████████| 621/621 [04:17<00:00,  2.41it/s]\n"
     ]
    },
    {
     "name": "stdout",
     "output_type": "stream",
     "text": [
      "Train: 1/100: lr: 0.000075000000 loss:0.004330287052866974\n"
     ]
    },
    {
     "name": "stderr",
     "output_type": "stream",
     "text": [
      "Epoch 1 testing: 100%|██████████| 69/69 [00:28<00:00,  2.39it/s]\n"
     ]
    },
    {
     "name": "stdout",
     "output_type": "stream",
     "text": [
      "Test: 1/100: loss:0.003546122598218853, accuracy:0.9781373309423224, precision:0.17449599514816905, recall:0.4820910973084886, f1:0.2409990573034051, mcc:0.27198193738457216, ece:0.02186266901106506, epoch:0\n"
     ]
    },
    {
     "name": "stderr",
     "output_type": "stream",
     "text": [
      "Epoch 2 training: 100%|██████████| 621/621 [04:24<00:00,  2.34it/s]\n"
     ]
    },
    {
     "name": "stdout",
     "output_type": "stream",
     "text": [
      "Train: 2/100: lr: 0.000075000000 loss:0.003574032655959475\n"
     ]
    },
    {
     "name": "stderr",
     "output_type": "stream",
     "text": [
      "Epoch 2 testing: 100%|██████████| 69/69 [00:30<00:00,  2.27it/s]\n"
     ]
    },
    {
     "name": "stdout",
     "output_type": "stream",
     "text": [
      "Test: 2/100: loss:0.003539394156626034, accuracy:0.9903151678841754, precision:0.2647342995169082, recall:0.30217391304347824, f1:0.2625833908442604, mcc:0.26906027295547486, ece:0.009684832085031961, epoch:1\n"
     ]
    },
    {
     "name": "stderr",
     "output_type": "stream",
     "text": [
      "Epoch 3 training: 100%|██████████| 621/621 [04:38<00:00,  2.23it/s]\n"
     ]
    },
    {
     "name": "stdout",
     "output_type": "stream",
     "text": [
      "Train: 3/100: lr: 0.000075000000 loss:0.003319807632956744\n"
     ]
    },
    {
     "name": "stderr",
     "output_type": "stream",
     "text": [
      "Epoch 3 testing: 100%|██████████| 69/69 [00:31<00:00,  2.22it/s]\n"
     ]
    },
    {
     "name": "stdout",
     "output_type": "stream",
     "text": [
      "Test: 3/100: loss:0.0038028971319073353, accuracy:0.9602457753916563, precision:0.11965775321879776, recall:0.6130434782608696, f1:0.19380163977350676, mcc:0.2540867998952757, ece:0.03975422461719617, epoch:2\n"
     ]
    },
    {
     "name": "stderr",
     "output_type": "stream",
     "text": [
      "Epoch 4 training: 100%|██████████| 621/621 [04:44<00:00,  2.18it/s]\n"
     ]
    },
    {
     "name": "stdout",
     "output_type": "stream",
     "text": [
      "Train: 4/100: lr: 0.000075000000 loss:0.0030771211443837107\n"
     ]
    },
    {
     "name": "stderr",
     "output_type": "stream",
     "text": [
      "Epoch 4 testing: 100%|██████████| 69/69 [00:32<00:00,  2.15it/s]\n"
     ]
    },
    {
     "name": "stdout",
     "output_type": "stream",
     "text": [
      "Test: 4/100: loss:0.003245530180984001, accuracy:0.989692432376929, precision:0.36124913733609393, recall:0.463768115942029, f1:0.3796066252587992, mcc:0.3907571940636712, ece:0.010307567599027054, epoch:3\n"
     ]
    },
    {
     "name": "stderr",
     "output_type": "stream",
     "text": [
      "Epoch 5 training: 100%|██████████| 621/621 [04:51<00:00,  2.13it/s]\n"
     ]
    },
    {
     "name": "stdout",
     "output_type": "stream",
     "text": [
      "Train: 5/100: lr: 0.000075000000 loss:0.0028840108115571715\n"
     ]
    },
    {
     "name": "stderr",
     "output_type": "stream",
     "text": [
      "Epoch 5 testing: 100%|██████████| 69/69 [00:32<00:00,  2.15it/s]\n"
     ]
    },
    {
     "name": "stdout",
     "output_type": "stream",
     "text": [
      "Test: 5/100: loss:0.0032696431541504958, accuracy:0.9897511074928124, precision:0.32693236714975843, recall:0.4282608695652174, f1:0.33710605014952844, mcc:0.3521133869370959, ece:0.010248892485042628, epoch:4\n"
     ]
    },
    {
     "name": "stderr",
     "output_type": "stream",
     "text": [
      "Epoch 6 training: 100%|██████████| 621/621 [04:51<00:00,  2.13it/s]\n"
     ]
    },
    {
     "name": "stdout",
     "output_type": "stream",
     "text": [
      "Train: 6/100: lr: 0.000075000000 loss:0.0026288309224806994\n"
     ]
    },
    {
     "name": "stderr",
     "output_type": "stream",
     "text": [
      "Epoch 6 testing: 100%|██████████| 69/69 [00:32<00:00,  2.12it/s]\n"
     ]
    },
    {
     "name": "stdout",
     "output_type": "stream",
     "text": [
      "Test: 6/100: loss:0.0037454377587351514, accuracy:0.990996578507305, precision:0.3229468599033817, recall:0.335024154589372, f1:0.31239935587761675, mcc:0.3167441207348848, ece:0.00900342147729859, epoch:5\n"
     ]
    },
    {
     "name": "stderr",
     "output_type": "stream",
     "text": [
      "Epoch 7 training: 100%|██████████| 621/621 [04:58<00:00,  2.08it/s]\n"
     ]
    },
    {
     "name": "stdout",
     "output_type": "stream",
     "text": [
      "Train: 7/100: lr: 0.000075000000 loss:0.002437735048444018\n"
     ]
    },
    {
     "name": "stderr",
     "output_type": "stream",
     "text": [
      "Epoch 7 testing: 100%|██████████| 69/69 [00:36<00:00,  1.89it/s]\n"
     ]
    },
    {
     "name": "stdout",
     "output_type": "stream",
     "text": [
      "Test: 7/100: loss:0.003202130953086189, accuracy:0.978986515724931, precision:0.20173682999769954, recall:0.5698067632850241, f1:0.2841620135098396, mcc:0.3217765762006285, ece:0.021013484160969223, epoch:6\n"
     ]
    },
    {
     "name": "stderr",
     "output_type": "stream",
     "text": [
      "Epoch 8 training: 100%|██████████| 621/621 [05:09<00:00,  2.01it/s]\n"
     ]
    },
    {
     "name": "stdout",
     "output_type": "stream",
     "text": [
      "Train: 8/100: lr: 0.000075000000 loss:0.0021681613011841306\n"
     ]
    },
    {
     "name": "stderr",
     "output_type": "stream",
     "text": [
      "Epoch 8 testing: 100%|██████████| 69/69 [00:34<00:00,  2.02it/s]\n"
     ]
    },
    {
     "name": "stdout",
     "output_type": "stream",
     "text": [
      "Test: 8/100: loss:0.003386565973388328, accuracy:0.9845993864783196, precision:0.26559696342305034, recall:0.5497584541062801, f1:0.3373068155676851, mcc:0.36370646076972074, ece:0.015400613459043097, epoch:7\n"
     ]
    },
    {
     "name": "stderr",
     "output_type": "stream",
     "text": [
      "Epoch 9 training: 100%|██████████| 621/621 [05:09<00:00,  2.01it/s]\n"
     ]
    },
    {
     "name": "stdout",
     "output_type": "stream",
     "text": [
      "Train: 9/100: lr: 0.000075000000 loss:0.002050935528997516\n"
     ]
    },
    {
     "name": "stderr",
     "output_type": "stream",
     "text": [
      "Epoch 9 testing: 100%|██████████| 69/69 [00:34<00:00,  1.97it/s]\n"
     ]
    },
    {
     "name": "stdout",
     "output_type": "stream",
     "text": [
      "Test: 9/100: loss:0.003661683645011668, accuracy:0.9902019432464942, precision:0.31390614216701174, recall:0.40072463768115946, f1:0.32559968212142126, mcc:0.3365907950587509, ece:0.009798056726087478, epoch:8\n"
     ]
    },
    {
     "name": "stderr",
     "output_type": "stream",
     "text": [
      "Epoch 10 training: 100%|██████████| 621/621 [05:16<00:00,  1.96it/s]\n"
     ]
    },
    {
     "name": "stdout",
     "output_type": "stream",
     "text": [
      "Train: 10/100: lr: 0.000075000000 loss:0.0018902747073233648\n"
     ]
    },
    {
     "name": "stderr",
     "output_type": "stream",
     "text": [
      "Epoch 10 testing: 100%|██████████| 69/69 [00:34<00:00,  1.98it/s]\n"
     ]
    },
    {
     "name": "stdout",
     "output_type": "stream",
     "text": [
      "Test: 10/100: loss:0.00341196674718589, accuracy:0.9751934903626122, precision:0.20019879476401214, recall:0.6367149758454107, f1:0.2873368083086753, mcc:0.3360874015719638, ece:0.024806509442303493, epoch:9\n"
     ]
    },
    {
     "name": "stderr",
     "output_type": "stream",
     "text": [
      "Epoch 11 training: 100%|██████████| 621/621 [05:23<00:00,  1.92it/s]\n"
     ]
    },
    {
     "name": "stdout",
     "output_type": "stream",
     "text": [
      "Train: 11/100: lr: 0.000075000000 loss:0.0016801696825223629\n"
     ]
    },
    {
     "name": "stderr",
     "output_type": "stream",
     "text": [
      "Epoch 11 testing: 100%|██████████| 69/69 [00:36<00:00,  1.90it/s]\n"
     ]
    },
    {
     "name": "stdout",
     "output_type": "stream",
     "text": [
      "Test: 11/100: loss:0.0032914958470770953, accuracy:0.9824460555653348, precision:0.23842592592592593, recall:0.5314009661835748, f1:0.3074822118300379, mcc:0.3365318468427719, ece:0.017553944319513612, epoch:10\n"
     ]
    },
    {
     "name": "stderr",
     "output_type": "stream",
     "text": [
      "Epoch 12 training: 100%|██████████| 621/621 [05:32<00:00,  1.87it/s]\n"
     ]
    },
    {
     "name": "stdout",
     "output_type": "stream",
     "text": [
      "Train: 12/100: lr: 0.000075000000 loss:0.0015268451429700297\n"
     ]
    },
    {
     "name": "stderr",
     "output_type": "stream",
     "text": [
      "Epoch 12 testing: 100%|██████████| 69/69 [00:37<00:00,  1.85it/s]\n"
     ]
    },
    {
     "name": "stdout",
     "output_type": "stream",
     "text": [
      "Test: 12/100: loss:0.003498525516487712, accuracy:0.9770050845655107, precision:0.20480405263013957, recall:0.591511387163561, f1:0.2870404744445666, mcc:0.3284802426426328, ece:0.022994915327138227, epoch:11\n"
     ]
    },
    {
     "name": "stderr",
     "output_type": "stream",
     "text": [
      "Epoch 13 training: 100%|██████████| 621/621 [05:39<00:00,  1.83it/s]\n"
     ]
    },
    {
     "name": "stdout",
     "output_type": "stream",
     "text": [
      "Train: 13/100: lr: 0.000075000000 loss:0.0013259157419186715\n"
     ]
    },
    {
     "name": "stderr",
     "output_type": "stream",
     "text": [
      "Epoch 13 testing: 100%|██████████| 69/69 [00:37<00:00,  1.82it/s]\n"
     ]
    },
    {
     "name": "stdout",
     "output_type": "stream",
     "text": [
      "Test: 13/100: loss:0.004195066330873448, accuracy:0.9836915265798275, precision:0.22688060731538992, recall:0.47946859903381633, f1:0.2926979622631797, mcc:0.31526077497664207, ece:0.016308473294897787, epoch:12\n"
     ]
    },
    {
     "name": "stderr",
     "output_type": "stream",
     "text": [
      "Epoch 14 training: 100%|██████████| 621/621 [05:47<00:00,  1.79it/s]\n"
     ]
    },
    {
     "name": "stdout",
     "output_type": "stream",
     "text": [
      "Train: 14/100: lr: 0.000075000000 loss:0.0012669047858644218\n"
     ]
    },
    {
     "name": "stderr",
     "output_type": "stream",
     "text": [
      "Epoch 14 testing: 100%|██████████| 69/69 [00:38<00:00,  1.77it/s]\n"
     ]
    },
    {
     "name": "stdout",
     "output_type": "stream",
     "text": [
      "Test: 14/100: loss:0.004460073461708869, accuracy:0.9857738055946723, precision:0.30160455486542437, recall:0.45652173913043476, f1:0.3336931989105902, mcc:0.34963117554444284, ece:0.014226194373264478, epoch:13\n"
     ]
    },
    {
     "name": "stderr",
     "output_type": "stream",
     "text": [
      "Epoch 15 training: 100%|██████████| 621/621 [05:56<00:00,  1.74it/s]\n"
     ]
    },
    {
     "name": "stdout",
     "output_type": "stream",
     "text": [
      "Train: 15/100: lr: 0.000075000000 loss:0.0011500872221174342\n"
     ]
    },
    {
     "name": "stderr",
     "output_type": "stream",
     "text": [
      "Epoch 15 testing: 100%|██████████| 69/69 [00:39<00:00,  1.74it/s]\n"
     ]
    },
    {
     "name": "stdout",
     "output_type": "stream",
     "text": [
      "Test: 15/100: loss:0.005496300844453694, accuracy:0.9911664154638268, precision:0.39758454106280194, recall:0.4605244996549344, f1:0.3806303197607545, mcc:0.3995683448907918, ece:0.008833584487033279, epoch:14\n"
     ]
    },
    {
     "name": "stderr",
     "output_type": "stream",
     "text": [
      "Epoch 16 training: 100%|██████████| 621/621 [06:02<00:00,  1.71it/s]\n"
     ]
    },
    {
     "name": "stdout",
     "output_type": "stream",
     "text": [
      "Train: 16/100: lr: 0.000075000000 loss:0.001101153763616842\n"
     ]
    },
    {
     "name": "stderr",
     "output_type": "stream",
     "text": [
      "Epoch 16 testing: 100%|██████████| 69/69 [00:40<00:00,  1.71it/s]\n"
     ]
    },
    {
     "name": "stdout",
     "output_type": "stream",
     "text": [
      "Test: 16/100: loss:0.006378828482938579, accuracy:0.9919548623335095, precision:0.2457211870255348, recall:0.22149758454106278, f1:0.21848819457515112, mcc:0.2229635651857051, ece:0.00804513765067078, epoch:15\n"
     ]
    },
    {
     "name": "stderr",
     "output_type": "stream",
     "text": [
      "Epoch 17 training: 100%|██████████| 621/621 [06:11<00:00,  1.67it/s]\n"
     ]
    },
    {
     "name": "stdout",
     "output_type": "stream",
     "text": [
      "Train: 17/100: lr: 0.000075000000 loss:0.0010003319695836006\n"
     ]
    },
    {
     "name": "stderr",
     "output_type": "stream",
     "text": [
      "Epoch 17 testing: 100%|██████████| 69/69 [00:41<00:00,  1.67it/s]\n"
     ]
    },
    {
     "name": "stdout",
     "output_type": "stream",
     "text": [
      "Test: 17/100: loss:0.004061751548062497, accuracy:0.9814167198409904, precision:0.22348171152518978, recall:0.49818840579710144, f1:0.2845567476002258, mcc:0.31209621493494033, ece:0.018583280095101698, epoch:16\n"
     ]
    },
    {
     "name": "stderr",
     "output_type": "stream",
     "text": [
      "Epoch 18 training: 100%|██████████| 621/621 [06:10<00:00,  1.67it/s]\n"
     ]
    },
    {
     "name": "stdout",
     "output_type": "stream",
     "text": [
      "Train: 18/100: lr: 0.000075000000 loss:0.0009091674060241699\n"
     ]
    },
    {
     "name": "stderr",
     "output_type": "stream",
     "text": [
      "Epoch 18 testing: 100%|██████████| 69/69 [00:41<00:00,  1.68it/s]\n"
     ]
    },
    {
     "name": "stdout",
     "output_type": "stream",
     "text": [
      "Test: 18/100: loss:0.005951459600127882, accuracy:0.9908246787537406, precision:0.3323671497584541, recall:0.3376811594202898, f1:0.3184380032206119, mcc:0.32282054660695664, ece:0.00917532123233853, epoch:17\n"
     ]
    },
    {
     "name": "stderr",
     "output_type": "stream",
     "text": [
      "Epoch 19 training: 100%|██████████| 621/621 [06:13<00:00,  1.66it/s]\n"
     ]
    },
    {
     "name": "stdout",
     "output_type": "stream",
     "text": [
      "Train: 19/100: lr: 0.000075000000 loss:0.0008887321190025032\n"
     ]
    },
    {
     "name": "stderr",
     "output_type": "stream",
     "text": [
      "Epoch 19 testing: 100%|██████████| 69/69 [00:41<00:00,  1.64it/s]\n"
     ]
    },
    {
     "name": "stdout",
     "output_type": "stream",
     "text": [
      "Test: 19/100: loss:0.00464359817176929, accuracy:0.9817605193481194, precision:0.24599723947550037, recall:0.6289855072463768, f1:0.3372200263504611, mcc:0.3759415448972916, ece:0.018239480574898746, epoch:18\n"
     ]
    },
    {
     "name": "stderr",
     "output_type": "stream",
     "text": [
      "Epoch 20 training: 100%|██████████| 621/621 [06:16<00:00,  1.65it/s]\n"
     ]
    },
    {
     "name": "stdout",
     "output_type": "stream",
     "text": [
      "Train: 20/100: lr: 0.000075000000 loss:0.0007520225932919112\n"
     ]
    },
    {
     "name": "stderr",
     "output_type": "stream",
     "text": [
      "Epoch 20 testing: 100%|██████████| 69/69 [00:42<00:00,  1.64it/s]\n"
     ]
    },
    {
     "name": "stdout",
     "output_type": "stream",
     "text": [
      "Test: 20/100: loss:0.005463950643467758, accuracy:0.9882163864929883, precision:0.38218311479181044, recall:0.49903381642512074, f1:0.384867306606437, mcc:0.40599203322161337, ece:0.011783613492667244, epoch:19\n"
     ]
    },
    {
     "name": "stderr",
     "output_type": "stream",
     "text": [
      "Epoch 21 training: 100%|██████████| 621/621 [06:21<00:00,  1.63it/s]\n"
     ]
    },
    {
     "name": "stdout",
     "output_type": "stream",
     "text": [
      "Train: 21/100: lr: 0.000075000000 loss:0.0007743451710996231\n"
     ]
    },
    {
     "name": "stderr",
     "output_type": "stream",
     "text": [
      "Epoch 21 testing: 100%|██████████| 69/69 [00:41<00:00,  1.65it/s]\n"
     ]
    },
    {
     "name": "stdout",
     "output_type": "stream",
     "text": [
      "Test: 21/100: loss:0.006662165339693656, accuracy:0.9889544094349587, precision:0.2678053830227743, recall:0.3794685990338164, f1:0.28781918564527265, mcc:0.3003104077118845, ece:0.011045590488483076, epoch:20\n"
     ]
    },
    {
     "name": "stderr",
     "output_type": "stream",
     "text": [
      "Epoch 22 training: 100%|██████████| 621/621 [06:29<00:00,  1.60it/s]\n"
     ]
    },
    {
     "name": "stdout",
     "output_type": "stream",
     "text": [
      "Train: 22/100: lr: 0.000075000000 loss:0.0006998037019626273\n"
     ]
    },
    {
     "name": "stderr",
     "output_type": "stream",
     "text": [
      "Epoch 22 testing: 100%|██████████| 69/69 [00:42<00:00,  1.63it/s]\n"
     ]
    },
    {
     "name": "stdout",
     "output_type": "stream",
     "text": [
      "Test: 22/100: loss:0.006863940192514734, accuracy:0.9903697174059732, precision:0.31714975845410626, recall:0.3751207729468599, f1:0.3180960746178138, mcc:0.327362446131445, ece:0.009630282568083941, epoch:21\n"
     ]
    },
    {
     "name": "stderr",
     "output_type": "stream",
     "text": [
      "Epoch 23 training: 100%|██████████| 621/621 [06:31<00:00,  1.59it/s]\n"
     ]
    },
    {
     "name": "stdout",
     "output_type": "stream",
     "text": [
      "Train: 23/100: lr: 0.000075000000 loss:0.0007521491202645256\n"
     ]
    },
    {
     "name": "stderr",
     "output_type": "stream",
     "text": [
      "Epoch 23 testing: 100%|██████████| 69/69 [00:43<00:00,  1.58it/s]\n"
     ]
    },
    {
     "name": "stdout",
     "output_type": "stream",
     "text": [
      "Test: 23/100: loss:0.005318790571713496, accuracy:0.9896965579710145, precision:0.33840579710144925, recall:0.44227053140096617, f1:0.3611142480707698, mcc:0.3706638799993491, ece:0.010303441988493221, epoch:22\n"
     ]
    },
    {
     "name": "stderr",
     "output_type": "stream",
     "text": [
      "Epoch 24 training: 100%|██████████| 621/621 [06:38<00:00,  1.56it/s]\n"
     ]
    },
    {
     "name": "stdout",
     "output_type": "stream",
     "text": [
      "Train: 24/100: lr: 0.000075000000 loss:0.0006775405667529254\n"
     ]
    },
    {
     "name": "stderr",
     "output_type": "stream",
     "text": [
      "Epoch 24 testing: 100%|██████████| 69/69 [00:43<00:00,  1.57it/s]\n"
     ]
    },
    {
     "name": "stdout",
     "output_type": "stream",
     "text": [
      "Test: 24/100: loss:0.00772971836230009, accuracy:0.9916172512175088, precision:0.36932367149758455, recall:0.31727053140096617, f1:0.3095928226363009, mcc:0.32159769195383264, ece:0.0083827487854422, epoch:23\n"
     ]
    },
    {
     "name": "stderr",
     "output_type": "stream",
     "text": [
      "Epoch 25 training: 100%|██████████| 621/621 [06:43<00:00,  1.54it/s]\n"
     ]
    },
    {
     "name": "stdout",
     "output_type": "stream",
     "text": [
      "Train: 25/100: lr: 0.000075000000 loss:0.0005752544139984575\n"
     ]
    },
    {
     "name": "stderr",
     "output_type": "stream",
     "text": [
      "Epoch 25 testing: 100%|██████████| 69/69 [00:45<00:00,  1.51it/s]\n"
     ]
    },
    {
     "name": "stdout",
     "output_type": "stream",
     "text": [
      "Test: 25/100: loss:0.005414629559959723, accuracy:0.9890676340726399, precision:0.33248792270531397, recall:0.4925120772946859, f1:0.36923269966748223, mcc:0.385011081273532, ece:0.010932365840678845, epoch:24\n"
     ]
    },
    {
     "name": "stderr",
     "output_type": "stream",
     "text": [
      "Epoch 26 training: 100%|██████████| 621/621 [07:00<00:00,  1.48it/s]\n"
     ]
    },
    {
     "name": "stdout",
     "output_type": "stream",
     "text": [
      "Train: 26/100: lr: 0.000075000000 loss:0.0006167923287628088\n"
     ]
    },
    {
     "name": "stderr",
     "output_type": "stream",
     "text": [
      "Epoch 26 testing: 100%|██████████| 69/69 [00:46<00:00,  1.48it/s]\n"
     ]
    },
    {
     "name": "stdout",
     "output_type": "stream",
     "text": [
      "Test: 26/100: loss:0.0076628588048270494, accuracy:0.990204006043537, precision:0.3456521739130434, recall:0.3869565217391304, f1:0.33052680009201746, mcc:0.34329377205404665, ece:0.009795993937692348, epoch:25\n"
     ]
    },
    {
     "name": "stderr",
     "output_type": "stream",
     "text": [
      "Epoch 27 training: 100%|██████████| 621/621 [07:01<00:00,  1.47it/s]\n"
     ]
    },
    {
     "name": "stdout",
     "output_type": "stream",
     "text": [
      "Train: 27/100: lr: 0.000075000000 loss:0.0006353418945812464\n"
     ]
    },
    {
     "name": "stderr",
     "output_type": "stream",
     "text": [
      "Epoch 27 testing: 100%|██████████| 69/69 [00:47<00:00,  1.46it/s]\n"
     ]
    },
    {
     "name": "stdout",
     "output_type": "stream",
     "text": [
      "Test: 27/100: loss:0.005267354825923247, accuracy:0.9793848647538578, precision:0.20813047660873749, recall:0.5531400966183575, f1:0.2844035996209909, mcc:0.3204917158574525, ece:0.020615135056331106, epoch:26\n"
     ]
    },
    {
     "name": "stderr",
     "output_type": "stream",
     "text": [
      "Epoch 28 training: 100%|██████████| 621/621 [07:00<00:00,  1.48it/s]\n"
     ]
    },
    {
     "name": "stdout",
     "output_type": "stream",
     "text": [
      "Train: 28/100: lr: 0.000075000000 loss:0.0005905297167042655\n"
     ]
    },
    {
     "name": "stderr",
     "output_type": "stream",
     "text": [
      "Epoch 28 testing: 100%|██████████| 69/69 [00:46<00:00,  1.47it/s]\n"
     ]
    },
    {
     "name": "stdout",
     "output_type": "stream",
     "text": [
      "Test: 28/100: loss:0.008927581005095355, accuracy:0.9921792488118288, precision:0.37318840579710144, recall:0.30169082125603863, f1:0.3045433632390154, mcc:0.31691630721989034, ece:0.007820751187324093, epoch:27\n"
     ]
    },
    {
     "name": "stderr",
     "output_type": "stream",
     "text": [
      "Epoch 29 training: 100%|██████████| 621/621 [07:08<00:00,  1.45it/s]\n"
     ]
    },
    {
     "name": "stdout",
     "output_type": "stream",
     "text": [
      "Train: 29/100: lr: 0.000075000000 loss:0.0005214850822786809\n"
     ]
    },
    {
     "name": "stderr",
     "output_type": "stream",
     "text": [
      "Epoch 29 testing: 100%|██████████| 69/69 [00:47<00:00,  1.45it/s]\n"
     ]
    },
    {
     "name": "stdout",
     "output_type": "stream",
     "text": [
      "Test: 29/100: loss:0.006059447330620099, accuracy:0.9900300434929298, precision:0.3376811594202898, recall:0.4103864734299517, f1:0.3377062550975594, mcc:0.3509854665753119, ece:0.00996995649125049, epoch:28\n"
     ]
    },
    {
     "name": "stderr",
     "output_type": "stream",
     "text": [
      "Epoch 30 training: 100%|██████████| 621/621 [07:15<00:00,  1.42it/s]\n"
     ]
    },
    {
     "name": "stdout",
     "output_type": "stream",
     "text": [
      "Train: 30/100: lr: 0.000075000000 loss:0.000581974625503787\n"
     ]
    },
    {
     "name": "stderr",
     "output_type": "stream",
     "text": [
      "Epoch 30 testing: 100%|██████████| 69/69 [00:47<00:00,  1.44it/s]\n"
     ]
    },
    {
     "name": "stdout",
     "output_type": "stream",
     "text": [
      "Test: 30/100: loss:0.006986965854699467, accuracy:0.9904788164495687, precision:0.3713250517598343, recall:0.4060386473429952, f1:0.36178266178266183, mcc:0.37088662033106695, ece:0.00952118352069047, epoch:29\n"
     ]
    },
    {
     "name": "stderr",
     "output_type": "stream",
     "text": [
      "Epoch 31 training: 100%|██████████| 621/621 [07:18<00:00,  1.42it/s]\n"
     ]
    },
    {
     "name": "stdout",
     "output_type": "stream",
     "text": [
      "Train: 31/100: lr: 0.000075000000 loss:0.0005158230719190037\n"
     ]
    },
    {
     "name": "stderr",
     "output_type": "stream",
     "text": [
      "Epoch 31 testing: 100%|██████████| 69/69 [00:48<00:00,  1.41it/s]\n"
     ]
    },
    {
     "name": "stdout",
     "output_type": "stream",
     "text": [
      "Test: 31/100: loss:0.009373112017414498, accuracy:0.9908812910725812, precision:0.341304347826087, recall:0.34365079365079365, f1:0.3175356044921262, mcc:0.3260199626348408, ece:0.009118708920246665, epoch:30\n"
     ]
    },
    {
     "name": "stderr",
     "output_type": "stream",
     "text": [
      "Epoch 32 training: 100%|██████████| 621/621 [07:23<00:00,  1.40it/s]\n"
     ]
    },
    {
     "name": "stdout",
     "output_type": "stream",
     "text": [
      "Train: 32/100: lr: 0.000075000000 loss:0.0004925311198611825\n"
     ]
    },
    {
     "name": "stderr",
     "output_type": "stream",
     "text": [
      "Epoch 32 testing: 100%|██████████| 69/69 [00:48<00:00,  1.41it/s]\n"
     ]
    },
    {
     "name": "stdout",
     "output_type": "stream",
     "text": [
      "Test: 32/100: loss:0.009973018154346062, accuracy:0.9927494975943203, precision:0.3888888888888889, recall:0.2770531400966183, f1:0.29668737060041406, mcc:0.31105188520013766, ece:0.0072505024052562485, epoch:31\n"
     ]
    },
    {
     "name": "stderr",
     "output_type": "stream",
     "text": [
      "Epoch 33 training: 100%|██████████| 621/621 [07:28<00:00,  1.38it/s]\n"
     ]
    },
    {
     "name": "stdout",
     "output_type": "stream",
     "text": [
      "Train: 33/100: lr: 0.000075000000 loss:0.0005370995197806579\n"
     ]
    },
    {
     "name": "stderr",
     "output_type": "stream",
     "text": [
      "Epoch 33 testing: 100%|██████████| 69/69 [00:49<00:00,  1.38it/s]\n"
     ]
    },
    {
     "name": "stdout",
     "output_type": "stream",
     "text": [
      "Test: 33/100: loss:0.006821207861703706, accuracy:0.9900845930147274, precision:0.3029158040027605, recall:0.3947550034506556, f1:0.3153020892151327, mcc:0.3270546996923554, ece:0.009915406933810184, epoch:32\n"
     ]
    },
    {
     "name": "stderr",
     "output_type": "stream",
     "text": [
      "Epoch 34 training: 100%|██████████| 621/621 [07:40<00:00,  1.35it/s]\n"
     ]
    },
    {
     "name": "stdout",
     "output_type": "stream",
     "text": [
      "Train: 34/100: lr: 0.000075000000 loss:0.0004318074031161726\n"
     ]
    },
    {
     "name": "stderr",
     "output_type": "stream",
     "text": [
      "Epoch 34 testing: 100%|██████████| 69/69 [00:50<00:00,  1.37it/s]\n"
     ]
    },
    {
     "name": "stdout",
     "output_type": "stream",
     "text": [
      "Test: 34/100: loss:0.008301894044342444, accuracy:0.9911036147538578, precision:0.3031055900621118, recall:0.37315389924085574, f1:0.3096848401196227, mcc:0.31965393298059047, ece:0.008896385214925893, epoch:33\n"
     ]
    },
    {
     "name": "stderr",
     "output_type": "stream",
     "text": [
      "Epoch 35 training: 100%|██████████| 621/621 [07:44<00:00,  1.34it/s]\n"
     ]
    },
    {
     "name": "stdout",
     "output_type": "stream",
     "text": [
      "Train: 35/100: lr: 0.000075000000 loss:0.0004826609703579526\n"
     ]
    },
    {
     "name": "stderr",
     "output_type": "stream",
     "text": [
      "Epoch 35 testing: 100%|██████████| 69/69 [00:50<00:00,  1.36it/s]\n"
     ]
    },
    {
     "name": "stdout",
     "output_type": "stream",
     "text": [
      "Test: 35/100: loss:0.008370778773562473, accuracy:0.9912775773044652, precision:0.38033126293995856, recall:0.36111111111111105, f1:0.3391304347826087, mcc:0.3505446094849514, ece:0.008722422688362607, epoch:34\n"
     ]
    },
    {
     "name": "stderr",
     "output_type": "stream",
     "text": [
      "Epoch 36 training: 100%|██████████| 621/621 [07:46<00:00,  1.33it/s]\n"
     ]
    },
    {
     "name": "stdout",
     "output_type": "stream",
     "text": [
      "Train: 36/100: lr: 0.000075000000 loss:0.0003990645303718444\n"
     ]
    },
    {
     "name": "stderr",
     "output_type": "stream",
     "text": [
      "Epoch 36 testing: 100%|██████████| 69/69 [00:51<00:00,  1.34it/s]\n"
     ]
    },
    {
     "name": "stdout",
     "output_type": "stream",
     "text": [
      "Test: 36/100: loss:0.009331395538169274, accuracy:0.9926403985507246, precision:0.35628019323671495, recall:0.30362318840579705, f1:0.30272601794340925, mcc:0.31300599753523917, ece:0.007359601432403577, epoch:35\n"
     ]
    },
    {
     "name": "stderr",
     "output_type": "stream",
     "text": [
      "Epoch 37 training: 100%|██████████| 621/621 [07:52<00:00,  1.31it/s]\n"
     ]
    },
    {
     "name": "stdout",
     "output_type": "stream",
     "text": [
      "Train: 37/100: lr: 0.000075000000 loss:0.00042460253383108903\n"
     ]
    },
    {
     "name": "stderr",
     "output_type": "stream",
     "text": [
      "Epoch 37 testing: 100%|██████████| 69/69 [00:52<00:00,  1.32it/s]\n"
     ]
    },
    {
     "name": "stdout",
     "output_type": "stream",
     "text": [
      "Test: 37/100: loss:0.008693154200388391, accuracy:0.9918457632899138, precision:0.3456521739130435, recall:0.2990338164251208, f1:0.2950310559006211, mcc:0.3049843636206982, ece:0.008154236704812965, epoch:36\n"
     ]
    },
    {
     "name": "stderr",
     "output_type": "stream",
     "text": [
      "Epoch 38 training: 100%|██████████| 621/621 [07:56<00:00,  1.30it/s]\n"
     ]
    },
    {
     "name": "stdout",
     "output_type": "stream",
     "text": [
      "Train: 38/100: lr: 0.000075000000 loss:0.0004488913499437108\n"
     ]
    },
    {
     "name": "stderr",
     "output_type": "stream",
     "text": [
      "Epoch 38 testing: 100%|██████████| 69/69 [00:52<00:00,  1.31it/s]\n"
     ]
    },
    {
     "name": "stdout",
     "output_type": "stream",
     "text": [
      "Test: 38/100: loss:0.00762125470229902, accuracy:0.9908267415507833, precision:0.3545893719806763, recall:0.37367149758454105, f1:0.33276972624798706, mcc:0.34363371726848596, ece:0.009173258430445972, epoch:37\n"
     ]
    },
    {
     "name": "stderr",
     "output_type": "stream",
     "text": [
      "Epoch 39 training: 100%|██████████| 621/621 [08:00<00:00,  1.29it/s]\n"
     ]
    },
    {
     "name": "stdout",
     "output_type": "stream",
     "text": [
      "Train: 39/100: lr: 0.000075000000 loss:0.00041494352148342353\n"
     ]
    },
    {
     "name": "stderr",
     "output_type": "stream",
     "text": [
      "Epoch 39 testing: 100%|██████████| 69/69 [00:53<00:00,  1.28it/s]\n"
     ]
    },
    {
     "name": "stdout",
     "output_type": "stream",
     "text": [
      "Test: 39/100: loss:0.0077864719134885345, accuracy:0.9920114746523501, precision:0.35628019323671495, recall:0.32229123533471354, f1:0.3195006281962804, mcc:0.3257516951293706, ece:0.0079885253318302, epoch:38\n"
     ]
    },
    {
     "name": "stderr",
     "output_type": "stream",
     "text": [
      "Epoch 40 training: 100%|██████████| 621/621 [08:16<00:00,  1.25it/s]\n"
     ]
    },
    {
     "name": "stdout",
     "output_type": "stream",
     "text": [
      "Train: 40/100: lr: 0.000075000000 loss:0.0003484917554292978\n"
     ]
    },
    {
     "name": "stderr",
     "output_type": "stream",
     "text": [
      "Epoch 40 testing: 100%|██████████| 69/69 [00:54<00:00,  1.25it/s]\n"
     ]
    },
    {
     "name": "stdout",
     "output_type": "stream",
     "text": [
      "Test: 40/100: loss:0.011029998866328295, accuracy:0.9917870881740305, precision:0.34275362318840574, recall:0.3079020013802623, f1:0.2976190476190476, mcc:0.30768835906615344, ece:0.008212911815423033, epoch:39\n"
     ]
    },
    {
     "name": "stderr",
     "output_type": "stream",
     "text": [
      "Epoch 41 training: 100%|██████████| 621/621 [08:19<00:00,  1.24it/s]\n"
     ]
    },
    {
     "name": "stdout",
     "output_type": "stream",
     "text": [
      "Train: 41/100: lr: 0.000075000000 loss:0.00036361626556924236\n"
     ]
    },
    {
     "name": "stderr",
     "output_type": "stream",
     "text": [
      "Epoch 41 testing: 100%|██████████| 69/69 [00:55<00:00,  1.25it/s]\n"
     ]
    },
    {
     "name": "stdout",
     "output_type": "stream",
     "text": [
      "Test: 41/100: loss:0.013383267943204966, accuracy:0.9924684987971601, precision:0.3188405797101449, recall:0.26570048309178745, f1:0.2747066942719117, mcc:0.2808008800785696, ece:0.007531501194192231, epoch:40\n"
     ]
    },
    {
     "name": "stderr",
     "output_type": "stream",
     "text": [
      "Epoch 42 training: 100%|██████████| 621/621 [08:19<00:00,  1.24it/s]\n"
     ]
    },
    {
     "name": "stdout",
     "output_type": "stream",
     "text": [
      "Train: 42/100: lr: 0.000075000000 loss:0.0003423474155234411\n"
     ]
    },
    {
     "name": "stderr",
     "output_type": "stream",
     "text": [
      "Epoch 42 testing: 100%|██████████| 69/69 [00:55<00:00,  1.25it/s]\n"
     ]
    },
    {
     "name": "stdout",
     "output_type": "stream",
     "text": [
      "Test: 42/100: loss:0.011276316207211468, accuracy:0.9932023961450449, precision:0.36594202898550726, recall:0.21690821256038648, f1:0.26048999309868875, mcc:0.2726485823502404, ece:0.006797603854531611, epoch:41\n"
     ]
    },
    {
     "name": "stderr",
     "output_type": "stream",
     "text": [
      "Epoch 43 training: 100%|██████████| 621/621 [08:27<00:00,  1.22it/s]\n"
     ]
    },
    {
     "name": "stdout",
     "output_type": "stream",
     "text": [
      "Train: 43/100: lr: 0.000075000000 loss:0.0004074905725159794\n"
     ]
    },
    {
     "name": "stderr",
     "output_type": "stream",
     "text": [
      "Epoch 43 testing: 100%|██████████| 69/69 [00:55<00:00,  1.24it/s]\n"
     ]
    },
    {
     "name": "stdout",
     "output_type": "stream",
     "text": [
      "Test: 43/100: loss:0.011232794246305512, accuracy:0.9926928852754797, precision:0.24879227053140093, recall:0.15579710144927536, f1:0.17612146307798482, mcc:0.18682424506384784, ece:0.007307114727471186, epoch:42\n"
     ]
    },
    {
     "name": "stderr",
     "output_type": "stream",
     "text": [
      "Epoch 44 training: 100%|██████████| 621/621 [08:31<00:00,  1.21it/s]\n"
     ]
    },
    {
     "name": "stdout",
     "output_type": "stream",
     "text": [
      "Train: 44/100: lr: 0.000075000000 loss:0.00032059341557667343\n"
     ]
    },
    {
     "name": "stderr",
     "output_type": "stream",
     "text": [
      "Epoch 44 testing: 100%|██████████| 69/69 [00:57<00:00,  1.21it/s]\n"
     ]
    },
    {
     "name": "stdout",
     "output_type": "stream",
     "text": [
      "Test: 44/100: loss:0.008629982257659414, accuracy:0.992751560391363, precision:0.3128019323671498, recall:0.23285024154589376, f1:0.24527260179434093, mcc:0.25607570040908423, ece:0.007248439596614976, epoch:43\n"
     ]
    },
    {
     "name": "stderr",
     "output_type": "stream",
     "text": [
      "Epoch 45 training: 100%|██████████| 621/621 [08:37<00:00,  1.20it/s]\n"
     ]
    },
    {
     "name": "stdout",
     "output_type": "stream",
     "text": [
      "Train: 45/100: lr: 0.000075000000 loss:0.00043169017329003123\n"
     ]
    },
    {
     "name": "stderr",
     "output_type": "stream",
     "text": [
      "Epoch 45 testing: 100%|██████████| 69/69 [00:58<00:00,  1.19it/s]\n"
     ]
    },
    {
     "name": "stdout",
     "output_type": "stream",
     "text": [
      "Test: 45/100: loss:0.010838445452279395, accuracy:0.9930932971014492, precision:0.4118357487922705, recall:0.2939613526570048, f1:0.31193926846100756, mcc:0.32897375249776284, ece:0.006906702898550725, epoch:44\n"
     ]
    },
    {
     "name": "stderr",
     "output_type": "stream",
     "text": [
      "Epoch 46 training: 100%|██████████| 621/621 [08:48<00:00,  1.18it/s]\n"
     ]
    },
    {
     "name": "stdout",
     "output_type": "stream",
     "text": [
      "Train: 46/100: lr: 0.000075000000 loss:0.0003381371755479533\n"
     ]
    },
    {
     "name": "stderr",
     "output_type": "stream",
     "text": [
      "Epoch 46 testing: 100%|██████████| 69/69 [00:58<00:00,  1.18it/s]\n"
     ]
    },
    {
     "name": "stdout",
     "output_type": "stream",
     "text": [
      "Test: 46/100: loss:0.0097182153627543, accuracy:0.9923470229713078, precision:0.4142512077294686, recall:0.3340579710144927, f1:0.3416379112031286, mcc:0.3541885991172427, ece:0.00765297702257184, epoch:45\n"
     ]
    },
    {
     "name": "stderr",
     "output_type": "stream",
     "text": [
      "Epoch 47 training: 100%|██████████| 621/621 [08:51<00:00,  1.17it/s]\n"
     ]
    },
    {
     "name": "stdout",
     "output_type": "stream",
     "text": [
      "Train: 47/100: lr: 0.000075000000 loss:0.00030137810267660825\n"
     ]
    },
    {
     "name": "stderr",
     "output_type": "stream",
     "text": [
      "Epoch 47 testing: 100%|██████████| 69/69 [00:58<00:00,  1.17it/s]\n"
     ]
    },
    {
     "name": "stdout",
     "output_type": "stream",
     "text": [
      "Test: 47/100: loss:0.008900275656043854, accuracy:0.9925189227248723, precision:0.3804347826086956, recall:0.3181159420289855, f1:0.33242988895162806, mcc:0.3374682651078737, ece:0.007481077287778043, epoch:46\n"
     ]
    },
    {
     "name": "stderr",
     "output_type": "stream",
     "text": [
      "Epoch 48 training: 100%|██████████| 621/621 [08:56<00:00,  1.16it/s]\n"
     ]
    },
    {
     "name": "stdout",
     "output_type": "stream",
     "text": [
      "Train: 48/100: lr: 0.000075000000 loss:0.00038847466063871163\n"
     ]
    },
    {
     "name": "stderr",
     "output_type": "stream",
     "text": [
      "Epoch 48 testing: 100%|██████████| 69/69 [00:58<00:00,  1.17it/s]\n"
     ]
    },
    {
     "name": "stdout",
     "output_type": "stream",
     "text": [
      "Test: 48/100: loss:0.006647716861060463, accuracy:0.9914453514639442, precision:0.3702898550724637, recall:0.3579710144927536, f1:0.3353046309568049, mcc:0.345816254380668, ece:0.008554648496615498, epoch:47\n"
     ]
    },
    {
     "name": "stderr",
     "output_type": "stream",
     "text": [
      "Epoch 49 training: 100%|██████████| 621/621 [09:00<00:00,  1.15it/s]\n"
     ]
    },
    {
     "name": "stdout",
     "output_type": "stream",
     "text": [
      "Train: 49/100: lr: 0.000075000000 loss:0.00029330395436582565\n"
     ]
    },
    {
     "name": "stderr",
     "output_type": "stream",
     "text": [
      "Epoch 49 testing: 100%|██████████| 69/69 [01:00<00:00,  1.15it/s]\n"
     ]
    },
    {
     "name": "stdout",
     "output_type": "stream",
     "text": [
      "Test: 49/100: loss:0.00744666606297487, accuracy:0.9914494770580298, precision:0.3262594893029675, recall:0.33550724637681156, f1:0.29583620887968715, mcc:0.30941917001230634, ece:0.00855052289283038, epoch:48\n"
     ]
    },
    {
     "name": "stderr",
     "output_type": "stream",
     "text": [
      "Epoch 50 training: 100%|██████████| 621/621 [09:09<00:00,  1.13it/s]\n"
     ]
    },
    {
     "name": "stdout",
     "output_type": "stream",
     "text": [
      "Train: 50/100: lr: 0.000075000000 loss:0.0003360718531724346\n"
     ]
    },
    {
     "name": "stderr",
     "output_type": "stream",
     "text": [
      "Epoch 50 testing: 100%|██████████| 69/69 [01:01<00:00,  1.13it/s]\n"
     ]
    },
    {
     "name": "stdout",
     "output_type": "stream",
     "text": [
      "Test: 50/100: loss:0.009006925321138124, accuracy:0.9925796606377986, precision:0.32270531400966185, recall:0.25628019323671497, f1:0.267736369910283, mcc:0.27593327772560383, ece:0.007420339361777988, epoch:49\n"
     ]
    },
    {
     "name": "stderr",
     "output_type": "stream",
     "text": [
      "Epoch 51 training: 100%|██████████| 621/621 [09:15<00:00,  1.12it/s]\n"
     ]
    },
    {
     "name": "stdout",
     "output_type": "stream",
     "text": [
      "Train: 51/100: lr: 0.000075000000 loss:0.00027029492573781363\n"
     ]
    },
    {
     "name": "stderr",
     "output_type": "stream",
     "text": [
      "Epoch 51 testing: 100%|██████████| 69/69 [01:01<00:00,  1.12it/s]\n"
     ]
    },
    {
     "name": "stdout",
     "output_type": "stream",
     "text": [
      "Test: 51/100: loss:0.006544792559630561, accuracy:0.9880486123335095, precision:0.2734299516908213, recall:0.4323671497584541, f1:0.31529790660225443, mcc:0.3280807310583347, ece:0.011951387613552852, epoch:50\n"
     ]
    },
    {
     "name": "stderr",
     "output_type": "stream",
     "text": [
      "Epoch 52 training: 100%|██████████| 621/621 [09:24<00:00,  1.10it/s]\n"
     ]
    },
    {
     "name": "stdout",
     "output_type": "stream",
     "text": [
      "Train: 52/100: lr: 0.000075000000 loss:0.00035427553903324537\n"
     ]
    },
    {
     "name": "stderr",
     "output_type": "stream",
     "text": [
      "Epoch 52 testing: 100%|██████████| 69/69 [01:03<00:00,  1.09it/s]\n"
     ]
    },
    {
     "name": "stdout",
     "output_type": "stream",
     "text": [
      "Test: 52/100: loss:0.008295323276758174, accuracy:0.9924139492753623, precision:0.3248792270531401, recall:0.2562801932367149, f1:0.2581665516448125, mcc:0.2710831977702304, ece:0.007586050717888967, epoch:51\n"
     ]
    },
    {
     "name": "stderr",
     "output_type": "stream",
     "text": [
      "Epoch 53 training: 100%|██████████| 621/621 [09:30<00:00,  1.09it/s]\n"
     ]
    },
    {
     "name": "stdout",
     "output_type": "stream",
     "text": [
      "Train: 53/100: lr: 0.000075000000 loss:0.0002972401101059757\n"
     ]
    },
    {
     "name": "stderr",
     "output_type": "stream",
     "text": [
      "Epoch 53 testing: 100%|██████████| 69/69 [01:03<00:00,  1.09it/s]\n"
     ]
    },
    {
     "name": "stdout",
     "output_type": "stream",
     "text": [
      "Test: 53/100: loss:0.005677170831325423, accuracy:0.9873105893915389, precision:0.28493213710605014, recall:0.4345410628019324, f1:0.315261952218474, mcc:0.3312654563065016, ece:0.01268941055699859, epoch:52\n"
     ]
    },
    {
     "name": "stderr",
     "output_type": "stream",
     "text": [
      "Epoch 54 training: 100%|██████████| 621/621 [09:34<00:00,  1.08it/s]\n"
     ]
    },
    {
     "name": "stdout",
     "output_type": "stream",
     "text": [
      "Train: 54/100: lr: 0.000075000000 loss:0.0002654063380548644\n"
     ]
    },
    {
     "name": "stderr",
     "output_type": "stream",
     "text": [
      "Epoch 54 testing: 100%|██████████| 69/69 [01:03<00:00,  1.08it/s]\n"
     ]
    },
    {
     "name": "stdout",
     "output_type": "stream",
     "text": [
      "Test: 54/100: loss:0.010118848029220395, accuracy:0.9930325591885232, precision:0.322463768115942, recall:0.27777777777777773, f1:0.28350586611456174, mcc:0.2894546426587782, ece:0.006967440807678993, epoch:53\n"
     ]
    },
    {
     "name": "stderr",
     "output_type": "stream",
     "text": [
      "Epoch 55 training: 100%|██████████| 621/621 [09:40<00:00,  1.07it/s]\n"
     ]
    },
    {
     "name": "stdout",
     "output_type": "stream",
     "text": [
      "Train: 55/100: lr: 0.000075000000 loss:0.0002756132524794979\n"
     ]
    },
    {
     "name": "stderr",
     "output_type": "stream",
     "text": [
      "Epoch 55 testing: 100%|██████████| 69/69 [01:04<00:00,  1.07it/s]\n"
     ]
    },
    {
     "name": "stdout",
     "output_type": "stream",
     "text": [
      "Test: 55/100: loss:0.008897468499605526, accuracy:0.9916779891304348, precision:0.3202208419599724, recall:0.32125603864734303, f1:0.29257272518142086, mcc:0.3025268830413782, ece:0.00832201081894986, epoch:54\n"
     ]
    },
    {
     "name": "stderr",
     "output_type": "stream",
     "text": [
      "Epoch 56 training: 100%|██████████| 621/621 [09:44<00:00,  1.06it/s]\n"
     ]
    },
    {
     "name": "stdout",
     "output_type": "stream",
     "text": [
      "Train: 56/100: lr: 0.000075000000 loss:0.00032014182524409737\n"
     ]
    },
    {
     "name": "stderr",
     "output_type": "stream",
     "text": [
      "Epoch 56 testing: 100%|██████████| 69/69 [01:05<00:00,  1.06it/s]\n"
     ]
    },
    {
     "name": "stdout",
     "output_type": "stream",
     "text": [
      "Test: 56/100: loss:0.005467821364763422, accuracy:0.9827229287684093, precision:0.2232919254658385, recall:0.48188405797101447, f1:0.28742626133930477, mcc:0.31117567768120546, ece:0.01727707114448582, epoch:55\n"
     ]
    },
    {
     "name": "stderr",
     "output_type": "stream",
     "text": [
      "Epoch 57 training: 100%|██████████| 621/621 [09:53<00:00,  1.05it/s]\n"
     ]
    },
    {
     "name": "stdout",
     "output_type": "stream",
     "text": [
      "Train: 57/100: lr: 0.000075000000 loss:0.00035695921171381543\n"
     ]
    },
    {
     "name": "stderr",
     "output_type": "stream",
     "text": [
      "Epoch 57 testing: 100%|██████████| 69/69 [01:05<00:00,  1.05it/s]\n"
     ]
    },
    {
     "name": "stdout",
     "output_type": "stream",
     "text": [
      "Test: 57/100: loss:0.005237234798108187, accuracy:0.9829493780437716, precision:0.23326432022084195, recall:0.5062801932367149, f1:0.3047701895527982, mcc:0.3288361876924888, ece:0.017050621808385073, epoch:56\n"
     ]
    },
    {
     "name": "stderr",
     "output_type": "stream",
     "text": [
      "Epoch 58 training: 100%|██████████| 621/621 [09:58<00:00,  1.04it/s]\n"
     ]
    },
    {
     "name": "stdout",
     "output_type": "stream",
     "text": [
      "Train: 58/100: lr: 0.000075000000 loss:0.00023581690462527556\n"
     ]
    },
    {
     "name": "stderr",
     "output_type": "stream",
     "text": [
      "Epoch 58 testing: 100%|██████████| 69/69 [01:07<00:00,  1.02it/s]\n"
     ]
    },
    {
     "name": "stdout",
     "output_type": "stream",
     "text": [
      "Test: 58/100: loss:0.008339695461815438, accuracy:0.9920135374493928, precision:0.385024154589372, recall:0.3871980676328502, f1:0.3572348746261789, mcc:0.36771950743395854, ece:0.007986462529937642, epoch:57\n"
     ]
    },
    {
     "name": "stderr",
     "output_type": "stream",
     "text": [
      "Epoch 59 training: 100%|██████████| 621/621 [10:09<00:00,  1.02it/s]\n"
     ]
    },
    {
     "name": "stdout",
     "output_type": "stream",
     "text": [
      "Train: 59/100: lr: 0.000075000000 loss:0.00028644909956649983\n"
     ]
    },
    {
     "name": "stderr",
     "output_type": "stream",
     "text": [
      "Epoch 59 testing: 100%|██████████| 69/69 [01:07<00:00,  1.02it/s]\n"
     ]
    },
    {
     "name": "stdout",
     "output_type": "stream",
     "text": [
      "Test: 59/100: loss:0.006838137501672727, accuracy:0.9919610507246377, precision:0.3928916494133885, recall:0.3727053140096618, f1:0.354546500198674, mcc:0.36460087004918823, ece:0.008038949268613604, epoch:58\n"
     ]
    },
    {
     "name": "stderr",
     "output_type": "stream",
     "text": [
      "Epoch 60 training: 100%|██████████| 621/621 [10:12<00:00,  1.01it/s]\n"
     ]
    },
    {
     "name": "stdout",
     "output_type": "stream",
     "text": [
      "Train: 60/100: lr: 0.000075000000 loss:0.0002869933380723072\n"
     ]
    },
    {
     "name": "stderr",
     "output_type": "stream",
     "text": [
      "Epoch 60 testing: 100%|██████████| 69/69 [01:08<00:00,  1.00it/s]\n"
     ]
    },
    {
     "name": "stdout",
     "output_type": "stream",
     "text": [
      "Test: 60/100: loss:0.008835782257359613, accuracy:0.9929738840726399, precision:0.35507246376811596, recall:0.24468599033816424, f1:0.2750862663906143, mcc:0.28457346362092883, ece:0.0070261159182890606, epoch:59\n"
     ]
    },
    {
     "name": "stderr",
     "output_type": "stream",
     "text": [
      "Epoch 61 training: 100%|██████████| 621/621 [10:20<00:00,  1.00it/s]\n"
     ]
    },
    {
     "name": "stdout",
     "output_type": "stream",
     "text": [
      "Train: 61/100: lr: 0.000075000000 loss:0.0002292673201287872\n"
     ]
    },
    {
     "name": "stderr",
     "output_type": "stream",
     "text": [
      "Epoch 61 testing: 100%|██████████| 69/69 [01:09<00:00,  1.00s/it]\n"
     ]
    },
    {
     "name": "stdout",
     "output_type": "stream",
     "text": [
      "Test: 61/100: loss:0.008928989586332835, accuracy:0.9927494975943203, precision:0.38647342995169076, recall:0.2925120772946859, f1:0.30804002760524496, mcc:0.3205650717382691, ece:0.007250502401881892, epoch:60\n"
     ]
    },
    {
     "name": "stderr",
     "output_type": "stream",
     "text": [
      "Epoch 62 training: 100%|██████████| 621/621 [10:21<00:00,  1.00s/it]\n"
     ]
    },
    {
     "name": "stdout",
     "output_type": "stream",
     "text": [
      "Train: 62/100: lr: 0.000075000000 loss:0.00029381814067106816\n"
     ]
    },
    {
     "name": "stderr",
     "output_type": "stream",
     "text": [
      "Epoch 62 testing: 100%|██████████| 69/69 [01:09<00:00,  1.00s/it]\n"
     ]
    },
    {
     "name": "stdout",
     "output_type": "stream",
     "text": [
      "Test: 62/100: loss:0.008265094472757271, accuracy:0.9925796606377986, precision:0.3961352657004831, recall:0.34613526570048314, f1:0.3354037267080745, mcc:0.34935651227033454, ece:0.007420339344906202, epoch:61\n"
     ]
    },
    {
     "name": "stderr",
     "output_type": "stream",
     "text": [
      "Epoch 63 training: 100%|██████████| 621/621 [10:33<00:00,  1.02s/it]\n"
     ]
    },
    {
     "name": "stdout",
     "output_type": "stream",
     "text": [
      "Train: 63/100: lr: 0.000075000000 loss:0.0003272981567271521\n"
     ]
    },
    {
     "name": "stderr",
     "output_type": "stream",
     "text": [
      "Epoch 63 testing: 100%|██████████| 69/69 [01:10<00:00,  1.02s/it]\n"
     ]
    },
    {
     "name": "stdout",
     "output_type": "stream",
     "text": [
      "Test: 63/100: loss:0.00829792087901349, accuracy:0.9932044589420876, precision:0.3091787439613527, recall:0.2185990338164251, f1:0.23706004140786746, mcc:0.24771731865479457, ece:0.006795541049264695, epoch:62\n"
     ]
    },
    {
     "name": "stderr",
     "output_type": "stream",
     "text": [
      "Epoch 64 training: 100%|██████████| 621/621 [10:38<00:00,  1.03s/it]\n"
     ]
    },
    {
     "name": "stdout",
     "output_type": "stream",
     "text": [
      "Train: 64/100: lr: 0.000075000000 loss:0.00024156577716818233\n"
     ]
    },
    {
     "name": "stderr",
     "output_type": "stream",
     "text": [
      "Epoch 64 testing: 100%|██████████| 69/69 [01:11<00:00,  1.03s/it]\n"
     ]
    },
    {
     "name": "stdout",
     "output_type": "stream",
     "text": [
      "Test: 64/100: loss:0.006215635547788765, accuracy:0.9916151884204659, precision:0.371256038647343, recall:0.33140096618357484, f1:0.3251437773176904, mcc:0.33431065497748136, ece:0.008384811570462973, epoch:63\n"
     ]
    },
    {
     "name": "stderr",
     "output_type": "stream",
     "text": [
      "Epoch 65 training: 100%|██████████| 621/621 [10:38<00:00,  1.03s/it]\n"
     ]
    },
    {
     "name": "stdout",
     "output_type": "stream",
     "text": [
      "Train: 65/100: lr: 0.000075000000 loss:0.00023616234162804375\n"
     ]
    },
    {
     "name": "stderr",
     "output_type": "stream",
     "text": [
      "Epoch 65 testing: 100%|██████████| 69/69 [01:11<00:00,  1.03s/it]\n"
     ]
    },
    {
     "name": "stdout",
     "output_type": "stream",
     "text": [
      "Test: 65/100: loss:0.010868580571079714, accuracy:0.9929759468696826, precision:0.35990338164251207, recall:0.28888888888888886, f1:0.30138026224982745, mcc:0.31018572456968424, ece:0.007024053109647787, epoch:64\n"
     ]
    },
    {
     "name": "stderr",
     "output_type": "stream",
     "text": [
      "Epoch 66 training: 100%|██████████| 621/621 [10:46<00:00,  1.04s/it]\n"
     ]
    },
    {
     "name": "stdout",
     "output_type": "stream",
     "text": [
      "Train: 66/100: lr: 0.000075000000 loss:0.00027332831437824965\n"
     ]
    },
    {
     "name": "stderr",
     "output_type": "stream",
     "text": [
      "Epoch 66 testing: 100%|██████████| 69/69 [01:12<00:00,  1.05s/it]\n"
     ]
    },
    {
     "name": "stdout",
     "output_type": "stream",
     "text": [
      "Test: 66/100: loss:0.007858117260447994, accuracy:0.9920722125652761, precision:0.3396135265700483, recall:0.34782608695652173, f1:0.32279733149298373, mcc:0.3299599034890532, ece:0.007927787419327575, epoch:65\n"
     ]
    },
    {
     "name": "stderr",
     "output_type": "stream",
     "text": [
      "Epoch 67 training: 100%|██████████| 621/621 [10:55<00:00,  1.06s/it]\n"
     ]
    },
    {
     "name": "stdout",
     "output_type": "stream",
     "text": [
      "Train: 67/100: lr: 0.000075000000 loss:0.00033507425079100676\n"
     ]
    },
    {
     "name": "stderr",
     "output_type": "stream",
     "text": [
      "Epoch 67 testing: 100%|██████████| 69/69 [01:12<00:00,  1.05s/it]\n"
     ]
    },
    {
     "name": "stdout",
     "output_type": "stream",
     "text": [
      "Test: 67/100: loss:0.009338471801729083, accuracy:0.9922986618406384, precision:0.3743961352657005, recall:0.3468944099378882, f1:0.33094297007340484, mcc:0.3423529582048319, ece:0.007701338150713971, epoch:66\n"
     ]
    },
    {
     "name": "stderr",
     "output_type": "stream",
     "text": [
      "Epoch 68 training: 100%|██████████| 621/621 [11:05<00:00,  1.07s/it]\n"
     ]
    },
    {
     "name": "stdout",
     "output_type": "stream",
     "text": [
      "Train: 68/100: lr: 0.000075000000 loss:0.000214087103825828\n"
     ]
    },
    {
     "name": "stderr",
     "output_type": "stream",
     "text": [
      "Epoch 68 testing: 100%|██████████| 69/69 [01:13<00:00,  1.07s/it]\n"
     ]
    },
    {
     "name": "stdout",
     "output_type": "stream",
     "text": [
      "Test: 68/100: loss:0.010524555033854362, accuracy:0.9927536231884058, precision:0.3357487922705314, recall:0.2625948930296756, f1:0.2793880837359098, mcc:0.28652604253066627, ece:0.007246376808219846, epoch:67\n"
     ]
    },
    {
     "name": "stderr",
     "output_type": "stream",
     "text": [
      "Epoch 69 training: 100%|██████████| 621/621 [11:08<00:00,  1.08s/it]\n"
     ]
    },
    {
     "name": "stdout",
     "output_type": "stream",
     "text": [
      "Train: 69/100: lr: 0.000075000000 loss:0.0002893794472245663\n"
     ]
    },
    {
     "name": "stderr",
     "output_type": "stream",
     "text": [
      "Epoch 69 testing: 100%|██████████| 69/69 [01:13<00:00,  1.07s/it]\n"
     ]
    },
    {
     "name": "stdout",
     "output_type": "stream",
     "text": [
      "Test: 69/100: loss:0.006037672208575701, accuracy:0.9915565133045824, precision:0.40289855072463765, recall:0.4478260869565217, f1:0.38350586611456183, mcc:0.40040239248059273, ece:0.008443486637206397, epoch:68\n"
     ]
    },
    {
     "name": "stderr",
     "output_type": "stream",
     "text": [
      "Epoch 70 training: 100%|██████████| 621/621 [11:09<00:00,  1.08s/it]\n"
     ]
    },
    {
     "name": "stdout",
     "output_type": "stream",
     "text": [
      "Train: 70/100: lr: 0.000075000000 loss:0.00018506722734104475\n"
     ]
    },
    {
     "name": "stderr",
     "output_type": "stream",
     "text": [
      "Epoch 70 testing: 100%|██████████| 69/69 [01:14<00:00,  1.09s/it]\n"
     ]
    },
    {
     "name": "stdout",
     "output_type": "stream",
     "text": [
      "Test: 70/100: loss:0.012549072360317054, accuracy:0.9932044589420876, precision:0.23671497584541065, recall:0.11497584541062801, f1:0.14523809523809525, mcc:0.15842918838759654, ece:0.006795541059387767, epoch:69\n"
     ]
    },
    {
     "name": "stderr",
     "output_type": "stream",
     "text": [
      "Epoch 71 training: 100%|██████████| 621/621 [11:16<00:00,  1.09s/it]\n"
     ]
    },
    {
     "name": "stdout",
     "output_type": "stream",
     "text": [
      "Train: 71/100: lr: 0.000075000000 loss:0.00023836342672626523\n"
     ]
    },
    {
     "name": "stderr",
     "output_type": "stream",
     "text": [
      "Epoch 71 testing: 100%|██████████| 69/69 [01:15<00:00,  1.10s/it]\n"
     ]
    },
    {
     "name": "stdout",
     "output_type": "stream",
     "text": [
      "Test: 71/100: loss:0.010024210118761244, accuracy:0.9931499094202898, precision:0.4106280193236715, recall:0.29734299516908214, f1:0.3113181504485852, mcc:0.3291005612316869, ece:0.006850090576335788, epoch:70\n"
     ]
    },
    {
     "name": "stderr",
     "output_type": "stream",
     "text": [
      "Epoch 72 training: 100%|██████████| 621/621 [11:23<00:00,  1.10s/it]\n"
     ]
    },
    {
     "name": "stdout",
     "output_type": "stream",
     "text": [
      "Train: 72/100: lr: 0.000075000000 loss:0.00023869057459059928\n"
     ]
    },
    {
     "name": "stderr",
     "output_type": "stream",
     "text": [
      "Epoch 72 testing: 100%|██████████| 69/69 [01:17<00:00,  1.12s/it]\n"
     ]
    },
    {
     "name": "stdout",
     "output_type": "stream",
     "text": [
      "Test: 72/100: loss:0.009133318510758609, accuracy:0.9929718212755969, precision:0.32367149758454106, recall:0.2429951690821256, f1:0.26594202898550723, mcc:0.27207558953806393, ece:0.007028178726930333, epoch:71\n"
     ]
    },
    {
     "name": "stderr",
     "output_type": "stream",
     "text": [
      "Epoch 73 training: 100%|██████████| 621/621 [11:32<00:00,  1.11s/it]\n"
     ]
    },
    {
     "name": "stdout",
     "output_type": "stream",
     "text": [
      "Train: 73/100: lr: 0.000075000000 loss:0.00027983857151447824\n"
     ]
    },
    {
     "name": "stderr",
     "output_type": "stream",
     "text": [
      "Epoch 73 testing: 100%|██████████| 69/69 [01:17<00:00,  1.13s/it]\n"
     ]
    },
    {
     "name": "stdout",
     "output_type": "stream",
     "text": [
      "Test: 73/100: loss:0.010684434204186022, accuracy:0.9925817234348413, precision:0.2801932367149758, recall:0.20096618357487922, f1:0.21956521739130433, mcc:0.22742905708616254, ece:0.007418276563259787, epoch:72\n"
     ]
    },
    {
     "name": "stderr",
     "output_type": "stream",
     "text": [
      "Epoch 74 training: 100%|██████████| 621/621 [11:40<00:00,  1.13s/it]\n"
     ]
    },
    {
     "name": "stdout",
     "output_type": "stream",
     "text": [
      "Train: 74/100: lr: 0.000075000000 loss:0.00019794747169401045\n"
     ]
    },
    {
     "name": "stderr",
     "output_type": "stream",
     "text": [
      "Epoch 74 testing: 100%|██████████| 69/69 [01:17<00:00,  1.12s/it]\n"
     ]
    },
    {
     "name": "stdout",
     "output_type": "stream",
     "text": [
      "Test: 74/100: loss:0.010742089215830714, accuracy:0.9930346219855659, precision:0.34251207729468597, recall:0.24516908212560384, f1:0.269339356295878, mcc:0.27887636404141825, ece:0.006965378012535149, epoch:73\n"
     ]
    },
    {
     "name": "stderr",
     "output_type": "stream",
     "text": [
      "Epoch 75 training: 100%|██████████| 621/621 [11:41<00:00,  1.13s/it]\n"
     ]
    },
    {
     "name": "stdout",
     "output_type": "stream",
     "text": [
      "Train: 75/100: lr: 0.000075000000 loss:0.00024211709212630704\n"
     ]
    },
    {
     "name": "stderr",
     "output_type": "stream",
     "text": [
      "Epoch 75 testing: 100%|██████████| 69/69 [01:18<00:00,  1.14s/it]\n"
     ]
    },
    {
     "name": "stdout",
     "output_type": "stream",
     "text": [
      "Test: 75/100: loss:0.005392354182085778, accuracy:0.9845973236812768, precision:0.28414998849781453, recall:0.5330917874396135, f1:0.33966999184390484, mcc:0.36548422308497486, ece:0.015402676247438227, epoch:74\n"
     ]
    },
    {
     "name": "stderr",
     "output_type": "stream",
     "text": [
      "Epoch 76 training: 100%|██████████| 621/621 [11:47<00:00,  1.14s/it]\n"
     ]
    },
    {
     "name": "stdout",
     "output_type": "stream",
     "text": [
      "Train: 76/100: lr: 0.000075000000 loss:0.00020715712280024593\n"
     ]
    },
    {
     "name": "stderr",
     "output_type": "stream",
     "text": [
      "Epoch 76 testing: 100%|██████████| 69/69 [01:19<00:00,  1.15s/it]\n"
     ]
    },
    {
     "name": "stdout",
     "output_type": "stream",
     "text": [
      "Test: 76/100: loss:0.01004383751440374, accuracy:0.992294536246553, precision:0.31980676328502416, recall:0.2427536231884058, f1:0.24972394755003452, mcc:0.26195857195695776, ece:0.007705463737627302, epoch:75\n"
     ]
    },
    {
     "name": "stderr",
     "output_type": "stream",
     "text": [
      "Epoch 77 training: 100%|██████████| 621/621 [11:54<00:00,  1.15s/it]\n"
     ]
    },
    {
     "name": "stdout",
     "output_type": "stream",
     "text": [
      "Train: 77/100: lr: 0.000075000000 loss:0.00022063489337868585\n"
     ]
    },
    {
     "name": "stderr",
     "output_type": "stream",
     "text": [
      "Epoch 77 testing: 100%|██████████| 69/69 [01:20<00:00,  1.16s/it]\n"
     ]
    },
    {
     "name": "stdout",
     "output_type": "stream",
     "text": [
      "Test: 77/100: loss:0.009803815755045776, accuracy:0.9927494975943203, precision:0.36594202898550726, recall:0.29637681159420287, f1:0.29085576259489304, mcc:0.307244947141829, ece:0.007250502408630606, epoch:76\n"
     ]
    },
    {
     "name": "stderr",
     "output_type": "stream",
     "text": [
      "Epoch 78 training: 100%|██████████| 621/621 [12:01<00:00,  1.16s/it]\n"
     ]
    },
    {
     "name": "stdout",
     "output_type": "stream",
     "text": [
      "Train: 78/100: lr: 0.000075000000 loss:0.00022998213121453497\n"
     ]
    },
    {
     "name": "stderr",
     "output_type": "stream",
     "text": [
      "Epoch 78 testing: 100%|██████████| 69/69 [01:20<00:00,  1.17s/it]\n"
     ]
    },
    {
     "name": "stdout",
     "output_type": "stream",
     "text": [
      "Test: 78/100: loss:0.008536684817691043, accuracy:0.99229247344951, precision:0.3193581780538302, recall:0.2427536231884058, f1:0.25924775707384407, mcc:0.2668839934382053, ece:0.007707526556391647, epoch:77\n"
     ]
    },
    {
     "name": "stderr",
     "output_type": "stream",
     "text": [
      "Epoch 79 training: 100%|██████████| 621/621 [12:09<00:00,  1.17s/it]\n"
     ]
    },
    {
     "name": "stdout",
     "output_type": "stream",
     "text": [
      "Train: 79/100: lr: 0.000075000000 loss:0.00024065111757927342\n"
     ]
    },
    {
     "name": "stderr",
     "output_type": "stream",
     "text": [
      "Epoch 79 testing: 100%|██████████| 69/69 [01:20<00:00,  1.17s/it]\n"
     ]
    },
    {
     "name": "stdout",
     "output_type": "stream",
     "text": [
      "Test: 79/100: loss:0.007828797781943307, accuracy:0.9917304758551899, precision:0.3338164251207729, recall:0.377536231884058, f1:0.3403151598803772, mcc:0.3443426418151449, ece:0.008269524134263613, epoch:78\n"
     ]
    },
    {
     "name": "stderr",
     "output_type": "stream",
     "text": [
      "Epoch 80 training: 100%|██████████| 621/621 [12:12<00:00,  1.18s/it]\n"
     ]
    },
    {
     "name": "stdout",
     "output_type": "stream",
     "text": [
      "Train: 80/100: lr: 0.000075000000 loss:0.0001777581711660581\n"
     ]
    },
    {
     "name": "stderr",
     "output_type": "stream",
     "text": [
      "Epoch 80 testing: 100%|██████████| 69/69 [01:21<00:00,  1.18s/it]\n"
     ]
    },
    {
     "name": "stdout",
     "output_type": "stream",
     "text": [
      "Test: 80/100: loss:0.006807549730222925, accuracy:0.9877655507393065, precision:0.26316425120772946, recall:0.4210144927536232, f1:0.2981251437773177, mcc:0.31345994121321646, ece:0.012234449238124966, epoch:79\n"
     ]
    },
    {
     "name": "stderr",
     "output_type": "stream",
     "text": [
      "Epoch 81 training: 100%|██████████| 621/621 [12:16<00:00,  1.19s/it]\n"
     ]
    },
    {
     "name": "stdout",
     "output_type": "stream",
     "text": [
      "Train: 81/100: lr: 0.000075000000 loss:0.0002831730649586535\n"
     ]
    },
    {
     "name": "stderr",
     "output_type": "stream",
     "text": [
      "Epoch 81 testing: 100%|██████████| 69/69 [01:22<00:00,  1.19s/it]\n"
     ]
    },
    {
     "name": "stdout",
     "output_type": "stream",
     "text": [
      "Test: 81/100: loss:0.010066367928847403, accuracy:0.9931437210291616, precision:0.34057971014492755, recall:0.2722222222222222, f1:0.2827927306188176, mcc:0.29197464803658135, ece:0.006856278961767321, epoch:80\n"
     ]
    },
    {
     "name": "stderr",
     "output_type": "stream",
     "text": [
      "Epoch 82 training: 100%|██████████| 621/621 [12:28<00:00,  1.20s/it]\n"
     ]
    },
    {
     "name": "stdout",
     "output_type": "stream",
     "text": [
      "Train: 82/100: lr: 0.000075000000 loss:0.00014770176616007186\n"
     ]
    },
    {
     "name": "stderr",
     "output_type": "stream",
     "text": [
      "Epoch 82 testing: 100%|██████████| 69/69 [01:23<00:00,  1.21s/it]\n"
     ]
    },
    {
     "name": "stdout",
     "output_type": "stream",
     "text": [
      "Test: 82/100: loss:0.008180590742942539, accuracy:0.9910511280291029, precision:0.35241545893719806, recall:0.3504830917874396, f1:0.3111916264090177, mcc:0.3265191119979325, ece:0.008948871953601854, epoch:81\n"
     ]
    },
    {
     "name": "stderr",
     "output_type": "stream",
     "text": [
      "Epoch 83 training: 100%|██████████| 621/621 [12:35<00:00,  1.22s/it]\n"
     ]
    },
    {
     "name": "stdout",
     "output_type": "stream",
     "text": [
      "Train: 83/100: lr: 0.000075000000 loss:0.00020681418883335256\n"
     ]
    },
    {
     "name": "stderr",
     "output_type": "stream",
     "text": [
      "Epoch 83 testing: 100%|██████████| 69/69 [01:23<00:00,  1.21s/it]\n"
     ]
    },
    {
     "name": "stdout",
     "output_type": "stream",
     "text": [
      "Test: 83/100: loss:0.010725464835084731, accuracy:0.9931437210291616, precision:0.31400966183574874, recall:0.19202898550724637, f1:0.22160110420979987, mcc:0.23442852340169415, ece:0.006856278961767321, epoch:82\n"
     ]
    },
    {
     "name": "stderr",
     "output_type": "stream",
     "text": [
      "Epoch 84 training: 100%|██████████| 621/621 [12:38<00:00,  1.22s/it]\n"
     ]
    },
    {
     "name": "stdout",
     "output_type": "stream",
     "text": [
      "Train: 84/100: lr: 0.000075000000 loss:0.00020240944442483617\n"
     ]
    },
    {
     "name": "stderr",
     "output_type": "stream",
     "text": [
      "Epoch 84 testing: 100%|██████████| 69/69 [01:23<00:00,  1.21s/it]\n"
     ]
    },
    {
     "name": "stdout",
     "output_type": "stream",
     "text": [
      "Test: 84/100: loss:0.010370134212464925, accuracy:0.9932023961450449, precision:0.4202898550724637, recall:0.28140096618357485, f1:0.313319530710835, mcc:0.3288321018315178, ece:0.006797603857905969, epoch:83\n"
     ]
    },
    {
     "name": "stderr",
     "output_type": "stream",
     "text": [
      "Epoch 85 training: 100%|██████████| 621/621 [12:44<00:00,  1.23s/it]\n"
     ]
    },
    {
     "name": "stdout",
     "output_type": "stream",
     "text": [
      "Train: 85/100: lr: 0.000075000000 loss:0.00023046717175031955\n"
     ]
    },
    {
     "name": "stderr",
     "output_type": "stream",
     "text": [
      "Epoch 85 testing: 100%|██████████| 69/69 [01:25<00:00,  1.24s/it]\n"
     ]
    },
    {
     "name": "stdout",
     "output_type": "stream",
     "text": [
      "Test: 85/100: loss:0.008511843155392326, accuracy:0.9914432886669012, precision:0.34009661835748783, recall:0.2809178743961353, f1:0.2807798481711526, mcc:0.2916195382217004, ece:0.008556711325502914, epoch:84\n"
     ]
    },
    {
     "name": "stderr",
     "output_type": "stream",
     "text": [
      "Epoch 86 training: 100%|██████████| 621/621 [12:51<00:00,  1.24s/it]\n"
     ]
    },
    {
     "name": "stdout",
     "output_type": "stream",
     "text": [
      "Train: 86/100: lr: 0.000075000000 loss:0.00021552879383510143\n"
     ]
    },
    {
     "name": "stderr",
     "output_type": "stream",
     "text": [
      "Epoch 86 testing: 100%|██████████| 69/69 [01:26<00:00,  1.25s/it]\n"
     ]
    },
    {
     "name": "stdout",
     "output_type": "stream",
     "text": [
      "Test: 86/100: loss:0.007563046103788783, accuracy:0.9912209649856246, precision:0.3495169082125604, recall:0.35579710144927534, f1:0.3314354727398206, mcc:0.337995214153972, ece:0.008779034993705758, epoch:85\n"
     ]
    },
    {
     "name": "stderr",
     "output_type": "stream",
     "text": [
      "Epoch 87 training: 100%|██████████| 621/621 [12:54<00:00,  1.25s/it]\n"
     ]
    },
    {
     "name": "stdout",
     "output_type": "stream",
     "text": [
      "Train: 87/100: lr: 0.000075000000 loss:0.00022372090021732124\n"
     ]
    },
    {
     "name": "stderr",
     "output_type": "stream",
     "text": [
      "Epoch 87 testing: 100%|██████████| 69/69 [01:25<00:00,  1.24s/it]\n"
     ]
    },
    {
     "name": "stdout",
     "output_type": "stream",
     "text": [
      "Test: 87/100: loss:0.007262810875018013, accuracy:0.9899754939711319, precision:0.34432367149758447, recall:0.40172532781228426, f1:0.349309466700771, mcc:0.35658160550417184, ece:0.010024506028444655, epoch:86\n"
     ]
    },
    {
     "name": "stderr",
     "output_type": "stream",
     "text": [
      "Epoch 88 training: 100%|██████████| 621/621 [12:59<00:00,  1.25s/it]\n"
     ]
    },
    {
     "name": "stdout",
     "output_type": "stream",
     "text": [
      "Train: 88/100: lr: 0.000075000000 loss:0.00017985557252659886\n"
     ]
    },
    {
     "name": "stderr",
     "output_type": "stream",
     "text": [
      "Epoch 88 testing: 100%|██████████| 69/69 [01:26<00:00,  1.26s/it]\n"
     ]
    },
    {
     "name": "stdout",
     "output_type": "stream",
     "text": [
      "Test: 88/100: loss:0.008742171657117517, accuracy:0.9928081727102036, precision:0.32222222222222224, recall:0.2318840579710145, f1:0.25527950310559006, mcc:0.26358230630385837, ece:0.00719182728452311, epoch:87\n"
     ]
    },
    {
     "name": "stderr",
     "output_type": "stream",
     "text": [
      "Epoch 89 training: 100%|██████████| 621/621 [13:06<00:00,  1.27s/it]\n"
     ]
    },
    {
     "name": "stdout",
     "output_type": "stream",
     "text": [
      "Train: 89/100: lr: 0.000075000000 loss:0.0002622446691866527\n"
     ]
    },
    {
     "name": "stderr",
     "output_type": "stream",
     "text": [
      "Epoch 89 testing: 100%|██████████| 69/69 [01:27<00:00,  1.26s/it]\n"
     ]
    },
    {
     "name": "stdout",
     "output_type": "stream",
     "text": [
      "Test: 89/100: loss:0.007589150866239663, accuracy:0.9909399661884645, precision:0.3374396135265701, recall:0.3541062801932367, f1:0.32094547964113185, mcc:0.3290237402232249, ece:0.009060033792764812, epoch:88\n"
     ]
    },
    {
     "name": "stderr",
     "output_type": "stream",
     "text": [
      "Epoch 90 training: 100%|██████████| 621/621 [13:14<00:00,  1.28s/it]\n"
     ]
    },
    {
     "name": "stdout",
     "output_type": "stream",
     "text": [
      "Train: 90/100: lr: 0.000075000000 loss:0.0001887583300378388\n"
     ]
    },
    {
     "name": "stderr",
     "output_type": "stream",
     "text": [
      "Epoch 90 testing: 100%|██████████| 69/69 [01:28<00:00,  1.28s/it]\n"
     ]
    },
    {
     "name": "stdout",
     "output_type": "stream",
     "text": [
      "Test: 90/100: loss:0.006985035365779776, accuracy:0.9898097826086957, precision:0.3116632160110421, recall:0.3693236714975845, f1:0.31499490847316935, mcc:0.322941644490394, ece:0.01019021734068899, epoch:89\n"
     ]
    },
    {
     "name": "stderr",
     "output_type": "stream",
     "text": [
      "Epoch 91 training: 100%|██████████| 621/621 [13:25<00:00,  1.30s/it]\n"
     ]
    },
    {
     "name": "stdout",
     "output_type": "stream",
     "text": [
      "Train: 91/100: lr: 0.000075000000 loss:0.000150379783448807\n"
     ]
    },
    {
     "name": "stderr",
     "output_type": "stream",
     "text": [
      "Epoch 91 testing: 100%|██████████| 69/69 [01:29<00:00,  1.29s/it]\n"
     ]
    },
    {
     "name": "stdout",
     "output_type": "stream",
     "text": [
      "Test: 91/100: loss:0.008486371684278087, accuracy:0.9922399867247551, precision:0.34541062801932365, recall:0.328743961352657, f1:0.31853002070393366, mcc:0.32452572315159517, ece:0.007760013274821466, epoch:90\n"
     ]
    },
    {
     "name": "stderr",
     "output_type": "stream",
     "text": [
      "Epoch 92 training: 100%|██████████| 621/621 [13:27<00:00,  1.30s/it]\n"
     ]
    },
    {
     "name": "stdout",
     "output_type": "stream",
     "text": [
      "Train: 92/100: lr: 0.000075000000 loss:0.00017945149362020492\n"
     ]
    },
    {
     "name": "stderr",
     "output_type": "stream",
     "text": [
      "Epoch 92 testing: 100%|██████████| 69/69 [01:29<00:00,  1.30s/it]\n"
     ]
    },
    {
     "name": "stdout",
     "output_type": "stream",
     "text": [
      "Test: 92/100: loss:0.008524684641852746, accuracy:0.9928061099131609, precision:0.40120772946859906, recall:0.35628019323671495, f1:0.3433088650479955, mcc:0.3573341599375025, ece:0.007193890066169526, epoch:91\n"
     ]
    },
    {
     "name": "stderr",
     "output_type": "stream",
     "text": [
      "Epoch 93 training: 100%|██████████| 621/621 [13:33<00:00,  1.31s/it]\n"
     ]
    },
    {
     "name": "stdout",
     "output_type": "stream",
     "text": [
      "Train: 93/100: lr: 0.000075000000 loss:0.00019927648332181868\n"
     ]
    },
    {
     "name": "stderr",
     "output_type": "stream",
     "text": [
      "Epoch 93 testing: 100%|██████████| 69/69 [01:30<00:00,  1.31s/it]\n"
     ]
    },
    {
     "name": "stdout",
     "output_type": "stream",
     "text": [
      "Test: 93/100: loss:0.009010373504814697, accuracy:0.9932044589420876, precision:0.3333333333333333, recall:0.24613526570048305, f1:0.2684265010351967, mcc:0.27651251799346804, ece:0.00679554105601341, epoch:92\n"
     ]
    },
    {
     "name": "stderr",
     "output_type": "stream",
     "text": [
      "Epoch 94 training: 100%|██████████| 621/621 [13:36<00:00,  1.32s/it]\n"
     ]
    },
    {
     "name": "stdout",
     "output_type": "stream",
     "text": [
      "Train: 94/100: lr: 0.000075000000 loss:0.00018779531821338613\n"
     ]
    },
    {
     "name": "stderr",
     "output_type": "stream",
     "text": [
      "Epoch 94 testing: 100%|██████████| 69/69 [01:29<00:00,  1.30s/it]\n"
     ]
    },
    {
     "name": "stdout",
     "output_type": "stream",
     "text": [
      "Test: 94/100: loss:0.011244727249679298, accuracy:0.9929234601449275, precision:0.32850241545893716, recall:0.22681159420289854, f1:0.25120772946859904, mcc:0.2615371014813432, ece:0.007076539851698107, epoch:93\n"
     ]
    },
    {
     "name": "stderr",
     "output_type": "stream",
     "text": [
      "Epoch 95 training: 100%|██████████| 621/621 [13:48<00:00,  1.33s/it]\n"
     ]
    },
    {
     "name": "stdout",
     "output_type": "stream",
     "text": [
      "Train: 95/100: lr: 0.000075000000 loss:0.00024661672210044526\n"
     ]
    },
    {
     "name": "stderr",
     "output_type": "stream",
     "text": [
      "Epoch 95 testing: 100%|██████████| 69/69 [01:32<00:00,  1.34s/it]\n"
     ]
    },
    {
     "name": "stdout",
     "output_type": "stream",
     "text": [
      "Test: 95/100: loss:0.007578724918884278, accuracy:0.9924077608842341, precision:0.3973429951690821, recall:0.3495169082125604, f1:0.35141476880607314, mcc:0.35908520174579656, ece:0.007592239096571786, epoch:94\n"
     ]
    },
    {
     "name": "stderr",
     "output_type": "stream",
     "text": [
      "Epoch 96 training: 100%|██████████| 621/621 [13:54<00:00,  1.34s/it]\n"
     ]
    },
    {
     "name": "stdout",
     "output_type": "stream",
     "text": [
      "Train: 96/100: lr: 0.000075000000 loss:0.00015831226350316145\n"
     ]
    },
    {
     "name": "stderr",
     "output_type": "stream",
     "text": [
      "Epoch 96 testing: 100%|██████████| 69/69 [01:32<00:00,  1.34s/it]\n"
     ]
    },
    {
     "name": "stdout",
     "output_type": "stream",
     "text": [
      "Test: 96/100: loss:0.010635850538112234, accuracy:0.9935441328551312, precision:0.34782608695652173, recall:0.2410973084886128, f1:0.2639291465378422, mcc:0.27676978864838964, ece:0.006455867139595574, epoch:95\n"
     ]
    },
    {
     "name": "stderr",
     "output_type": "stream",
     "text": [
      "Epoch 97 training: 100%|██████████| 621/621 [13:55<00:00,  1.35s/it]\n"
     ]
    },
    {
     "name": "stdout",
     "output_type": "stream",
     "text": [
      "Train: 97/100: lr: 0.000075000000 loss:0.00017021680410306712\n"
     ]
    },
    {
     "name": "stderr",
     "output_type": "stream",
     "text": [
      "Epoch 97 testing: 100%|██████████| 69/69 [01:32<00:00,  1.33s/it]\n"
     ]
    },
    {
     "name": "stdout",
     "output_type": "stream",
     "text": [
      "Test: 97/100: loss:0.011192146849878001, accuracy:0.9933722331015666, precision:0.33454106280193235, recall:0.2746376811594203, f1:0.28142397055440527, mcc:0.2904119292429062, ece:0.006627766898009872, epoch:96\n"
     ]
    },
    {
     "name": "stderr",
     "output_type": "stream",
     "text": [
      "Epoch 98 training: 100%|██████████| 621/621 [14:07<00:00,  1.36s/it]\n"
     ]
    },
    {
     "name": "stdout",
     "output_type": "stream",
     "text": [
      "Train: 98/100: lr: 0.000075000000 loss:0.00020112984888498244\n"
     ]
    },
    {
     "name": "stderr",
     "output_type": "stream",
     "text": [
      "Epoch 98 testing: 100%|██████████| 69/69 [01:34<00:00,  1.37s/it]\n"
     ]
    },
    {
     "name": "stdout",
     "output_type": "stream",
     "text": [
      "Test: 98/100: loss:0.014116492466671538, accuracy:0.9933156207827261, precision:0.2644927536231884, recall:0.1731884057971014, f1:0.19358178053830227, mcc:0.2040755397893209, ece:0.006684379220224809, epoch:97\n"
     ]
    },
    {
     "name": "stderr",
     "output_type": "stream",
     "text": [
      "Epoch 99 training: 100%|██████████| 621/621 [14:11<00:00,  1.37s/it]\n"
     ]
    },
    {
     "name": "stdout",
     "output_type": "stream",
     "text": [
      "Train: 99/100: lr: 0.000075000000 loss:0.00017245976612296056\n"
     ]
    },
    {
     "name": "stderr",
     "output_type": "stream",
     "text": [
      "Epoch 99 testing: 100%|██████████| 69/69 [01:33<00:00,  1.36s/it]\n"
     ]
    },
    {
     "name": "stdout",
     "output_type": "stream",
     "text": [
      "Test: 99/100: loss:0.006999711693450978, accuracy:0.9908164275655694, precision:0.3739130434782608, recall:0.3683574879227053, f1:0.34743501265240395, mcc:0.3553323473453968, ece:0.009183572412913909, epoch:98\n"
     ]
    },
    {
     "name": "stderr",
     "output_type": "stream",
     "text": [
      "Epoch 100 training: 100%|██████████| 621/621 [14:12<00:00,  1.37s/it]\n"
     ]
    },
    {
     "name": "stdout",
     "output_type": "stream",
     "text": [
      "Train: 100/100: lr: 0.000075000000 loss:0.00020340471655108682\n"
     ]
    },
    {
     "name": "stderr",
     "output_type": "stream",
     "text": [
      "Epoch 100 testing: 100%|██████████| 69/69 [01:34<00:00,  1.37s/it]\n"
     ]
    },
    {
     "name": "stdout",
     "output_type": "stream",
     "text": [
      "Test: 100/100: loss:0.004336567350538394, accuracy:0.982559280203016, precision:0.21389463998159652, recall:0.4746376811594203, f1:0.27918892701501397, mcc:0.30199048678483137, ece:0.01744071973244781, epoch:99\n"
     ]
    }
   ],
   "execution_count": 9
  },
  {
   "metadata": {},
   "cell_type": "code",
   "outputs": [],
   "execution_count": null,
   "source": [
    "\n",
    "\n",
    "print(f\"Training ends {datetime.now().isoformat()}\")\n",
    "for metric in [\"accuracy\", \"precision\", \"recall\", \"f1\", \"mcc\"]:\n",
    "    if len(model_metrics[f\"test_{metric}\"]) > 0:\n",
    "        print(f\"Test {metric}:\", model_metrics[f\"test_{metric}\"][-1])\n",
    "\n",
    "plot_model_metrics(model_metrics)"
   ],
   "id": "a914020f7d5592ec"
  },
  {
   "metadata": {
    "ExecuteTime": {
     "end_time": "2025-02-02T16:13:36.095521Z",
     "start_time": "2025-02-02T16:13:35.925259Z"
    }
   },
   "cell_type": "code",
   "source": [
    "os.makedirs(model_output_dir, exist_ok=True)\n",
    "torch.save({\n",
    "    \"model\": model,\n",
    "    \"train_slides\": set(train_slides[\"slide_name\"]),\n",
    "    \"test_slides\": set(test_slides[\"slide_name\"])\n",
    "},\n",
    "    f\"{model_output_dir}/model.pickle\"\n",
    ")"
   ],
   "id": "3e03053795b945c3",
   "outputs": [],
   "execution_count": 10
  }
 ],
 "metadata": {
  "kernelspec": {
   "display_name": "Python 3",
   "language": "python",
   "name": "python3"
  },
  "language_info": {
   "codemirror_mode": {
    "name": "ipython",
    "version": 2
   },
   "file_extension": ".py",
   "mimetype": "text/x-python",
   "name": "python",
   "nbconvert_exporter": "python",
   "pygments_lexer": "ipython2",
   "version": "2.7.6"
  }
 },
 "nbformat": 4,
 "nbformat_minor": 5
}
