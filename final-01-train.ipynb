{
 "cells": [
  {
   "metadata": {
    "ExecuteTime": {
     "end_time": "2025-02-06T22:00:59.013072Z",
     "start_time": "2025-02-06T22:00:56.278869Z"
    }
   },
   "cell_type": "code",
   "source": [
    "\n",
    "import os\n",
    "from datetime import datetime\n",
    "\n",
    "import pandas as pd\n",
    "import torch\n",
    "from torch.utils.data import DataLoader\n",
    "\n",
    "from datasets.SlideSeperatedCSVDataset import SlideSeperatedCSVDataset\n",
    "from extractors.TemplateMatchExtractor import TemplateMatchExtractor, generate_dataset_from_slides\n",
    "from labelers.GroundTruthLabeler import GroundTruthLabeler\n",
    "from models.mlp import MLPBinaryClassifier\n",
    "from models.resnet import Resnet18BinaryClassifier\n",
    "from train import train_classifier\n",
    "from utils import extract_features_from_dataset\n",
    "from utils import plot_model_metrics\n",
    "from utils import reduce_dataset, split_dataset\n"
   ],
   "id": "178fcda7c051eefd",
   "outputs": [],
   "execution_count": 1
  },
  {
   "metadata": {
    "ExecuteTime": {
     "end_time": "2025-02-06T22:00:59.020856Z",
     "start_time": "2025-02-06T22:00:59.013072Z"
    }
   },
   "cell_type": "code",
   "source": [
    "slides_root_dir = \"data/whole-slides/gut\"\n",
    "labels_root_dir = \"data/labels\"\n",
    "candidates_dataset_dir = \"output/candidates\"\n",
    "model_output_dir = \"output/models\"\n",
    "PretrainedModelClass = Resnet18BinaryClassifier\n",
    "features_csv_file_name = f\"{PretrainedModelClass.get_pretrained_model_name()}_{PretrainedModelClass.pretrained_output_size}_features.csv\"\n",
    "print(f\"{PretrainedModelClass.get_pretrained_model_name()}: {PretrainedModelClass.pretrained_output_size} features\")"
   ],
   "id": "2692a85d7bf5fc3a",
   "outputs": [
    {
     "name": "stdout",
     "output_type": "stream",
     "text": [
      "Resnet18: 512 features\n"
     ]
    }
   ],
   "execution_count": 2
  },
  {
   "metadata": {
    "jupyter": {
     "is_executing": true
    },
    "ExecuteTime": {
     "start_time": "2025-02-06T22:00:59.102507Z"
    }
   },
   "cell_type": "code",
   "source": [
    "ground_truth_labeler = GroundTruthLabeler(f\"{labels_root_dir}/slide-annotations/all.json\",\n",
    "                                          f\"{labels_root_dir}/patch-classifications.csv\")\n",
    "extractor = TemplateMatchExtractor(ground_truth_labeler)\n",
    "generate_dataset_from_slides(slides_root_dir, extractor, candidates_dataset_dir)"
   ],
   "id": "64c6e36f90e183bd",
   "outputs": [
    {
     "name": "stdout",
     "output_type": "stream",
     "text": [
      "Generating candidates dataset from 22 slides...\n"
     ]
    },
    {
     "name": "stderr",
     "output_type": "stream",
     "text": [
      "Extracting candidates from slide 522021:  58%|█████▊    | 285/490 [00:22<00:52,  3.88it/s]"
     ]
    }
   ],
   "execution_count": null
  },
  {
   "metadata": {
    "ExecuteTime": {
     "end_time": "2025-02-06T21:57:24.971931800Z",
     "start_time": "2025-02-06T20:19:44.136526Z"
    }
   },
   "cell_type": "code",
   "source": [
    "extract_features_from_dataset(candidates_dataset_dir,\n",
    "                              [Resnet18BinaryClassifier])"
   ],
   "id": "b1b3dae800e32cc3",
   "outputs": [
    {
     "name": "stdout",
     "output_type": "stream",
     "text": [
      "Device: cuda:0\n"
     ]
    },
    {
     "name": "stderr",
     "output_type": "stream",
     "text": [
      "Extracting feats from Resnet18: 100%|██████████| 1536/1536 [08:27<00:00,  3.03it/s]\n"
     ]
    }
   ],
   "execution_count": 4
  },
  {
   "metadata": {
    "ExecuteTime": {
     "end_time": "2025-02-06T21:57:24.971931800Z",
     "start_time": "2025-02-06T20:28:12.518958Z"
    }
   },
   "cell_type": "code",
   "source": [
    "def assign_categories(dataframe):\n",
    "    q1, median, q3 = dataframe['n_gt_positive_regions'].quantile([0.25, 0.5, 0.75])\n",
    "\n",
    "    def categorize_quartiles(n_annotations):\n",
    "        if n_annotations <= q1:\n",
    "            return \"Low\"\n",
    "        elif q1 < n_annotations <= median:\n",
    "            return \"Medium\"\n",
    "        elif median < n_annotations <= q3:\n",
    "            return \"High\"\n",
    "        else:\n",
    "            return \"Very High\"\n",
    "\n",
    "    dataframe['category'] = dataframe['n_gt_positive_regions'].apply(lambda x: categorize_quartiles(x))\n",
    "    return dataframe\n",
    "\n",
    "\n",
    "def split_data(dataframe, train_portion=0.7):\n",
    "    train_set = pd.DataFrame()\n",
    "    test_set = pd.DataFrame()\n",
    "    for category in dataframe['category'].unique():\n",
    "        category_slides = dataframe[dataframe['category'] == category]\n",
    "        train_samples = category_slides.sample(frac=train_portion)\n",
    "        test_samples = category_slides.drop(train_samples.index)\n",
    "        train_set = pd.concat([train_set, train_samples])\n",
    "        test_set = pd.concat([test_set, test_samples])\n",
    "    return train_set, test_set\n",
    "\n",
    "\n",
    "slides_df = ground_truth_labeler.positive_regions_summary\n",
    "slides_df = assign_categories(slides_df)\n",
    "train_slides, test_slides = split_data(slides_df)\n",
    "print(\"Train Slides\")\n",
    "train_slides"
   ],
   "id": "4295d7777077b1e8",
   "outputs": [
    {
     "name": "stdout",
     "output_type": "stream",
     "text": [
      "Train Slides\n"
     ]
    },
    {
     "data": {
      "text/plain": [
       "   slide_name  n_gt_positive_regions   category\n",
       "1      593445                    107  Very High\n",
       "14     522934                    182  Very High\n",
       "20     593449                    281  Very High\n",
       "0      593435                    104  Very High\n",
       "2      593453                     19     Medium\n",
       "18     593454                     22     Medium\n",
       "4      593447                     25     Medium\n",
       "11     593444                     31     Medium\n",
       "17     593440                     71       High\n",
       "3      593437                     94       High\n",
       "12     593450                     55       High\n",
       "6      593446                     15        Low\n",
       "5      593433                      3        Low\n",
       "13     593451                      1        Low\n",
       "21     593448                     13        Low"
      ],
      "text/html": [
       "<div>\n",
       "<style scoped>\n",
       "    .dataframe tbody tr th:only-of-type {\n",
       "        vertical-align: middle;\n",
       "    }\n",
       "\n",
       "    .dataframe tbody tr th {\n",
       "        vertical-align: top;\n",
       "    }\n",
       "\n",
       "    .dataframe thead th {\n",
       "        text-align: right;\n",
       "    }\n",
       "</style>\n",
       "<table border=\"1\" class=\"dataframe\">\n",
       "  <thead>\n",
       "    <tr style=\"text-align: right;\">\n",
       "      <th></th>\n",
       "      <th>slide_name</th>\n",
       "      <th>n_gt_positive_regions</th>\n",
       "      <th>category</th>\n",
       "    </tr>\n",
       "  </thead>\n",
       "  <tbody>\n",
       "    <tr>\n",
       "      <th>1</th>\n",
       "      <td>593445</td>\n",
       "      <td>107</td>\n",
       "      <td>Very High</td>\n",
       "    </tr>\n",
       "    <tr>\n",
       "      <th>14</th>\n",
       "      <td>522934</td>\n",
       "      <td>182</td>\n",
       "      <td>Very High</td>\n",
       "    </tr>\n",
       "    <tr>\n",
       "      <th>20</th>\n",
       "      <td>593449</td>\n",
       "      <td>281</td>\n",
       "      <td>Very High</td>\n",
       "    </tr>\n",
       "    <tr>\n",
       "      <th>0</th>\n",
       "      <td>593435</td>\n",
       "      <td>104</td>\n",
       "      <td>Very High</td>\n",
       "    </tr>\n",
       "    <tr>\n",
       "      <th>2</th>\n",
       "      <td>593453</td>\n",
       "      <td>19</td>\n",
       "      <td>Medium</td>\n",
       "    </tr>\n",
       "    <tr>\n",
       "      <th>18</th>\n",
       "      <td>593454</td>\n",
       "      <td>22</td>\n",
       "      <td>Medium</td>\n",
       "    </tr>\n",
       "    <tr>\n",
       "      <th>4</th>\n",
       "      <td>593447</td>\n",
       "      <td>25</td>\n",
       "      <td>Medium</td>\n",
       "    </tr>\n",
       "    <tr>\n",
       "      <th>11</th>\n",
       "      <td>593444</td>\n",
       "      <td>31</td>\n",
       "      <td>Medium</td>\n",
       "    </tr>\n",
       "    <tr>\n",
       "      <th>17</th>\n",
       "      <td>593440</td>\n",
       "      <td>71</td>\n",
       "      <td>High</td>\n",
       "    </tr>\n",
       "    <tr>\n",
       "      <th>3</th>\n",
       "      <td>593437</td>\n",
       "      <td>94</td>\n",
       "      <td>High</td>\n",
       "    </tr>\n",
       "    <tr>\n",
       "      <th>12</th>\n",
       "      <td>593450</td>\n",
       "      <td>55</td>\n",
       "      <td>High</td>\n",
       "    </tr>\n",
       "    <tr>\n",
       "      <th>6</th>\n",
       "      <td>593446</td>\n",
       "      <td>15</td>\n",
       "      <td>Low</td>\n",
       "    </tr>\n",
       "    <tr>\n",
       "      <th>5</th>\n",
       "      <td>593433</td>\n",
       "      <td>3</td>\n",
       "      <td>Low</td>\n",
       "    </tr>\n",
       "    <tr>\n",
       "      <th>13</th>\n",
       "      <td>593451</td>\n",
       "      <td>1</td>\n",
       "      <td>Low</td>\n",
       "    </tr>\n",
       "    <tr>\n",
       "      <th>21</th>\n",
       "      <td>593448</td>\n",
       "      <td>13</td>\n",
       "      <td>Low</td>\n",
       "    </tr>\n",
       "  </tbody>\n",
       "</table>\n",
       "</div>"
      ]
     },
     "execution_count": 5,
     "metadata": {},
     "output_type": "execute_result"
    }
   ],
   "execution_count": 5
  },
  {
   "metadata": {
    "ExecuteTime": {
     "end_time": "2025-02-06T21:57:24.971931800Z",
     "start_time": "2025-02-06T20:28:12.570706Z"
    }
   },
   "cell_type": "code",
   "source": [
    "print(\"Test Slides\")\n",
    "test_slides"
   ],
   "id": "a3fae8ba87d946e9",
   "outputs": [
    {
     "name": "stdout",
     "output_type": "stream",
     "text": [
      "Test Slides\n"
     ]
    },
    {
     "data": {
      "text/plain": [
       "   slide_name  n_gt_positive_regions   category\n",
       "7      593436                    170  Very High\n",
       "9      593452                    296  Very High\n",
       "8      593434                     27     Medium\n",
       "10     593439                     31     Medium\n",
       "16     593438                     92       High\n",
       "15     522021                      3        Low\n",
       "19     593441                      4        Low"
      ],
      "text/html": [
       "<div>\n",
       "<style scoped>\n",
       "    .dataframe tbody tr th:only-of-type {\n",
       "        vertical-align: middle;\n",
       "    }\n",
       "\n",
       "    .dataframe tbody tr th {\n",
       "        vertical-align: top;\n",
       "    }\n",
       "\n",
       "    .dataframe thead th {\n",
       "        text-align: right;\n",
       "    }\n",
       "</style>\n",
       "<table border=\"1\" class=\"dataframe\">\n",
       "  <thead>\n",
       "    <tr style=\"text-align: right;\">\n",
       "      <th></th>\n",
       "      <th>slide_name</th>\n",
       "      <th>n_gt_positive_regions</th>\n",
       "      <th>category</th>\n",
       "    </tr>\n",
       "  </thead>\n",
       "  <tbody>\n",
       "    <tr>\n",
       "      <th>7</th>\n",
       "      <td>593436</td>\n",
       "      <td>170</td>\n",
       "      <td>Very High</td>\n",
       "    </tr>\n",
       "    <tr>\n",
       "      <th>9</th>\n",
       "      <td>593452</td>\n",
       "      <td>296</td>\n",
       "      <td>Very High</td>\n",
       "    </tr>\n",
       "    <tr>\n",
       "      <th>8</th>\n",
       "      <td>593434</td>\n",
       "      <td>27</td>\n",
       "      <td>Medium</td>\n",
       "    </tr>\n",
       "    <tr>\n",
       "      <th>10</th>\n",
       "      <td>593439</td>\n",
       "      <td>31</td>\n",
       "      <td>Medium</td>\n",
       "    </tr>\n",
       "    <tr>\n",
       "      <th>16</th>\n",
       "      <td>593438</td>\n",
       "      <td>92</td>\n",
       "      <td>High</td>\n",
       "    </tr>\n",
       "    <tr>\n",
       "      <th>15</th>\n",
       "      <td>522021</td>\n",
       "      <td>3</td>\n",
       "      <td>Low</td>\n",
       "    </tr>\n",
       "    <tr>\n",
       "      <th>19</th>\n",
       "      <td>593441</td>\n",
       "      <td>4</td>\n",
       "      <td>Low</td>\n",
       "    </tr>\n",
       "  </tbody>\n",
       "</table>\n",
       "</div>"
      ]
     },
     "execution_count": 6,
     "metadata": {},
     "output_type": "execute_result"
    }
   ],
   "execution_count": 6
  },
  {
   "metadata": {
    "ExecuteTime": {
     "end_time": "2025-02-06T21:57:24.971931800Z",
     "start_time": "2025-02-06T20:28:12.619551Z"
    }
   },
   "cell_type": "code",
   "source": [
    "\n",
    "device = torch.device('cuda:0' if torch.cuda.is_available() else 'cpu')\n",
    "print(f\"Device: {device}\")\n",
    "\n",
    "batch_size = 4096\n",
    "# dataset = SlideSeperatedImageDataset(candidates_dataset_dir, set(train_slides[\"slide_name\"]))\n",
    "dataset = SlideSeperatedCSVDataset(f\"{candidates_dataset_dir}/{features_csv_file_name}\",\n",
    "                                   set(train_slides[\"slide_name\"]))\n",
    "dataset = reduce_dataset(dataset, discard_ratio=0.0)\n",
    "train_dataset, validation_dataset = split_dataset(dataset, train_ratio=0.9)\n",
    "# train_dataset = undersample_dataset(train_dataset)\n",
    "\n",
    "train_loader = DataLoader(train_dataset,\n",
    "                          batch_size=batch_size,\n",
    "                          shuffle=True)\n",
    "validation_loader = DataLoader(validation_dataset,\n",
    "                               batch_size=batch_size,\n",
    "                               shuffle=True, )\n",
    "\n",
    "# model = Resnet18BinaryClassifier(hidden_layers=1, units_per_layer=2048,\n",
    "#                       dropout=0.3, focal_alpha=0.9, focal_gamma=2.0)\n",
    "model = MLPBinaryClassifier(in_features=PretrainedModelClass.pretrained_output_size, hidden_layers=2,\n",
    "                            units_per_layer=PretrainedModelClass.pretrained_output_size,\n",
    "                            dropout=0.3, focal_alpha=0.85, focal_gamma=4.0)\n",
    "\n",
    "print(f\"Dataset: {len(train_dataset):,} training, {len(validation_dataset):,} validation\")\n"
   ],
   "id": "b2b32d9e85e9a12f",
   "outputs": [
    {
     "name": "stdout",
     "output_type": "stream",
     "text": [
      "Device: cuda:0\n",
      "Dataset: 85,362 training, 9,485 validation\n"
     ]
    }
   ],
   "execution_count": 7
  },
  {
   "metadata": {
    "ExecuteTime": {
     "end_time": "2025-02-06T21:57:24.971931800Z",
     "start_time": "2025-02-06T20:28:19.352371Z"
    }
   },
   "cell_type": "code",
   "source": "print(model)",
   "id": "cb40554ee9021bc3",
   "outputs": [
    {
     "name": "stdout",
     "output_type": "stream",
     "text": [
      "MLPBinaryClassifier(\n",
      "  (model): Sequential(\n",
      "    (0): Linear(in_features=512, out_features=512, bias=True)\n",
      "    (1): ReLU()\n",
      "    (2): Dropout(p=0.3, inplace=False)\n",
      "    (3): Linear(in_features=512, out_features=512, bias=True)\n",
      "    (4): ReLU()\n",
      "    (5): Dropout(p=0.3, inplace=False)\n",
      "    (6): Linear(in_features=512, out_features=512, bias=True)\n",
      "    (7): ReLU()\n",
      "    (8): Dropout(p=0.3, inplace=False)\n",
      "    (9): Linear(in_features=512, out_features=1, bias=True)\n",
      "    (10): Sigmoid()\n",
      "  )\n",
      ")\n"
     ]
    }
   ],
   "execution_count": 8
  },
  {
   "metadata": {
    "ExecuteTime": {
     "end_time": "2025-02-06T21:57:24.971931800Z",
     "start_time": "2025-02-06T20:28:19.385456Z"
    }
   },
   "cell_type": "code",
   "source": "print(f\"Training starts {datetime.now().isoformat()}\")",
   "id": "5e0cca2c19fbc272",
   "outputs": [
    {
     "name": "stdout",
     "output_type": "stream",
     "text": [
      "Training starts 2025-02-06T21:28:19.385456\n"
     ]
    }
   ],
   "execution_count": 9
  },
  {
   "metadata": {
    "ExecuteTime": {
     "end_time": "2025-02-06T21:57:24.971931800Z",
     "start_time": "2025-02-06T20:28:19.484462Z"
    }
   },
   "cell_type": "code",
   "source": [
    "\n",
    "model = model.to(device)\n",
    "model, model_metrics = train_classifier(model, train_loader, validation_loader, device,\n",
    "                                        start_learning_rate=0.000050,\n",
    "                                        min_learning_rate=0.000025,\n",
    "                                        lr_warmup_steps=20,\n",
    "                                        max_epochs=30,\n",
    "                                        checkpoint_every=1,\n",
    "                                        eval_every=1)\n"
   ],
   "id": "8e7b03124287917b",
   "outputs": [
    {
     "name": "stderr",
     "output_type": "stream",
     "text": [
      "Epoch 1 training: 100%|██████████| 21/21 [00:01<00:00, 11.07it/s]\n"
     ]
    },
    {
     "name": "stdout",
     "output_type": "stream",
     "text": [
      "Train: 1/30: lr: 0.000050000000 loss:0.0038492203401845125\n"
     ]
    },
    {
     "name": "stderr",
     "output_type": "stream",
     "text": [
      "Epoch 1 testing: 100%|██████████| 3/3 [00:00<00:00, 15.99it/s]\n"
     ]
    },
    {
     "name": "stdout",
     "output_type": "stream",
     "text": [
      "Test: 1/30: loss:0.002638390831028422, accuracy:0.9885242577218678, precision:0.0, recall:0.0, f1:0.0, mcc:0.0, ece:0.011475742173691591, epoch:1\n"
     ]
    },
    {
     "name": "stderr",
     "output_type": "stream",
     "text": [
      "Epoch 2 training: 100%|██████████| 21/21 [00:01<00:00, 12.81it/s]\n"
     ]
    },
    {
     "name": "stdout",
     "output_type": "stream",
     "text": [
      "Train: 2/30: lr: 0.000050000000 loss:0.0026982529199726527\n"
     ]
    },
    {
     "name": "stderr",
     "output_type": "stream",
     "text": [
      "Epoch 2 testing: 100%|██████████| 3/3 [00:00<00:00, 17.44it/s]\n"
     ]
    },
    {
     "name": "stdout",
     "output_type": "stream",
     "text": [
      "Test: 2/30: loss:0.0024469352792948484, accuracy:0.9878185849486014, precision:0.0, recall:0.0, f1:0.0, mcc:0.0, ece:0.012181414912144342, epoch:2\n"
     ]
    },
    {
     "name": "stderr",
     "output_type": "stream",
     "text": [
      "Epoch 3 training: 100%|██████████| 21/21 [00:01<00:00, 12.74it/s]\n"
     ]
    },
    {
     "name": "stdout",
     "output_type": "stream",
     "text": [
      "Train: 3/30: lr: 0.000050000000 loss:0.0023874404640602215\n"
     ]
    },
    {
     "name": "stderr",
     "output_type": "stream",
     "text": [
      "Epoch 3 testing: 100%|██████████| 3/3 [00:00<00:00, 17.15it/s]\n"
     ]
    },
    {
     "name": "stdout",
     "output_type": "stream",
     "text": [
      "Test: 3/30: loss:0.0021834796449790397, accuracy:0.9874657485619682, precision:0.0, recall:0.0, f1:0.0, mcc:0.0, ece:0.012534251436591148, epoch:3\n"
     ]
    },
    {
     "name": "stderr",
     "output_type": "stream",
     "text": [
      "Epoch 4 training: 100%|██████████| 21/21 [00:01<00:00, 12.37it/s]\n"
     ]
    },
    {
     "name": "stdout",
     "output_type": "stream",
     "text": [
      "Train: 4/30: lr: 0.000050000000 loss:0.0021272316364394058\n"
     ]
    },
    {
     "name": "stderr",
     "output_type": "stream",
     "text": [
      "Epoch 4 testing: 100%|██████████| 3/3 [00:00<00:00, 14.76it/s]\n"
     ]
    },
    {
     "name": "stdout",
     "output_type": "stream",
     "text": [
      "Test: 4/30: loss:0.0018101154128089547, accuracy:0.9881714213352346, precision:0.0, recall:0.0, f1:0.0, mcc:0.0, ece:0.011828578698138395, epoch:4\n"
     ]
    },
    {
     "name": "stderr",
     "output_type": "stream",
     "text": [
      "Epoch 5 training: 100%|██████████| 21/21 [00:01<00:00, 11.88it/s]\n"
     ]
    },
    {
     "name": "stdout",
     "output_type": "stream",
     "text": [
      "Train: 5/30: lr: 0.000050000000 loss:0.0019412467843808589\n"
     ]
    },
    {
     "name": "stderr",
     "output_type": "stream",
     "text": [
      "Epoch 5 testing: 100%|██████████| 3/3 [00:00<00:00, 15.99it/s]\n"
     ]
    },
    {
     "name": "stdout",
     "output_type": "stream",
     "text": [
      "Test: 5/30: loss:0.0017117911872143547, accuracy:0.9851597871753351, precision:0.22222222222222224, recall:0.09622782446311857, f1:0.13292929292929292, mcc:0.13865597557639897, ece:0.014840212961037954, epoch:5\n"
     ]
    },
    {
     "name": "stderr",
     "output_type": "stream",
     "text": [
      "Epoch 6 training: 100%|██████████| 21/21 [00:01<00:00, 11.89it/s]\n"
     ]
    },
    {
     "name": "stdout",
     "output_type": "stream",
     "text": [
      "Train: 6/30: lr: 0.000050000000 loss:0.0018414138273025553\n"
     ]
    },
    {
     "name": "stderr",
     "output_type": "stream",
     "text": [
      "Epoch 6 testing: 100%|██████████| 3/3 [00:00<00:00, 14.76it/s]\n"
     ]
    },
    {
     "name": "stdout",
     "output_type": "stream",
     "text": [
      "Test: 6/30: loss:0.001662223250605166, accuracy:0.9727888626055362, precision:0.15083749754285772, recall:0.3125960327637796, f1:0.20180944303081705, mcc:0.2036134449126554, ece:0.027211137115955353, epoch:6\n"
     ]
    },
    {
     "name": "stderr",
     "output_type": "stream",
     "text": [
      "Epoch 7 training: 100%|██████████| 21/21 [00:01<00:00, 11.78it/s]\n"
     ]
    },
    {
     "name": "stdout",
     "output_type": "stream",
     "text": [
      "Train: 7/30: lr: 0.000050000000 loss:0.0017944519197390903\n"
     ]
    },
    {
     "name": "stderr",
     "output_type": "stream",
     "text": [
      "Epoch 7 testing: 100%|██████████| 3/3 [00:00<00:00, 14.76it/s]\n"
     ]
    },
    {
     "name": "stdout",
     "output_type": "stream",
     "text": [
      "Test: 7/30: loss:0.0016407595636943977, accuracy:0.9685969321990203, precision:0.14668948124325698, recall:0.3572146807440925, f1:0.2070861369407135, mcc:0.21464615161424705, ece:0.0314030684530735, epoch:7\n"
     ]
    },
    {
     "name": "stderr",
     "output_type": "stream",
     "text": [
      "Epoch 8 training: 100%|██████████| 21/21 [00:01<00:00, 11.78it/s]\n"
     ]
    },
    {
     "name": "stdout",
     "output_type": "stream",
     "text": [
      "Train: 8/30: lr: 0.000050000000 loss:0.0017657136611108268\n"
     ]
    },
    {
     "name": "stderr",
     "output_type": "stream",
     "text": [
      "Epoch 8 testing: 100%|██████████| 3/3 [00:00<00:00, 15.99it/s]\n"
     ]
    },
    {
     "name": "stdout",
     "output_type": "stream",
     "text": [
      "Test: 8/30: loss:0.0017991513789941866, accuracy:0.9808597274587522, precision:0.21064814814814814, recall:0.2142780461621041, f1:0.21119746383240476, mcc:0.2021847929545791, ece:0.019140272090832394, epoch:8\n"
     ]
    },
    {
     "name": "stderr",
     "output_type": "stream",
     "text": [
      "Epoch 9 training: 100%|██████████| 21/21 [00:01<00:00, 11.69it/s]\n"
     ]
    },
    {
     "name": "stdout",
     "output_type": "stream",
     "text": [
      "Train: 9/30: lr: 0.000050000000 loss:0.0017510589566968736\n"
     ]
    },
    {
     "name": "stderr",
     "output_type": "stream",
     "text": [
      "Epoch 9 testing: 100%|██████████| 3/3 [00:00<00:00, 14.76it/s]\n"
     ]
    },
    {
     "name": "stdout",
     "output_type": "stream",
     "text": [
      "Test: 9/30: loss:0.0016867902207498748, accuracy:0.9724365926704692, precision:0.20069240978639222, recall:0.3818627450980392, f1:0.2614530850675429, mcc:0.2632432699872392, ece:0.02756340739627679, epoch:9\n"
     ]
    },
    {
     "name": "stderr",
     "output_type": "stream",
     "text": [
      "Epoch 10 training: 100%|██████████| 21/21 [00:01<00:00, 11.19it/s]\n"
     ]
    },
    {
     "name": "stdout",
     "output_type": "stream",
     "text": [
      "Train: 10/30: lr: 0.000050000000 loss:0.0017076460201115836\n"
     ]
    },
    {
     "name": "stderr",
     "output_type": "stream",
     "text": [
      "Epoch 10 testing: 100%|██████████| 3/3 [00:00<00:00, 13.71it/s]\n"
     ]
    },
    {
     "name": "stdout",
     "output_type": "stream",
     "text": [
      "Test: 10/30: loss:0.0015168633544817567, accuracy:0.9710662204538864, precision:0.170452080992094, recall:0.4008939974457216, f1:0.23823805536525336, mcc:0.24809341015872102, ece:0.028933779646952946, epoch:10\n"
     ]
    },
    {
     "name": "stderr",
     "output_type": "stream",
     "text": [
      "Epoch 11 training: 100%|██████████| 21/21 [00:01<00:00, 10.84it/s]\n"
     ]
    },
    {
     "name": "stdout",
     "output_type": "stream",
     "text": [
      "Train: 11/30: lr: 0.000050000000 loss:0.0016799779841676354\n"
     ]
    },
    {
     "name": "stderr",
     "output_type": "stream",
     "text": [
      "Epoch 11 testing: 100%|██████████| 3/3 [00:00<00:00, 14.76it/s]\n"
     ]
    },
    {
     "name": "stdout",
     "output_type": "stream",
     "text": [
      "Test: 11/30: loss:0.0015482396508256595, accuracy:0.9761931735788864, precision:0.2018277225924183, recall:0.32120076720638746, f1:0.24683154915713054, mcc:0.24256178670463968, ece:0.023806826521952946, epoch:11\n"
     ]
    },
    {
     "name": "stderr",
     "output_type": "stream",
     "text": [
      "Epoch 12 training: 100%|██████████| 21/21 [00:01<00:00, 11.33it/s]\n"
     ]
    },
    {
     "name": "stdout",
     "output_type": "stream",
     "text": [
      "Train: 12/30: lr: 0.000050000000 loss:0.0016865394732338331\n"
     ]
    },
    {
     "name": "stderr",
     "output_type": "stream",
     "text": [
      "Epoch 12 testing: 100%|██████████| 3/3 [00:00<00:00, 15.70it/s]\n"
     ]
    },
    {
     "name": "stdout",
     "output_type": "stream",
     "text": [
      "Test: 12/30: loss:0.0015363756101578474, accuracy:0.9748364591389533, precision:0.18898898898898897, recall:0.32700381241100546, f1:0.23885268402338725, mcc:0.23624681960034288, ece:0.025163541237513225, epoch:12\n"
     ]
    },
    {
     "name": "stderr",
     "output_type": "stream",
     "text": [
      "Epoch 13 training: 100%|██████████| 21/21 [00:01<00:00, 11.37it/s]\n"
     ]
    },
    {
     "name": "stdout",
     "output_type": "stream",
     "text": [
      "Train: 13/30: lr: 0.000050000000 loss:0.0016529681161046028\n"
     ]
    },
    {
     "name": "stderr",
     "output_type": "stream",
     "text": [
      "Epoch 13 testing: 100%|██████████| 3/3 [00:00<00:00, 13.50it/s]\n"
     ]
    },
    {
     "name": "stdout",
     "output_type": "stream",
     "text": [
      "Test: 13/30: loss:0.001514084016283353, accuracy:0.9754880672571861, precision:0.18160401002506266, recall:0.3261363636363636, f1:0.23136940139972662, mcc:0.23076255950719113, ece:0.02451193332672119, epoch:13\n"
     ]
    },
    {
     "name": "stderr",
     "output_type": "stream",
     "text": [
      "Epoch 14 training: 100%|██████████| 21/21 [00:02<00:00, 10.22it/s]\n"
     ]
    },
    {
     "name": "stdout",
     "output_type": "stream",
     "text": [
      "Train: 14/30: lr: 0.000050000000 loss:0.0016439644165248389\n"
     ]
    },
    {
     "name": "stderr",
     "output_type": "stream",
     "text": [
      "Epoch 14 testing: 100%|██████████| 3/3 [00:00<00:00, 15.33it/s]\n"
     ]
    },
    {
     "name": "stdout",
     "output_type": "stream",
     "text": [
      "Test: 14/30: loss:0.0016011045081540942, accuracy:0.9679862974107373, precision:0.1867508845880347, recall:0.44784278959810875, f1:0.26295856141361756, mcc:0.2749959028119149, ece:0.032013703137636185, epoch:14\n"
     ]
    },
    {
     "name": "stderr",
     "output_type": "stream",
     "text": [
      "Epoch 15 training: 100%|██████████| 21/21 [00:02<00:00, 10.41it/s]\n"
     ]
    },
    {
     "name": "stdout",
     "output_type": "stream",
     "text": [
      "Train: 15/30: lr: 0.000050000000 loss:0.0016376433472725608\n"
     ]
    },
    {
     "name": "stderr",
     "output_type": "stream",
     "text": [
      "Epoch 15 testing: 100%|██████████| 3/3 [00:00<00:00, 14.76it/s]\n"
     ]
    },
    {
     "name": "stdout",
     "output_type": "stream",
     "text": [
      "Test: 15/30: loss:0.0016272863528380792, accuracy:0.9733847067140372, precision:0.19317738791423, recall:0.3528683056984944, f1:0.248941406315507, mcc:0.2481282748569723, ece:0.026615293075640995, epoch:15\n"
     ]
    },
    {
     "name": "stderr",
     "output_type": "stream",
     "text": [
      "Epoch 16 training: 100%|██████████| 21/21 [00:01<00:00, 10.94it/s]\n"
     ]
    },
    {
     "name": "stdout",
     "output_type": "stream",
     "text": [
      "Train: 16/30: lr: 0.000050000000 loss:0.0016033079674733536\n"
     ]
    },
    {
     "name": "stderr",
     "output_type": "stream",
     "text": [
      "Epoch 16 testing: 100%|██████████| 3/3 [00:00<00:00, 14.53it/s]\n"
     ]
    },
    {
     "name": "stdout",
     "output_type": "stream",
     "text": [
      "Test: 16/30: loss:0.001568643725477159, accuracy:0.9739014364204692, precision:0.2422067901234568, recall:0.44819173259118034, f1:0.30538186483619806, mcc:0.31238594872956416, ece:0.026098563025395077, epoch:16\n"
     ]
    },
    {
     "name": "stderr",
     "output_type": "stream",
     "text": [
      "Epoch 17 training: 100%|██████████| 21/21 [00:02<00:00, 10.43it/s]\n"
     ]
    },
    {
     "name": "stdout",
     "output_type": "stream",
     "text": [
      "Train: 17/30: lr: 0.000050000000 loss:0.0015767181092607124\n"
     ]
    },
    {
     "name": "stderr",
     "output_type": "stream",
     "text": [
      "Epoch 17 testing: 100%|██████████| 3/3 [00:00<00:00, 14.76it/s]\n"
     ]
    },
    {
     "name": "stdout",
     "output_type": "stream",
     "text": [
      "Test: 17/30: loss:0.0015439750471462805, accuracy:0.9755011585822699, precision:0.22208013640238708, recall:0.3925110741971207, f1:0.2825225225225225, mcc:0.2830887075285722, ece:0.024498841414848965, epoch:17\n"
     ]
    },
    {
     "name": "stderr",
     "output_type": "stream",
     "text": [
      "Epoch 18 training: 100%|██████████| 21/21 [00:02<00:00, 10.38it/s]\n"
     ]
    },
    {
     "name": "stdout",
     "output_type": "stream",
     "text": [
      "Train: 18/30: lr: 0.000050000000 loss:0.0015747566441340105\n"
     ]
    },
    {
     "name": "stderr",
     "output_type": "stream",
     "text": [
      "Epoch 18 testing: 100%|██████████| 3/3 [00:00<00:00, 13.40it/s]\n"
     ]
    },
    {
     "name": "stdout",
     "output_type": "stream",
     "text": [
      "Test: 18/30: loss:0.0015704726877932746, accuracy:0.975257584408836, precision:0.23083333333333333, recall:0.4221777523664316, f1:0.29686716791979945, mcc:0.299770982074656, ece:0.02474241517484188, epoch:18\n"
     ]
    },
    {
     "name": "stderr",
     "output_type": "stream",
     "text": [
      "Epoch 19 training: 100%|██████████| 21/21 [00:02<00:00, 10.44it/s]\n"
     ]
    },
    {
     "name": "stdout",
     "output_type": "stream",
     "text": [
      "Train: 19/30: lr: 0.000050000000 loss:0.0015235383983790165\n"
     ]
    },
    {
     "name": "stderr",
     "output_type": "stream",
     "text": [
      "Epoch 19 testing: 100%|██████████| 3/3 [00:00<00:00, 10.10it/s]\n"
     ]
    },
    {
     "name": "stdout",
     "output_type": "stream",
     "text": [
      "Test: 19/30: loss:0.0015108737861737609, accuracy:0.9718117336539701, precision:0.17227833894500563, recall:0.3776154401154401, f1:0.23498445998445996, mcc:0.24159385302762534, ece:0.02818826586008072, epoch:19\n"
     ]
    },
    {
     "name": "stderr",
     "output_type": "stream",
     "text": [
      "Epoch 20 training: 100%|██████████| 21/21 [00:01<00:00, 10.84it/s]\n"
     ]
    },
    {
     "name": "stdout",
     "output_type": "stream",
     "text": [
      "Train: 20/30: lr: 0.000025000000 loss:0.001533850295735257\n"
     ]
    },
    {
     "name": "stderr",
     "output_type": "stream",
     "text": [
      "Epoch 20 testing: 100%|██████████| 3/3 [00:00<00:00,  9.50it/s]\n"
     ]
    },
    {
     "name": "stdout",
     "output_type": "stream",
     "text": [
      "Test: 20/30: loss:0.0014537144840384524, accuracy:0.9708892358090037, precision:0.19733796296296294, recall:0.4543033361368096, f1:0.27494205430674284, mcc:0.28661083492954564, ece:0.029110764463742573, epoch:20\n"
     ]
    },
    {
     "name": "stderr",
     "output_type": "stream",
     "text": [
      "Epoch 21 training: 100%|██████████| 21/21 [00:02<00:00, 10.11it/s]\n"
     ]
    },
    {
     "name": "stdout",
     "output_type": "stream",
     "text": [
      "Train: 21/30: lr: 0.000025000000 loss:0.0014967192186131364\n"
     ]
    },
    {
     "name": "stderr",
     "output_type": "stream",
     "text": [
      "Epoch 21 testing: 100%|██████████| 3/3 [00:00<00:00, 12.80it/s]\n"
     ]
    },
    {
     "name": "stdout",
     "output_type": "stream",
     "text": [
      "Test: 21/30: loss:0.0013662689210226138, accuracy:0.9768180325953854, precision:0.2333333333333333, recall:0.4868686868686869, f1:0.31259754738015605, mcc:0.32490245072918, ece:0.023181967437267303, epoch:21\n"
     ]
    },
    {
     "name": "stderr",
     "output_type": "stream",
     "text": [
      "Epoch 22 training: 100%|██████████| 21/21 [00:02<00:00,  9.85it/s]\n"
     ]
    },
    {
     "name": "stdout",
     "output_type": "stream",
     "text": [
      "Train: 22/30: lr: 0.000025000000 loss:0.0015060407098471409\n"
     ]
    },
    {
     "name": "stderr",
     "output_type": "stream",
     "text": [
      "Epoch 22 testing: 100%|██████████| 3/3 [00:00<00:00, 12.60it/s]\n"
     ]
    },
    {
     "name": "stdout",
     "output_type": "stream",
     "text": [
      "Test: 22/30: loss:0.0015006788695851962, accuracy:0.9741455770454692, precision:0.2212121212121212, recall:0.4444035604149145, f1:0.29288451012588945, mcc:0.3003152815299969, ece:0.025854422400395077, epoch:22\n"
     ]
    },
    {
     "name": "stderr",
     "output_type": "stream",
     "text": [
      "Epoch 23 training: 100%|██████████| 21/21 [00:02<00:00, 10.08it/s]\n"
     ]
    },
    {
     "name": "stdout",
     "output_type": "stream",
     "text": [
      "Train: 23/30: lr: 0.000025000000 loss:0.0014774604434413569\n"
     ]
    },
    {
     "name": "stderr",
     "output_type": "stream",
     "text": [
      "Epoch 23 testing: 100%|██████████| 3/3 [00:00<00:00, 13.00it/s]\n"
     ]
    },
    {
     "name": "stdout",
     "output_type": "stream",
     "text": [
      "Test: 23/30: loss:0.0015324380171174805, accuracy:0.9706314374073536, precision:0.20403042421391046, recall:0.46683893195521103, f1:0.28362573099415206, mcc:0.2955909390371665, ece:0.029368562002976734, epoch:23\n"
     ]
    },
    {
     "name": "stderr",
     "output_type": "stream",
     "text": [
      "Epoch 24 training: 100%|██████████| 21/21 [00:02<00:00,  9.26it/s]\n"
     ]
    },
    {
     "name": "stdout",
     "output_type": "stream",
     "text": [
      "Train: 24/30: lr: 0.000025000000 loss:0.0014934942758243\n"
     ]
    },
    {
     "name": "stderr",
     "output_type": "stream",
     "text": [
      "Epoch 24 testing: 100%|██████████| 3/3 [00:00<00:00, 12.80it/s]\n"
     ]
    },
    {
     "name": "stdout",
     "output_type": "stream",
     "text": [
      "Test: 24/30: loss:0.001568807172589004, accuracy:0.9659102524208881, precision:0.1664932468683145, recall:0.44006802721088434, f1:0.24154357175596194, mcc:0.25640957664195657, ece:0.0340897465745608, epoch:24\n"
     ]
    },
    {
     "name": "stderr",
     "output_type": "stream",
     "text": [
      "Epoch 25 training: 100%|██████████| 21/21 [00:02<00:00,  9.49it/s]\n"
     ]
    },
    {
     "name": "stdout",
     "output_type": "stream",
     "text": [
      "Train: 25/30: lr: 0.000025000000 loss:0.0014836783687184965\n"
     ]
    },
    {
     "name": "stderr",
     "output_type": "stream",
     "text": [
      "Epoch 25 testing: 100%|██████████| 3/3 [00:00<00:00, 13.71it/s]\n"
     ]
    },
    {
     "name": "stdout",
     "output_type": "stream",
     "text": [
      "Test: 25/30: loss:0.0015849857591092587, accuracy:0.9739543681723705, precision:0.2228819913030439, recall:0.3992592592592592, f1:0.28527964027245634, mcc:0.28565900490397317, ece:0.026045631617307663, epoch:25\n"
     ]
    },
    {
     "name": "stderr",
     "output_type": "stream",
     "text": [
      "Epoch 26 training: 100%|██████████| 21/21 [00:02<00:00,  9.55it/s]\n"
     ]
    },
    {
     "name": "stdout",
     "output_type": "stream",
     "text": [
      "Train: 26/30: lr: 0.000025000000 loss:0.001457142771133\n"
     ]
    },
    {
     "name": "stderr",
     "output_type": "stream",
     "text": [
      "Epoch 26 testing: 100%|██████████| 3/3 [00:00<00:00, 13.71it/s]\n"
     ]
    },
    {
     "name": "stdout",
     "output_type": "stream",
     "text": [
      "Test: 26/30: loss:0.0015843340661376715, accuracy:0.9743208623356535, precision:0.2290919952210275, recall:0.4122448979591837, f1:0.2943979667478555, mcc:0.2951763571607618, ece:0.025679138178626697, epoch:26\n"
     ]
    },
    {
     "name": "stderr",
     "output_type": "stream",
     "text": [
      "Epoch 27 training: 100%|██████████| 21/21 [00:02<00:00,  9.55it/s]\n"
     ]
    },
    {
     "name": "stdout",
     "output_type": "stream",
     "text": [
      "Train: 27/30: lr: 0.000025000000 loss:0.0014511151461019402\n"
     ]
    },
    {
     "name": "stderr",
     "output_type": "stream",
     "text": [
      "Epoch 27 testing: 100%|██████████| 3/3 [00:00<00:00,  9.14it/s]\n"
     ]
    },
    {
     "name": "stdout",
     "output_type": "stream",
     "text": [
      "Test: 27/30: loss:0.0015193380337829392, accuracy:0.9748228013623034, precision:0.21253868423679745, recall:0.3696581196581197, f1:0.26897754195497725, mcc:0.2678317792258289, ece:0.02517719939351082, epoch:27\n"
     ]
    },
    {
     "name": "stderr",
     "output_type": "stream",
     "text": [
      "Epoch 28 training: 100%|██████████| 21/21 [00:02<00:00,  9.51it/s]\n"
     ]
    },
    {
     "name": "stdout",
     "output_type": "stream",
     "text": [
      "Train: 28/30: lr: 0.000025000000 loss:0.0014473223903526862\n"
     ]
    },
    {
     "name": "stderr",
     "output_type": "stream",
     "text": [
      "Epoch 28 testing: 100%|██████████| 3/3 [00:00<00:00, 11.29it/s]\n"
     ]
    },
    {
     "name": "stdout",
     "output_type": "stream",
     "text": [
      "Test: 28/30: loss:0.0013992751482874155, accuracy:0.9733852731656033, precision:0.20696770582091684, recall:0.4576303129494619, f1:0.28297500752785304, mcc:0.29478828248089783, ece:0.02661472683151563, epoch:28\n"
     ]
    },
    {
     "name": "stderr",
     "output_type": "stream",
     "text": [
      "Epoch 29 training: 100%|██████████| 21/21 [00:02<00:00,  9.63it/s]\n"
     ]
    },
    {
     "name": "stdout",
     "output_type": "stream",
     "text": [
      "Train: 29/30: lr: 0.000025000000 loss:0.001426333223380858\n"
     ]
    },
    {
     "name": "stderr",
     "output_type": "stream",
     "text": [
      "Epoch 29 testing: 100%|██████████| 3/3 [00:00<00:00, 11.66it/s]\n"
     ]
    },
    {
     "name": "stdout",
     "output_type": "stream",
     "text": [
      "Test: 29/30: loss:0.0014604280392328899, accuracy:0.9721099389340037, precision:0.2015677446907017, recall:0.4679487179487179, f1:0.2789578204891765, mcc:0.29331386636002194, ece:0.02789006009697914, epoch:29\n"
     ]
    },
    {
     "name": "stderr",
     "output_type": "stream",
     "text": [
      "Epoch 30 training: 100%|██████████| 21/21 [00:02<00:00,  9.66it/s]\n"
     ]
    },
    {
     "name": "stdout",
     "output_type": "stream",
     "text": [
      "Train: 30/30: lr: 0.000025000000 loss:0.0014471807073624362\n"
     ]
    },
    {
     "name": "stderr",
     "output_type": "stream",
     "text": [
      "Epoch 30 testing: 100%|██████████| 3/3 [00:00<00:00, 11.89it/s]"
     ]
    },
    {
     "name": "stdout",
     "output_type": "stream",
     "text": [
      "Test: 30/30: loss:0.001481958858979245, accuracy:0.9718527069839199, precision:0.21837280366692133, recall:0.48722867073250703, f1:0.3010863350485992, mcc:0.3136408860642628, ece:0.028147293254733086, epoch:30\n"
     ]
    },
    {
     "name": "stderr",
     "output_type": "stream",
     "text": [
      "\n"
     ]
    }
   ],
   "execution_count": 10
  },
  {
   "metadata": {
    "ExecuteTime": {
     "end_time": "2025-02-06T21:57:24.971931800Z",
     "start_time": "2025-02-06T20:29:25.794200Z"
    }
   },
   "cell_type": "code",
   "source": [
    "\n",
    "\n",
    "print(f\"Training ends {datetime.now().isoformat()}\")\n",
    "for metric in [\"accuracy\", \"precision\", \"recall\", \"f1\", \"mcc\"]:\n",
    "    if len(model_metrics[f\"test_{metric}\"]) > 0:\n",
    "        print(f\"Test {metric}:\", model_metrics[f\"test_{metric}\"][-1])\n",
    "\n",
    "plot_model_metrics(model_metrics)"
   ],
   "id": "a914020f7d5592ec",
   "outputs": [
    {
     "name": "stdout",
     "output_type": "stream",
     "text": [
      "Training ends 2025-02-06T21:29:25.794200\n",
      "Test accuracy: 0.9718527069839199\n",
      "Test precision: 0.21837280366692133\n",
      "Test recall: 0.48722867073250703\n",
      "Test f1: 0.3010863350485992\n",
      "Test mcc: 0.3136408860642628\n"
     ]
    },
    {
     "data": {
      "text/plain": [
       "<Figure size 1000x1000 with 2 Axes>"
      ],
      "image/png": "[encoded data removed]"
     },
     "metadata": {},
     "output_type": "display_data"
    }
   ],
   "execution_count": 11
  },
  {
   "metadata": {
    "ExecuteTime": {
     "end_time": "2025-02-06T21:57:24.971931800Z",
     "start_time": "2025-02-06T20:29:26.008669Z"
    }
   },
   "cell_type": "code",
   "source": [
    "os.makedirs(model_output_dir, exist_ok=True)\n",
    "torch.save(model, f\"{model_output_dir}/model.pickle\")\n",
    "torch.save({\n",
    "    \"train_slides\": set(train_slides[\"slide_name\"]),\n",
    "    \"test_slides\": set(test_slides[\"slide_name\"])\n",
    "},\n",
    "    f\"{model_output_dir}/data-split.pickle\"\n",
    ")"
   ],
   "id": "3e03053795b945c3",
   "outputs": [],
   "execution_count": 12
  }
 ],
 "metadata": {
  "kernelspec": {
   "display_name": "Python 3",
   "language": "python",
   "name": "python3"
  },
  "language_info": {
   "codemirror_mode": {
    "name": "ipython",
    "version": 2
   },
   "file_extension": ".py",
   "mimetype": "text/x-python",
   "name": "python",
   "nbconvert_exporter": "python",
   "pygments_lexer": "ipython2",
   "version": "2.7.6"
  }
 },
 "nbformat": 4,
 "nbformat_minor": 5
}
