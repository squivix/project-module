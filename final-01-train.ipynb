{
 "cells": [
  {
   "metadata": {
    "ExecuteTime": {
     "end_time": "2025-02-04T22:57:57.327926Z",
     "start_time": "2025-02-04T22:57:54.572918Z"
    }
   },
   "cell_type": "code",
   "source": [
    "import json\n",
    "import os\n",
    "from datetime import datetime\n",
    "from pathlib import Path\n",
    "\n",
    "import pandas as pd\n",
    "import torch\n",
    "from torch.utils.data import DataLoader\n",
    "\n",
    "from candidate_extractors.TemplateMatchExtractor import TemplateMatchExtractor\n",
    "from candidate_extractors.TemplateMatchExtractor import generate_dataset_from_slides\n",
    "from datasets.SlideSeperatedCSVDataset import SlideSeperatedCSVDataset\n",
    "from models.mlp import MLPBinaryClassifier\n",
    "from models.resnet import Resnet18BinaryClassifier\n",
    "from train import train_classifier\n",
    "from utils import extract_features_from_dataset\n",
    "from utils import plot_model_metrics\n",
    "from utils import reduce_dataset, split_dataset\n",
    "from datasets.SlideSeperatedImageDataset import SlideSeperatedImageDataset\n"
   ],
   "id": "178fcda7c051eefd",
   "outputs": [],
   "execution_count": 1
  },
  {
   "metadata": {
    "ExecuteTime": {
     "end_time": "2025-02-04T22:57:57.338559Z",
     "start_time": "2025-02-04T22:57:57.327926Z"
    }
   },
   "cell_type": "code",
   "source": [
    "slides_root_dir = \"data/whole-slides/gut\"\n",
    "annotations_root_dir = \"data/annotations/json\"\n",
    "candidates_dataset_dir = \"output/candidates\"\n",
    "model_output_dir = \"output/models\"\n",
    "PretrainedModelClass = Resnet18BinaryClassifier\n",
    "features_csv_file_name = f\"{PretrainedModelClass.get_pretrained_model_name()}_{PretrainedModelClass.pretrained_output_size}_features.csv\"\n",
    "print(f\"{PretrainedModelClass.get_pretrained_model_name()}: {PretrainedModelClass.pretrained_output_size} features\")"
   ],
   "id": "2692a85d7bf5fc3a",
   "outputs": [
    {
     "name": "stdout",
     "output_type": "stream",
     "text": [
      "Resnet18: 512 features\n"
     ]
    }
   ],
   "execution_count": 2
  },
  {
   "metadata": {
    "ExecuteTime": {
     "end_time": "2025-02-04T22:57:57.423378Z",
     "start_time": "2025-02-04T22:57:57.419294Z"
    }
   },
   "cell_type": "code",
   "source": [
    "extractor = TemplateMatchExtractor()\n",
    "generate_dataset_from_slides(slides_root_dir, extractor, candidates_dataset_dir)"
   ],
   "id": "64c6e36f90e183bd",
   "outputs": [
    {
     "name": "stdout",
     "output_type": "stream",
     "text": [
      "Found cached candidates dataset output/candidates\n"
     ]
    }
   ],
   "execution_count": 3
  },
  {
   "metadata": {
    "ExecuteTime": {
     "end_time": "2025-02-04T22:57:57.924902Z",
     "start_time": "2025-02-04T22:57:57.427229Z"
    }
   },
   "cell_type": "code",
   "source": [
    "extract_features_from_dataset(candidates_dataset_dir,\n",
    "                              [Resnet18BinaryClassifier])"
   ],
   "id": "b1b3dae800e32cc3",
   "outputs": [
    {
     "name": "stdout",
     "output_type": "stream",
     "text": [
      "Device: cuda:0\n",
      "Found cached output/candidates/Resnet18_512_features.csv\n"
     ]
    }
   ],
   "execution_count": 4
  },
  {
   "metadata": {
    "ExecuteTime": {
     "end_time": "2025-02-04T22:57:57.930975Z",
     "start_time": "2025-02-04T22:57:57.928905Z"
    }
   },
   "cell_type": "code",
   "source": "",
   "id": "7830c887e806a16a",
   "outputs": [],
   "execution_count": null
  },
  {
   "metadata": {
    "ExecuteTime": {
     "end_time": "2025-02-04T22:57:57.974791Z",
     "start_time": "2025-02-04T22:57:57.934223Z"
    }
   },
   "cell_type": "code",
   "source": [
    "def load_annotations(directory):\n",
    "    slide_data = {\"slide_name\": [], \"n_positive_annotations\": []}\n",
    "    for annotations_file in os.listdir(directory):\n",
    "        with open(f\"{directory}/{annotations_file}\") as f:\n",
    "            annotations = json.load(f)\n",
    "            slide_name = Path(annotations_file).stem\n",
    "            slide_data[\"slide_name\"].append(slide_name)\n",
    "            slide_data[\"n_positive_annotations\"].append(len(annotations))\n",
    "    return pd.DataFrame(slide_data)\n",
    "\n",
    "\n",
    "def assign_categories(dataframe):\n",
    "    q1, median, q3 = dataframe['n_positive_annotations'].quantile([0.25, 0.5, 0.75])\n",
    "\n",
    "    def categorize_quartiles(n_annotations):\n",
    "        if n_annotations <= q1:\n",
    "            return \"Low\"\n",
    "        elif q1 < n_annotations <= median:\n",
    "            return \"Medium\"\n",
    "        elif median < n_annotations <= q3:\n",
    "            return \"High\"\n",
    "        else:\n",
    "            return \"Very High\"\n",
    "\n",
    "    dataframe['category'] = dataframe['n_positive_annotations'].apply(lambda x: categorize_quartiles(x))\n",
    "    return dataframe\n",
    "\n",
    "\n",
    "def split_data(dataframe, train_portion=0.7):\n",
    "    train_set = pd.DataFrame()\n",
    "    test_set = pd.DataFrame()\n",
    "    for category in dataframe['category'].unique():\n",
    "        category_slides = dataframe[dataframe['category'] == category]\n",
    "        train_samples = category_slides.sample(frac=train_portion)\n",
    "        test_samples = category_slides.drop(train_samples.index)\n",
    "        train_set = pd.concat([train_set, train_samples])\n",
    "        test_set = pd.concat([test_set, test_samples])\n",
    "    return train_set, test_set\n",
    "\n",
    "\n",
    "slides_df = load_annotations(annotations_root_dir)\n",
    "slides_df = assign_categories(slides_df)\n",
    "train_slides, test_slides = split_data(slides_df)\n",
    "print(\"Train Slides\")\n",
    "train_slides"
   ],
   "id": "4295d7777077b1e8",
   "outputs": [
    {
     "name": "stdout",
     "output_type": "stream",
     "text": [
      "Train Slides\n"
     ]
    },
    {
     "data": {
      "text/plain": [
       "   slide_name  n_positive_annotations   category\n",
       "15     593448                      13        Low\n",
       "10     593441                       4        Low\n",
       "0      522021                       1        Low\n",
       "2      593433                       3        Low\n",
       "1      522934                     129  Very High\n",
       "12     593445                     100  Very High\n",
       "16     593449                     226  Very High\n",
       "4      593435                      91  Very High\n",
       "20     593453                      18     Medium\n",
       "14     593447                      25     Medium\n",
       "21     593454                      20     Medium\n",
       "3      593434                      27     Medium\n",
       "7      593438                      78       High\n",
       "9      593440                      51       High\n",
       "6      593437                      87       High\n",
       "17     593450                      50       High"
      ],
      "text/html": [
       "<div>\n",
       "<style scoped>\n",
       "    .dataframe tbody tr th:only-of-type {\n",
       "        vertical-align: middle;\n",
       "    }\n",
       "\n",
       "    .dataframe tbody tr th {\n",
       "        vertical-align: top;\n",
       "    }\n",
       "\n",
       "    .dataframe thead th {\n",
       "        text-align: right;\n",
       "    }\n",
       "</style>\n",
       "<table border=\"1\" class=\"dataframe\">\n",
       "  <thead>\n",
       "    <tr style=\"text-align: right;\">\n",
       "      <th></th>\n",
       "      <th>slide_name</th>\n",
       "      <th>n_positive_annotations</th>\n",
       "      <th>category</th>\n",
       "    </tr>\n",
       "  </thead>\n",
       "  <tbody>\n",
       "    <tr>\n",
       "      <th>15</th>\n",
       "      <td>593448</td>\n",
       "      <td>13</td>\n",
       "      <td>Low</td>\n",
       "    </tr>\n",
       "    <tr>\n",
       "      <th>10</th>\n",
       "      <td>593441</td>\n",
       "      <td>4</td>\n",
       "      <td>Low</td>\n",
       "    </tr>\n",
       "    <tr>\n",
       "      <th>0</th>\n",
       "      <td>522021</td>\n",
       "      <td>1</td>\n",
       "      <td>Low</td>\n",
       "    </tr>\n",
       "    <tr>\n",
       "      <th>2</th>\n",
       "      <td>593433</td>\n",
       "      <td>3</td>\n",
       "      <td>Low</td>\n",
       "    </tr>\n",
       "    <tr>\n",
       "      <th>1</th>\n",
       "      <td>522934</td>\n",
       "      <td>129</td>\n",
       "      <td>Very High</td>\n",
       "    </tr>\n",
       "    <tr>\n",
       "      <th>12</th>\n",
       "      <td>593445</td>\n",
       "      <td>100</td>\n",
       "      <td>Very High</td>\n",
       "    </tr>\n",
       "    <tr>\n",
       "      <th>16</th>\n",
       "      <td>593449</td>\n",
       "      <td>226</td>\n",
       "      <td>Very High</td>\n",
       "    </tr>\n",
       "    <tr>\n",
       "      <th>4</th>\n",
       "      <td>593435</td>\n",
       "      <td>91</td>\n",
       "      <td>Very High</td>\n",
       "    </tr>\n",
       "    <tr>\n",
       "      <th>20</th>\n",
       "      <td>593453</td>\n",
       "      <td>18</td>\n",
       "      <td>Medium</td>\n",
       "    </tr>\n",
       "    <tr>\n",
       "      <th>14</th>\n",
       "      <td>593447</td>\n",
       "      <td>25</td>\n",
       "      <td>Medium</td>\n",
       "    </tr>\n",
       "    <tr>\n",
       "      <th>21</th>\n",
       "      <td>593454</td>\n",
       "      <td>20</td>\n",
       "      <td>Medium</td>\n",
       "    </tr>\n",
       "    <tr>\n",
       "      <th>3</th>\n",
       "      <td>593434</td>\n",
       "      <td>27</td>\n",
       "      <td>Medium</td>\n",
       "    </tr>\n",
       "    <tr>\n",
       "      <th>7</th>\n",
       "      <td>593438</td>\n",
       "      <td>78</td>\n",
       "      <td>High</td>\n",
       "    </tr>\n",
       "    <tr>\n",
       "      <th>9</th>\n",
       "      <td>593440</td>\n",
       "      <td>51</td>\n",
       "      <td>High</td>\n",
       "    </tr>\n",
       "    <tr>\n",
       "      <th>6</th>\n",
       "      <td>593437</td>\n",
       "      <td>87</td>\n",
       "      <td>High</td>\n",
       "    </tr>\n",
       "    <tr>\n",
       "      <th>17</th>\n",
       "      <td>593450</td>\n",
       "      <td>50</td>\n",
       "      <td>High</td>\n",
       "    </tr>\n",
       "  </tbody>\n",
       "</table>\n",
       "</div>"
      ]
     },
     "execution_count": 5,
     "metadata": {},
     "output_type": "execute_result"
    }
   ],
   "execution_count": 5
  },
  {
   "metadata": {
    "ExecuteTime": {
     "end_time": "2025-02-04T22:57:58.006816Z",
     "start_time": "2025-02-04T22:57:58.002189Z"
    }
   },
   "cell_type": "code",
   "source": [
    "print(\"Test Slides\")\n",
    "test_slides"
   ],
   "id": "a3fae8ba87d946e9",
   "outputs": [
    {
     "name": "stdout",
     "output_type": "stream",
     "text": [
      "Test Slides\n"
     ]
    },
    {
     "data": {
      "text/plain": [
       "   slide_name  n_positive_annotations   category\n",
       "13     593446                      15        Low\n",
       "18     593451                       1        Low\n",
       "5      593436                     151  Very High\n",
       "19     593452                     167  Very High\n",
       "8      593439                      27     Medium\n",
       "11     593444                      30       High"
      ],
      "text/html": [
       "<div>\n",
       "<style scoped>\n",
       "    .dataframe tbody tr th:only-of-type {\n",
       "        vertical-align: middle;\n",
       "    }\n",
       "\n",
       "    .dataframe tbody tr th {\n",
       "        vertical-align: top;\n",
       "    }\n",
       "\n",
       "    .dataframe thead th {\n",
       "        text-align: right;\n",
       "    }\n",
       "</style>\n",
       "<table border=\"1\" class=\"dataframe\">\n",
       "  <thead>\n",
       "    <tr style=\"text-align: right;\">\n",
       "      <th></th>\n",
       "      <th>slide_name</th>\n",
       "      <th>n_positive_annotations</th>\n",
       "      <th>category</th>\n",
       "    </tr>\n",
       "  </thead>\n",
       "  <tbody>\n",
       "    <tr>\n",
       "      <th>13</th>\n",
       "      <td>593446</td>\n",
       "      <td>15</td>\n",
       "      <td>Low</td>\n",
       "    </tr>\n",
       "    <tr>\n",
       "      <th>18</th>\n",
       "      <td>593451</td>\n",
       "      <td>1</td>\n",
       "      <td>Low</td>\n",
       "    </tr>\n",
       "    <tr>\n",
       "      <th>5</th>\n",
       "      <td>593436</td>\n",
       "      <td>151</td>\n",
       "      <td>Very High</td>\n",
       "    </tr>\n",
       "    <tr>\n",
       "      <th>19</th>\n",
       "      <td>593452</td>\n",
       "      <td>167</td>\n",
       "      <td>Very High</td>\n",
       "    </tr>\n",
       "    <tr>\n",
       "      <th>8</th>\n",
       "      <td>593439</td>\n",
       "      <td>27</td>\n",
       "      <td>Medium</td>\n",
       "    </tr>\n",
       "    <tr>\n",
       "      <th>11</th>\n",
       "      <td>593444</td>\n",
       "      <td>30</td>\n",
       "      <td>High</td>\n",
       "    </tr>\n",
       "  </tbody>\n",
       "</table>\n",
       "</div>"
      ]
     },
     "execution_count": 6,
     "metadata": {},
     "output_type": "execute_result"
    }
   ],
   "execution_count": 6
  },
  {
   "metadata": {
    "ExecuteTime": {
     "end_time": "2025-02-04T22:58:04.554588Z",
     "start_time": "2025-02-04T22:57:58.041480Z"
    }
   },
   "cell_type": "code",
   "source": [
    "\n",
    "device = torch.device('cuda:0' if torch.cuda.is_available() else 'cpu')\n",
    "print(f\"Device: {device}\")\n",
    "\n",
    "batch_size = 4096\n",
    "# dataset = SlideSeperatedImageDataset(candidates_dataset_dir, set(train_slides[\"slide_name\"]))\n",
    "dataset = SlideSeperatedCSVDataset(f\"{candidates_dataset_dir}/{features_csv_file_name}\",\n",
    "                                   set(train_slides[\"slide_name\"]))\n",
    "dataset = reduce_dataset(dataset, discard_ratio=0.0)\n",
    "train_dataset, validation_dataset = split_dataset(dataset, train_ratio=0.9)\n",
    "# train_dataset = undersample_dataset(train_dataset)\n",
    "\n",
    "train_loader = DataLoader(train_dataset,\n",
    "                          batch_size=batch_size,\n",
    "                          shuffle=True)\n",
    "validation_loader = DataLoader(validation_dataset,\n",
    "                               batch_size=batch_size,\n",
    "                               shuffle=True, )\n",
    "\n",
    "# model = Resnet18BinaryClassifier(hidden_layers=1, units_per_layer=2048,\n",
    "#                       dropout=0.3, focal_alpha=0.9, focal_gamma=2.0)\n",
    "model = MLPBinaryClassifier(in_features=PretrainedModelClass.pretrained_output_size, hidden_layers=2,\n",
    "                            units_per_layer=PretrainedModelClass.pretrained_output_size,\n",
    "                            dropout=0.3, focal_alpha=0.85, focal_gamma=4.0)\n",
    "\n",
    "print(f\"Dataset: {len(train_dataset):,} training, {len(validation_dataset):,} validation\")\n"
   ],
   "id": "b2b32d9e85e9a12f",
   "outputs": [
    {
     "name": "stdout",
     "output_type": "stream",
     "text": [
      "Device: cuda:0\n",
      "Dataset: 111,977 training, 12,442 validation\n"
     ]
    }
   ],
   "execution_count": 7
  },
  {
   "metadata": {
    "ExecuteTime": {
     "end_time": "2025-02-04T22:58:04.581670Z",
     "start_time": "2025-02-04T22:58:04.577823Z"
    }
   },
   "cell_type": "code",
   "source": "print(model)",
   "id": "cb40554ee9021bc3",
   "outputs": [
    {
     "name": "stdout",
     "output_type": "stream",
     "text": [
      "MLPBinaryClassifier(\n",
      "  (model): Sequential(\n",
      "    (0): Linear(in_features=512, out_features=512, bias=True)\n",
      "    (1): ReLU()\n",
      "    (2): Dropout(p=0.3, inplace=False)\n",
      "    (3): Linear(in_features=512, out_features=512, bias=True)\n",
      "    (4): ReLU()\n",
      "    (5): Dropout(p=0.3, inplace=False)\n",
      "    (6): Linear(in_features=512, out_features=512, bias=True)\n",
      "    (7): ReLU()\n",
      "    (8): Dropout(p=0.3, inplace=False)\n",
      "    (9): Linear(in_features=512, out_features=1, bias=True)\n",
      "    (10): Sigmoid()\n",
      "  )\n",
      ")\n"
     ]
    }
   ],
   "execution_count": 8
  },
  {
   "metadata": {
    "ExecuteTime": {
     "end_time": "2025-02-04T22:58:04.685956Z",
     "start_time": "2025-02-04T22:58:04.674577Z"
    }
   },
   "cell_type": "code",
   "source": "print(f\"Training starts {datetime.now().isoformat()}\")",
   "id": "5e0cca2c19fbc272",
   "outputs": [
    {
     "name": "stdout",
     "output_type": "stream",
     "text": [
      "Training starts 2025-02-04T23:58:04.674577\n"
     ]
    }
   ],
   "execution_count": 9
  },
  {
   "metadata": {
    "ExecuteTime": {
     "end_time": "2025-02-04T22:59:20.879651Z",
     "start_time": "2025-02-04T22:58:04.842211Z"
    }
   },
   "cell_type": "code",
   "source": [
    "\n",
    "model = model.to(device)\n",
    "model, model_metrics = train_classifier(model, train_loader, validation_loader, device,\n",
    "                                        start_learning_rate=0.000050,\n",
    "                                        min_learning_rate=0.000025,\n",
    "                                        lr_warmup_steps=20,\n",
    "                                        max_epochs=30,\n",
    "                                        checkpoint_every=1,\n",
    "                                        eval_every=1)\n"
   ],
   "id": "8e7b03124287917b",
   "outputs": [
    {
     "name": "stderr",
     "output_type": "stream",
     "text": [
      "Epoch 1 training: 100%|██████████| 28/28 [00:01<00:00, 16.83it/s]\n"
     ]
    },
    {
     "name": "stdout",
     "output_type": "stream",
     "text": [
      "Train: 1/30: lr: 0.000050000000 loss:0.002735402127395251\n"
     ]
    },
    {
     "name": "stderr",
     "output_type": "stream",
     "text": [
      "Epoch 1 testing: 100%|██████████| 4/4 [00:00<00:00, 15.67it/s]\n"
     ]
    },
    {
     "name": "stdout",
     "output_type": "stream",
     "text": [
      "Test: 1/30: loss:0.001641034905333072, accuracy:0.99298095703125, precision:0.0, recall:0.0, f1:0.0, mcc:0.0, ece:0.00701904296875, epoch:1\n"
     ]
    },
    {
     "name": "stderr",
     "output_type": "stream",
     "text": [
      "Epoch 2 training: 100%|██████████| 28/28 [00:01<00:00, 19.72it/s]\n"
     ]
    },
    {
     "name": "stdout",
     "output_type": "stream",
     "text": [
      "Train: 2/30: lr: 0.000050000000 loss:0.0018909183314203151\n"
     ]
    },
    {
     "name": "stderr",
     "output_type": "stream",
     "text": [
      "Epoch 2 testing: 100%|██████████| 4/4 [00:00<00:00, 23.92it/s]\n"
     ]
    },
    {
     "name": "stdout",
     "output_type": "stream",
     "text": [
      "Test: 2/30: loss:0.0014327362732728943, accuracy:0.99298095703125, precision:0.0, recall:0.0, f1:0.0, mcc:0.0, ece:0.00701904296875, epoch:2\n"
     ]
    },
    {
     "name": "stderr",
     "output_type": "stream",
     "text": [
      "Epoch 3 training: 100%|██████████| 28/28 [00:01<00:00, 18.48it/s]\n"
     ]
    },
    {
     "name": "stdout",
     "output_type": "stream",
     "text": [
      "Train: 3/30: lr: 0.000050000000 loss:0.0016403938560480519\n"
     ]
    },
    {
     "name": "stderr",
     "output_type": "stream",
     "text": [
      "Epoch 3 testing: 100%|██████████| 4/4 [00:00<00:00, 21.50it/s]\n"
     ]
    },
    {
     "name": "stdout",
     "output_type": "stream",
     "text": [
      "Test: 3/30: loss:0.00143946404568851, accuracy:0.9898562740969967, precision:0.0, recall:0.0, f1:0.0, mcc:0.0, ece:0.010143725899979472, epoch:3\n"
     ]
    },
    {
     "name": "stderr",
     "output_type": "stream",
     "text": [
      "Epoch 4 training: 100%|██████████| 28/28 [00:01<00:00, 18.75it/s]\n"
     ]
    },
    {
     "name": "stdout",
     "output_type": "stream",
     "text": [
      "Train: 4/30: lr: 0.000050000000 loss:0.0014200537739920297\n"
     ]
    },
    {
     "name": "stderr",
     "output_type": "stream",
     "text": [
      "Epoch 4 testing: 100%|██████████| 4/4 [00:00<00:00, 15.45it/s]\n"
     ]
    },
    {
     "name": "stdout",
     "output_type": "stream",
     "text": [
      "Test: 4/30: loss:0.0012280839728191495, accuracy:0.9790411614752434, precision:0.13208037178786222, recall:0.21957431760837987, f1:0.1641565450527715, mcc:0.16009175301989495, ece:0.020958838518708944, epoch:4\n"
     ]
    },
    {
     "name": "stderr",
     "output_type": "stream",
     "text": [
      "Epoch 5 training: 100%|██████████| 28/28 [00:01<00:00, 15.71it/s]\n"
     ]
    },
    {
     "name": "stdout",
     "output_type": "stream",
     "text": [
      "Train: 5/30: lr: 0.000050000000 loss:0.001319202031092053\n"
     ]
    },
    {
     "name": "stderr",
     "output_type": "stream",
     "text": [
      "Epoch 5 testing: 100%|██████████| 4/4 [00:00<00:00, 18.29it/s]\n"
     ]
    },
    {
     "name": "stdout",
     "output_type": "stream",
     "text": [
      "Test: 5/30: loss:0.0010982887324644253, accuracy:0.9739752435064934, precision:0.20833333333333331, recall:0.6111197339246119, f1:0.30867108283215666, mcc:0.3454390591951983, ece:0.026024756021797657, epoch:5\n"
     ]
    },
    {
     "name": "stderr",
     "output_type": "stream",
     "text": [
      "Epoch 6 training: 100%|██████████| 28/28 [00:01<00:00, 14.94it/s]\n"
     ]
    },
    {
     "name": "stdout",
     "output_type": "stream",
     "text": [
      "Train: 6/30: lr: 0.000050000000 loss:0.0012986362188322736\n"
     ]
    },
    {
     "name": "stderr",
     "output_type": "stream",
     "text": [
      "Epoch 6 testing: 100%|██████████| 4/4 [00:00<00:00, 21.33it/s]\n"
     ]
    },
    {
     "name": "stdout",
     "output_type": "stream",
     "text": [
      "Test: 6/30: loss:0.001102386275306344, accuracy:0.9697146725344967, precision:0.2313695879408043, recall:0.6944444444444444, f1:0.33745591570306366, mcc:0.38315388540307893, ece:0.030285327462479472, epoch:6\n"
     ]
    },
    {
     "name": "stderr",
     "output_type": "stream",
     "text": [
      "Epoch 7 training: 100%|██████████| 28/28 [00:01<00:00, 18.49it/s]\n"
     ]
    },
    {
     "name": "stdout",
     "output_type": "stream",
     "text": [
      "Train: 7/30: lr: 0.000050000000 loss:0.0012496020582537831\n"
     ]
    },
    {
     "name": "stderr",
     "output_type": "stream",
     "text": [
      "Epoch 7 testing: 100%|██████████| 4/4 [00:00<00:00, 15.04it/s]\n"
     ]
    },
    {
     "name": "stdout",
     "output_type": "stream",
     "text": [
      "Test: 7/30: loss:0.000996049217064865, accuracy:0.9666755973518669, precision:0.1147165387894288, recall:0.42938443670150983, f1:0.18083668070931713, mcc:0.2129437249722829, ece:0.033324402756989, epoch:7\n"
     ]
    },
    {
     "name": "stderr",
     "output_type": "stream",
     "text": [
      "Epoch 8 training: 100%|██████████| 28/28 [00:01<00:00, 15.34it/s]\n"
     ]
    },
    {
     "name": "stdout",
     "output_type": "stream",
     "text": [
      "Train: 8/30: lr: 0.000050000000 loss:0.0012287849177872495\n"
     ]
    },
    {
     "name": "stderr",
     "output_type": "stream",
     "text": [
      "Epoch 8 testing: 100%|██████████| 4/4 [00:00<00:00, 17.04it/s]\n"
     ]
    },
    {
     "name": "stdout",
     "output_type": "stream",
     "text": [
      "Test: 8/30: loss:0.0009775288635864854, accuracy:0.9702766715706169, precision:0.12930920399655926, recall:0.4025083612040134, f1:0.19471945132574225, mcc:0.21920593918424736, ece:0.029723328072577715, epoch:8\n"
     ]
    },
    {
     "name": "stderr",
     "output_type": "stream",
     "text": [
      "Epoch 9 training: 100%|██████████| 28/28 [00:02<00:00, 11.76it/s]\n"
     ]
    },
    {
     "name": "stdout",
     "output_type": "stream",
     "text": [
      "Train: 9/30: lr: 0.000050000000 loss:0.0012079225000759055\n"
     ]
    },
    {
     "name": "stderr",
     "output_type": "stream",
     "text": [
      "Epoch 9 testing: 100%|██████████| 4/4 [00:00<00:00, 16.79it/s]\n"
     ]
    },
    {
     "name": "stdout",
     "output_type": "stream",
     "text": [
      "Test: 9/30: loss:0.0010473898146301508, accuracy:0.9708378779423701, precision:0.180351022448959, recall:0.6766369047619047, f1:0.2841108756896502, mcc:0.3389211824390591, ece:0.029162121936678886, epoch:9\n"
     ]
    },
    {
     "name": "stderr",
     "output_type": "stream",
     "text": [
      "Epoch 10 training: 100%|██████████| 28/28 [00:02<00:00, 12.63it/s]\n"
     ]
    },
    {
     "name": "stdout",
     "output_type": "stream",
     "text": [
      "Train: 10/30: lr: 0.000050000000 loss:0.0011827225805193717\n"
     ]
    },
    {
     "name": "stderr",
     "output_type": "stream",
     "text": [
      "Epoch 10 testing: 100%|██████████| 4/4 [00:00<00:00, 11.98it/s]\n"
     ]
    },
    {
     "name": "stdout",
     "output_type": "stream",
     "text": [
      "Test: 10/30: loss:0.001048139572958462, accuracy:0.9541031478287337, precision:0.10338394204793447, recall:0.4673669094851361, f1:0.16842438736828064, mcc:0.20947890351160392, ece:0.045896852388978004, epoch:10\n"
     ]
    },
    {
     "name": "stderr",
     "output_type": "stream",
     "text": [
      "Epoch 11 training: 100%|██████████| 28/28 [00:02<00:00, 11.55it/s]\n"
     ]
    },
    {
     "name": "stdout",
     "output_type": "stream",
     "text": [
      "Train: 11/30: lr: 0.000050000000 loss:0.0011808320060871275\n"
     ]
    },
    {
     "name": "stderr",
     "output_type": "stream",
     "text": [
      "Epoch 11 testing: 100%|██████████| 4/4 [00:00<00:00, 15.37it/s]\n"
     ]
    },
    {
     "name": "stdout",
     "output_type": "stream",
     "text": [
      "Test: 11/30: loss:0.0010322316957172006, accuracy:0.9718144404423701, precision:0.22241236496269073, recall:0.6737307408039115, f1:0.332043624193746, mcc:0.3752618275255189, ece:0.028185559902340174, epoch:11\n"
     ]
    },
    {
     "name": "stderr",
     "output_type": "stream",
     "text": [
      "Epoch 12 training: 100%|██████████| 28/28 [00:02<00:00, 11.03it/s]\n"
     ]
    },
    {
     "name": "stdout",
     "output_type": "stream",
     "text": [
      "Train: 12/30: lr: 0.000050000000 loss:0.0011456013016868383\n"
     ]
    },
    {
     "name": "stderr",
     "output_type": "stream",
     "text": [
      "Epoch 12 testing: 100%|██████████| 4/4 [00:00<00:00, 13.92it/s]\n"
     ]
    },
    {
     "name": "stdout",
     "output_type": "stream",
     "text": [
      "Test: 12/30: loss:0.0009904627513606101, accuracy:0.9639900504768669, precision:0.10913805179840981, recall:0.4563847610722611, f1:0.17591968790148216, mcc:0.21384112793186685, ece:0.036009949631989, epoch:12\n"
     ]
    },
    {
     "name": "stderr",
     "output_type": "stream",
     "text": [
      "Epoch 13 training: 100%|██████████| 28/28 [00:02<00:00, 10.42it/s]\n"
     ]
    },
    {
     "name": "stdout",
     "output_type": "stream",
     "text": [
      "Train: 13/30: lr: 0.000050000000 loss:0.0011360710154154471\n"
     ]
    },
    {
     "name": "stderr",
     "output_type": "stream",
     "text": [
      "Epoch 13 testing: 100%|██████████| 4/4 [00:00<00:00, 11.34it/s]\n"
     ]
    },
    {
     "name": "stdout",
     "output_type": "stream",
     "text": [
      "Test: 13/30: loss:0.0011361215147189796, accuracy:0.9711065911627434, precision:0.22472797303803566, recall:0.5958308126638435, f1:0.3172784281907717, mcc:0.34853350186882526, ece:0.02889340929687023, epoch:13\n"
     ]
    },
    {
     "name": "stderr",
     "output_type": "stream",
     "text": [
      "Epoch 14 training: 100%|██████████| 28/28 [00:02<00:00, 13.46it/s]\n"
     ]
    },
    {
     "name": "stdout",
     "output_type": "stream",
     "text": [
      "Train: 14/30: lr: 0.000050000000 loss:0.001104607550327533\n"
     ]
    },
    {
     "name": "stderr",
     "output_type": "stream",
     "text": [
      "Epoch 14 testing: 100%|██████████| 4/4 [00:00<00:00, 21.33it/s]\n"
     ]
    },
    {
     "name": "stdout",
     "output_type": "stream",
     "text": [
      "Test: 14/30: loss:0.0010150254383916035, accuracy:0.9676030146611201, precision:0.17270399935494274, recall:0.7085649461145774, f1:0.2769699891943509, mcc:0.33882240279161224, ece:0.032396985217928886, epoch:14\n"
     ]
    },
    {
     "name": "stderr",
     "output_type": "stream",
     "text": [
      "Epoch 15 training: 100%|██████████| 28/28 [00:01<00:00, 14.37it/s]\n"
     ]
    },
    {
     "name": "stdout",
     "output_type": "stream",
     "text": [
      "Train: 15/30: lr: 0.000050000000 loss:0.0010997194247985525\n"
     ]
    },
    {
     "name": "stderr",
     "output_type": "stream",
     "text": [
      "Epoch 15 testing: 100%|██████████| 4/4 [00:00<00:00, 16.24it/s]\n"
     ]
    },
    {
     "name": "stdout",
     "output_type": "stream",
     "text": [
      "Test: 15/30: loss:0.0009596779927960597, accuracy:0.9655397093141234, precision:0.10126589050147734, recall:0.501072501072501, f1:0.16824998800982355, mcc:0.21533688337516488, ece:0.034460290684364736, epoch:15\n"
     ]
    },
    {
     "name": "stderr",
     "output_type": "stream",
     "text": [
      "Epoch 16 training: 100%|██████████| 28/28 [00:02<00:00, 12.65it/s]\n"
     ]
    },
    {
     "name": "stdout",
     "output_type": "stream",
     "text": [
      "Train: 16/30: lr: 0.000050000000 loss:0.0010846745405745292\n"
     ]
    },
    {
     "name": "stderr",
     "output_type": "stream",
     "text": [
      "Epoch 16 testing: 100%|██████████| 4/4 [00:00<00:00, 19.69it/s]\n"
     ]
    },
    {
     "name": "stdout",
     "output_type": "stream",
     "text": [
      "Test: 16/30: loss:0.0012179831974208355, accuracy:0.964979295606737, precision:0.13771336659663866, recall:0.4584881756756757, f1:0.21078662006542098, mcc:0.23814649033127977, ece:0.03502070438116789, epoch:16\n"
     ]
    },
    {
     "name": "stderr",
     "output_type": "stream",
     "text": [
      "Epoch 17 training: 100%|██████████| 28/28 [00:01<00:00, 16.86it/s]\n"
     ]
    },
    {
     "name": "stdout",
     "output_type": "stream",
     "text": [
      "Train: 17/30: lr: 0.000050000000 loss:0.0010604683006282098\n"
     ]
    },
    {
     "name": "stderr",
     "output_type": "stream",
     "text": [
      "Epoch 17 testing: 100%|██████████| 4/4 [00:00<00:00, 18.88it/s]\n"
     ]
    },
    {
     "name": "stdout",
     "output_type": "stream",
     "text": [
      "Test: 17/30: loss:0.0010031050478573889, accuracy:0.9675300895393669, precision:0.16519410265546214, recall:0.7097812097812097, f1:0.26604019998140643, mcc:0.3302186468491323, ece:0.03246990963816643, epoch:17\n"
     ]
    },
    {
     "name": "stderr",
     "output_type": "stream",
     "text": [
      "Epoch 18 training: 100%|██████████| 28/28 [00:01<00:00, 14.33it/s]\n"
     ]
    },
    {
     "name": "stdout",
     "output_type": "stream",
     "text": [
      "Train: 18/30: lr: 0.000050000000 loss:0.0010680915480146983\n"
     ]
    },
    {
     "name": "stderr",
     "output_type": "stream",
     "text": [
      "Epoch 18 testing: 100%|██████████| 4/4 [00:00<00:00, 13.70it/s]\n"
     ]
    },
    {
     "name": "stdout",
     "output_type": "stream",
     "text": [
      "Test: 18/30: loss:0.0009477081621298566, accuracy:0.9776492428469967, precision:0.14685709810239886, recall:0.41223290598290596, f1:0.21652797673141005, mcc:0.23848457121611505, ece:0.022350757149979472, epoch:18\n"
     ]
    },
    {
     "name": "stderr",
     "output_type": "stream",
     "text": [
      "Epoch 19 training: 100%|██████████| 28/28 [00:02<00:00, 10.57it/s]\n"
     ]
    },
    {
     "name": "stdout",
     "output_type": "stream",
     "text": [
      "Train: 19/30: lr: 0.000050000000 loss:0.0010421376874936478\n"
     ]
    },
    {
     "name": "stderr",
     "output_type": "stream",
     "text": [
      "Epoch 19 testing: 100%|██████████| 4/4 [00:00<00:00, 10.53it/s]\n"
     ]
    },
    {
     "name": "stdout",
     "output_type": "stream",
     "text": [
      "Test: 19/30: loss:0.0009615892922738567, accuracy:0.9719000481939934, precision:0.13222451519916142, recall:0.4258928571428572, f1:0.2011245842988006, mcc:0.22875891863356085, ece:0.028099951799958944, epoch:19\n"
     ]
    },
    {
     "name": "stderr",
     "output_type": "stream",
     "text": [
      "Epoch 20 training: 100%|██████████| 28/28 [00:02<00:00, 10.13it/s]\n"
     ]
    },
    {
     "name": "stdout",
     "output_type": "stream",
     "text": [
      "Train: 20/30: lr: 0.000025000000 loss:0.0010459919784417643\n"
     ]
    },
    {
     "name": "stderr",
     "output_type": "stream",
     "text": [
      "Epoch 20 testing: 100%|██████████| 4/4 [00:00<00:00, 13.93it/s]\n"
     ]
    },
    {
     "name": "stdout",
     "output_type": "stream",
     "text": [
      "Test: 20/30: loss:0.0009902508318191394, accuracy:0.9708870231331169, precision:0.17956912878787878, recall:0.6933687200956937, f1:0.28103323054750784, mcc:0.3392793589680974, ece:0.029112976044416428, epoch:20\n"
     ]
    },
    {
     "name": "stderr",
     "output_type": "stream",
     "text": [
      "Epoch 21 training: 100%|██████████| 28/28 [00:02<00:00, 12.38it/s]\n"
     ]
    },
    {
     "name": "stdout",
     "output_type": "stream",
     "text": [
      "Train: 21/30: lr: 0.000025000000 loss:0.0010137998802487605\n"
     ]
    },
    {
     "name": "stderr",
     "output_type": "stream",
     "text": [
      "Epoch 21 testing: 100%|██████████| 4/4 [00:00<00:00, 14.29it/s]\n"
     ]
    },
    {
     "name": "stdout",
     "output_type": "stream",
     "text": [
      "Test: 21/30: loss:0.0012227226106915623, accuracy:0.9709115957284903, precision:0.23384298862712624, recall:0.601984126984127, f1:0.3341840360394658, mcc:0.3617759901711327, ece:0.029088404029607773, epoch:21\n"
     ]
    },
    {
     "name": "stderr",
     "output_type": "stream",
     "text": [
      "Epoch 22 training: 100%|██████████| 28/28 [00:02<00:00, 12.55it/s]\n"
     ]
    },
    {
     "name": "stdout",
     "output_type": "stream",
     "text": [
      "Train: 22/30: lr: 0.000025000000 loss:0.0010009429430023634\n"
     ]
    },
    {
     "name": "stderr",
     "output_type": "stream",
     "text": [
      "Epoch 22 testing: 100%|██████████| 4/4 [00:00<00:00, 11.02it/s]\n"
     ]
    },
    {
     "name": "stdout",
     "output_type": "stream",
     "text": [
      "Test: 22/30: loss:0.0010117861384060234, accuracy:0.9740481686282467, precision:0.2562454506231022, recall:0.5919123321500231, f1:0.32950482920311774, mcc:0.3626191256433808, ece:0.025951831368729472, epoch:22\n"
     ]
    },
    {
     "name": "stderr",
     "output_type": "stream",
     "text": [
      "Epoch 23 training: 100%|██████████| 28/28 [00:02<00:00,  9.97it/s]\n"
     ]
    },
    {
     "name": "stdout",
     "output_type": "stream",
     "text": [
      "Train: 23/30: lr: 0.000025000000 loss:0.0010069489612111024\n"
     ]
    },
    {
     "name": "stderr",
     "output_type": "stream",
     "text": [
      "Epoch 23 testing: 100%|██████████| 4/4 [00:00<00:00,  7.14it/s]\n"
     ]
    },
    {
     "name": "stdout",
     "output_type": "stream",
     "text": [
      "Test: 23/30: loss:0.0011684346973197535, accuracy:0.9679454456676136, precision:0.19852347860957337, recall:0.5993589743589743, f1:0.2974690688632414, mcc:0.33217763355012264, ece:0.03205455373972654, epoch:23\n"
     ]
    },
    {
     "name": "stderr",
     "output_type": "stream",
     "text": [
      "Epoch 24 training: 100%|██████████| 28/28 [00:02<00:00, 10.91it/s]\n"
     ]
    },
    {
     "name": "stdout",
     "output_type": "stream",
     "text": [
      "Train: 24/30: lr: 0.000025000000 loss:0.0009852697964691157\n"
     ]
    },
    {
     "name": "stderr",
     "output_type": "stream",
     "text": [
      "Epoch 24 testing: 100%|██████████| 4/4 [00:00<00:00, 13.12it/s]\n"
     ]
    },
    {
     "name": "stdout",
     "output_type": "stream",
     "text": [
      "Test: 24/30: loss:0.0010343853064114228, accuracy:0.9715338372564934, precision:0.13326259689922482, recall:0.4468248736541419, f1:0.20519687549816673, mcc:0.23313998135520392, ece:0.028466162737458944, epoch:24\n"
     ]
    },
    {
     "name": "stderr",
     "output_type": "stream",
     "text": [
      "Epoch 25 training: 100%|██████████| 28/28 [00:02<00:00, 10.38it/s]\n"
     ]
    },
    {
     "name": "stdout",
     "output_type": "stream",
     "text": [
      "Train: 25/30: lr: 0.000025000000 loss:0.0009862955485004932\n"
     ]
    },
    {
     "name": "stderr",
     "output_type": "stream",
     "text": [
      "Epoch 25 testing: 100%|██████████| 4/4 [00:00<00:00, 14.59it/s]\n"
     ]
    },
    {
     "name": "stdout",
     "output_type": "stream",
     "text": [
      "Test: 25/30: loss:0.0011101903655799106, accuracy:0.9744754147219967, precision:0.29072779541566995, recall:0.6953703703703703, f1:0.3918600354714751, mcc:0.4279857320538054, ece:0.02552458504214883, epoch:25\n"
     ]
    },
    {
     "name": "stderr",
     "output_type": "stream",
     "text": [
      "Epoch 26 training: 100%|██████████| 28/28 [00:02<00:00, 11.16it/s]\n"
     ]
    },
    {
     "name": "stdout",
     "output_type": "stream",
     "text": [
      "Train: 26/30: lr: 0.000025000000 loss:0.0009778140000500052\n"
     ]
    },
    {
     "name": "stderr",
     "output_type": "stream",
     "text": [
      "Epoch 26 testing: 100%|██████████| 4/4 [00:00<00:00, 14.18it/s]\n"
     ]
    },
    {
     "name": "stdout",
     "output_type": "stream",
     "text": [
      "Test: 26/30: loss:0.00221591311856173, accuracy:0.961683397169237, precision:0.15710138129856277, recall:0.5704545454545454, f1:0.24418943747071442, mcc:0.2834393485502644, ece:0.03831660374999046, epoch:26\n"
     ]
    },
    {
     "name": "stderr",
     "output_type": "stream",
     "text": [
      "Epoch 27 training: 100%|██████████| 28/28 [00:03<00:00,  9.26it/s]\n"
     ]
    },
    {
     "name": "stdout",
     "output_type": "stream",
     "text": [
      "Train: 27/30: lr: 0.000025000000 loss:0.0009749616770672479\n"
     ]
    },
    {
     "name": "stderr",
     "output_type": "stream",
     "text": [
      "Epoch 27 testing: 100%|██████████| 4/4 [00:00<00:00, 10.63it/s]\n"
     ]
    },
    {
     "name": "stdout",
     "output_type": "stream",
     "text": [
      "Test: 27/30: loss:0.0011438362998887897, accuracy:0.9662364612926136, precision:0.16615454693448206, recall:0.5740079365079365, f1:0.25764527948193594, mcc:0.2965413903255768, ece:0.03376353904604912, epoch:27\n"
     ]
    },
    {
     "name": "stderr",
     "output_type": "stream",
     "text": [
      "Epoch 28 training: 100%|██████████| 28/28 [00:03<00:00,  9.33it/s]\n"
     ]
    },
    {
     "name": "stdout",
     "output_type": "stream",
     "text": [
      "Train: 28/30: lr: 0.000025000000 loss:0.0009577268688839727\n"
     ]
    },
    {
     "name": "stderr",
     "output_type": "stream",
     "text": [
      "Epoch 28 testing: 100%|██████████| 4/4 [00:00<00:00, 10.16it/s]\n"
     ]
    },
    {
     "name": "stdout",
     "output_type": "stream",
     "text": [
      "Test: 28/30: loss:0.0010022634087363258, accuracy:0.9730716061282467, precision:0.12734848484848485, recall:0.46426762940735183, f1:0.19922920798929838, mcc:0.23275382505547362, ece:0.02692839433439076, epoch:28\n"
     ]
    },
    {
     "name": "stderr",
     "output_type": "stream",
     "text": [
      "Epoch 29 training: 100%|██████████| 28/28 [00:02<00:00, 10.76it/s]\n"
     ]
    },
    {
     "name": "stdout",
     "output_type": "stream",
     "text": [
      "Train: 29/30: lr: 0.000025000000 loss:0.0009637923711644751\n"
     ]
    },
    {
     "name": "stderr",
     "output_type": "stream",
     "text": [
      "Epoch 29 testing: 100%|██████████| 4/4 [00:00<00:00, 13.47it/s]\n"
     ]
    },
    {
     "name": "stdout",
     "output_type": "stream",
     "text": [
      "Test: 29/30: loss:0.0009605345403542742, accuracy:0.9650767933238636, precision:0.13014756216686024, recall:0.46230811403508765, f1:0.20184590690208667, mcc:0.2360062415516005, ece:0.03492320701479912, epoch:29\n"
     ]
    },
    {
     "name": "stderr",
     "output_type": "stream",
     "text": [
      "Epoch 30 training: 100%|██████████| 28/28 [00:02<00:00, 10.74it/s]\n"
     ]
    },
    {
     "name": "stdout",
     "output_type": "stream",
     "text": [
      "Train: 30/30: lr: 0.000025000000 loss:0.0009437822071569306\n"
     ]
    },
    {
     "name": "stderr",
     "output_type": "stream",
     "text": [
      "Epoch 30 testing: 100%|██████████| 4/4 [00:00<00:00, 11.80it/s]"
     ]
    },
    {
     "name": "stdout",
     "output_type": "stream",
     "text": [
      "Test: 30/30: loss:0.001146105263615027, accuracy:0.9700571035409903, precision:0.14244908097367115, recall:0.4384920634920635, f1:0.21488076743824763, mcc:0.23851560320880855, ece:0.029942896217107773, epoch:30\n"
     ]
    },
    {
     "name": "stderr",
     "output_type": "stream",
     "text": [
      "\n"
     ]
    }
   ],
   "execution_count": 10
  },
  {
   "metadata": {
    "ExecuteTime": {
     "start_time": "2025-02-04T22:59:20.885515Z"
    }
   },
   "cell_type": "code",
   "source": [
    "\n",
    "\n",
    "print(f\"Training ends {datetime.now().isoformat()}\")\n",
    "for metric in [\"accuracy\", \"precision\", \"recall\", \"f1\", \"mcc\"]:\n",
    "    if len(model_metrics[f\"test_{metric}\"]) > 0:\n",
    "        print(f\"Test {metric}:\", model_metrics[f\"test_{metric}\"][-1])\n",
    "\n",
    "plot_model_metrics(model_metrics)"
   ],
   "id": "a914020f7d5592ec",
   "outputs": [
    {
     "name": "stdout",
     "output_type": "stream",
     "text": [
      "Training ends 2025-02-04T23:59:20.901146\n",
      "Test accuracy: 0.9700571035409903\n",
      "Test precision: 0.14244908097367115\n",
      "Test recall: 0.4384920634920635\n",
      "Test f1: 0.21488076743824763\n",
      "Test mcc: 0.23851560320880855\n"
     ]
    }
   ],
   "execution_count": null
  },
  {
   "metadata": {
    "ExecuteTime": {
     "end_time": "2025-02-04T22:57:50.715003900Z",
     "start_time": "2025-02-04T22:56:21.784876Z"
    }
   },
   "cell_type": "code",
   "source": [
    "os.makedirs(model_output_dir, exist_ok=True)\n",
    "torch.save(model, f\"{model_output_dir}/model.pickle\")\n",
    "torch.save({\n",
    "    \"train_slides\": set(train_slides[\"slide_name\"]),\n",
    "    \"test_slides\": set(test_slides[\"slide_name\"])\n",
    "},\n",
    "    f\"{model_output_dir}/data-split.pickle\"\n",
    ")"
   ],
   "id": "3e03053795b945c3",
   "outputs": [],
   "execution_count": 24
  }
 ],
 "metadata": {
  "kernelspec": {
   "display_name": "Python 3",
   "language": "python",
   "name": "python3"
  },
  "language_info": {
   "codemirror_mode": {
    "name": "ipython",
    "version": 2
   },
   "file_extension": ".py",
   "mimetype": "text/x-python",
   "name": "python",
   "nbconvert_exporter": "python",
   "pygments_lexer": "ipython2",
   "version": "2.7.6"
  }
 },
 "nbformat": 4,
 "nbformat_minor": 5
}
