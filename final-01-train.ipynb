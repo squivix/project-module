{
 "cells": [
  {
   "metadata": {
    "ExecuteTime": {
     "end_time": "2025-02-09T16:51:10.568333Z",
     "start_time": "2025-02-09T16:51:07.799225Z"
    }
   },
   "cell_type": "code",
   "source": [
    "import json\n",
    "import os\n",
    "from datetime import datetime\n",
    "\n",
    "import pandas as pd\n",
    "import torch\n",
    "from torch.utils.data import DataLoader\n",
    "\n",
    "from datasets.SlideSeperatedCSVDataset import SlideSeperatedCSVDataset\n",
    "from extractors.TemplateMatchExtractor import TemplateMatchExtractor, generate_dataset_from_slides\n",
    "from labelers.GroundTruthLabeler import GroundTruthLabeler\n",
    "from models.mlp import MLPBinaryClassifier\n",
    "from models.resnet import Resnet18BinaryClassifier, Resnet50BinaryClassifier, Resnet101BinaryClassifier\n",
    "from stopper.EarlyStopper import EarlyStopper\n",
    "from test import test_classifier, plot_pr_curve\n",
    "from train import train_classifier\n",
    "from utils import extract_features_from_dataset\n",
    "from utils import plot_model_metrics\n",
    "from utils import split_dataset\n"
   ],
   "id": "178fcda7c051eefd",
   "outputs": [],
   "execution_count": 1
  },
  {
   "metadata": {
    "ExecuteTime": {
     "end_time": "2025-02-09T16:51:10.580338Z",
     "start_time": "2025-02-09T16:51:10.568333Z"
    }
   },
   "cell_type": "code",
   "source": [
    "slides_root_dir = \"data/whole-slides/gut\"\n",
    "labels_root_dir = \"data/labels\"\n",
    "candidates_dataset_dir = \"output/candidates\"\n",
    "model_output_dir = \"output/models\"\n",
    "PretrainedModelClass = Resnet101BinaryClassifier\n",
    "pretrained_model_name = PretrainedModelClass.get_pretrained_model_name()\n",
    "pretrained_output_size = PretrainedModelClass.pretrained_output_size\n",
    "features_csv_file_name = f\"{PretrainedModelClass.get_pretrained_model_name()}_{pretrained_output_size}_features.csv\"\n",
    "print(f\"{pretrained_model_name}: {pretrained_output_size} features\")"
   ],
   "id": "2692a85d7bf5fc3a",
   "outputs": [
    {
     "name": "stdout",
     "output_type": "stream",
     "text": [
      "Resnet101: 2048 features\n"
     ]
    }
   ],
   "execution_count": 2
  },
  {
   "metadata": {
    "ExecuteTime": {
     "end_time": "2025-02-09T16:51:10.981542Z",
     "start_time": "2025-02-09T16:51:10.663880Z"
    }
   },
   "cell_type": "code",
   "source": [
    "ground_truth_labeler = GroundTruthLabeler(f\"{labels_root_dir}/slide-annotations/all.json\",\n",
    "                                          f\"{labels_root_dir}/patch-classifications.csv\")\n",
    "extractor = TemplateMatchExtractor(ground_truth_labeler)\n",
    "generate_dataset_from_slides(slides_root_dir, extractor, candidates_dataset_dir)"
   ],
   "id": "64c6e36f90e183bd",
   "outputs": [
    {
     "name": "stdout",
     "output_type": "stream",
     "text": [
      "Found cached candidates dataset output/candidates\n"
     ]
    }
   ],
   "execution_count": 3
  },
  {
   "metadata": {
    "ExecuteTime": {
     "end_time": "2025-02-09T16:51:11.922439Z",
     "start_time": "2025-02-09T16:51:10.985804Z"
    }
   },
   "cell_type": "code",
   "source": [
    "extract_features_from_dataset(candidates_dataset_dir,\n",
    "                              [Resnet18BinaryClassifier, Resnet50BinaryClassifier, Resnet101BinaryClassifier])"
   ],
   "id": "b1b3dae800e32cc3",
   "outputs": [
    {
     "name": "stdout",
     "output_type": "stream",
     "text": [
      "Device: cuda:0\n",
      "Found cached output/candidates/Resnet18_512_features.csv\n",
      "Found cached output/candidates/Resnet50_2048_features.csv\n",
      "Found cached output/candidates/Resnet101_2048_features.csv\n"
     ]
    }
   ],
   "execution_count": 4
  },
  {
   "metadata": {
    "ExecuteTime": {
     "end_time": "2025-02-09T16:51:11.945718Z",
     "start_time": "2025-02-09T16:51:11.927696Z"
    }
   },
   "cell_type": "code",
   "source": [
    "def split_data(dataframe, train_portion=0.7):\n",
    "    train_set = pd.DataFrame()\n",
    "    test_set = pd.DataFrame()\n",
    "    for category in dataframe['quartile'].unique():\n",
    "        category_slides = dataframe[dataframe['quartile'] == category]\n",
    "        train_samples = category_slides.sample(frac=train_portion)\n",
    "        test_samples = category_slides.drop(train_samples.index)\n",
    "        train_set = pd.concat([train_set, train_samples])\n",
    "        test_set = pd.concat([test_set, test_samples])\n",
    "    return train_set, test_set\n",
    "\n",
    "\n",
    "if os.path.exists(\"output/models/data-split.json\"):\n",
    "    with open(f\"{model_output_dir}/data-split.json\", 'r') as f:\n",
    "        backup = json.load(f)\n",
    "    slides_df = ground_truth_labeler.positive_regions_summary\n",
    "    train_slides, test_slides = set(backup[\"train_slides\"]), set(backup[\"test_slides\"])\n",
    "    if train_slides.union(test_slides) != set(slides_df[\"slide_name\"]) or len(\n",
    "            train_slides.intersection(test_slides)) > 0:\n",
    "        raise ValueError(\"Invalid train test split\")\n",
    "    train_slides = slides_df[slides_df['slide_name'].isin(train_slides)]\n",
    "    test_slides = slides_df[slides_df['slide_name'].isin(test_slides)]\n",
    "else:\n",
    "    slides_df = ground_truth_labeler.positive_regions_summary\n",
    "    train_slides, test_slides = split_data(slides_df)\n",
    "    with open(f\"{model_output_dir}/data-split.json\", 'w') as f:\n",
    "        json.dump({\n",
    "            \"train_slides\": list(train_slides[\"slide_name\"]),\n",
    "            \"test_slides\": list(test_slides[\"slide_name\"])\n",
    "        }, f)\n",
    "\n",
    "print(\"Train Slides\")\n",
    "train_slides"
   ],
   "id": "4295d7777077b1e8",
   "outputs": [
    {
     "name": "stdout",
     "output_type": "stream",
     "text": [
      "Train Slides\n"
     ]
    },
    {
     "data": {
      "text/plain": [
       "   slide_name  n_gt_positive_regions  category\n",
       "0      593454                     22         2\n",
       "1      593433                      3         1\n",
       "3      593439                     31         2\n",
       "4      593445                    107         4\n",
       "5      593447                     25         2\n",
       "6      593450                     56         3\n",
       "7      593451                      1         1\n",
       "8      593440                     85         3\n",
       "10     593452                    336         4\n",
       "13     593441                      4         1\n",
       "14     522934                    203         4\n",
       "17     593444                     31         2\n",
       "18     593448                     13         1\n",
       "19     593438                     92         3\n",
       "21     593449                    284         4"
      ],
      "text/html": [
       "<div>\n",
       "<style scoped>\n",
       "    .dataframe tbody tr th:only-of-type {\n",
       "        vertical-align: middle;\n",
       "    }\n",
       "\n",
       "    .dataframe tbody tr th {\n",
       "        vertical-align: top;\n",
       "    }\n",
       "\n",
       "    .dataframe thead th {\n",
       "        text-align: right;\n",
       "    }\n",
       "</style>\n",
       "<table border=\"1\" class=\"dataframe\">\n",
       "  <thead>\n",
       "    <tr style=\"text-align: right;\">\n",
       "      <th></th>\n",
       "      <th>slide_name</th>\n",
       "      <th>n_gt_positive_regions</th>\n",
       "      <th>category</th>\n",
       "    </tr>\n",
       "  </thead>\n",
       "  <tbody>\n",
       "    <tr>\n",
       "      <th>0</th>\n",
       "      <td>593454</td>\n",
       "      <td>22</td>\n",
       "      <td>2</td>\n",
       "    </tr>\n",
       "    <tr>\n",
       "      <th>1</th>\n",
       "      <td>593433</td>\n",
       "      <td>3</td>\n",
       "      <td>1</td>\n",
       "    </tr>\n",
       "    <tr>\n",
       "      <th>3</th>\n",
       "      <td>593439</td>\n",
       "      <td>31</td>\n",
       "      <td>2</td>\n",
       "    </tr>\n",
       "    <tr>\n",
       "      <th>4</th>\n",
       "      <td>593445</td>\n",
       "      <td>107</td>\n",
       "      <td>4</td>\n",
       "    </tr>\n",
       "    <tr>\n",
       "      <th>5</th>\n",
       "      <td>593447</td>\n",
       "      <td>25</td>\n",
       "      <td>2</td>\n",
       "    </tr>\n",
       "    <tr>\n",
       "      <th>6</th>\n",
       "      <td>593450</td>\n",
       "      <td>56</td>\n",
       "      <td>3</td>\n",
       "    </tr>\n",
       "    <tr>\n",
       "      <th>7</th>\n",
       "      <td>593451</td>\n",
       "      <td>1</td>\n",
       "      <td>1</td>\n",
       "    </tr>\n",
       "    <tr>\n",
       "      <th>8</th>\n",
       "      <td>593440</td>\n",
       "      <td>85</td>\n",
       "      <td>3</td>\n",
       "    </tr>\n",
       "    <tr>\n",
       "      <th>10</th>\n",
       "      <td>593452</td>\n",
       "      <td>336</td>\n",
       "      <td>4</td>\n",
       "    </tr>\n",
       "    <tr>\n",
       "      <th>13</th>\n",
       "      <td>593441</td>\n",
       "      <td>4</td>\n",
       "      <td>1</td>\n",
       "    </tr>\n",
       "    <tr>\n",
       "      <th>14</th>\n",
       "      <td>522934</td>\n",
       "      <td>203</td>\n",
       "      <td>4</td>\n",
       "    </tr>\n",
       "    <tr>\n",
       "      <th>17</th>\n",
       "      <td>593444</td>\n",
       "      <td>31</td>\n",
       "      <td>2</td>\n",
       "    </tr>\n",
       "    <tr>\n",
       "      <th>18</th>\n",
       "      <td>593448</td>\n",
       "      <td>13</td>\n",
       "      <td>1</td>\n",
       "    </tr>\n",
       "    <tr>\n",
       "      <th>19</th>\n",
       "      <td>593438</td>\n",
       "      <td>92</td>\n",
       "      <td>3</td>\n",
       "    </tr>\n",
       "    <tr>\n",
       "      <th>21</th>\n",
       "      <td>593449</td>\n",
       "      <td>284</td>\n",
       "      <td>4</td>\n",
       "    </tr>\n",
       "  </tbody>\n",
       "</table>\n",
       "</div>"
      ]
     },
     "execution_count": 5,
     "metadata": {},
     "output_type": "execute_result"
    }
   ],
   "execution_count": 5
  },
  {
   "metadata": {
    "ExecuteTime": {
     "end_time": "2025-02-09T16:51:12.009207Z",
     "start_time": "2025-02-09T16:51:11.999751Z"
    }
   },
   "cell_type": "code",
   "source": [
    "print(\"Test Slides\")\n",
    "test_slides"
   ],
   "id": "a3fae8ba87d946e9",
   "outputs": [
    {
     "name": "stdout",
     "output_type": "stream",
     "text": [
      "Test Slides\n"
     ]
    },
    {
     "data": {
      "text/plain": [
       "   slide_name  n_gt_positive_regions  category\n",
       "2      593436                    170         4\n",
       "9      593446                     15         1\n",
       "11     593453                     19         2\n",
       "12     522021                      3         1\n",
       "15     593434                     27         2\n",
       "16     593435                    109         4\n",
       "20     593437                     94         3"
      ],
      "text/html": [
       "<div>\n",
       "<style scoped>\n",
       "    .dataframe tbody tr th:only-of-type {\n",
       "        vertical-align: middle;\n",
       "    }\n",
       "\n",
       "    .dataframe tbody tr th {\n",
       "        vertical-align: top;\n",
       "    }\n",
       "\n",
       "    .dataframe thead th {\n",
       "        text-align: right;\n",
       "    }\n",
       "</style>\n",
       "<table border=\"1\" class=\"dataframe\">\n",
       "  <thead>\n",
       "    <tr style=\"text-align: right;\">\n",
       "      <th></th>\n",
       "      <th>slide_name</th>\n",
       "      <th>n_gt_positive_regions</th>\n",
       "      <th>category</th>\n",
       "    </tr>\n",
       "  </thead>\n",
       "  <tbody>\n",
       "    <tr>\n",
       "      <th>2</th>\n",
       "      <td>593436</td>\n",
       "      <td>170</td>\n",
       "      <td>4</td>\n",
       "    </tr>\n",
       "    <tr>\n",
       "      <th>9</th>\n",
       "      <td>593446</td>\n",
       "      <td>15</td>\n",
       "      <td>1</td>\n",
       "    </tr>\n",
       "    <tr>\n",
       "      <th>11</th>\n",
       "      <td>593453</td>\n",
       "      <td>19</td>\n",
       "      <td>2</td>\n",
       "    </tr>\n",
       "    <tr>\n",
       "      <th>12</th>\n",
       "      <td>522021</td>\n",
       "      <td>3</td>\n",
       "      <td>1</td>\n",
       "    </tr>\n",
       "    <tr>\n",
       "      <th>15</th>\n",
       "      <td>593434</td>\n",
       "      <td>27</td>\n",
       "      <td>2</td>\n",
       "    </tr>\n",
       "    <tr>\n",
       "      <th>16</th>\n",
       "      <td>593435</td>\n",
       "      <td>109</td>\n",
       "      <td>4</td>\n",
       "    </tr>\n",
       "    <tr>\n",
       "      <th>20</th>\n",
       "      <td>593437</td>\n",
       "      <td>94</td>\n",
       "      <td>3</td>\n",
       "    </tr>\n",
       "  </tbody>\n",
       "</table>\n",
       "</div>"
      ]
     },
     "execution_count": 6,
     "metadata": {},
     "output_type": "execute_result"
    }
   ],
   "execution_count": 6
  },
  {
   "metadata": {
    "ExecuteTime": {
     "end_time": "2025-02-09T16:51:24.940945Z",
     "start_time": "2025-02-09T16:51:12.077653Z"
    }
   },
   "cell_type": "code",
   "source": [
    "\n",
    "device = torch.device('cuda:0' if torch.cuda.is_available() else 'cpu')\n",
    "print(f\"Device: {device}\")\n",
    "\n",
    "batch_size = 4096\n",
    "# dataset = SlideSeperatedImageDataset(candidates_dataset_dir, set(train_slides[\"slide_name\"]))\n",
    "dataset = SlideSeperatedCSVDataset(f\"{candidates_dataset_dir}/{features_csv_file_name}\",\n",
    "                                   set(train_slides[\"slide_name\"]))\n",
    "# dataset = reduce_dataset(dataset, discard_ratio=0.0)\n",
    "\n",
    "print(f\"All dataset: {int(sum(dataset.labels)):,} positive, {len(dataset.labels):,} negative\")\n"
   ],
   "id": "b2b32d9e85e9a12f",
   "outputs": [
    {
     "name": "stdout",
     "output_type": "stream",
     "text": [
      "Device: cuda:0\n",
      "All dataset: 702 positive, 71,534 negative\n"
     ]
    }
   ],
   "execution_count": 7
  },
  {
   "metadata": {
    "ExecuteTime": {
     "end_time": "2025-02-09T16:51:25.148498Z",
     "start_time": "2025-02-09T16:51:24.954925Z"
    }
   },
   "cell_type": "code",
   "source": [
    "train_dataset, validation_dataset = split_dataset(dataset, train_ratio=0.9)\n",
    "train_loader = DataLoader(train_dataset,\n",
    "                          batch_size=batch_size,\n",
    "                          shuffle=True)\n",
    "validation_loader = DataLoader(validation_dataset,\n",
    "                               batch_size=batch_size,\n",
    "                               shuffle=True, )\n",
    "print(f\"Dataset: {len(train_dataset):,} training, {len(validation_dataset):,} validation\")\n",
    "print(f\"Training: {int(sum(train_dataset.labels)):,d} positive, {len(train_dataset.labels):,} negative\")\n",
    "print(f\"Validation: {int(sum(validation_dataset.labels)):,d} positive, {len(validation_dataset.labels):,} negative\")"
   ],
   "id": "4598bbb330dba223",
   "outputs": [
    {
     "name": "stdout",
     "output_type": "stream",
     "text": [
      "Dataset: 64,380 training, 7,154 validation\n",
      "Training: 632 positive, 64,380 negative\n",
      "Validation: 70 positive, 7,154 negative\n"
     ]
    }
   ],
   "execution_count": 8
  },
  {
   "metadata": {
    "ExecuteTime": {
     "end_time": "2025-02-09T16:51:25.191713Z",
     "start_time": "2025-02-09T16:51:25.163428Z"
    }
   },
   "cell_type": "code",
   "source": [
    "# (hidden_layers=1, units=2048, dropout=0.1, threshold=0.5, learning_rate=3e-05, weight_decay=0.0, focal_alpha=0.75, focal_gamma=2.5)\n",
    "model = MLPBinaryClassifier(in_features=pretrained_output_size, hidden_layers=1,\n",
    "                            units_per_layer=2048,\n",
    "                            dropout=0.1, focal_alpha=0.75, focal_gamma=2.5)\n",
    "\n",
    "print(model)"
   ],
   "id": "cb40554ee9021bc3",
   "outputs": [
    {
     "name": "stdout",
     "output_type": "stream",
     "text": [
      "MLPBinaryClassifier(\n",
      "  (model): Sequential(\n",
      "    (0): Linear(in_features=2048, out_features=2048, bias=True)\n",
      "    (1): ReLU()\n",
      "    (2): Dropout(p=0.1, inplace=False)\n",
      "    (3): Linear(in_features=2048, out_features=2048, bias=True)\n",
      "    (4): ReLU()\n",
      "    (5): Dropout(p=0.1, inplace=False)\n",
      "    (6): Linear(in_features=2048, out_features=1, bias=True)\n",
      "    (7): Sigmoid()\n",
      "  )\n",
      ")\n"
     ]
    }
   ],
   "execution_count": 9
  },
  {
   "metadata": {
    "ExecuteTime": {
     "end_time": "2025-02-09T16:51:25.229203Z",
     "start_time": "2025-02-09T16:51:25.223033Z"
    }
   },
   "cell_type": "code",
   "source": "print(f\"Training starts {datetime.now().isoformat()}\")",
   "id": "5e0cca2c19fbc272",
   "outputs": [
    {
     "name": "stdout",
     "output_type": "stream",
     "text": [
      "Training starts 2025-02-09T17:51:25.223033\n"
     ]
    }
   ],
   "execution_count": 10
  },
  {
   "metadata": {
    "ExecuteTime": {
     "end_time": "2025-02-09T16:52:55.417208Z",
     "start_time": "2025-02-09T16:51:25.361211Z"
    }
   },
   "cell_type": "code",
   "source": [
    "\n",
    "model = model.to(device)\n",
    "model, model_metrics = train_classifier(model, train_loader, validation_loader, device,\n",
    "                                        start_learning_rate=0.000050,\n",
    "                                        min_learning_rate=0.000010,\n",
    "                                        lr_warmup_steps=10,\n",
    "                                        max_epochs=50,\n",
    "                                        checkpoint_every=1,\n",
    "                                        eval_every=1,\n",
    "                                        early_stopper=EarlyStopper(patience=5, min_delta=1e-4)\n",
    "                                        )"
   ],
   "id": "8e7b03124287917b",
   "outputs": [
    {
     "name": "stderr",
     "output_type": "stream",
     "text": [
      "Epoch 1 training: 100%|██████████| 16/16 [00:02<00:00,  7.32it/s]\n"
     ]
    },
    {
     "name": "stdout",
     "output_type": "stream",
     "text": [
      "Train: 1/50: lr: 0.000050000000 loss:0.012260635907296091\n"
     ]
    },
    {
     "name": "stderr",
     "output_type": "stream",
     "text": [
      "Epoch 1 testing: 100%|██████████| 2/2 [00:00<00:00, 10.09it/s]\n"
     ]
    },
    {
     "name": "stdout",
     "output_type": "stream",
     "text": [
      "Test: 1/50: loss:0.007927545346319675, accuracy:0.9902948912177076, precision:0.0, recall:0.0, f1:0.0, mcc:0.0, ece:0.16520579159259796, pr_auc:0.017606619986179267, epoch:1\n"
     ]
    },
    {
     "name": "stderr",
     "output_type": "stream",
     "text": [
      "Epoch 2 training: 100%|██████████| 16/16 [00:01<00:00,  8.07it/s]\n"
     ]
    },
    {
     "name": "stdout",
     "output_type": "stream",
     "text": [
      "Train: 2/50: lr: 0.000050000000 loss:0.006698350654914975\n"
     ]
    },
    {
     "name": "stderr",
     "output_type": "stream",
     "text": [
      "Epoch 2 testing: 100%|██████████| 2/2 [00:00<00:00,  8.96it/s]\n"
     ]
    },
    {
     "name": "stdout",
     "output_type": "stream",
     "text": [
      "Test: 2/50: loss:0.005819943035021424, accuracy:0.9899634092441956, precision:0.0, recall:0.0, f1:0.0, mcc:0.0, ece:0.23142968863248825, pr_auc:0.10529970141547744, epoch:2\n"
     ]
    },
    {
     "name": "stderr",
     "output_type": "stream",
     "text": [
      "Epoch 3 training: 100%|██████████| 16/16 [00:03<00:00,  4.51it/s]\n"
     ]
    },
    {
     "name": "stdout",
     "output_type": "stream",
     "text": [
      "Train: 3/50: lr: 0.000050000000 loss:0.00528385752113536\n"
     ]
    },
    {
     "name": "stderr",
     "output_type": "stream",
     "text": [
      "Epoch 3 testing: 100%|██████████| 2/2 [00:00<00:00,  6.53it/s]\n"
     ]
    },
    {
     "name": "stdout",
     "output_type": "stream",
     "text": [
      "Test: 3/50: loss:0.004781184019520879, accuracy:0.9900877149842626, precision:0.0, recall:0.0, f1:0.0, mcc:0.0, ece:0.1828552857041359, pr_auc:0.13240243270979146, epoch:3\n"
     ]
    },
    {
     "name": "stderr",
     "output_type": "stream",
     "text": [
      "Epoch 4 training: 100%|██████████| 16/16 [00:03<00:00,  4.33it/s]\n"
     ]
    },
    {
     "name": "stdout",
     "output_type": "stream",
     "text": [
      "Train: 4/50: lr: 0.000050000000 loss:0.004434390371898189\n"
     ]
    },
    {
     "name": "stderr",
     "output_type": "stream",
     "text": [
      "Epoch 4 testing: 100%|██████████| 2/2 [00:00<00:00,  7.47it/s]\n"
     ]
    },
    {
     "name": "stdout",
     "output_type": "stream",
     "text": [
      "Test: 4/50: loss:0.0043056870345026255, accuracy:0.9899634092441956, precision:0.0, recall:0.0, f1:0.0, mcc:0.0, ece:0.16877364367246628, pr_auc:0.18400749071679134, epoch:4\n"
     ]
    },
    {
     "name": "stderr",
     "output_type": "stream",
     "text": [
      "Epoch 5 training: 100%|██████████| 16/16 [00:03<00:00,  4.02it/s]\n"
     ]
    },
    {
     "name": "stdout",
     "output_type": "stream",
     "text": [
      "Train: 5/50: lr: 0.000050000000 loss:0.003974092862335965\n"
     ]
    },
    {
     "name": "stderr",
     "output_type": "stream",
     "text": [
      "Epoch 5 testing: 100%|██████████| 2/2 [00:00<00:00,  2.93it/s]\n"
     ]
    },
    {
     "name": "stdout",
     "output_type": "stream",
     "text": [
      "Test: 5/50: loss:0.004120400408282876, accuracy:0.9899242094250735, precision:0.25, recall:0.029411764705882353, f1:0.05263157894736842, mcc:0.08363197055745435, ece:0.14478197693824768, pr_auc:0.1982260818443508, epoch:5\n"
     ]
    },
    {
     "name": "stderr",
     "output_type": "stream",
     "text": [
      "Epoch 6 training: 100%|██████████| 16/16 [00:03<00:00,  4.81it/s]\n"
     ]
    },
    {
     "name": "stdout",
     "output_type": "stream",
     "text": [
      "Train: 6/50: lr: 0.000050000000 loss:0.003723111658473499\n"
     ]
    },
    {
     "name": "stderr",
     "output_type": "stream",
     "text": [
      "Epoch 6 testing: 100%|██████████| 2/2 [00:00<00:00,  5.94it/s]\n"
     ]
    },
    {
     "name": "stdout",
     "output_type": "stream",
     "text": [
      "Test: 6/50: loss:0.003957264241762459, accuracy:0.9897584684383176, precision:0.5666666666666667, recall:0.11437908496732026, f1:0.18451749734888653, mcc:0.24461419173045984, ece:0.13360684365034103, pr_auc:0.2410311058243786, epoch:6\n"
     ]
    },
    {
     "name": "stderr",
     "output_type": "stream",
     "text": [
      "Epoch 7 training: 100%|██████████| 16/16 [00:03<00:00,  4.65it/s]\n"
     ]
    },
    {
     "name": "stdout",
     "output_type": "stream",
     "text": [
      "Train: 7/50: lr: 0.000050000000 loss:0.0035216636897530407\n"
     ]
    },
    {
     "name": "stderr",
     "output_type": "stream",
     "text": [
      "Epoch 7 testing: 100%|██████████| 2/2 [00:00<00:00,  4.57it/s]\n"
     ]
    },
    {
     "name": "stdout",
     "output_type": "stream",
     "text": [
      "Test: 7/50: loss:0.003969025565311313, accuracy:0.9896755979449394, precision:0.4722222222222222, recall:0.13192721257237386, f1:0.20528455284552843, mcc:0.2450553836022225, ece:0.12751930207014084, pr_auc:0.27355501242484637, epoch:7\n"
     ]
    },
    {
     "name": "stderr",
     "output_type": "stream",
     "text": [
      "Epoch 8 training: 100%|██████████| 16/16 [00:03<00:00,  4.91it/s]\n"
     ]
    },
    {
     "name": "stdout",
     "output_type": "stream",
     "text": [
      "Train: 8/50: lr: 0.000050000000 loss:0.003346168901771307\n"
     ]
    },
    {
     "name": "stderr",
     "output_type": "stream",
     "text": [
      "Epoch 8 testing: 100%|██████████| 2/2 [00:00<00:00,  3.56it/s]\n"
     ]
    },
    {
     "name": "stdout",
     "output_type": "stream",
     "text": [
      "Test: 8/50: loss:0.0037670768797397614, accuracy:0.9903755262835187, precision:0.5079365079365079, recall:0.16666666666666666, f1:0.25096525096525096, mcc:0.28725738885482766, ece:0.1229567863047123, pr_auc:0.2827327340928961, epoch:8\n"
     ]
    },
    {
     "name": "stderr",
     "output_type": "stream",
     "text": [
      "Epoch 9 training: 100%|██████████| 16/16 [00:03<00:00,  4.27it/s]\n"
     ]
    },
    {
     "name": "stdout",
     "output_type": "stream",
     "text": [
      "Train: 9/50: lr: 0.000050000000 loss:0.0031647952419007197\n"
     ]
    },
    {
     "name": "stderr",
     "output_type": "stream",
     "text": [
      "Epoch 9 testing: 100%|██████████| 2/2 [00:00<00:00,  3.51it/s]\n"
     ]
    },
    {
     "name": "stdout",
     "output_type": "stream",
     "text": [
      "Test: 9/50: loss:0.003535532974638045, accuracy:0.9905390318427076, precision:0.55, recall:0.23750000000000002, f1:0.32741935483870965, mcc:0.35466614126431, ece:0.12138011306524277, pr_auc:0.337040397221565, epoch:9\n"
     ]
    },
    {
     "name": "stderr",
     "output_type": "stream",
     "text": [
      "Epoch 10 training: 100%|██████████| 16/16 [00:03<00:00,  4.30it/s]\n"
     ]
    },
    {
     "name": "stdout",
     "output_type": "stream",
     "text": [
      "Train: 10/50: lr: 0.000049890438 loss:0.00298899007611908\n"
     ]
    },
    {
     "name": "stderr",
     "output_type": "stream",
     "text": [
      "Epoch 10 testing: 100%|██████████| 2/2 [00:00<00:00,  3.71it/s]\n"
     ]
    },
    {
     "name": "stdout",
     "output_type": "stream",
     "text": [
      "Test: 10/50: loss:0.0035013239830732346, accuracy:0.9908246077143967, precision:0.5586206896551724, recall:0.3375, f1:0.4173913043478261, mcc:0.42809630570564094, ece:0.1220134049654007, pr_auc:0.3665341815131241, epoch:10\n"
     ]
    },
    {
     "name": "stderr",
     "output_type": "stream",
     "text": [
      "Epoch 11 training: 100%|██████████| 16/16 [00:03<00:00,  4.35it/s]\n"
     ]
    },
    {
     "name": "stdout",
     "output_type": "stream",
     "text": [
      "Train: 11/50: lr: 0.000049562952 loss:0.002805775438901037\n"
     ]
    },
    {
     "name": "stderr",
     "output_type": "stream",
     "text": [
      "Epoch 11 testing: 100%|██████████| 2/2 [00:00<00:00,  3.37it/s]\n"
     ]
    },
    {
     "name": "stdout",
     "output_type": "stream",
     "text": [
      "Test: 11/50: loss:0.0033156847348436713, accuracy:0.9906633375827747, precision:0.53125, recall:0.3294573643410853, f1:0.40648542417294464, mcc:0.41384522812081426, ece:0.12025496736168861, pr_auc:0.3956095560037055, epoch:11\n"
     ]
    },
    {
     "name": "stderr",
     "output_type": "stream",
     "text": [
      "Epoch 12 training: 100%|██████████| 16/16 [00:03<00:00,  4.25it/s]\n"
     ]
    },
    {
     "name": "stdout",
     "output_type": "stream",
     "text": [
      "Train: 12/50: lr: 0.000049021130 loss:0.0026316133880754933\n"
     ]
    },
    {
     "name": "stderr",
     "output_type": "stream",
     "text": [
      "Epoch 12 testing: 100%|██████████| 2/2 [00:00<00:00,  3.32it/s]\n"
     ]
    },
    {
     "name": "stdout",
     "output_type": "stream",
     "text": [
      "Test: 12/50: loss:0.003280138596892357, accuracy:0.9911908186518967, precision:0.588095238095238, recall:0.3513986013986014, f1:0.4315159574468085, mcc:0.4459665761047551, ece:0.10767701640725136, pr_auc:0.41660676668645913, epoch:12\n"
     ]
    },
    {
     "name": "stderr",
     "output_type": "stream",
     "text": [
      "Epoch 13 training: 100%|██████████| 16/16 [00:03<00:00,  4.21it/s]\n"
     ]
    },
    {
     "name": "stdout",
     "output_type": "stream",
     "text": [
      "Train: 13/50: lr: 0.000048270909 loss:0.0024635074514662847\n"
     ]
    },
    {
     "name": "stderr",
     "output_type": "stream",
     "text": [
      "Epoch 13 testing: 100%|██████████| 2/2 [00:00<00:00,  3.41it/s]\n"
     ]
    },
    {
     "name": "stdout",
     "output_type": "stream",
     "text": [
      "Test: 13/50: loss:0.0031703083077445626, accuracy:0.9913957594577747, precision:0.6068111455108359, recall:0.32080419580419584, f1:0.41565153193060167, mcc:0.4350907596669197, ece:0.10202592611312866, pr_auc:0.40768108345136433, epoch:13\n"
     ]
    },
    {
     "name": "stderr",
     "output_type": "stream",
     "text": [
      "Epoch 14 training: 100%|██████████| 16/16 [00:04<00:00,  3.34it/s]\n"
     ]
    },
    {
     "name": "stdout",
     "output_type": "stream",
     "text": [
      "Train: 14/50: lr: 0.000047320508 loss:0.002310318566742353\n"
     ]
    },
    {
     "name": "stderr",
     "output_type": "stream",
     "text": [
      "Epoch 14 testing: 100%|██████████| 2/2 [00:00<00:00,  2.76it/s]\n"
     ]
    },
    {
     "name": "stdout",
     "output_type": "stream",
     "text": [
      "Test: 14/50: loss:0.0030998954316601157, accuracy:0.9896823042276406, precision:0.4722222222222222, recall:0.44706368899917287, f1:0.4592349726775956, mcc:0.4542365675841976, ece:0.10807931050658226, pr_auc:0.4232219770649218, epoch:14\n"
     ]
    },
    {
     "name": "stderr",
     "output_type": "stream",
     "text": [
      "Epoch 15 training: 100%|██████████| 16/16 [00:05<00:00,  2.67it/s]\n"
     ]
    },
    {
     "name": "stdout",
     "output_type": "stream",
     "text": [
      "Train: 15/50: lr: 0.000046180340 loss:0.0021561535613727756\n"
     ]
    },
    {
     "name": "stderr",
     "output_type": "stream",
     "text": [
      "Epoch 15 testing: 100%|██████████| 2/2 [00:00<00:00,  2.75it/s]\n"
     ]
    },
    {
     "name": "stdout",
     "output_type": "stream",
     "text": [
      "Test: 15/50: loss:0.0031960327178239822, accuracy:0.9904975965960187, precision:0.5201288244766505, recall:0.375, f1:0.43537031822021965, mcc:0.4367956963273628, ece:0.09476525336503983, pr_auc:0.4180147911621516, epoch:15\n"
     ]
    },
    {
     "name": "stderr",
     "output_type": "stream",
     "text": [
      "Epoch 16 training: 100%|██████████| 16/16 [00:05<00:00,  2.69it/s]\n"
     ]
    },
    {
     "name": "stdout",
     "output_type": "stream",
     "text": [
      "Train: 16/50: lr: 0.000044862897 loss:0.002018591061641928\n"
     ]
    },
    {
     "name": "stderr",
     "output_type": "stream",
     "text": [
      "Epoch 16 testing: 100%|██████████| 2/2 [00:00<00:00,  2.75it/s]\n"
     ]
    },
    {
     "name": "stdout",
     "output_type": "stream",
     "text": [
      "Test: 16/50: loss:0.003207322326488793, accuracy:0.9911493834052076, precision:0.5413533834586466, recall:0.36493987049028676, f1:0.43333333333333335, mcc:0.43888131107468464, ece:0.08887918666005135, pr_auc:0.3914795512762086, epoch:16\n"
     ]
    },
    {
     "name": "stderr",
     "output_type": "stream",
     "text": [
      "Epoch 17 training: 100%|██████████| 16/16 [00:04<00:00,  3.91it/s]\n"
     ]
    },
    {
     "name": "stdout",
     "output_type": "stream",
     "text": [
      "Train: 17/50: lr: 0.000043382612 loss:0.0018849038970074616\n"
     ]
    },
    {
     "name": "stderr",
     "output_type": "stream",
     "text": [
      "Epoch 17 testing: 100%|██████████| 2/2 [00:00<00:00,  9.66it/s]\n"
     ]
    },
    {
     "name": "stdout",
     "output_type": "stream",
     "text": [
      "Test: 17/50: loss:0.0030626108637079597, accuracy:0.9909903487011527, precision:0.5357142857142857, recall:0.4474590869939707, f1:0.4793148880105402, mcc:0.48099473849374264, ece:0.08434237539768219, pr_auc:0.4376874795635359, epoch:17\n"
     ]
    },
    {
     "name": "stderr",
     "output_type": "stream",
     "text": [
      "Epoch 18 training: 100%|██████████| 16/16 [00:02<00:00,  7.79it/s]\n"
     ]
    },
    {
     "name": "stdout",
     "output_type": "stream",
     "text": [
      "Train: 18/50: lr: 0.000041755705 loss:0.0017781574206310324\n"
     ]
    },
    {
     "name": "stderr",
     "output_type": "stream",
     "text": [
      "Epoch 18 testing: 100%|██████████| 2/2 [00:00<00:00,  8.47it/s]\n"
     ]
    },
    {
     "name": "stdout",
     "output_type": "stream",
     "text": [
      "Test: 18/50: loss:0.0031080746557563543, accuracy:0.9899264448526406, precision:0.45302619692863594, recall:0.45, f1:0.44493804068272147, mcc:0.44322797103121664, ece:0.09087682142853737, pr_auc:0.39452101752456314, epoch:18\n"
     ]
    },
    {
     "name": "stderr",
     "output_type": "stream",
     "text": [
      "Epoch 19 training: 100%|██████████| 16/16 [00:02<00:00,  6.85it/s]\n"
     ]
    },
    {
     "name": "stdout",
     "output_type": "stream",
     "text": [
      "Train: 19/50: lr: 0.000040000000 loss:0.0016463546198792756\n"
     ]
    },
    {
     "name": "stderr",
     "output_type": "stream",
     "text": [
      "Epoch 19 testing: 100%|██████████| 2/2 [00:00<00:00,  7.57it/s]\n"
     ]
    },
    {
     "name": "stdout",
     "output_type": "stream",
     "text": [
      "Test: 19/50: loss:0.0032053209142759442, accuracy:0.9905020674511527, precision:0.5075075075075075, recall:0.4816433566433566, f1:0.4928954111344048, mcc:0.4889677375436231, ece:0.0802239216864109, pr_auc:0.4291671853634238, epoch:19\n"
     ]
    },
    {
     "name": "stderr",
     "output_type": "stream",
     "text": [
      "Epoch 20 training: 100%|██████████| 16/16 [00:02<00:00,  5.97it/s]\n"
     ]
    },
    {
     "name": "stdout",
     "output_type": "stream",
     "text": [
      "Train: 20/50: lr: 0.000038134733 loss:0.001526070678664837\n"
     ]
    },
    {
     "name": "stderr",
     "output_type": "stream",
     "text": [
      "Epoch 20 testing: 100%|██████████| 2/2 [00:00<00:00,  7.36it/s]\n"
     ]
    },
    {
     "name": "stdout",
     "output_type": "stream",
     "text": [
      "Test: 20/50: loss:0.0035483925603330135, accuracy:0.9910665129118297, precision:0.5733333333333333, recall:0.3980263157894737, f1:0.468590831918506, mcc:0.47277340470937645, ece:0.07163562253117561, pr_auc:0.417155539803293, epoch:20\n"
     ]
    },
    {
     "name": "stderr",
     "output_type": "stream",
     "text": [
      "Epoch 21 training: 100%|██████████| 16/16 [00:02<00:00,  6.86it/s]\n"
     ]
    },
    {
     "name": "stdout",
     "output_type": "stream",
     "text": [
      "Train: 21/50: lr: 0.000036180340 loss:0.0014706323490827344\n"
     ]
    },
    {
     "name": "stderr",
     "output_type": "stream",
     "text": [
      "Epoch 21 testing: 100%|██████████| 2/2 [00:00<00:00,  9.02it/s]\n"
     ]
    },
    {
     "name": "stdout",
     "output_type": "stream",
     "text": [
      "Test: 21/50: loss:0.0034923292696475983, accuracy:0.9909858778460187, precision:0.5527777777777778, recall:0.4338296112489661, f1:0.4823529411764706, mcc:0.48336756440824175, ece:0.0704147182404995, pr_auc:0.4158369463128484, epoch:21\n"
     ]
    },
    {
     "name": "stderr",
     "output_type": "stream",
     "text": [
      "Epoch 22 training: 100%|██████████| 16/16 [00:02<00:00,  7.56it/s]\n"
     ]
    },
    {
     "name": "stdout",
     "output_type": "stream",
     "text": [
      "Train: 22/50: lr: 0.000034158234 loss:0.001373803948808927\n"
     ]
    },
    {
     "name": "stderr",
     "output_type": "stream",
     "text": [
      "Epoch 22 testing: 100%|██████████| 2/2 [00:00<00:00,  6.96it/s]\n"
     ]
    },
    {
     "name": "stdout",
     "output_type": "stream",
     "text": [
      "Test: 22/50: loss:0.003284052014350891, accuracy:0.9898872450335187, precision:0.4847198641765704, recall:0.4761513157894737, f1:0.4803675856307435, mcc:0.4752963975314569, ece:0.07446274906396866, pr_auc:0.42828215542759274, epoch:22\n"
     ]
    }
   ],
   "execution_count": 11
  },
  {
   "metadata": {
    "ExecuteTime": {
     "end_time": "2025-02-09T16:52:55.570859Z",
     "start_time": "2025-02-09T16:52:55.426296Z"
    }
   },
   "cell_type": "code",
   "source": [
    "print(f\"Training ends {datetime.now().isoformat()}\")\n",
    "plot_model_metrics(model_metrics)"
   ],
   "id": "a914020f7d5592ec",
   "outputs": [
    {
     "name": "stdout",
     "output_type": "stream",
     "text": [
      "Training ends 2025-02-09T17:52:55.427297\n"
     ]
    },
    {
     "data": {
      "text/plain": [
       "<Figure size 1000x1000 with 2 Axes>"
      ],
      "image/png": "[encoded data removed]"
     },
     "metadata": {},
     "output_type": "display_data"
    }
   ],
   "execution_count": 12
  },
  {
   "metadata": {
    "ExecuteTime": {
     "end_time": "2025-02-09T16:52:55.926982Z",
     "start_time": "2025-02-09T16:52:55.577686Z"
    }
   },
   "cell_type": "code",
   "source": "validation_metrics = test_classifier(model, validation_dataset, device=device, batch_size=4096)",
   "id": "bbc4a309096dff70",
   "outputs": [
    {
     "name": "stderr",
     "output_type": "stream",
     "text": [
      "Testing: 100%|██████████| 2/2 [00:00<00:00,  5.88it/s]\n"
     ]
    }
   ],
   "execution_count": 13
  },
  {
   "metadata": {
    "ExecuteTime": {
     "end_time": "2025-02-09T16:52:55.941468Z",
     "start_time": "2025-02-09T16:52:55.938256Z"
    }
   },
   "cell_type": "code",
   "source": [
    "for metric in validation_metrics.keys():\n",
    "    if validation_metrics[metric] is not None:\n",
    "        print(f\"Validation {metric}:\", validation_metrics[metric])\n"
   ],
   "id": "646287a40126e0a5",
   "outputs": [
    {
     "name": "stdout",
     "output_type": "stream",
     "text": [
      "Validation loss: 0.003252515336498618\n",
      "Validation accuracy: 0.9899357003075203\n",
      "Validation precision: 0.4857142857142857\n",
      "Validation recall: 0.4857142857142857\n",
      "Validation f1: 0.4857142857142857\n",
      "Validation mcc: 0.4806324110671937\n",
      "Validation ece: 0.07371217012405396\n",
      "Validation pr_auc: 0.41142461763232546\n",
      "Validation optimal_threshold: 0.4985707\n",
      "Validation precisions: [0.00978474 0.0097861  0.00978747 ... 0.5        1.         1.        ]\n",
      "Validation recalls: [1.         1.         1.         ... 0.01428571 0.01428571 0.        ]\n"
     ]
    }
   ],
   "execution_count": 14
  },
  {
   "metadata": {
    "ExecuteTime": {
     "end_time": "2025-02-09T16:52:56.047421Z",
     "start_time": "2025-02-09T16:52:55.952072Z"
    }
   },
   "cell_type": "code",
   "source": "plot_pr_curve(validation_metrics[\"precisions\"], validation_metrics[\"recalls\"])",
   "id": "2b793dd8d68224c2",
   "outputs": [
    {
     "data": {
      "text/plain": [
       "<Figure size 800x600 with 1 Axes>"
      ],
      "image/png": "[encoded data removed]"
     },
     "metadata": {},
     "output_type": "display_data"
    }
   ],
   "execution_count": 15
  },
  {
   "metadata": {
    "ExecuteTime": {
     "end_time": "2025-02-09T16:52:56.185011Z",
     "start_time": "2025-02-09T16:52:56.053395Z"
    }
   },
   "cell_type": "code",
   "source": [
    "os.makedirs(model_output_dir, exist_ok=True)\n",
    "torch.save({\n",
    "    \"model\": model,\n",
    "    \"optimal_threshold\": validation_metrics[\"optimal_threshold\"]\n",
    "}, f\"{model_output_dir}/{pretrained_model_name}.pickle\")"
   ],
   "id": "3bdc10d651d0b9a4",
   "outputs": [],
   "execution_count": 16
  }
 ],
 "metadata": {
  "kernelspec": {
   "display_name": "Python 3",
   "language": "python",
   "name": "python3"
  },
  "language_info": {
   "codemirror_mode": {
    "name": "ipython",
    "version": 2
   },
   "file_extension": ".py",
   "mimetype": "text/x-python",
   "name": "python",
   "nbconvert_exporter": "python",
   "pygments_lexer": "ipython2",
   "version": "2.7.6"
  }
 },
 "nbformat": 4,
 "nbformat_minor": 5
}
