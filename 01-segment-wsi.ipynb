{
 "cells": [
  {
   "metadata": {
    "ExecuteTime": {
     "end_time": "2024-09-12T15:17:07.843714Z",
     "start_time": "2024-09-12T15:17:07.823492Z"
    }
   },
   "cell_type": "code",
   "source": [
    "\n",
    "import os\n",
    "import shutil\n",
    "from pathlib import Path\n",
    "\n",
    "import cv2\n",
    "from tqdm import tqdm\n",
    "\n",
    "if hasattr(os, 'add_dll_directory'):\n",
    "    # Windows\n",
    "    OPENSLIDE_PATH = os.path.join(os.path.abspath(os.getcwd()),\n",
    "                                  \"libs/openslide-bin-4.0.0.3-windows-x64/bin\")\n",
    "    with os.add_dll_directory(OPENSLIDE_PATH):\n",
    "        import openslide\n",
    "else:\n",
    "    import openslide\n",
    "import numpy as np\n",
    "import math"
   ],
   "id": "ea56c703b206d7cb",
   "outputs": [],
   "execution_count": 4
  },
  {
   "metadata": {
    "ExecuteTime": {
     "start_time": "2024-09-12T15:17:07.843714Z"
    }
   },
   "cell_type": "code",
   "source": [
    "\n",
    "\n",
    "def grid_segment_slides(input_dir, root_output_dir, filter=None, cell_size=256, level=0):\n",
    "    if os.path.exists(root_output_dir):\n",
    "        shutil.rmtree(root_output_dir)\n",
    "    for slide_filename in os.listdir(input_dir):\n",
    "        if Path(slide_filename).suffix != \".svs\":\n",
    "            continue\n",
    "        print(slide_filename)\n",
    "        output_dir = f\"{root_output_dir}/{Path(slide_filename).stem}/{cell_size}x{cell_size}\"\n",
    "        os.makedirs(output_dir, exist_ok=True)\n",
    "        slide = openslide.OpenSlide(f\"{input_dir}/{slide_filename}\")\n",
    "\n",
    "        slide_width, slide_height = slide.level_dimensions[level]\n",
    "        cells_count_x = math.floor(slide_width / cell_size)\n",
    "        cells_count_y = math.floor(slide_height / cell_size)\n",
    "        with tqdm(total=cells_count_x * cells_count_y, desc=\"Progress\") as pbar:\n",
    "            for i, x in enumerate(range(0, slide_width, cell_size)):\n",
    "                for j, y in enumerate(range(0, slide_height, cell_size)):\n",
    "                    cell = np.array(slide.read_region((x, y), level, (cell_size, cell_size)))\n",
    "                    if filter is None or filter(cell):\n",
    "                        cell_file_path = f\"{output_dir}/{i},{j}_{x}_{y}.png\"\n",
    "                        cv2.imwrite(cell_file_path, cell)\n",
    "                    pbar.update(1)\n",
    "\n",
    "\n",
    "def is_not_mostly_blank(cell, non_blank_percentage=0.5, blank_threshold=240):\n",
    "    cell_gray = cv2.cvtColor(cell, cv2.COLOR_BGR2GRAY)\n",
    "    non_white_pixels = np.sum(cell_gray < blank_threshold)\n",
    "    return (non_white_pixels / cell_gray.size) > non_blank_percentage\n",
    "\n",
    "\n",
    "grid_segment_slides(\n",
    "    input_dir=\"data/whole-slides/gut\",\n",
    "    root_output_dir=\"output/temp\",\n",
    "    filter=lambda cell: is_not_mostly_blank(cell, non_blank_percentage=0.5),\n",
    ")"
   ],
   "id": "130b75eb023f8a91",
   "outputs": [
    {
     "name": "stdout",
     "output_type": "stream",
     "text": [
      "024048134068;0;A;1;HE;H;GB_522021.svs\n"
     ]
    },
    {
     "name": "stderr",
     "output_type": "stream",
     "text": [
      "Progress:   1%|          | 1529/135125 [00:03<04:31, 492.84it/s]\n",
      "\n",
      "KeyboardInterrupt\n",
      "\n"
     ]
    }
   ],
   "execution_count": 5
  },
  {
   "metadata": {},
   "cell_type": "code",
   "outputs": [],
   "execution_count": null,
   "source": "",
   "id": "fc92e54756610e68"
  }
 ],
 "metadata": {
  "kernelspec": {
   "display_name": "Python 3",
   "language": "python",
   "name": "python3"
  },
  "language_info": {
   "codemirror_mode": {
    "name": "ipython",
    "version": 2
   },
   "file_extension": ".py",
   "mimetype": "text/x-python",
   "name": "python",
   "nbconvert_exporter": "python",
   "pygments_lexer": "ipython2",
   "version": "2.7.6"
  }
 },
 "nbformat": 4,
 "nbformat_minor": 5
}
