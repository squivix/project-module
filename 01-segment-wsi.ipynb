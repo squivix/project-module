{
 "cells": [
  {
   "metadata": {
    "ExecuteTime": {
     "end_time": "2024-09-12T13:08:47.017027Z",
     "start_time": "2024-09-12T13:08:46.892167Z"
    }
   },
   "cell_type": "code",
   "source": [
    "\n",
    "import os\n",
    "import shutil\n",
    "from pathlib import Path\n",
    "\n",
    "import cv2\n",
    "from tqdm import tqdm\n",
    "\n",
    "if hasattr(os, 'add_dll_directory'):\n",
    "    # Windows\n",
    "    OPENSLIDE_PATH = os.path.join(os.path.abspath(os.getcwd()),\n",
    "                                  \"libs/openslide-bin-4.0.0.3-windows-x64/bin\")\n",
    "    with os.add_dll_directory(OPENSLIDE_PATH):\n",
    "        import openslide\n",
    "else:\n",
    "    import openslide\n",
    "import numpy as np\n",
    "import math"
   ],
   "id": "ea56c703b206d7cb",
   "outputs": [],
   "execution_count": 1
  },
  {
   "metadata": {
    "ExecuteTime": {
     "end_time": "2024-09-12T13:55:25.298230Z",
     "start_time": "2024-09-12T13:08:47.017027Z"
    }
   },
   "cell_type": "code",
   "source": [
    "def grid_segment_slides(input_dir, root_output_dir, cell_size=256, level=0):\n",
    "    if os.path.exists(root_output_dir):\n",
    "        shutil.rmtree(root_output_dir)\n",
    "    for slide_filename in os.listdir(input_dir):\n",
    "        output_dir = f\"{root_output_dir}/{Path(slide_filename).stem}/{cell_size}x{cell_size}\"\n",
    "        os.makedirs(output_dir, exist_ok=True)\n",
    "        slide = openslide.OpenSlide(f\"{input_dir}/{slide_filename}\")\n",
    "\n",
    "        slide_width, slide_height = slide.level_dimensions[level]\n",
    "        cells_count_x = math.floor(slide_width / cell_size)\n",
    "        cells_count_y = math.floor(slide_height / cell_size)\n",
    "        with tqdm(total=cells_count_x * cells_count_y, desc=\"Progress\") as pbar:\n",
    "            for i, x in enumerate(range(0, slide_width, cell_size)):\n",
    "                for j, y in enumerate(range(0, slide_height, cell_size)):\n",
    "                    cell = np.array(slide.read_region((x, y), level, (cell_size, cell_size)))\n",
    "                    cell_file_path = f\"{output_dir}/{i},{j}_{x}_{y}.png\"\n",
    "                    cv2.imwrite(cell_file_path, cell)\n",
    "                    pbar.update(1)\n",
    "\n",
    "# grid_segment_slides(\n",
    "#     input_dir=\"data/whole-slides/gut\",\n",
    "#     root_output_dir=\"data/segments\"\n",
    "# )"
   ],
   "id": "130b75eb023f8a91",
   "outputs": [
    {
     "name": "stderr",
     "output_type": "stream",
     "text": [
      "Progress: 135936it [18:13, 124.35it/s]                            \n",
      "Progress: 165432it [28:24, 97.04it/s]                             \n"
     ]
    }
   ],
   "execution_count": 2
  },
  {
   "metadata": {
    "ExecuteTime": {
     "end_time": "2024-09-12T13:55:25.757600Z",
     "start_time": "2024-09-12T13:55:25.741794Z"
    }
   },
   "cell_type": "code",
   "source": "",
   "id": "d92238848c5102ad",
   "outputs": [],
   "execution_count": null
  }
 ],
 "metadata": {
  "kernelspec": {
   "display_name": "Python 3",
   "language": "python",
   "name": "python3"
  },
  "language_info": {
   "codemirror_mode": {
    "name": "ipython",
    "version": 2
   },
   "file_extension": ".py",
   "mimetype": "text/x-python",
   "name": "python",
   "nbconvert_exporter": "python",
   "pygments_lexer": "ipython2",
   "version": "2.7.6"
  }
 },
 "nbformat": 4,
 "nbformat_minor": 5
}
