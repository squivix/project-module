{
 "cells": [
  {
   "metadata": {},
   "cell_type": "code",
   "source": [
    "\n",
    "def main():\n",
    "    svs_file = \"data/wsi/gut/522934.svs\"\n",
    "    output_dir = \"data/segments\"\n",
    "    level = 1\n",
    "\n",
    "    # if os.path.exists(output_dir):\n",
    "    #     shutil.rmtree(output_dir)\n",
    "    os.makedirs(output_dir, exist_ok=True)\n",
    "    slide = openslide.OpenSlide(svs_file)\n",
    "    ds_image = np.array(slide.read_region((0, 0), level, slide.level_dimensions[level]))\n",
    "\n",
    "    gray_image = cv2.cvtColor(ds_image, cv2.COLOR_BGR2GRAY)\n",
    "    _, binary_image = cv2.threshold(gray_image, 200, 255, cv2.THRESH_BINARY_INV)\n",
    "    labels = measure.label(binary_image, connectivity=2)\n",
    "    properties = measure.regionprops(labels)\n",
    "    del ds_image\n",
    "    del gray_image\n",
    "    del binary_image\n",
    "\n",
    "    W, H = slide.level_dimensions[0]\n",
    "    w, h = slide.level_dimensions[level]\n",
    "    scale_factor = W / w\n",
    "    min_blob_area = 50_000\n",
    "    large_blobs = [prop for prop in properties if prop.area >= min_blob_area]\n",
    "    # annotated_image = np.copy(ds_image)\n",
    "    for i, blob_props in enumerate(large_blobs):\n",
    "        minr, minc, maxr, maxc = blob_props.bbox\n",
    "        minr = int(minr * scale_factor)\n",
    "        maxr = int(maxr * scale_factor)\n",
    "        minc = int(minc * scale_factor)\n",
    "        maxc = int(maxc * scale_factor)\n",
    "\n",
    "        blob_image = np.array(\n",
    "            slide.read_region((minc, minr), 0, (maxc - minc, maxr - minr)))  # ds_image[minr:maxr, minc:maxc]\n",
    "        annotated_blob_image = (\n",
    "            split_image_into_grid(blob_image, 256, 256, os.path.join(output_dir, f\"blob_{i:03d}\"))\n",
    "        )\n",
    "\n",
    "        # cv2.rectangle(annotated_image, (minc, minr), (maxc, maxr), (255, 0, 0), 2)\n",
    "\n",
    "        display_image(annotated_blob_image, title=f\"{annotated_blob_image.shape}\")\n",
    "        # cv2.waitKey(0)\n",
    "        # cv2.destroyAllWindows()\n",
    "    # display_image(f'Annotated image', annotated_image)\n",
    "\n",
    "\n",
    "if __name__ == '__main__':\n",
    "    main()\n"
   ],
   "id": "ea56c703b206d7cb",
   "outputs": [],
   "execution_count": null
  }
 ],
 "metadata": {
  "kernelspec": {
   "display_name": "Python 3",
   "language": "python",
   "name": "python3"
  },
  "language_info": {
   "codemirror_mode": {
    "name": "ipython",
    "version": 2
   },
   "file_extension": ".py",
   "mimetype": "text/x-python",
   "name": "python",
   "nbconvert_exporter": "python",
   "pygments_lexer": "ipython2",
   "version": "2.7.6"
  }
 },
 "nbformat": 4,
 "nbformat_minor": 5
}
