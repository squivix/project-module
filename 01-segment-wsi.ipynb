{
 "cells": [
  {
   "metadata": {
    "ExecuteTime": {
     "end_time": "2024-09-13T08:41:06.912202Z",
     "start_time": "2024-09-13T08:41:06.791383Z"
    }
   },
   "cell_type": "code",
   "source": [
    "\n",
    "import os\n",
    "import shutil\n",
    "from pathlib import Path\n",
    "\n",
    "import cv2\n",
    "from tqdm import tqdm\n",
    "\n",
    "if hasattr(os, 'add_dll_directory'):\n",
    "    # Windows\n",
    "    OPENSLIDE_PATH = os.path.join(os.path.abspath(os.getcwd()),\n",
    "                                  \"libs/openslide-bin-4.0.0.3-windows-x64/bin\")\n",
    "    with os.add_dll_directory(OPENSLIDE_PATH):\n",
    "        import openslide\n",
    "else:\n",
    "    import openslide\n",
    "import numpy as np\n",
    "import math\n",
    "import json\n",
    "import glob"
   ],
   "id": "ea56c703b206d7cb",
   "outputs": [],
   "execution_count": 1
  },
  {
   "metadata": {
    "ExecuteTime": {
     "end_time": "2024-09-13T09:15:51.507760Z",
     "start_time": "2024-09-13T09:03:16.231080Z"
    }
   },
   "cell_type": "code",
   "source": [
    "\n",
    "def calculate_bbox_overlap_percentage(bbox1, bbox2):\n",
    "    x1, y1, w1, h1 = bbox1\n",
    "    x2, y2, w2, h2 = bbox2\n",
    "    # Bottom-right corners of both bounding boxes\n",
    "    x1_br, y1_br = x1 + w1, y1 + h1\n",
    "    x2_br, y2_br = x2 + w2, y2 + h2\n",
    "\n",
    "    # Calculate the intersection coordinates\n",
    "    x_int_left = max(x1, x2)\n",
    "    y_int_top = max(y1, y2)\n",
    "    x_int_right = min(x1_br, x2_br)\n",
    "    y_int_bottom = min(y1_br, y2_br)\n",
    "\n",
    "    # Check for no overlap\n",
    "    if x_int_right <= x_int_left or y_int_bottom <= y_int_top:\n",
    "        return 0.0\n",
    "\n",
    "    # Intersection dimensions\n",
    "    int_width = x_int_right - x_int_left\n",
    "    int_height = y_int_bottom - y_int_top\n",
    "\n",
    "    # Intersection area\n",
    "    int_area = int_width * int_height\n",
    "\n",
    "    # Area of the first bounding box (BB1)\n",
    "    bb1_area = w1 * h1\n",
    "\n",
    "    # Overlap percentage\n",
    "    overlap_percentage = (int_area / bb1_area) * 100\n",
    "\n",
    "    return overlap_percentage\n",
    "\n",
    "\n",
    "def is_bbox_1_center_in_bbox_2(bbox1, bbox2):\n",
    "    x1, y1, w1, h1 = bbox1\n",
    "    x2, y2, w2, h2 = bbox2\n",
    "\n",
    "    center_x = x1 + w1 / 2\n",
    "    center_y = y1 + h1 / 2\n",
    "\n",
    "    # Check if the center of BBox1 lies within BBox2\n",
    "    if (x2 <= center_x <= x2 + w2) and (y2 <= center_y <= y2 + h2):\n",
    "        return True\n",
    "    else:\n",
    "        return False\n",
    "\n",
    "\n",
    "def grid_segment_slides(input_dir, root_output_dir, filter=None, cell_size=256, level=0):\n",
    "    if os.path.exists(root_output_dir):\n",
    "        shutil.rmtree(root_output_dir)\n",
    "    for slide_filename in os.listdir(input_dir):\n",
    "        if Path(slide_filename).suffix != \".svs\":\n",
    "            continue\n",
    "        print(slide_filename)\n",
    "        output_dir = f\"{root_output_dir}/{Path(slide_filename).stem}/{cell_size}x{cell_size}\"\n",
    "        os.makedirs(output_dir, exist_ok=True)\n",
    "        slide = openslide.OpenSlide(f\"{input_dir}/{slide_filename}\")\n",
    "\n",
    "        slide_width, slide_height = slide.level_dimensions[level]\n",
    "        cells_count_x = math.floor(slide_width / cell_size)\n",
    "        cells_count_y = math.floor(slide_height / cell_size)\n",
    "        with tqdm(total=cells_count_x * cells_count_y, desc=\"Progress\") as pbar:\n",
    "            for i, x in enumerate(range(0, slide_width, cell_size)):\n",
    "                for j, y in enumerate(range(0, slide_height, cell_size)):\n",
    "                    cell = np.array(slide.read_region((x, y), level, (cell_size, cell_size)))\n",
    "                    if filter is None or filter(cell, x, y, slide_filename):\n",
    "                        cell_file_path = f\"{output_dir}/{i},{j}_{x}_{y}.png\"\n",
    "                        cv2.imwrite(cell_file_path, cell)\n",
    "                    pbar.update(1)\n",
    "\n",
    "\n",
    "def is_not_mostly_blank(cell, non_blank_percentage=0.5, blank_threshold=240):\n",
    "    cell_gray = cv2.cvtColor(cell, cv2.COLOR_BGR2GRAY)\n",
    "    non_white_pixels = np.sum(cell_gray < blank_threshold)\n",
    "    return (non_white_pixels / cell_gray.size) > non_blank_percentage\n",
    "\n",
    "\n",
    "rois_by_file = {}\n",
    "for filepath in glob.glob(\"data/whole-slides/gut/*.json\"):\n",
    "    with open(filepath, 'r') as file:\n",
    "        rois_by_file[Path(filepath).stem] = json.load(file)\n",
    "\n",
    "print(rois_by_file)\n",
    "\n",
    "\n",
    "def is_in_any_roi(cell, cell_x, cell_y, slide_filename, overlap_threshold=0.5):\n",
    "    roi_bounding_boxes = rois_by_file[Path(slide_filename).stem]\n",
    "    cell_size = cell.shape[0]\n",
    "    cell_bbox = (cell_x, cell_y, cell_size, cell_size)\n",
    "    for bbox in roi_bounding_boxes:\n",
    "        roi_bbox = bbox[\"x_min\"], bbox[\"y_min\"], bbox[\"width\"], bbox[\"height\"]\n",
    "\n",
    "        overlap_percentage = calculate_bbox_overlap_percentage(roi_bbox, cell_bbox)\n",
    "\n",
    "        if overlap_percentage > overlap_threshold and is_bbox_1_center_in_bbox_2(roi_bbox, cell_bbox):\n",
    "            return True\n",
    "    return False\n",
    "\n",
    "\n",
    "grid_segment_slides(\n",
    "    input_dir=\"data/whole-slides/gut\",\n",
    "    root_output_dir=\"output/temp\",\n",
    "    filter=lambda cell, x, y, slide_filename: is_not_mostly_blank(cell, non_blank_percentage=0.5)\n",
    "                                              and not is_in_any_roi(cell, x, y, slide_filename),\n",
    ")"
   ],
   "id": "130b75eb023f8a91",
   "outputs": [
    {
     "name": "stdout",
     "output_type": "stream",
     "text": [
      "{'024048134068;0;A;1;HE;H;GB_522021': [{'x_min': 108200, 'y_min': 23667, 'width': 292, 'height': 323}], '522934': [{'x_min': 162664, 'y_min': 29288, 'width': 242, 'height': 236}, {'x_min': 163485, 'y_min': 29469, 'width': 253, 'height': 244}, {'x_min': 162129, 'y_min': 29096, 'width': 173, 'height': 164}, {'x_min': 167794, 'y_min': 20703, 'width': 486, 'height': 196}, {'x_min': 150454, 'y_min': 35879, 'width': 157, 'height': 129}, {'x_min': 147624, 'y_min': 32247, 'width': 178, 'height': 140}, {'x_min': 155621, 'y_min': 25969, 'width': 341, 'height': 218}, {'x_min': 168227, 'y_min': 22700, 'width': 335, 'height': 178}, {'x_min': 149590, 'y_min': 16378, 'width': 168, 'height': 330}, {'x_min': 134934, 'y_min': 39834, 'width': 178, 'height': 144}, {'x_min': 132153, 'y_min': 38294, 'width': 178, 'height': 234}, {'x_min': 127993, 'y_min': 39672, 'width': 199, 'height': 225}, {'x_min': 104503, 'y_min': 39517, 'width': 373, 'height': 403}, {'x_min': 103250, 'y_min': 38803, 'width': 307, 'height': 316}, {'x_min': 101910, 'y_min': 37489, 'width': 186, 'height': 419}, {'x_min': 101635, 'y_min': 37146, 'width': 199, 'height': 291}, {'x_min': 119333, 'y_min': 24050, 'width': 526, 'height': 371}, {'x_min': 119854, 'y_min': 22849, 'width': 278, 'height': 207}, {'x_min': 119600, 'y_min': 22489, 'width': 338, 'height': 240}, {'x_min': 125084, 'y_min': 26427, 'width': 283, 'height': 254}, {'x_min': 124953, 'y_min': 26139, 'width': 439, 'height': 177}, {'x_min': 123417, 'y_min': 24341, 'width': 214, 'height': 124}, {'x_min': 119942, 'y_min': 21901, 'width': 403, 'height': 308}, {'x_min': 73785, 'y_min': 42199, 'width': 248, 'height': 136}, {'x_min': 81963, 'y_min': 41210, 'width': 303, 'height': 177}, {'x_min': 81823, 'y_min': 40909, 'width': 266, 'height': 103}, {'x_min': 81981, 'y_min': 41653, 'width': 137, 'height': 180}, {'x_min': 76467, 'y_min': 24298, 'width': 165, 'height': 159}, {'x_min': 65087, 'y_min': 26468, 'width': 331, 'height': 225}, {'x_min': 61611, 'y_min': 27439, 'width': 288, 'height': 152}, {'x_min': 26972, 'y_min': 17544, 'width': 129, 'height': 92}]}\n",
      "024048134068;0;A;1;HE;H;GB_522021.svs\n"
     ]
    },
    {
     "name": "stderr",
     "output_type": "stream",
     "text": [
      "Progress: 135936it [05:44, 394.48it/s]                            \n"
     ]
    },
    {
     "name": "stdout",
     "output_type": "stream",
     "text": [
      "522934.svs\n"
     ]
    },
    {
     "name": "stderr",
     "output_type": "stream",
     "text": [
      "Progress: 165432it [06:50, 402.89it/s]                            \n"
     ]
    }
   ],
   "execution_count": 3
  },
  {
   "metadata": {
    "ExecuteTime": {
     "end_time": "2024-09-13T08:49:06.853514Z",
     "start_time": "2024-09-13T08:49:06.851264Z"
    }
   },
   "cell_type": "code",
   "source": "",
   "id": "fc92e54756610e68",
   "outputs": [],
   "execution_count": 2
  }
 ],
 "metadata": {
  "kernelspec": {
   "display_name": "Python 3",
   "language": "python",
   "name": "python3"
  },
  "language_info": {
   "codemirror_mode": {
    "name": "ipython",
    "version": 2
   },
   "file_extension": ".py",
   "mimetype": "text/x-python",
   "name": "python",
   "nbconvert_exporter": "python",
   "pygments_lexer": "ipython2",
   "version": "2.7.6"
  }
 },
 "nbformat": 4,
 "nbformat_minor": 5
}
