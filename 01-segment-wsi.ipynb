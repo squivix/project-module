{
 "cells": [
  {
   "metadata": {
    "ExecuteTime": {
     "end_time": "2024-09-12T14:48:06.891992Z",
     "start_time": "2024-09-12T14:48:06.871735Z"
    }
   },
   "cell_type": "code",
   "source": [
    "\n",
    "import os\n",
    "import shutil\n",
    "from pathlib import Path\n",
    "\n",
    "import cv2\n",
    "from tqdm import tqdm\n",
    "\n",
    "if hasattr(os, 'add_dll_directory'):\n",
    "    # Windows\n",
    "    OPENSLIDE_PATH = os.path.join(os.path.abspath(os.getcwd()),\n",
    "                                  \"libs/openslide-bin-4.0.0.3-windows-x64/bin\")\n",
    "    with os.add_dll_directory(OPENSLIDE_PATH):\n",
    "        import openslide\n",
    "else:\n",
    "    import openslide\n",
    "import numpy as np\n",
    "import math"
   ],
   "id": "ea56c703b206d7cb",
   "outputs": [],
   "execution_count": 2
  },
  {
   "metadata": {
    "ExecuteTime": {
     "end_time": "2024-09-12T14:48:20.924204Z",
     "start_time": "2024-09-12T14:48:06.891992Z"
    }
   },
   "cell_type": "code",
   "source": [
    "\n",
    "\n",
    "def grid_segment_slides(input_dir, root_output_dir, filter=None, cell_size=256, level=0):\n",
    "    if os.path.exists(root_output_dir):\n",
    "        shutil.rmtree(root_output_dir)\n",
    "    for slide_filename in os.listdir(input_dir):\n",
    "        output_dir = f\"{root_output_dir}/{Path(slide_filename).stem}/{cell_size}x{cell_size}\"\n",
    "        os.makedirs(output_dir, exist_ok=True)\n",
    "        slide = openslide.OpenSlide(f\"{input_dir}/{slide_filename}\")\n",
    "\n",
    "        slide_width, slide_height = slide.level_dimensions[level]\n",
    "        cells_count_x = math.floor(slide_width / cell_size)\n",
    "        cells_count_y = math.floor(slide_height / cell_size)\n",
    "        with tqdm(total=cells_count_x * cells_count_y, desc=\"Progress\") as pbar:\n",
    "            for i, x in enumerate(range(0, slide_width, cell_size)):\n",
    "                for j, y in enumerate(range(0, slide_height, cell_size)):\n",
    "                    cell = np.array(slide.read_region((x, y), level, (cell_size, cell_size)))\n",
    "                    if filter is None or filter(cell):\n",
    "                        cell_file_path = f\"{output_dir}/{i},{j}_{x}_{y}.png\"\n",
    "                        cv2.imwrite(cell_file_path, cell)\n",
    "                    pbar.update(1)\n",
    "\n",
    "\n",
    "def is_not_mostly_blank(cell, non_blank_percentage=0.5, blank_threshold=240):\n",
    "    cell_gray = cv2.cvtColor(cell, cv2.COLOR_BGR2GRAY)\n",
    "    non_white_pixels = np.sum(cell_gray < blank_threshold)\n",
    "    return (non_white_pixels / cell_gray.size) > non_blank_percentage\n",
    "\n",
    "\n",
    "grid_segment_slides(\n",
    "    input_dir=\"data/whole-slides/gut\",\n",
    "    root_output_dir=\"output/temp\",\n",
    "    filter=lambda cell: is_not_mostly_blank(cell, non_blank_percentage=0.5),\n",
    ")"
   ],
   "id": "130b75eb023f8a91",
   "outputs": [
    {
     "name": "stderr",
     "output_type": "stream",
     "text": [
      "Progress:   1%|▏         | 1913/135125 [00:06<08:02, 276.13it/s]\n"
     ]
    },
    {
     "ename": "KeyboardInterrupt",
     "evalue": "",
     "output_type": "error",
     "traceback": [
      "\u001B[1;31m---------------------------------------------------------------------------\u001B[0m",
      "\u001B[1;31mKeyboardInterrupt\u001B[0m                         Traceback (most recent call last)",
      "Cell \u001B[1;32mIn[3], line 28\u001B[0m\n\u001B[0;32m     24\u001B[0m     non_white_pixels \u001B[38;5;241m=\u001B[39m np\u001B[38;5;241m.\u001B[39msum(cell_gray \u001B[38;5;241m<\u001B[39m blank_threshold)\n\u001B[0;32m     25\u001B[0m     \u001B[38;5;28;01mreturn\u001B[39;00m (non_white_pixels \u001B[38;5;241m/\u001B[39m cell_gray\u001B[38;5;241m.\u001B[39msize) \u001B[38;5;241m>\u001B[39m non_blank_percentage\n\u001B[1;32m---> 28\u001B[0m \u001B[43mgrid_segment_slides\u001B[49m\u001B[43m(\u001B[49m\n\u001B[0;32m     29\u001B[0m \u001B[43m    \u001B[49m\u001B[43minput_dir\u001B[49m\u001B[38;5;241;43m=\u001B[39;49m\u001B[38;5;124;43m\"\u001B[39;49m\u001B[38;5;124;43mdata/whole-slides/gut\u001B[39;49m\u001B[38;5;124;43m\"\u001B[39;49m\u001B[43m,\u001B[49m\n\u001B[0;32m     30\u001B[0m \u001B[43m    \u001B[49m\u001B[43mroot_output_dir\u001B[49m\u001B[38;5;241;43m=\u001B[39;49m\u001B[38;5;124;43m\"\u001B[39;49m\u001B[38;5;124;43moutput/temp\u001B[39;49m\u001B[38;5;124;43m\"\u001B[39;49m\u001B[43m,\u001B[49m\n\u001B[0;32m     31\u001B[0m \u001B[43m    \u001B[49m\u001B[38;5;28;43mfilter\u001B[39;49m\u001B[38;5;241;43m=\u001B[39;49m\u001B[38;5;28;43;01mlambda\u001B[39;49;00m\u001B[43m \u001B[49m\u001B[43mcell\u001B[49m\u001B[43m:\u001B[49m\u001B[43m \u001B[49m\u001B[43mis_not_mostly_blank\u001B[49m\u001B[43m(\u001B[49m\u001B[43mcell\u001B[49m\u001B[43m,\u001B[49m\u001B[43m \u001B[49m\u001B[43mnon_blank_percentage\u001B[49m\u001B[38;5;241;43m=\u001B[39;49m\u001B[38;5;241;43m0.5\u001B[39;49m\u001B[43m)\u001B[49m\u001B[43m,\u001B[49m\n\u001B[0;32m     32\u001B[0m \u001B[43m)\u001B[49m\n",
      "Cell \u001B[1;32mIn[3], line 19\u001B[0m, in \u001B[0;36mgrid_segment_slides\u001B[1;34m(input_dir, root_output_dir, filter, cell_size, level)\u001B[0m\n\u001B[0;32m     17\u001B[0m     cell_file_path \u001B[38;5;241m=\u001B[39m \u001B[38;5;124mf\u001B[39m\u001B[38;5;124m\"\u001B[39m\u001B[38;5;132;01m{\u001B[39;00moutput_dir\u001B[38;5;132;01m}\u001B[39;00m\u001B[38;5;124m/\u001B[39m\u001B[38;5;132;01m{\u001B[39;00mi\u001B[38;5;132;01m}\u001B[39;00m\u001B[38;5;124m,\u001B[39m\u001B[38;5;132;01m{\u001B[39;00mj\u001B[38;5;132;01m}\u001B[39;00m\u001B[38;5;124m_\u001B[39m\u001B[38;5;132;01m{\u001B[39;00mx\u001B[38;5;132;01m}\u001B[39;00m\u001B[38;5;124m_\u001B[39m\u001B[38;5;132;01m{\u001B[39;00my\u001B[38;5;132;01m}\u001B[39;00m\u001B[38;5;124m.png\u001B[39m\u001B[38;5;124m\"\u001B[39m\n\u001B[0;32m     18\u001B[0m     cv2\u001B[38;5;241m.\u001B[39mimwrite(cell_file_path, cell)\n\u001B[1;32m---> 19\u001B[0m \u001B[43mpbar\u001B[49m\u001B[38;5;241;43m.\u001B[39;49m\u001B[43mupdate\u001B[49m\u001B[43m(\u001B[49m\u001B[38;5;241;43m1\u001B[39;49m\u001B[43m)\u001B[49m\n",
      "File \u001B[1;32m~\\PycharmProjects\\project-module\\venv\\lib\\site-packages\\tqdm\\std.py:1242\u001B[0m, in \u001B[0;36mtqdm.update\u001B[1;34m(self, n)\u001B[0m\n\u001B[0;32m   1240\u001B[0m     \u001B[38;5;28mself\u001B[39m\u001B[38;5;241m.\u001B[39m_ema_dn(dn)\n\u001B[0;32m   1241\u001B[0m     \u001B[38;5;28mself\u001B[39m\u001B[38;5;241m.\u001B[39m_ema_dt(dt)\n\u001B[1;32m-> 1242\u001B[0m \u001B[38;5;28;43mself\u001B[39;49m\u001B[38;5;241;43m.\u001B[39;49m\u001B[43mrefresh\u001B[49m\u001B[43m(\u001B[49m\u001B[43mlock_args\u001B[49m\u001B[38;5;241;43m=\u001B[39;49m\u001B[38;5;28;43mself\u001B[39;49m\u001B[38;5;241;43m.\u001B[39;49m\u001B[43mlock_args\u001B[49m\u001B[43m)\u001B[49m\n\u001B[0;32m   1243\u001B[0m \u001B[38;5;28;01mif\u001B[39;00m \u001B[38;5;28mself\u001B[39m\u001B[38;5;241m.\u001B[39mdynamic_miniters:\n\u001B[0;32m   1244\u001B[0m     \u001B[38;5;66;03m# If no `miniters` was specified, adjust automatically to the\u001B[39;00m\n\u001B[0;32m   1245\u001B[0m     \u001B[38;5;66;03m# maximum iteration rate seen so far between two prints.\u001B[39;00m\n\u001B[0;32m   1246\u001B[0m     \u001B[38;5;66;03m# e.g.: After running `tqdm.update(5)`, subsequent\u001B[39;00m\n\u001B[0;32m   1247\u001B[0m     \u001B[38;5;66;03m# calls to `tqdm.update()` will only cause an update after\u001B[39;00m\n\u001B[0;32m   1248\u001B[0m     \u001B[38;5;66;03m# at least 5 more iterations.\u001B[39;00m\n\u001B[0;32m   1249\u001B[0m     \u001B[38;5;28;01mif\u001B[39;00m \u001B[38;5;28mself\u001B[39m\u001B[38;5;241m.\u001B[39mmaxinterval \u001B[38;5;129;01mand\u001B[39;00m dt \u001B[38;5;241m>\u001B[39m\u001B[38;5;241m=\u001B[39m \u001B[38;5;28mself\u001B[39m\u001B[38;5;241m.\u001B[39mmaxinterval:\n",
      "File \u001B[1;32m~\\PycharmProjects\\project-module\\venv\\lib\\site-packages\\tqdm\\std.py:1347\u001B[0m, in \u001B[0;36mtqdm.refresh\u001B[1;34m(self, nolock, lock_args)\u001B[0m\n\u001B[0;32m   1345\u001B[0m     \u001B[38;5;28;01melse\u001B[39;00m:\n\u001B[0;32m   1346\u001B[0m         \u001B[38;5;28mself\u001B[39m\u001B[38;5;241m.\u001B[39m_lock\u001B[38;5;241m.\u001B[39macquire()\n\u001B[1;32m-> 1347\u001B[0m \u001B[38;5;28;43mself\u001B[39;49m\u001B[38;5;241;43m.\u001B[39;49m\u001B[43mdisplay\u001B[49m\u001B[43m(\u001B[49m\u001B[43m)\u001B[49m\n\u001B[0;32m   1348\u001B[0m \u001B[38;5;28;01mif\u001B[39;00m \u001B[38;5;129;01mnot\u001B[39;00m nolock:\n\u001B[0;32m   1349\u001B[0m     \u001B[38;5;28mself\u001B[39m\u001B[38;5;241m.\u001B[39m_lock\u001B[38;5;241m.\u001B[39mrelease()\n",
      "File \u001B[1;32m~\\PycharmProjects\\project-module\\venv\\lib\\site-packages\\tqdm\\std.py:1495\u001B[0m, in \u001B[0;36mtqdm.display\u001B[1;34m(self, msg, pos)\u001B[0m\n\u001B[0;32m   1493\u001B[0m \u001B[38;5;28;01mif\u001B[39;00m pos:\n\u001B[0;32m   1494\u001B[0m     \u001B[38;5;28mself\u001B[39m\u001B[38;5;241m.\u001B[39mmoveto(pos)\n\u001B[1;32m-> 1495\u001B[0m \u001B[38;5;28;43mself\u001B[39;49m\u001B[38;5;241;43m.\u001B[39;49m\u001B[43msp\u001B[49m\u001B[43m(\u001B[49m\u001B[38;5;28;43mself\u001B[39;49m\u001B[38;5;241;43m.\u001B[39;49m\u001B[38;5;21;43m__str__\u001B[39;49m\u001B[43m(\u001B[49m\u001B[43m)\u001B[49m\u001B[43m \u001B[49m\u001B[38;5;28;43;01mif\u001B[39;49;00m\u001B[43m \u001B[49m\u001B[43mmsg\u001B[49m\u001B[43m \u001B[49m\u001B[38;5;129;43;01mis\u001B[39;49;00m\u001B[43m \u001B[49m\u001B[38;5;28;43;01mNone\u001B[39;49;00m\u001B[43m \u001B[49m\u001B[38;5;28;43;01melse\u001B[39;49;00m\u001B[43m \u001B[49m\u001B[43mmsg\u001B[49m\u001B[43m)\u001B[49m\n\u001B[0;32m   1496\u001B[0m \u001B[38;5;28;01mif\u001B[39;00m pos:\n\u001B[0;32m   1497\u001B[0m     \u001B[38;5;28mself\u001B[39m\u001B[38;5;241m.\u001B[39mmoveto(\u001B[38;5;241m-\u001B[39mpos)\n",
      "File \u001B[1;32m~\\PycharmProjects\\project-module\\venv\\lib\\site-packages\\tqdm\\std.py:459\u001B[0m, in \u001B[0;36mtqdm.status_printer.<locals>.print_status\u001B[1;34m(s)\u001B[0m\n\u001B[0;32m    457\u001B[0m \u001B[38;5;28;01mdef\u001B[39;00m \u001B[38;5;21mprint_status\u001B[39m(s):\n\u001B[0;32m    458\u001B[0m     len_s \u001B[38;5;241m=\u001B[39m disp_len(s)\n\u001B[1;32m--> 459\u001B[0m     \u001B[43mfp_write\u001B[49m\u001B[43m(\u001B[49m\u001B[38;5;124;43m'\u001B[39;49m\u001B[38;5;130;43;01m\\r\u001B[39;49;00m\u001B[38;5;124;43m'\u001B[39;49m\u001B[43m \u001B[49m\u001B[38;5;241;43m+\u001B[39;49m\u001B[43m \u001B[49m\u001B[43ms\u001B[49m\u001B[43m \u001B[49m\u001B[38;5;241;43m+\u001B[39;49m\u001B[43m \u001B[49m\u001B[43m(\u001B[49m\u001B[38;5;124;43m'\u001B[39;49m\u001B[38;5;124;43m \u001B[39;49m\u001B[38;5;124;43m'\u001B[39;49m\u001B[43m \u001B[49m\u001B[38;5;241;43m*\u001B[39;49m\u001B[43m \u001B[49m\u001B[38;5;28;43mmax\u001B[39;49m\u001B[43m(\u001B[49m\u001B[43mlast_len\u001B[49m\u001B[43m[\u001B[49m\u001B[38;5;241;43m0\u001B[39;49m\u001B[43m]\u001B[49m\u001B[43m \u001B[49m\u001B[38;5;241;43m-\u001B[39;49m\u001B[43m \u001B[49m\u001B[43mlen_s\u001B[49m\u001B[43m,\u001B[49m\u001B[43m \u001B[49m\u001B[38;5;241;43m0\u001B[39;49m\u001B[43m)\u001B[49m\u001B[43m)\u001B[49m\u001B[43m)\u001B[49m\n\u001B[0;32m    460\u001B[0m     last_len[\u001B[38;5;241m0\u001B[39m] \u001B[38;5;241m=\u001B[39m len_s\n",
      "File \u001B[1;32m~\\PycharmProjects\\project-module\\venv\\lib\\site-packages\\tqdm\\std.py:453\u001B[0m, in \u001B[0;36mtqdm.status_printer.<locals>.fp_write\u001B[1;34m(s)\u001B[0m\n\u001B[0;32m    451\u001B[0m \u001B[38;5;28;01mdef\u001B[39;00m \u001B[38;5;21mfp_write\u001B[39m(s):\n\u001B[0;32m    452\u001B[0m     fp\u001B[38;5;241m.\u001B[39mwrite(\u001B[38;5;28mstr\u001B[39m(s))\n\u001B[1;32m--> 453\u001B[0m     \u001B[43mfp_flush\u001B[49m\u001B[43m(\u001B[49m\u001B[43m)\u001B[49m\n",
      "File \u001B[1;32m~\\PycharmProjects\\project-module\\venv\\lib\\site-packages\\tqdm\\utils.py:196\u001B[0m, in \u001B[0;36mDisableOnWriteError.disable_on_exception.<locals>.inner\u001B[1;34m(*args, **kwargs)\u001B[0m\n\u001B[0;32m    194\u001B[0m \u001B[38;5;28;01mdef\u001B[39;00m \u001B[38;5;21minner\u001B[39m(\u001B[38;5;241m*\u001B[39margs, \u001B[38;5;241m*\u001B[39m\u001B[38;5;241m*\u001B[39mkwargs):\n\u001B[0;32m    195\u001B[0m     \u001B[38;5;28;01mtry\u001B[39;00m:\n\u001B[1;32m--> 196\u001B[0m         \u001B[38;5;28;01mreturn\u001B[39;00m func(\u001B[38;5;241m*\u001B[39margs, \u001B[38;5;241m*\u001B[39m\u001B[38;5;241m*\u001B[39mkwargs)\n\u001B[0;32m    197\u001B[0m     \u001B[38;5;28;01mexcept\u001B[39;00m \u001B[38;5;167;01mOSError\u001B[39;00m \u001B[38;5;28;01mas\u001B[39;00m e:\n\u001B[0;32m    198\u001B[0m         \u001B[38;5;28;01mif\u001B[39;00m e\u001B[38;5;241m.\u001B[39merrno \u001B[38;5;241m!=\u001B[39m \u001B[38;5;241m5\u001B[39m:\n",
      "File \u001B[1;32m~\\PycharmProjects\\project-module\\venv\\lib\\site-packages\\ipykernel\\iostream.py:604\u001B[0m, in \u001B[0;36mOutStream.flush\u001B[1;34m(self)\u001B[0m\n\u001B[0;32m    593\u001B[0m \u001B[38;5;250m\u001B[39m\u001B[38;5;124;03m\"\"\"trigger actual zmq send\u001B[39;00m\n\u001B[0;32m    594\u001B[0m \n\u001B[0;32m    595\u001B[0m \u001B[38;5;124;03msend will happen in the background thread\u001B[39;00m\n\u001B[0;32m    596\u001B[0m \u001B[38;5;124;03m\"\"\"\u001B[39;00m\n\u001B[0;32m    597\u001B[0m \u001B[38;5;28;01mif\u001B[39;00m (\n\u001B[0;32m    598\u001B[0m     \u001B[38;5;28mself\u001B[39m\u001B[38;5;241m.\u001B[39mpub_thread\n\u001B[0;32m    599\u001B[0m     \u001B[38;5;129;01mand\u001B[39;00m \u001B[38;5;28mself\u001B[39m\u001B[38;5;241m.\u001B[39mpub_thread\u001B[38;5;241m.\u001B[39mthread \u001B[38;5;129;01mis\u001B[39;00m \u001B[38;5;129;01mnot\u001B[39;00m \u001B[38;5;28;01mNone\u001B[39;00m\n\u001B[1;32m   (...)\u001B[0m\n\u001B[0;32m    602\u001B[0m ):\n\u001B[0;32m    603\u001B[0m     \u001B[38;5;66;03m# request flush on the background thread\u001B[39;00m\n\u001B[1;32m--> 604\u001B[0m     \u001B[38;5;28;43mself\u001B[39;49m\u001B[38;5;241;43m.\u001B[39;49m\u001B[43mpub_thread\u001B[49m\u001B[38;5;241;43m.\u001B[39;49m\u001B[43mschedule\u001B[49m\u001B[43m(\u001B[49m\u001B[38;5;28;43mself\u001B[39;49m\u001B[38;5;241;43m.\u001B[39;49m\u001B[43m_flush\u001B[49m\u001B[43m)\u001B[49m\n\u001B[0;32m    605\u001B[0m     \u001B[38;5;66;03m# wait for flush to actually get through, if we can.\u001B[39;00m\n\u001B[0;32m    606\u001B[0m     evt \u001B[38;5;241m=\u001B[39m threading\u001B[38;5;241m.\u001B[39mEvent()\n",
      "File \u001B[1;32m~\\PycharmProjects\\project-module\\venv\\lib\\site-packages\\ipykernel\\iostream.py:267\u001B[0m, in \u001B[0;36mIOPubThread.schedule\u001B[1;34m(self, f)\u001B[0m\n\u001B[0;32m    265\u001B[0m     \u001B[38;5;28mself\u001B[39m\u001B[38;5;241m.\u001B[39m_events\u001B[38;5;241m.\u001B[39mappend(f)\n\u001B[0;32m    266\u001B[0m     \u001B[38;5;66;03m# wake event thread (message content is ignored)\u001B[39;00m\n\u001B[1;32m--> 267\u001B[0m     \u001B[38;5;28;43mself\u001B[39;49m\u001B[38;5;241;43m.\u001B[39;49m\u001B[43m_event_pipe\u001B[49m\u001B[38;5;241;43m.\u001B[39;49m\u001B[43msend\u001B[49m\u001B[43m(\u001B[49m\u001B[38;5;124;43mb\u001B[39;49m\u001B[38;5;124;43m\"\u001B[39;49m\u001B[38;5;124;43m\"\u001B[39;49m\u001B[43m)\u001B[49m\n\u001B[0;32m    268\u001B[0m \u001B[38;5;28;01melse\u001B[39;00m:\n\u001B[0;32m    269\u001B[0m     f()\n",
      "File \u001B[1;32m~\\PycharmProjects\\project-module\\venv\\lib\\site-packages\\zmq\\sugar\\socket.py:701\u001B[0m, in \u001B[0;36mSocket.send\u001B[1;34m(self, data, flags, copy, track, routing_id, group)\u001B[0m\n\u001B[0;32m    694\u001B[0m         data \u001B[38;5;241m=\u001B[39m zmq\u001B[38;5;241m.\u001B[39mFrame(\n\u001B[0;32m    695\u001B[0m             data,\n\u001B[0;32m    696\u001B[0m             track\u001B[38;5;241m=\u001B[39mtrack,\n\u001B[0;32m    697\u001B[0m             copy\u001B[38;5;241m=\u001B[39mcopy \u001B[38;5;129;01mor\u001B[39;00m \u001B[38;5;28;01mNone\u001B[39;00m,\n\u001B[0;32m    698\u001B[0m             copy_threshold\u001B[38;5;241m=\u001B[39m\u001B[38;5;28mself\u001B[39m\u001B[38;5;241m.\u001B[39mcopy_threshold,\n\u001B[0;32m    699\u001B[0m         )\n\u001B[0;32m    700\u001B[0m     data\u001B[38;5;241m.\u001B[39mgroup \u001B[38;5;241m=\u001B[39m group\n\u001B[1;32m--> 701\u001B[0m \u001B[38;5;28;01mreturn\u001B[39;00m \u001B[38;5;28;43msuper\u001B[39;49m\u001B[43m(\u001B[49m\u001B[43m)\u001B[49m\u001B[38;5;241;43m.\u001B[39;49m\u001B[43msend\u001B[49m\u001B[43m(\u001B[49m\u001B[43mdata\u001B[49m\u001B[43m,\u001B[49m\u001B[43m \u001B[49m\u001B[43mflags\u001B[49m\u001B[38;5;241;43m=\u001B[39;49m\u001B[43mflags\u001B[49m\u001B[43m,\u001B[49m\u001B[43m \u001B[49m\u001B[43mcopy\u001B[49m\u001B[38;5;241;43m=\u001B[39;49m\u001B[43mcopy\u001B[49m\u001B[43m,\u001B[49m\u001B[43m \u001B[49m\u001B[43mtrack\u001B[49m\u001B[38;5;241;43m=\u001B[39;49m\u001B[43mtrack\u001B[49m\u001B[43m)\u001B[49m\n",
      "File \u001B[1;32m_zmq.py:1092\u001B[0m, in \u001B[0;36mzmq.backend.cython._zmq.Socket.send\u001B[1;34m()\u001B[0m\n",
      "File \u001B[1;32m_zmq.py:1140\u001B[0m, in \u001B[0;36mzmq.backend.cython._zmq.Socket.send\u001B[1;34m()\u001B[0m\n",
      "File \u001B[1;32m_zmq.py:1339\u001B[0m, in \u001B[0;36mzmq.backend.cython._zmq._send_copy\u001B[1;34m()\u001B[0m\n",
      "File \u001B[1;32m_zmq.py:160\u001B[0m, in \u001B[0;36mzmq.backend.cython._zmq._check_rc\u001B[1;34m()\u001B[0m\n",
      "\u001B[1;31mKeyboardInterrupt\u001B[0m: "
     ]
    }
   ],
   "execution_count": 3
  }
 ],
 "metadata": {
  "kernelspec": {
   "display_name": "Python 3",
   "language": "python",
   "name": "python3"
  },
  "language_info": {
   "codemirror_mode": {
    "name": "ipython",
    "version": 2
   },
   "file_extension": ".py",
   "mimetype": "text/x-python",
   "name": "python",
   "nbconvert_exporter": "python",
   "pygments_lexer": "ipython2",
   "version": "2.7.6"
  }
 },
 "nbformat": 4,
 "nbformat_minor": 5
}
