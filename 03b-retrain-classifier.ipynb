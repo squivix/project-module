{
 "cells": [
  {
   "cell_type": "code",
   "id": "initial_id",
   "metadata": {
    "collapsed": true,
    "ExecuteTime": {
     "end_time": "2024-09-13T10:52:44.463870Z",
     "start_time": "2024-09-13T10:52:41.678041Z"
    }
   },
   "source": [
    "\n",
    "\n",
    "import torch\n",
    "from torch.utils.data import DataLoader\n",
    "from torchvision.transforms import v2\n",
    "\n",
    "from datasets.CSVStreamDataset import CSVStreamDataset\n",
    "from datasets.LabeledImageDataset import LabeledImageDataset\n",
    "from models.resnet import Resnet18Model\n",
    "from utils import oversample_dataset\n",
    "from utils import reduce_dataset, split_dataset, undersample_dataset\n",
    "\n",
    "device = torch.device('cuda:0' if torch.cuda.is_available() else 'cpu')\n",
    "print(f\"Device: {device}\")\n",
    "\n",
    "batch_size = 128\n",
    "dataset = CSVStreamDataset(\"pretrained_outputs.csv\")\n",
    "dataset = reduce_dataset(dataset, discard_ratio=0.0)\n",
    "train_dataset, test_dataset = split_dataset(dataset, train_ratio=0.7)\n",
    "train_dataset = oversample_dataset(undersample_dataset(train_dataset, target_size=2000),\n",
    "                                   augment_Size=1800,\n",
    "                                   transforms=v2.Compose([\n",
    "                                       v2.ToImage(),\n",
    "                                       # v2.RandomResizedCrop(size=(256, 256), scale=(0.8, 1.0)),\n",
    "                                       v2.RandomHorizontalFlip(p=0.5),\n",
    "                                       v2.RandomVerticalFlip(p=0.5),\n",
    "                                       v2.RandomRotation(degrees=30),\n",
    "                                       # v2.ColorJitter(brightness=0.2, contrast=0.2, saturation=0.2, hue=0.1),\n",
    "                                       # v2.GaussianBlur(kernel_size=(5, 9), sigma=(0.1, 5)),\n",
    "                                       v2.ToDtype(torch.float32, scale=True),\n",
    "                                       v2.Normalize(mean=[0.485, 0.456, 0.406], std=[0.229, 0.224, 0.225]),\n",
    "                                   ]))  #undersample_dataset(train_dataset)\n",
    "\n",
    "train_loader = DataLoader(train_dataset,\n",
    "                          batch_size=batch_size,\n",
    "                          shuffle=True)\n",
    "test_loader = DataLoader(test_dataset,\n",
    "                         batch_size=batch_size,\n",
    "                         shuffle=True, )\n",
    "\n",
    "model = Resnet18Model(hidden_layers=2, units_per_layer=2048, dropout=0.4)\n",
    "\n",
    "print(f\"Dataset: {len(train_dataset):,} training, {len(test_dataset):,} testing\")\n"
   ],
   "outputs": [
    {
     "name": "stdout",
     "output_type": "stream",
     "text": [
      "Device: cuda:0\n",
      "Dataset: 48,017 training, 10,294 testing\n"
     ]
    }
   ],
   "execution_count": 1
  }
 ],
 "metadata": {
  "kernelspec": {
   "display_name": "Python 3",
   "language": "python",
   "name": "python3"
  },
  "language_info": {
   "codemirror_mode": {
    "name": "ipython",
    "version": 2
   },
   "file_extension": ".py",
   "mimetype": "text/x-python",
   "name": "python",
   "nbconvert_exporter": "python",
   "pygments_lexer": "ipython2",
   "version": "2.7.6"
  }
 },
 "nbformat": 4,
 "nbformat_minor": 5
}
