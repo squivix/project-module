{
 "cells": [
  {
   "cell_type": "code",
   "id": "initial_id",
   "metadata": {
    "collapsed": true,
    "ExecuteTime": {
     "end_time": "2025-01-30T14:47:43.920683Z",
     "start_time": "2025-01-30T14:45:47.370863Z"
    }
   },
   "source": [
    "from datasets.CSVDataset import CSVDataset\n",
    "from utils import reduce_dataset\n",
    "from train import kfold_grid_search\n",
    "import torch\n",
    "\n",
    "device = torch.device('cuda:0' if torch.cuda.is_available() else 'cpu')\n",
    "dataset = CSVDataset(\"data/features/Resnet18Model_features.csv\")\n",
    "dataset = reduce_dataset(dataset, discard_ratio=0.0)\n",
    "print(f\"{len(dataset):,} examples\")\n",
    "kfold_grid_search(dataset, in_features=512, device=device,\n",
    "                  checkpoint_file_path=None,  #\"grid-search-25.json\",\n",
    "                  batch_size=256,\n",
    "                  max_epochs=50,\n",
    "                  undersample=False,\n",
    "                  hidden_layer_combs=[1],\n",
    "                  unit_combs=[1024],\n",
    "                  learning_rate_combs=[0.00007],\n",
    "                  dropout_combs=[0.25],\n",
    "                  threshold_combs=[0.5],\n",
    "                  focal_alpha_combs=[0.1, 0.5,0.9],\n",
    "                  )\n"
   ],
   "outputs": [
    {
     "name": "stdout",
     "output_type": "stream",
     "text": [
      "data/features/Resnet18Model_features.pickle\n",
      "20,227 examples\n",
      "(0/3) (hidden_layers=1, units=1024, dropout=0.25, threshold=0.5, learning_rate=7e-05, weight_decay=0.0, focal_alpha=0.1, focal_gamma=2.0)\n"
     ]
    },
    {
     "name": "stderr",
     "output_type": "stream",
     "text": [
      "Fold 1: 100%|██████████| 50/50 [00:06<00:00,  8.09it/s]\n",
      "Testing: 100%|██████████| 16/16 [00:00<00:00, 512.03it/s]\n",
      "Fold 2: 100%|██████████| 50/50 [00:06<00:00,  7.88it/s]\n",
      "Testing: 100%|██████████| 16/16 [00:00<00:00, 1019.75it/s]\n",
      "Fold 3: 100%|██████████| 50/50 [00:07<00:00,  6.56it/s]\n",
      "Testing: 100%|██████████| 16/16 [00:00<00:00, 166.05it/s]\n",
      "Fold 4: 100%|██████████| 50/50 [00:15<00:00,  3.28it/s]\n",
      "Testing: 100%|██████████| 16/16 [00:00<00:00, 117.91it/s]\n",
      "Fold 5: 100%|██████████| 50/50 [00:14<00:00,  3.44it/s]\n",
      "Testing: 100%|██████████| 16/16 [00:00<00:00, 190.12it/s]\n"
     ]
    },
    {
     "name": "stdout",
     "output_type": "stream",
     "text": [
      "{'test_loss': 0.012153607909567654, 'test_accuracy': 0.9533031931720636, 'test_precision': 0.8293452380952381, 'test_recall': 0.21223400177608767, 'test_f1': 0.32528110358131224, 'test_mcc': 0.39489897841945015}\n",
      "(1/3) (hidden_layers=1, units=1024, dropout=0.25, threshold=0.5, learning_rate=7e-05, weight_decay=0.0, focal_alpha=0.5, focal_gamma=2.0)\n"
     ]
    },
    {
     "name": "stderr",
     "output_type": "stream",
     "text": [
      "Fold 1: 100%|██████████| 50/50 [00:07<00:00,  6.95it/s]\n",
      "Testing: 100%|██████████| 16/16 [00:00<00:00, 396.65it/s]\n",
      "Fold 2: 100%|██████████| 50/50 [00:06<00:00,  8.20it/s]\n",
      "Testing: 100%|██████████| 16/16 [00:00<00:00, 498.34it/s]\n",
      "Fold 3: 100%|██████████| 50/50 [00:06<00:00,  8.08it/s]\n",
      "Testing: 100%|██████████| 16/16 [00:00<00:00, 511.45it/s]\n",
      "Fold 4: 100%|██████████| 50/50 [00:06<00:00,  8.08it/s]\n",
      "Testing: 100%|██████████| 16/16 [00:00<00:00, 512.44it/s]\n",
      "Fold 5: 100%|██████████| 50/50 [00:06<00:00,  7.84it/s]\n",
      "Testing: 100%|██████████| 16/16 [00:00<00:00, 1023.11it/s]\n"
     ]
    },
    {
     "name": "stdout",
     "output_type": "stream",
     "text": [
      "{'test_loss': 0.041386783216148616, 'test_accuracy': 0.9560119088362834, 'test_precision': 0.7905654761904761, 'test_recall': 0.30282232032355705, 'test_f1': 0.4264142042296883, 'test_mcc': 0.4650284134870374}\n",
      "(2/3) (hidden_layers=1, units=1024, dropout=0.25, threshold=0.5, learning_rate=7e-05, weight_decay=0.0, focal_alpha=0.9, focal_gamma=2.0)\n"
     ]
    },
    {
     "name": "stderr",
     "output_type": "stream",
     "text": [
      "Fold 1: 100%|██████████| 50/50 [00:06<00:00,  8.20it/s]\n",
      "Testing: 100%|██████████| 16/16 [00:00<00:00, 1023.67it/s]\n",
      "Fold 2: 100%|██████████| 50/50 [00:06<00:00,  7.90it/s]\n",
      "Testing: 100%|██████████| 16/16 [00:00<00:00, 513.08it/s]\n",
      "Fold 3: 100%|██████████| 50/50 [00:06<00:00,  8.09it/s]\n",
      "Testing: 100%|██████████| 16/16 [00:00<00:00, 512.05it/s]\n",
      "Fold 4: 100%|██████████| 50/50 [00:06<00:00,  8.29it/s]\n",
      "Testing: 100%|██████████| 16/16 [00:00<00:00, 972.90it/s]\n",
      "Fold 5: 100%|██████████| 50/50 [00:06<00:00,  8.05it/s]\n",
      "Testing: 100%|██████████| 16/16 [00:00<00:00, 702.85it/s]"
     ]
    },
    {
     "name": "stdout",
     "output_type": "stream",
     "text": [
      "{'test_loss': 0.05903101855656132, 'test_accuracy': 0.9532061936678605, 'test_precision': 0.6852242192039986, 'test_recall': 0.37812643609148433, 'test_f1': 0.4614447068204847, 'test_mcc': 0.47406369171332213}\n",
      "\n",
      "Best params: (hidden_layers=1, units=1024, dropout=0.25, threshold=0.5, learning_rate=7e-05, weight_decay=0.0, focal_alpha=0.9, focal_gamma=2.0)\n",
      "Best performance: {'test_loss': 0.05903101855656132, 'test_accuracy': 0.9532061936678605, 'test_precision': 0.6852242192039986, 'test_recall': 0.37812643609148433, 'test_f1': 0.4614447068204847, 'test_mcc': 0.47406369171332213}\n"
     ]
    },
    {
     "name": "stderr",
     "output_type": "stream",
     "text": [
      "\n"
     ]
    }
   ],
   "execution_count": 1
  },
  {
   "metadata": {
    "ExecuteTime": {
     "end_time": "2025-01-30T14:47:44.045785Z",
     "start_time": "2025-01-30T14:47:44.043136Z"
    }
   },
   "cell_type": "code",
   "source": "",
   "id": "f01fbc77b26dc0ad",
   "outputs": [],
   "execution_count": null
  }
 ],
 "metadata": {
  "kernelspec": {
   "display_name": "Python 3",
   "language": "python",
   "name": "python3"
  },
  "language_info": {
   "codemirror_mode": {
    "name": "ipython",
    "version": 2
   },
   "file_extension": ".py",
   "mimetype": "text/x-python",
   "name": "python",
   "nbconvert_exporter": "python",
   "pygments_lexer": "ipython2",
   "version": "2.7.6"
  }
 },
 "nbformat": 4,
 "nbformat_minor": 5
}
