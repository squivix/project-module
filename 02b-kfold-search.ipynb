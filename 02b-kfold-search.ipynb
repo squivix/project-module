{
 "cells": [
  {
   "cell_type": "code",
   "id": "initial_id",
   "metadata": {
    "collapsed": true,
    "ExecuteTime": {
     "end_time": "2024-12-18T12:15:35.746121Z",
     "start_time": "2024-12-18T12:15:00.303190Z"
    }
   },
   "source": [
    "from datasets.CSVDataset import CSVDataset\n",
    "from utils import reduce_dataset\n",
    "from train import kfold_grid_search\n",
    "import torch\n",
    "\n",
    "device = torch.device('cuda:0' if torch.cuda.is_available() else 'cpu')\n",
    "dataset = CSVDataset(\"data/features/Resnet18Model_features.csv\")\n",
    "dataset = reduce_dataset(dataset, discard_ratio=0.0)\n",
    "print(f\"{len(dataset):,} examples\")\n",
    "kfold_grid_search(dataset, in_features=512, device=device,\n",
    "                  checkpoint_file_path=None,  #\"grid-search-25.json\",\n",
    "                  batch_size=256,\n",
    "                  max_epochs=100,\n",
    "                  hidden_layer_combs=[2],\n",
    "                  unit_combs=[2048],\n",
    "                  learning_rate_combs=[0.0001],\n",
    "                  dropout_combs=[0.4],\n",
    "                  threshold_combs=[0.5],\n",
    "                  focal_alpha_combs=[0.02, 0.03, 0.04],\n",
    "                  )\n"
   ],
   "outputs": [
    {
     "name": "stdout",
     "output_type": "stream",
     "text": [
      "data/features/Resnet18Model_features.pickle\n",
      "20,227 examples\n",
      "(0/3) (hidden_layers=2, units=2048, dropout=0.4, threshold=0.5, learning_rate=0.0001, weight_decay=0.0, focal_alpha=0.02, focal_gamma=2.0)\n"
     ]
    },
    {
     "name": "stderr",
     "output_type": "stream",
     "text": [
      "Fold 1: 100%|██████████| 100/100 [00:02<00:00, 45.56it/s]\n",
      "Testing: 100%|██████████| 16/16 [00:00<00:00, 453.75it/s]\n",
      "Fold 2: 100%|██████████| 100/100 [00:01<00:00, 50.61it/s]\n",
      "Testing: 100%|██████████| 16/16 [00:00<00:00, 1023.14it/s]\n",
      "Fold 3: 100%|██████████| 100/100 [00:01<00:00, 52.68it/s]\n",
      "Testing: 100%|██████████| 16/16 [00:00<00:00, 1023.70it/s]\n",
      "Fold 4: 100%|██████████| 100/100 [00:02<00:00, 49.22it/s]\n",
      "Testing: 100%|██████████| 16/16 [00:00<00:00, 812.39it/s]\n",
      "Fold 5: 100%|██████████| 100/100 [00:01<00:00, 50.31it/s]\n",
      "Testing: 100%|██████████| 16/16 [00:00<00:00, 1025.89it/s]\n"
     ]
    },
    {
     "name": "stdout",
     "output_type": "stream",
     "text": [
      "{'test_loss': 0.005530871349037625, 'test_accuracy': 0.8022119961557246, 'test_precision': 0.24747445772341264, 'test_recall': 0.7903745768953444, 'test_f1': 0.3731481425922065, 'test_mcc': 0.3653898373337635}\n",
      "(1/3) (hidden_layers=2, units=2048, dropout=0.4, threshold=0.5, learning_rate=0.0001, weight_decay=0.0, focal_alpha=0.03, focal_gamma=2.0)\n"
     ]
    },
    {
     "name": "stderr",
     "output_type": "stream",
     "text": [
      "Fold 1: 100%|██████████| 100/100 [00:01<00:00, 50.55it/s]\n",
      "Testing: 100%|██████████| 16/16 [00:00<00:00, 414.69it/s]\n",
      "Fold 2: 100%|██████████| 100/100 [00:02<00:00, 48.97it/s]\n",
      "Testing: 100%|██████████| 16/16 [00:00<00:00, 511.86it/s]\n",
      "Fold 3: 100%|██████████| 100/100 [00:01<00:00, 50.73it/s]\n",
      "Testing: 100%|██████████| 16/16 [00:00<00:00, 1025.80it/s]\n",
      "Fold 4: 100%|██████████| 100/100 [00:01<00:00, 50.77it/s]\n",
      "Testing: 100%|██████████| 16/16 [00:00<00:00, 479.22it/s]\n",
      "Fold 5: 100%|██████████| 100/100 [00:02<00:00, 49.43it/s]\n",
      "Testing: 100%|██████████| 16/16 [00:00<00:00, 1030.00it/s]\n"
     ]
    },
    {
     "name": "stdout",
     "output_type": "stream",
     "text": [
      "{'test_loss': 0.008273896714672446, 'test_accuracy': 0.8039149380068966, 'test_precision': 0.24752330906103284, 'test_recall': 0.7582249805079502, 'test_f1': 0.36756522248222107, 'test_mcc': 0.35389287435658756}\n",
      "(2/3) (hidden_layers=2, units=2048, dropout=0.4, threshold=0.5, learning_rate=0.0001, weight_decay=0.0, focal_alpha=0.04, focal_gamma=2.0)\n"
     ]
    },
    {
     "name": "stderr",
     "output_type": "stream",
     "text": [
      "Fold 1: 100%|██████████| 100/100 [00:02<00:00, 49.10it/s]\n",
      "Testing: 100%|██████████| 16/16 [00:00<00:00, 1026.05it/s]\n",
      "Fold 2: 100%|██████████| 100/100 [00:02<00:00, 48.89it/s]\n",
      "Testing: 100%|██████████| 16/16 [00:00<00:00, 1023.91it/s]\n",
      "Fold 3: 100%|██████████| 100/100 [00:01<00:00, 50.84it/s]\n",
      "Testing: 100%|██████████| 16/16 [00:00<00:00, 513.30it/s]\n",
      "Fold 4: 100%|██████████| 100/100 [00:01<00:00, 51.53it/s]\n",
      "Testing: 100%|██████████| 16/16 [00:00<00:00, 513.01it/s]\n",
      "Fold 5: 100%|██████████| 100/100 [00:02<00:00, 47.58it/s]\n",
      "Testing: 100%|██████████| 16/16 [00:00<00:00, 1023.67it/s]"
     ]
    },
    {
     "name": "stdout",
     "output_type": "stream",
     "text": [
      "{'test_loss': 0.013212358776945621, 'test_accuracy': 0.7824104189483186, 'test_precision': 0.23571883320458936, 'test_recall': 0.802686111725848, 'test_f1': 0.3584243304393711, 'test_mcc': 0.3529683805272565}\n",
      "\n",
      "Best params: (hidden_layers=2, units=2048, dropout=0.4, threshold=0.5, learning_rate=0.0001, weight_decay=0.0, focal_alpha=0.02, focal_gamma=2.0)\n",
      "Best performance: {'test_loss': 0.005530871349037625, 'test_accuracy': 0.8022119961557246, 'test_precision': 0.24747445772341264, 'test_recall': 0.7903745768953444, 'test_f1': 0.3731481425922065, 'test_mcc': 0.3653898373337635}\n"
     ]
    },
    {
     "name": "stderr",
     "output_type": "stream",
     "text": [
      "\n"
     ]
    }
   ],
   "execution_count": 1
  },
  {
   "metadata": {
    "ExecuteTime": {
     "end_time": "2024-12-18T12:15:35.751208Z",
     "start_time": "2024-12-18T12:15:35.746121Z"
    }
   },
   "cell_type": "code",
   "source": "",
   "id": "f01fbc77b26dc0ad",
   "outputs": [],
   "execution_count": null
  }
 ],
 "metadata": {
  "kernelspec": {
   "display_name": "Python 3",
   "language": "python",
   "name": "python3"
  },
  "language_info": {
   "codemirror_mode": {
    "name": "ipython",
    "version": 2
   },
   "file_extension": ".py",
   "mimetype": "text/x-python",
   "name": "python",
   "nbconvert_exporter": "python",
   "pygments_lexer": "ipython2",
   "version": "2.7.6"
  }
 },
 "nbformat": 4,
 "nbformat_minor": 5
}
