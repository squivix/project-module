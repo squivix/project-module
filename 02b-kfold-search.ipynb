{
 "cells": [
  {
   "cell_type": "code",
   "id": "initial_id",
   "metadata": {
    "collapsed": true,
    "ExecuteTime": {
     "start_time": "2025-01-28T20:01:28.798093Z"
    }
   },
   "source": [
    "from datasets.CSVDataset import CSVDataset\n",
    "from utils import reduce_dataset\n",
    "from train import kfold_grid_search\n",
    "import torch\n",
    "\n",
    "device = torch.device('cuda:0' if torch.cuda.is_available() else 'cpu')\n",
    "dataset = CSVDataset(\"data/features/Resnet50Model_features.csv\")\n",
    "dataset = reduce_dataset(dataset, discard_ratio=0.0)\n",
    "print(f\"{len(dataset):,} examples\")\n",
    "kfold_grid_search(dataset, in_features=2048, device=device,\n",
    "                  checkpoint_file_path=None,  #\"grid-search-25.json\",\n",
    "                  batch_size=256,\n",
    "                  max_epochs=20,\n",
    "                  hidden_layer_combs=[1,2,3],\n",
    "                  unit_combs=[512,1024,2048],\n",
    "                  learning_rate_combs=[0.0001],\n",
    "                  dropout_combs=[0.2,0.3,0.4],\n",
    "                  threshold_combs=[0.5],\n",
    "                  focal_alpha_combs=[0.02, 0.03, 0.04],\n",
    "                  )\n"
   ],
   "outputs": [
    {
     "name": "stdout",
     "output_type": "stream",
     "text": [
      "data/features/Resnet50Model_features.pickle\n",
      "20,227 examples\n",
      "(0/81) (hidden_layers=1, units=512, dropout=0.2, threshold=0.5, learning_rate=0.0001, weight_decay=0.0, focal_alpha=0.02, focal_gamma=2.0)\n"
     ]
    },
    {
     "name": "stderr",
     "output_type": "stream",
     "text": [
      "Fold 1: 100%|██████████| 20/20 [00:00<00:00, 44.62it/s]\n",
      "Testing: 100%|██████████| 16/16 [00:00<00:00, 435.07it/s]\n",
      "Fold 2: 100%|██████████| 20/20 [00:00<00:00, 57.47it/s]\n",
      "Testing: 100%|██████████| 16/16 [00:00<00:00, 559.59it/s]\n",
      "Fold 3: 100%|██████████| 20/20 [00:00<00:00, 70.33it/s]\n",
      "Testing: 100%|██████████| 16/16 [00:00<00:00, 563.91it/s]\n",
      "Fold 4: 100%|██████████| 20/20 [00:00<00:00, 69.77it/s]\n",
      "Testing: 100%|██████████| 16/16 [00:00<00:00, 563.47it/s]\n",
      "Fold 5: 100%|██████████| 20/20 [00:00<00:00, 70.01it/s]\n",
      "Testing: 100%|██████████| 16/16 [00:00<00:00, 576.88it/s]\n"
     ]
    },
    {
     "name": "stdout",
     "output_type": "stream",
     "text": [
      "{'test_loss': 0.0024414504165179095, 'test_accuracy': 0.8103867400248639, 'test_precision': 0.19997811324149609, 'test_recall': 0.8377189468107871, 'test_f1': 0.3200251275056835, 'test_mcc': 0.3475303624135175}\n",
      "(1/81) (hidden_layers=1, units=512, dropout=0.2, threshold=0.5, learning_rate=0.0001, weight_decay=0.0, focal_alpha=0.03, focal_gamma=2.0)\n"
     ]
    },
    {
     "name": "stderr",
     "output_type": "stream",
     "text": [
      "Fold 1: 100%|██████████| 20/20 [00:00<00:00, 63.54it/s]\n",
      "Testing: 100%|██████████| 16/16 [00:00<00:00, 561.46it/s]\n",
      "Fold 2: 100%|██████████| 20/20 [00:00<00:00, 67.64it/s]\n",
      "Testing: 100%|██████████| 16/16 [00:00<00:00, 583.33it/s]\n",
      "Fold 3: 100%|██████████| 20/20 [00:00<00:00, 70.37it/s]\n",
      "Testing: 100%|██████████| 16/16 [00:00<00:00, 559.93it/s]\n",
      "Fold 4: 100%|██████████| 20/20 [00:00<00:00, 70.18it/s]\n",
      "Testing: 100%|██████████| 16/16 [00:00<00:00, 539.80it/s]\n",
      "Fold 5: 100%|██████████| 20/20 [00:00<00:00, 55.68it/s]\n",
      "Testing: 100%|██████████| 16/16 [00:00<00:00, 541.05it/s]\n"
     ]
    },
    {
     "name": "stdout",
     "output_type": "stream",
     "text": [
      "{'test_loss': 0.00391716617741622, 'test_accuracy': 0.798330633121448, 'test_precision': 0.19251235133383346, 'test_recall': 0.851451332143089, 'test_f1': 0.3110738354677496, 'test_mcc': 0.34098709568661806}\n",
      "(2/81) (hidden_layers=1, units=512, dropout=0.2, threshold=0.5, learning_rate=0.0001, weight_decay=0.0, focal_alpha=0.04, focal_gamma=2.0)\n"
     ]
    },
    {
     "name": "stderr",
     "output_type": "stream",
     "text": [
      "Fold 1: 100%|██████████| 20/20 [00:00<00:00, 68.22it/s]\n",
      "Testing: 100%|██████████| 16/16 [00:00<00:00, 599.82it/s]\n",
      "Fold 2: 100%|██████████| 20/20 [00:00<00:00, 69.73it/s]\n",
      "Testing: 100%|██████████| 16/16 [00:00<00:00, 626.56it/s]\n",
      "Fold 3: 100%|██████████| 20/20 [00:00<00:00, 70.19it/s]\n",
      "Testing:  94%|█████████▍| 15/16 [00:00<00:00, 526.43it/s]\n",
      "\n",
      "KeyboardInterrupt\n",
      "\n"
     ]
    }
   ],
   "execution_count": 1
  },
  {
   "metadata": {
    "ExecuteTime": {
     "end_time": "2025-01-28T20:01:36.195808600Z",
     "start_time": "2025-01-28T14:50:34.769812Z"
    }
   },
   "cell_type": "code",
   "source": "",
   "id": "f01fbc77b26dc0ad",
   "outputs": [],
   "execution_count": null
  }
 ],
 "metadata": {
  "kernelspec": {
   "display_name": "Python 3",
   "language": "python",
   "name": "python3"
  },
  "language_info": {
   "codemirror_mode": {
    "name": "ipython",
    "version": 2
   },
   "file_extension": ".py",
   "mimetype": "text/x-python",
   "name": "python",
   "nbconvert_exporter": "python",
   "pygments_lexer": "ipython2",
   "version": "2.7.6"
  }
 },
 "nbformat": 4,
 "nbformat_minor": 5
}
