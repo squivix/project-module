{
 "cells": [
  {
   "metadata": {
    "ExecuteTime": {
     "end_time": "2024-08-09T14:06:59.348933Z",
     "start_time": "2024-08-09T14:06:55.714624Z"
    }
   },
   "cell_type": "code",
   "source": [
    "import torch\n",
    "from torch.utils.data import DataLoader\n",
    "\n",
    "from datasets.CustomTrainingImageDataset import generate_balanced_dataset\n",
    "from models.cnn import CnnModel\n",
    "from train import train_classifier\n",
    "from utils import plot_model_metrics\n",
    "\n",
    "device = torch.device('cuda:0' if torch.cuda.is_available() else 'cpu')\n",
    "print(device)\n",
    "\n",
    "batch_size = 512\n",
    "# dataset = CustomTrainingImageDataset('data/DeepHP',class_limit=100)\n",
    "\n",
    "train_dataset, test_dataset = generate_balanced_dataset('data/DeepHP', class_limit=10)\n",
    "train_loader = DataLoader(train_dataset,\n",
    "                          batch_size=batch_size,\n",
    "                          shuffle=True, )\n",
    "test_loader = DataLoader(test_dataset,\n",
    "                         batch_size=batch_size,\n",
    "                         shuffle=True, )\n",
    "\n",
    "model = CnnModel()\n",
    "print(model)\n"
   ],
   "id": "2918b0fcff38b179",
   "outputs": [
    {
     "name": "stdout",
     "output_type": "stream",
     "text": [
      "cuda:0\n",
      "CnnModel(\n",
      "  (model): Sequential(\n",
      "    (0): Conv2d(3, 3, kernel_size=(1, 1), stride=(1, 1))\n",
      "    (1): ReLU()\n",
      "    (2): Conv2d(3, 3, kernel_size=(1, 1), stride=(1, 1))\n",
      "    (3): ReLU()\n",
      "    (4): Conv2d(3, 16, kernel_size=(7, 7), stride=(1, 1), padding=valid)\n",
      "    (5): ReLU()\n",
      "    (6): Conv2d(16, 16, kernel_size=(5, 5), stride=(1, 1), padding=valid)\n",
      "    (7): ReLU()\n",
      "    (8): Conv2d(16, 16, kernel_size=(3, 3), stride=(3, 3), padding=valid)\n",
      "    (9): ReLU()\n",
      "    (10): Conv2d(16, 16, kernel_size=(3, 3), stride=(3, 3), padding=valid)\n",
      "    (11): ReLU()\n",
      "    (12): Conv2d(16, 16, kernel_size=(3, 3), stride=(3, 3), padding=valid)\n",
      "    (13): ReLU()\n",
      "    (14): Flatten(start_dim=1, end_dim=-1)\n",
      "    (15): Linear(in_features=1296, out_features=200, bias=True)\n",
      "    (16): ReLU()\n",
      "    (17): Linear(in_features=200, out_features=50, bias=True)\n",
      "    (18): ReLU()\n",
      "    (19): Linear(in_features=50, out_features=1, bias=True)\n",
      "  )\n",
      ")\n"
     ]
    }
   ],
   "execution_count": 1
  },
  {
   "metadata": {
    "ExecuteTime": {
     "end_time": "2024-08-09T14:07:51.069963Z",
     "start_time": "2024-08-09T14:06:59.348933Z"
    }
   },
   "cell_type": "code",
   "source": [
    "\n",
    "model = model.to(device)\n",
    "model, model_metrics = train_classifier(model, train_loader, test_loader, device,\n",
    "                                        learning_rate=0.001,\n",
    "                                        weight_decay=0.0001,\n",
    "                                        max_epochs=50,\n",
    "                                        checkpoint_every=10)"
   ],
   "id": "f7966b42beaf358a",
   "outputs": [
    {
     "name": "stderr",
     "output_type": "stream",
     "text": [
      "\n",
      "KeyboardInterrupt\n",
      "\n"
     ]
    }
   ],
   "execution_count": 2
  },
  {
   "metadata": {},
   "cell_type": "code",
   "source": [
    "for metric in [\"accuracy\", \"precision\", \"recall\", \"f1\"]:\n",
    "    print(f\"Test {metric}:\", model_metrics[f\"test_{metric}\"][-1])\n",
    "\n",
    "plot_model_metrics(model_metrics)"
   ],
   "id": "1adc092f5a37613c",
   "outputs": [],
   "execution_count": null
  },
  {
   "metadata": {},
   "cell_type": "code",
   "source": [
    "\n",
    "torch.save(model.state_dict(), \"./model5.bin\")\n"
   ],
   "id": "387480d303a0a7ef",
   "outputs": [],
   "execution_count": null
  },
  {
   "metadata": {},
   "cell_type": "code",
   "source": "",
   "id": "6210f77ff814e0f8",
   "outputs": [],
   "execution_count": null
  }
 ],
 "metadata": {
  "kernelspec": {
   "display_name": "Python 3",
   "language": "python",
   "name": "python3"
  },
  "language_info": {
   "codemirror_mode": {
    "name": "ipython",
    "version": 2
   },
   "file_extension": ".py",
   "mimetype": "text/x-python",
   "name": "python",
   "nbconvert_exporter": "python",
   "pygments_lexer": "ipython2",
   "version": "2.7.6"
  }
 },
 "nbformat": 4,
 "nbformat_minor": 5
}
