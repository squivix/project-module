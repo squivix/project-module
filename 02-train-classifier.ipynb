{
 "cells": [
  {
   "metadata": {
    "ExecuteTime": {
     "end_time": "2024-09-02T15:04:37.879476Z",
     "start_time": "2024-09-02T15:04:34.775258Z"
    }
   },
   "cell_type": "code",
   "source": [
    "\n",
    "from datetime import datetime\n",
    "\n",
    "import torch\n",
    "\n",
    "from datasets.CSVDataset import CSVDataset\n",
    "from train import kfold_grid_search\n",
    "from utils import reduce_dataset\n",
    "\n",
    "device = torch.device('cuda:0' if torch.cuda.is_available() else 'cpu')\n",
    "print(f\"Device: {device}\")\n",
    "\n",
    "batch_size = 128\n",
    "dataset = CSVDataset(\"data/features/ResNet50_features.csv\")\n",
    "dataset = reduce_dataset(dataset, discard_ratio=0.9)\n",
    "\n",
    "# dataset, _ = generate_balanced_dataset(\"features/ResNet50_features.csv\", discard_ratio=0.9, test_ratio=0,\n",
    "#                                        undersample=False)\n",
    "\n",
    "print(f\"Dataset: {len(dataset):,} examples\")"
   ],
   "id": "2918b0fcff38b179",
   "outputs": [
    {
     "name": "stdout",
     "output_type": "stream",
     "text": [
      "Device: cuda:0\n",
      "data/features/ResNet50_features.pickle\n",
      "Dataset: 39,492 examples\n"
     ]
    }
   ],
   "execution_count": 1
  },
  {
   "metadata": {
    "ExecuteTime": {
     "end_time": "2024-09-02T15:04:37.890201Z",
     "start_time": "2024-09-02T15:04:37.879476Z"
    }
   },
   "cell_type": "code",
   "source": [
    "\n",
    "print(f\"Training starts {datetime.now().isoformat()}\")"
   ],
   "id": "abba64f7aab96b14",
   "outputs": [
    {
     "name": "stdout",
     "output_type": "stream",
     "text": [
      "Training starts 2024-09-02T17:04:37.879476\n"
     ]
    }
   ],
   "execution_count": 2
  },
  {
   "metadata": {
    "ExecuteTime": {
     "start_time": "2024-09-02T15:04:38.024120Z"
    }
   },
   "cell_type": "code",
   "source": [
    "kfold_grid_search(dataset, device,\n",
    "                  checkpoint_file_path=\"grid-search-33.json\",\n",
    "                  batch_size=batch_size,\n",
    "                  hidden_layer_combs=[1, 2, 3, 4],\n",
    "                  neuron_combs=[2048, 4096],\n",
    "                  learning_rate_combs=[0.001, 0.0001],\n",
    "                  dropout_combs=[0.2, 0.4],\n",
    "                  threshold_combs=[0.5, 0.6, 0.7])"
   ],
   "id": "f7966b42beaf358a",
   "outputs": [
    {
     "name": "stdout",
     "output_type": "stream",
     "text": [
      "(hidden_layers=1, neurons=2048, dropout=0.2, threshold=0.5, learning_rate=0.001, weight_decay=0.0)\n"
     ]
    },
    {
     "name": "stderr",
     "output_type": "stream",
     "text": [
      "Fold 1: 100%|██████████| 20/20 [00:04<00:00,  4.13it/s]\n",
      "Testing: 100%|██████████| 62/62 [00:00<00:00, 661.31it/s]\n",
      "Fold 2: 100%|██████████| 20/20 [00:04<00:00,  4.10it/s]\n",
      "Testing: 100%|██████████| 62/62 [00:00<00:00, 991.03it/s]\n",
      "Fold 3: 100%|██████████| 20/20 [00:04<00:00,  4.21it/s]\n",
      "Testing: 100%|██████████| 62/62 [00:00<00:00, 889.18it/s]\n",
      "Fold 4: 100%|██████████| 20/20 [00:04<00:00,  4.20it/s]\n",
      "Testing: 100%|██████████| 62/62 [00:00<00:00, 792.91it/s]\n",
      "Fold 5: 100%|██████████| 20/20 [00:05<00:00,  4.00it/s]\n",
      "Testing: 100%|██████████| 62/62 [00:00<00:00, 793.56it/s]\n"
     ]
    },
    {
     "name": "stdout",
     "output_type": "stream",
     "text": [
      "{'test_loss': 0.26800710674255124, 'test_accuracy': 0.5916911455233482, 'test_precision': 0.2811933256036078, 'test_recall': 0.5916911455233482, 'test_f1': 0.2882509290895116, 'test_mcc': 0.0}\n",
      "(hidden_layers=1, neurons=2048, dropout=0.2, threshold=0.5, learning_rate=0.0001, weight_decay=0.0)\n"
     ]
    },
    {
     "name": "stderr",
     "output_type": "stream",
     "text": [
      "Fold 1: 100%|██████████| 20/20 [00:04<00:00,  4.21it/s]\n",
      "Testing: 100%|██████████| 62/62 [00:00<00:00, 851.02it/s]\n",
      "Fold 2: 100%|██████████| 20/20 [00:04<00:00,  4.23it/s]\n",
      "Testing: 100%|██████████| 62/62 [00:00<00:00, 992.62it/s]\n",
      "Fold 3: 100%|██████████| 20/20 [00:04<00:00,  4.36it/s]\n",
      "Testing: 100%|██████████| 62/62 [00:00<00:00, 992.06it/s]\n",
      "Fold 4: 100%|██████████| 20/20 [00:04<00:00,  4.25it/s]\n",
      "Testing: 100%|██████████| 62/62 [00:00<00:00, 762.24it/s]\n",
      "Fold 5: 100%|██████████| 20/20 [00:04<00:00,  4.10it/s]\n",
      "Testing: 100%|██████████| 62/62 [00:00<00:00, 992.51it/s]\n"
     ]
    },
    {
     "name": "stdout",
     "output_type": "stream",
     "text": [
      "{'test_loss': 0.29495961047228303, 'test_accuracy': 0.5836993203663231, 'test_precision': 0.2812583513037142, 'test_recall': 0.5836993203663231, 'test_f1': 0.29659401569495036, 'test_mcc': 0.0}\n",
      "(hidden_layers=1, neurons=2048, dropout=0.2, threshold=0.6, learning_rate=0.001, weight_decay=0.0)\n"
     ]
    },
    {
     "name": "stderr",
     "output_type": "stream",
     "text": [
      "Fold 1: 100%|██████████| 20/20 [00:04<00:00,  4.53it/s]\n",
      "Testing: 100%|██████████| 62/62 [00:00<00:00, 793.51it/s]\n",
      "Fold 2: 100%|██████████| 20/20 [00:04<00:00,  4.18it/s]\n",
      "Testing: 100%|██████████| 62/62 [00:00<00:00, 793.57it/s]\n",
      "Fold 3: 100%|██████████| 20/20 [00:04<00:00,  4.50it/s]\n",
      "Testing: 100%|██████████| 62/62 [00:00<00:00, 793.91it/s]\n",
      "Fold 4: 100%|██████████| 20/20 [00:04<00:00,  4.31it/s]\n",
      "Testing: 100%|██████████| 62/62 [00:00<00:00, 989.86it/s]\n",
      "Fold 5: 100%|██████████| 20/20 [00:04<00:00,  4.26it/s]\n",
      "Testing: 100%|██████████| 62/62 [00:00<00:00, 793.56it/s]\n"
     ]
    },
    {
     "name": "stdout",
     "output_type": "stream",
     "text": [
      "{'test_loss': 0.29209501022893575, 'test_accuracy': 0.5881176386268809, 'test_precision': 0.2810589354641774, 'test_recall': 0.5881176386268809, 'test_f1': 0.2921926925387744, 'test_mcc': 0.0}\n",
      "(hidden_layers=1, neurons=2048, dropout=0.2, threshold=0.6, learning_rate=0.0001, weight_decay=0.0)\n"
     ]
    },
    {
     "name": "stderr",
     "output_type": "stream",
     "text": [
      "Fold 1: 100%|██████████| 20/20 [00:04<00:00,  4.68it/s]\n",
      "Testing: 100%|██████████| 62/62 [00:00<00:00, 772.62it/s]\n",
      "Fold 2: 100%|██████████| 20/20 [00:04<00:00,  4.69it/s]\n",
      "Testing: 100%|██████████| 62/62 [00:00<00:00, 660.64it/s]\n",
      "Fold 3: 100%|██████████| 20/20 [00:04<00:00,  4.53it/s]\n",
      "Testing: 100%|██████████| 62/62 [00:00<00:00, 793.54it/s]\n",
      "Fold 4: 100%|██████████| 20/20 [00:04<00:00,  4.69it/s]\n",
      "Testing: 100%|██████████| 62/62 [00:00<00:00, 992.45it/s]\n",
      "Fold 5: 100%|██████████| 20/20 [00:04<00:00,  4.58it/s]\n",
      "Testing: 100%|██████████| 62/62 [00:00<00:00, 991.87it/s]\n"
     ]
    },
    {
     "name": "stdout",
     "output_type": "stream",
     "text": [
      "{'test_loss': 0.28418330764097555, 'test_accuracy': 0.5883943166569009, 'test_precision': 0.2808882906967584, 'test_recall': 0.5883943166569009, 'test_f1': 0.2916939624644802, 'test_mcc': 0.0}\n",
      "(hidden_layers=1, neurons=2048, dropout=0.2, threshold=0.7, learning_rate=0.001, weight_decay=0.0)\n"
     ]
    },
    {
     "name": "stderr",
     "output_type": "stream",
     "text": [
      "Fold 1: 100%|██████████| 20/20 [00:04<00:00,  4.50it/s]\n",
      "Testing: 100%|██████████| 62/62 [00:00<00:00, 794.31it/s]\n",
      "Fold 2: 100%|██████████| 20/20 [00:04<00:00,  4.58it/s]\n",
      "Testing: 100%|██████████| 62/62 [00:00<00:00, 792.55it/s]\n",
      "Fold 3: 100%|██████████| 20/20 [00:04<00:00,  4.43it/s]\n",
      "Testing: 100%|██████████| 62/62 [00:00<00:00, 991.80it/s]\n",
      "Fold 4: 100%|██████████| 20/20 [00:04<00:00,  4.41it/s]\n",
      "Testing: 100%|██████████| 62/62 [00:00<00:00, 793.52it/s]\n",
      "Fold 5: 100%|██████████| 20/20 [00:04<00:00,  4.52it/s]\n",
      "Testing: 100%|██████████| 62/62 [00:00<00:00, 793.54it/s]\n"
     ]
    },
    {
     "name": "stdout",
     "output_type": "stream",
     "text": [
      "{'test_loss': 0.28800887336143316, 'test_accuracy': 0.5921729733355795, 'test_precision': 0.2811673116310213, 'test_recall': 0.5921729733355795, 'test_f1': 0.28742685490006686, 'test_mcc': 0.0}\n",
      "(hidden_layers=1, neurons=2048, dropout=0.2, threshold=0.7, learning_rate=0.0001, weight_decay=0.0)\n"
     ]
    },
    {
     "name": "stderr",
     "output_type": "stream",
     "text": [
      "Fold 1: 100%|██████████| 20/20 [00:04<00:00,  4.58it/s]\n",
      "Testing: 100%|██████████| 62/62 [00:00<00:00, 766.08it/s]\n",
      "Fold 2: 100%|██████████| 20/20 [00:04<00:00,  4.37it/s]\n",
      "Testing: 100%|██████████| 62/62 [00:00<00:00, 990.64it/s]\n",
      "Fold 3: 100%|██████████| 20/20 [00:04<00:00,  4.48it/s]\n",
      "Testing: 100%|██████████| 62/62 [00:00<00:00, 991.78it/s]\n",
      "Fold 4: 100%|██████████| 20/20 [00:04<00:00,  4.43it/s]\n",
      "Testing: 100%|██████████| 62/62 [00:00<00:00, 792.64it/s]\n",
      "Fold 5: 100%|██████████| 20/20 [00:04<00:00,  4.55it/s]\n",
      "Testing: 100%|██████████| 62/62 [00:00<00:00, 992.45it/s]\n"
     ]
    },
    {
     "name": "stdout",
     "output_type": "stream",
     "text": [
      "{'test_loss': 0.27788125435190814, 'test_accuracy': 0.5907175805597478, 'test_precision': 0.2810687884024578, 'test_recall': 0.5907175805597478, 'test_f1': 0.2892970817923303, 'test_mcc': 0.0}\n",
      "(hidden_layers=1, neurons=2048, dropout=0.4, threshold=0.5, learning_rate=0.001, weight_decay=0.0)\n"
     ]
    },
    {
     "name": "stderr",
     "output_type": "stream",
     "text": [
      "Fold 1: 100%|██████████| 20/20 [00:04<00:00,  4.69it/s]\n",
      "Testing: 100%|██████████| 62/62 [00:00<00:00, 991.15it/s]\n",
      "Fold 2: 100%|██████████| 20/20 [00:04<00:00,  4.67it/s]\n",
      "Testing: 100%|██████████| 62/62 [00:00<00:00, 793.61it/s]\n",
      "Fold 3: 100%|██████████| 20/20 [00:04<00:00,  4.68it/s]\n",
      "Testing: 100%|██████████| 62/62 [00:00<00:00, 991.95it/s]\n",
      "Fold 4: 100%|██████████| 20/20 [00:04<00:00,  4.68it/s]\n",
      "Testing: 100%|██████████| 62/62 [00:00<00:00, 990.84it/s]\n",
      "Fold 5: 100%|██████████| 20/20 [00:04<00:00,  4.62it/s]\n",
      "Testing: 100%|██████████| 62/62 [00:00<00:00, 917.91it/s]\n"
     ]
    },
    {
     "name": "stdout",
     "output_type": "stream",
     "text": [
      "{'test_loss': 0.23579350012925362, 'test_accuracy': 0.591279195280492, 'test_precision': 0.28111213886919534, 'test_recall': 0.591279195280492, 'test_f1': 0.28900435377465533, 'test_mcc': 0.0}\n",
      "(hidden_layers=1, neurons=2048, dropout=0.4, threshold=0.5, learning_rate=0.0001, weight_decay=0.0)\n"
     ]
    },
    {
     "name": "stderr",
     "output_type": "stream",
     "text": [
      "Fold 1: 100%|██████████| 20/20 [00:04<00:00,  4.62it/s]\n",
      "Testing: 100%|██████████| 62/62 [00:00<00:00, 793.52it/s]\n",
      "Fold 2: 100%|██████████| 20/20 [00:04<00:00,  4.68it/s]\n",
      "Testing: 100%|██████████| 62/62 [00:00<00:00, 991.93it/s]\n",
      "Fold 3: 100%|██████████| 20/20 [00:04<00:00,  4.71it/s]\n",
      "Testing: 100%|██████████| 62/62 [00:00<00:00, 991.83it/s]\n",
      "Fold 4: 100%|██████████| 20/20 [00:04<00:00,  4.69it/s]\n",
      "Testing: 100%|██████████| 62/62 [00:00<00:00, 793.56it/s]\n",
      "Fold 5: 100%|██████████| 20/20 [00:04<00:00,  4.07it/s]\n",
      "Testing: 100%|██████████| 62/62 [00:00<00:00, 793.27it/s]\n"
     ]
    },
    {
     "name": "stdout",
     "output_type": "stream",
     "text": [
      "{'test_loss': 0.2852292991453601, 'test_accuracy': 0.5806976072888078, 'test_precision': 0.2811231734215605, 'test_recall': 0.5806976072888078, 'test_f1': 0.2996188268072789, 'test_mcc': 0.0}\n",
      "(hidden_layers=1, neurons=2048, dropout=0.4, threshold=0.6, learning_rate=0.001, weight_decay=0.0)\n"
     ]
    },
    {
     "name": "stderr",
     "output_type": "stream",
     "text": [
      "Fold 1: 100%|██████████| 20/20 [00:04<00:00,  4.10it/s]\n",
      "Testing: 100%|██████████| 62/62 [00:00<00:00, 792.61it/s]\n",
      "Fold 2: 100%|██████████| 20/20 [00:05<00:00,  3.99it/s]\n",
      "Testing: 100%|██████████| 62/62 [00:00<00:00, 990.90it/s]\n",
      "Fold 3: 100%|██████████| 20/20 [00:04<00:00,  4.01it/s]\n",
      "Testing: 100%|██████████| 62/62 [00:00<00:00, 793.23it/s]\n",
      "Fold 4: 100%|██████████| 20/20 [00:05<00:00,  3.97it/s]\n",
      "Testing: 100%|██████████| 62/62 [00:00<00:00, 991.24it/s]\n",
      "Fold 5: 100%|██████████| 20/20 [00:04<00:00,  4.04it/s]\n",
      "Testing: 100%|██████████| 62/62 [00:00<00:00, 792.60it/s]\n"
     ]
    },
    {
     "name": "stdout",
     "output_type": "stream",
     "text": [
      "{'test_loss': 0.2456690216617238, 'test_accuracy': 0.5882488271356768, 'test_precision': 0.2811215979361141, 'test_recall': 0.5882488271356768, 'test_f1': 0.29143958088108174, 'test_mcc': 0.0}\n",
      "(hidden_layers=1, neurons=2048, dropout=0.4, threshold=0.6, learning_rate=0.0001, weight_decay=0.0)\n"
     ]
    },
    {
     "name": "stderr",
     "output_type": "stream",
     "text": [
      "Fold 1: 100%|██████████| 20/20 [00:04<00:00,  4.19it/s]\n",
      "Testing: 100%|██████████| 62/62 [00:00<00:00, 793.26it/s]\n",
      "Fold 2: 100%|██████████| 20/20 [00:04<00:00,  4.05it/s]\n",
      "Testing: 100%|██████████| 62/62 [00:00<00:00, 793.63it/s]\n",
      "Fold 3: 100%|██████████| 20/20 [00:04<00:00,  4.12it/s]\n",
      "Testing: 100%|██████████| 62/62 [00:00<00:00, 990.57it/s]\n",
      "Fold 4: 100%|██████████| 20/20 [00:04<00:00,  4.05it/s]\n",
      "Testing: 100%|██████████| 62/62 [00:00<00:00, 792.95it/s]\n",
      "Fold 5: 100%|██████████| 20/20 [00:05<00:00,  3.98it/s]\n",
      "Testing: 100%|██████████| 62/62 [00:00<00:00, 744.97it/s]\n"
     ]
    },
    {
     "name": "stdout",
     "output_type": "stream",
     "text": [
      "{'test_loss': 0.2890968695523277, 'test_accuracy': 0.5849529679635808, 'test_precision': 0.28119687044586233, 'test_recall': 0.5849529679635808, 'test_f1': 0.2956291631103626, 'test_mcc': 0.0}\n",
      "(hidden_layers=1, neurons=2048, dropout=0.4, threshold=0.7, learning_rate=0.001, weight_decay=0.0)\n"
     ]
    },
    {
     "name": "stderr",
     "output_type": "stream",
     "text": [
      "Fold 1: 100%|██████████| 20/20 [00:04<00:00,  4.07it/s]\n",
      "Testing: 100%|██████████| 62/62 [00:00<00:00, 666.14it/s]\n",
      "Fold 2: 100%|██████████| 20/20 [00:05<00:00,  3.99it/s]\n",
      "Testing: 100%|██████████| 62/62 [00:00<00:00, 792.97it/s]\n",
      "Fold 3: 100%|██████████| 20/20 [00:04<00:00,  4.02it/s]\n",
      "Testing: 100%|██████████| 62/62 [00:00<00:00, 771.77it/s]\n",
      "Fold 4: 100%|██████████| 20/20 [00:04<00:00,  4.08it/s]\n",
      "Testing: 100%|██████████| 62/62 [00:00<00:00, 793.03it/s]\n",
      "Fold 5: 100%|██████████| 20/20 [00:05<00:00,  3.82it/s]\n",
      "Testing: 100%|██████████| 62/62 [00:00<00:00, 792.95it/s]\n"
     ]
    },
    {
     "name": "stdout",
     "output_type": "stream",
     "text": [
      "{'test_loss': 0.2875811181241466, 'test_accuracy': 0.5874954295865911, 'test_precision': 0.28125638194690616, 'test_recall': 0.5874954295865911, 'test_f1': 0.2928687751971717, 'test_mcc': 0.0}\n",
      "(hidden_layers=1, neurons=2048, dropout=0.4, threshold=0.7, learning_rate=0.0001, weight_decay=0.0)\n"
     ]
    },
    {
     "name": "stderr",
     "output_type": "stream",
     "text": [
      "Fold 1: 100%|██████████| 20/20 [00:05<00:00,  3.99it/s]\n",
      "Testing: 100%|██████████| 62/62 [00:00<00:00, 792.90it/s]\n",
      "Fold 2: 100%|██████████| 20/20 [00:05<00:00,  3.94it/s]\n",
      "Testing: 100%|██████████| 62/62 [00:00<00:00, 991.51it/s]\n",
      "Fold 3: 100%|██████████| 20/20 [00:05<00:00,  3.91it/s]\n",
      "Testing: 100%|██████████| 62/62 [00:00<00:00, 792.98it/s]\n",
      "Fold 4: 100%|██████████| 20/20 [00:05<00:00,  3.94it/s]\n",
      "Testing: 100%|██████████| 62/62 [00:00<00:00, 793.29it/s]\n",
      "Fold 5: 100%|██████████| 20/20 [00:05<00:00,  3.81it/s]\n",
      "Testing: 100%|██████████| 62/62 [00:00<00:00, 987.37it/s]\n"
     ]
    },
    {
     "name": "stdout",
     "output_type": "stream",
     "text": [
      "{'test_loss': 0.2549334094048508, 'test_accuracy': 0.5954640561060668, 'test_precision': 0.2809824813403442, 'test_recall': 0.5954640561060668, 'test_f1': 0.28374060860096745, 'test_mcc': 0.0}\n",
      "(hidden_layers=1, neurons=4096, dropout=0.2, threshold=0.5, learning_rate=0.001, weight_decay=0.0)\n"
     ]
    },
    {
     "name": "stderr",
     "output_type": "stream",
     "text": [
      "Fold 1: 100%|██████████| 20/20 [00:11<00:00,  1.68it/s]\n",
      "Testing: 100%|██████████| 62/62 [00:00<00:00, 659.67it/s]\n",
      "Fold 2: 100%|██████████| 20/20 [00:11<00:00,  1.69it/s]\n",
      "Testing: 100%|██████████| 62/62 [00:00<00:00, 660.60it/s]\n",
      "Fold 3: 100%|██████████| 20/20 [00:11<00:00,  1.69it/s]\n",
      "Testing: 100%|██████████| 62/62 [00:00<00:00, 763.80it/s]\n",
      "Fold 4: 100%|██████████| 20/20 [00:11<00:00,  1.69it/s]\n",
      "Testing: 100%|██████████| 62/62 [00:00<00:00, 659.09it/s]\n",
      "Fold 5: 100%|██████████| 20/20 [00:11<00:00,  1.68it/s]\n",
      "Testing: 100%|██████████| 62/62 [00:00<00:00, 655.59it/s]\n"
     ]
    },
    {
     "name": "stdout",
     "output_type": "stream",
     "text": [
      "{'test_loss': 0.2626005989589518, 'test_accuracy': 0.5896669260071116, 'test_precision': 0.2811507628795935, 'test_recall': 0.5896669260071116, 'test_f1': 0.2902984949111804, 'test_mcc': 0.0}\n",
      "(hidden_layers=1, neurons=4096, dropout=0.2, threshold=0.5, learning_rate=0.0001, weight_decay=0.0)\n"
     ]
    },
    {
     "name": "stderr",
     "output_type": "stream",
     "text": [
      "Fold 1: 100%|██████████| 20/20 [00:11<00:00,  1.68it/s]\n",
      "Testing: 100%|██████████| 62/62 [00:00<00:00, 793.67it/s]\n",
      "Fold 2: 100%|██████████| 20/20 [00:11<00:00,  1.69it/s]\n",
      "Testing: 100%|██████████| 62/62 [00:00<00:00, 739.21it/s]\n",
      "Fold 3: 100%|██████████| 20/20 [00:11<00:00,  1.68it/s]\n",
      "Testing: 100%|██████████| 62/62 [00:00<00:00, 793.84it/s]\n",
      "Fold 4: 100%|██████████| 20/20 [00:11<00:00,  1.68it/s]\n",
      "Testing: 100%|██████████| 62/62 [00:00<00:00, 737.73it/s]\n",
      "Fold 5: 100%|██████████| 20/20 [00:11<00:00,  1.69it/s]\n",
      "Testing: 100%|██████████| 62/62 [00:00<00:00, 793.64it/s]\n"
     ]
    },
    {
     "name": "stdout",
     "output_type": "stream",
     "text": [
      "{'test_loss': 0.34389529026323745, 'test_accuracy': 0.5832420729921785, 'test_precision': 0.28111016951238726, 'test_recall': 0.5832420729921785, 'test_f1': 0.2970758273171806, 'test_mcc': 0.0}\n",
      "(hidden_layers=1, neurons=4096, dropout=0.2, threshold=0.6, learning_rate=0.001, weight_decay=0.0)\n"
     ]
    },
    {
     "name": "stderr",
     "output_type": "stream",
     "text": [
      "Fold 1: 100%|██████████| 20/20 [00:11<00:00,  1.69it/s]\n",
      "Testing: 100%|██████████| 62/62 [00:00<00:00, 793.64it/s]\n",
      "Fold 2: 100%|██████████| 20/20 [00:11<00:00,  1.69it/s]\n",
      "Testing: 100%|██████████| 62/62 [00:00<00:00, 793.57it/s]\n",
      "Fold 3: 100%|██████████| 20/20 [00:11<00:00,  1.69it/s]\n",
      "Testing: 100%|██████████| 62/62 [00:00<00:00, 661.41it/s]\n",
      "Fold 4: 100%|██████████| 20/20 [00:11<00:00,  1.69it/s]\n",
      "Testing: 100%|██████████| 62/62 [00:00<00:00, 793.67it/s]\n",
      "Fold 5: 100%|██████████| 20/20 [00:11<00:00,  1.69it/s]\n",
      "Testing: 100%|██████████| 62/62 [00:00<00:00, 737.38it/s]\n"
     ]
    },
    {
     "name": "stdout",
     "output_type": "stream",
     "text": [
      "{'test_loss': 0.4014168529140372, 'test_accuracy': 0.5825487715219597, 'test_precision': 0.281059329335539, 'test_recall': 0.5825487715219597, 'test_f1': 0.29673329086504846, 'test_mcc': 0.0}\n",
      "(hidden_layers=1, neurons=4096, dropout=0.2, threshold=0.6, learning_rate=0.0001, weight_decay=0.0)\n"
     ]
    },
    {
     "name": "stderr",
     "output_type": "stream",
     "text": [
      "Fold 1: 100%|██████████| 20/20 [00:11<00:00,  1.70it/s]\n",
      "Testing: 100%|██████████| 62/62 [00:00<00:00, 793.60it/s]\n",
      "Fold 2: 100%|██████████| 20/20 [00:11<00:00,  1.72it/s]\n",
      "Testing: 100%|██████████| 62/62 [00:00<00:00, 661.34it/s]\n",
      "Fold 3: 100%|██████████| 20/20 [00:11<00:00,  1.71it/s]\n",
      "Testing: 100%|██████████| 62/62 [00:00<00:00, 714.15it/s]\n",
      "Fold 4: 100%|██████████| 20/20 [00:11<00:00,  1.71it/s]\n",
      "Testing: 100%|██████████| 62/62 [00:00<00:00, 793.61it/s]\n",
      "Fold 5: 100%|██████████| 20/20 [00:11<00:00,  1.71it/s]\n",
      "Testing: 100%|██████████| 62/62 [00:00<00:00, 792.62it/s]\n"
     ]
    },
    {
     "name": "stdout",
     "output_type": "stream",
     "text": [
      "{'test_loss': 0.3489231305256967, 'test_accuracy': 0.5868366873020495, 'test_precision': 0.2810396234589783, 'test_recall': 0.5868366873020495, 'test_f1': 0.2938134015762314, 'test_mcc': 0.0}\n",
      "(hidden_layers=1, neurons=4096, dropout=0.2, threshold=0.7, learning_rate=0.001, weight_decay=0.0)\n"
     ]
    },
    {
     "name": "stderr",
     "output_type": "stream",
     "text": [
      "Fold 1: 100%|██████████| 20/20 [00:11<00:00,  1.76it/s]\n",
      "Testing: 100%|██████████| 62/62 [00:00<00:00, 662.12it/s]\n",
      "Fold 2: 100%|██████████| 20/20 [00:11<00:00,  1.76it/s]\n",
      "Testing: 100%|██████████| 62/62 [00:00<00:00, 792.82it/s]\n",
      "Fold 3: 100%|██████████| 20/20 [00:11<00:00,  1.77it/s]\n",
      "Testing: 100%|██████████| 62/62 [00:00<00:00, 746.98it/s]\n",
      "Fold 4: 100%|██████████| 20/20 [00:11<00:00,  1.76it/s]\n",
      "Testing: 100%|██████████| 62/62 [00:00<00:00, 793.50it/s]\n",
      "Fold 5: 100%|██████████| 20/20 [00:11<00:00,  1.74it/s]\n",
      "Testing: 100%|██████████| 62/62 [00:00<00:00, 675.51it/s]\n"
     ]
    },
    {
     "name": "stdout",
     "output_type": "stream",
     "text": [
      "{'test_loss': 0.31842310854023503, 'test_accuracy': 0.5882137273718222, 'test_precision': 0.2810199175824176, 'test_recall': 0.5882137273718222, 'test_f1': 0.2920210330943468, 'test_mcc': 0.0}\n",
      "(hidden_layers=1, neurons=4096, dropout=0.2, threshold=0.7, learning_rate=0.0001, weight_decay=0.0)\n"
     ]
    },
    {
     "name": "stderr",
     "output_type": "stream",
     "text": [
      "Fold 1: 100%|██████████| 20/20 [00:11<00:00,  1.76it/s]\n",
      "Testing: 100%|██████████| 62/62 [00:00<00:00, 660.67it/s]\n",
      "Fold 2: 100%|██████████| 20/20 [00:11<00:00,  1.76it/s]\n",
      "Testing: 100%|██████████| 62/62 [00:00<00:00, 740.32it/s]\n",
      "Fold 3: 100%|██████████| 20/20 [00:11<00:00,  1.75it/s]\n",
      "Testing: 100%|██████████| 62/62 [00:00<00:00, 793.29it/s]\n",
      "Fold 4: 100%|██████████| 20/20 [00:11<00:00,  1.74it/s]\n",
      "Testing: 100%|██████████| 62/62 [00:00<00:00, 658.47it/s]\n",
      "Fold 5: 100%|██████████| 20/20 [00:11<00:00,  1.72it/s]\n",
      "Testing: 100%|██████████| 62/62 [00:00<00:00, 790.45it/s]\n"
     ]
    },
    {
     "name": "stdout",
     "output_type": "stream",
     "text": [
      "{'test_loss': 0.322020640704901, 'test_accuracy': 0.5905667111950589, 'test_precision': 0.2812051478986963, 'test_recall': 0.5905667111950589, 'test_f1': 0.289350876628263, 'test_mcc': 0.0}\n",
      "(hidden_layers=1, neurons=4096, dropout=0.4, threshold=0.5, learning_rate=0.001, weight_decay=0.0)\n"
     ]
    },
    {
     "name": "stderr",
     "output_type": "stream",
     "text": [
      "Fold 1: 100%|██████████| 20/20 [00:11<00:00,  1.77it/s]\n",
      "Testing: 100%|██████████| 62/62 [00:00<00:00, 793.00it/s]\n",
      "Fold 2: 100%|██████████| 20/20 [00:11<00:00,  1.73it/s]\n",
      "Testing: 100%|██████████| 62/62 [00:00<00:00, 792.22it/s]\n",
      "Fold 3: 100%|██████████| 20/20 [00:11<00:00,  1.77it/s]\n",
      "Testing: 100%|██████████| 62/62 [00:00<00:00, 793.29it/s]\n",
      "Fold 4: 100%|██████████| 20/20 [00:11<00:00,  1.70it/s]\n",
      "Testing: 100%|██████████| 62/62 [00:00<00:00, 792.53it/s]\n",
      "Fold 5: 100%|██████████| 20/20 [00:11<00:00,  1.73it/s]\n",
      "Testing: 100%|██████████| 62/62 [00:00<00:00, 785.83it/s]\n"
     ]
    },
    {
     "name": "stdout",
     "output_type": "stream",
     "text": [
      "{'test_loss': 0.26451079179082193, 'test_accuracy': 0.5829088714542622, 'test_precision': 0.28112474890700695, 'test_recall': 0.5829088714542622, 'test_f1': 0.29767192447544444, 'test_mcc': 0.0}\n",
      "(hidden_layers=1, neurons=4096, dropout=0.4, threshold=0.5, learning_rate=0.0001, weight_decay=0.0)\n"
     ]
    },
    {
     "name": "stderr",
     "output_type": "stream",
     "text": [
      "Fold 1: 100%|██████████| 20/20 [00:11<00:00,  1.72it/s]\n",
      "Testing: 100%|██████████| 62/62 [00:00<00:00, 708.09it/s]\n",
      "Fold 2: 100%|██████████| 20/20 [00:11<00:00,  1.73it/s]\n",
      "Testing: 100%|██████████| 62/62 [00:00<00:00, 725.79it/s]\n",
      "Fold 3: 100%|██████████| 20/20 [00:11<00:00,  1.72it/s]\n",
      "Testing: 100%|██████████| 62/62 [00:00<00:00, 793.61it/s]\n",
      "Fold 4: 100%|██████████| 20/20 [00:11<00:00,  1.71it/s]\n",
      "Testing: 100%|██████████| 62/62 [00:00<00:00, 713.99it/s]\n",
      "Fold 5: 100%|██████████| 20/20 [00:11<00:00,  1.70it/s]\n",
      "Testing: 100%|██████████| 62/62 [00:00<00:00, 793.03it/s]\n"
     ]
    },
    {
     "name": "stdout",
     "output_type": "stream",
     "text": [
      "{'test_loss': 0.38103573151653813, 'test_accuracy': 0.5785448608590024, 'test_precision': 0.28112002245066764, 'test_recall': 0.5785448608590024, 'test_f1': 0.30125907893910164, 'test_mcc': 0.0}\n",
      "(hidden_layers=1, neurons=4096, dropout=0.4, threshold=0.6, learning_rate=0.001, weight_decay=0.0)\n"
     ]
    },
    {
     "name": "stderr",
     "output_type": "stream",
     "text": [
      "Fold 1: 100%|██████████| 20/20 [00:11<00:00,  1.71it/s]\n",
      "Testing: 100%|██████████| 62/62 [00:00<00:00, 793.20it/s]\n",
      "Fold 2: 100%|██████████| 20/20 [00:11<00:00,  1.68it/s]\n",
      "Testing: 100%|██████████| 62/62 [00:00<00:00, 792.86it/s]\n",
      "Fold 3: 100%|██████████| 20/20 [00:11<00:00,  1.70it/s]\n",
      "Testing: 100%|██████████| 62/62 [00:00<00:00, 777.09it/s]\n",
      "Fold 4: 100%|██████████| 20/20 [00:11<00:00,  1.70it/s]\n",
      "Testing: 100%|██████████| 62/62 [00:00<00:00, 793.65it/s]\n",
      "Fold 5: 100%|██████████| 20/20 [00:11<00:00,  1.68it/s]\n",
      "Testing: 100%|██████████| 62/62 [00:00<00:00, 834.89it/s]\n"
     ]
    },
    {
     "name": "stdout",
     "output_type": "stream",
     "text": [
      "{'test_loss': 0.24951422051075972, 'test_accuracy': 0.5850013441043846, 'test_precision': 0.28105814772145415, 'test_recall': 0.5850013441043846, 'test_f1': 0.2953186249957073, 'test_mcc': 0.0}\n",
      "(hidden_layers=1, neurons=4096, dropout=0.4, threshold=0.6, learning_rate=0.0001, weight_decay=0.0)\n"
     ]
    },
    {
     "name": "stderr",
     "output_type": "stream",
     "text": [
      "Fold 1: 100%|██████████| 20/20 [00:11<00:00,  1.67it/s]\n",
      "Testing: 100%|██████████| 62/62 [00:00<00:00, 793.25it/s]\n",
      "Fold 2: 100%|██████████| 20/20 [00:11<00:00,  1.67it/s]\n",
      "Testing: 100%|██████████| 62/62 [00:00<00:00, 661.35it/s]\n",
      "Fold 3: 100%|██████████| 20/20 [00:12<00:00,  1.66it/s]\n",
      "Testing: 100%|██████████| 62/62 [00:00<00:00, 793.65it/s]\n",
      "Fold 4: 100%|██████████| 20/20 [00:11<00:00,  1.69it/s]\n",
      "Testing: 100%|██████████| 62/62 [00:00<00:00, 792.55it/s]\n",
      "Fold 5: 100%|██████████| 20/20 [00:12<00:00,  1.67it/s]\n",
      "Testing: 100%|██████████| 62/62 [00:00<00:00, 752.61it/s]\n"
     ]
    },
    {
     "name": "stdout",
     "output_type": "stream",
     "text": [
      "{'test_loss': 0.32132059417424663, 'test_accuracy': 0.5866702041885974, 'test_precision': 0.28109952883138367, 'test_recall': 0.5866702041885974, 'test_f1': 0.29371113853771796, 'test_mcc': 0.0}\n",
      "(hidden_layers=1, neurons=4096, dropout=0.4, threshold=0.7, learning_rate=0.001, weight_decay=0.0)\n"
     ]
    },
    {
     "name": "stderr",
     "output_type": "stream",
     "text": [
      "Fold 1: 100%|██████████| 20/20 [00:11<00:00,  1.71it/s]\n",
      "Testing: 100%|██████████| 62/62 [00:00<00:00, 739.90it/s]\n",
      "Fold 2: 100%|██████████| 20/20 [00:11<00:00,  1.69it/s]\n",
      "Testing: 100%|██████████| 62/62 [00:00<00:00, 872.43it/s]\n",
      "Fold 3: 100%|██████████| 20/20 [00:11<00:00,  1.69it/s]\n",
      "Testing: 100%|██████████| 62/62 [00:00<00:00, 793.25it/s]\n",
      "Fold 4: 100%|██████████| 20/20 [00:12<00:00,  1.67it/s]\n",
      "Testing: 100%|██████████| 62/62 [00:00<00:00, 776.65it/s]\n",
      "Fold 5: 100%|██████████| 20/20 [00:12<00:00,  1.66it/s]\n",
      "Testing: 100%|██████████| 62/62 [00:00<00:00, 707.03it/s]\n"
     ]
    },
    {
     "name": "stdout",
     "output_type": "stream",
     "text": [
      "{'test_loss': 0.23081919459565992, 'test_accuracy': 0.5910276329572479, 'test_precision': 0.28114287929812126, 'test_recall': 0.5910276329572479, 'test_f1': 0.2888738367819791, 'test_mcc': 0.0}\n",
      "(hidden_layers=1, neurons=4096, dropout=0.4, threshold=0.7, learning_rate=0.0001, weight_decay=0.0)\n"
     ]
    },
    {
     "name": "stderr",
     "output_type": "stream",
     "text": [
      "Fold 1: 100%|██████████| 20/20 [00:11<00:00,  1.68it/s]\n",
      "Testing: 100%|██████████| 62/62 [00:00<00:00, 793.21it/s]\n",
      "Fold 2: 100%|██████████| 20/20 [00:11<00:00,  1.68it/s]\n",
      "Testing: 100%|██████████| 62/62 [00:00<00:00, 660.75it/s]\n",
      "Fold 3: 100%|██████████| 20/20 [00:11<00:00,  1.68it/s]\n",
      "Testing: 100%|██████████| 62/62 [00:00<00:00, 661.32it/s]\n",
      "Fold 4: 100%|██████████| 20/20 [00:11<00:00,  1.68it/s]\n",
      "Testing: 100%|██████████| 62/62 [00:00<00:00, 793.53it/s]\n",
      "Fold 5: 100%|██████████| 20/20 [00:11<00:00,  1.71it/s]\n",
      "Testing: 100%|██████████| 62/62 [00:00<00:00, 661.28it/s]\n"
     ]
    },
    {
     "name": "stdout",
     "output_type": "stream",
     "text": [
      "{'test_loss': 0.31639908468050343, 'test_accuracy': 0.5908545717877385, 'test_precision': 0.2809891771534917, 'test_recall': 0.5908545717877385, 'test_f1': 0.28931239100704376, 'test_mcc': 0.0}\n",
      "(hidden_layers=2, neurons=2048, dropout=0.2, threshold=0.5, learning_rate=0.001, weight_decay=0.0)\n"
     ]
    },
    {
     "name": "stderr",
     "output_type": "stream",
     "text": [
      "Fold 1: 100%|██████████| 20/20 [00:05<00:00,  3.76it/s]\n",
      "Testing: 100%|██████████| 62/62 [00:00<00:00, 877.87it/s]\n",
      "Fold 2: 100%|██████████| 20/20 [00:05<00:00,  3.63it/s]\n",
      "Testing: 100%|██████████| 62/62 [00:00<00:00, 793.37it/s]\n",
      "Fold 3: 100%|██████████| 20/20 [00:05<00:00,  3.78it/s]\n",
      "Testing: 100%|██████████| 62/62 [00:00<00:00, 766.02it/s]\n",
      "Fold 4: 100%|██████████| 20/20 [00:05<00:00,  3.62it/s]\n",
      "Testing: 100%|██████████| 62/62 [00:00<00:00, 738.76it/s]\n",
      "Fold 5: 100%|██████████| 20/20 [00:05<00:00,  3.79it/s]\n",
      "Testing: 100%|██████████| 62/62 [00:00<00:00, 793.46it/s]\n"
     ]
    },
    {
     "name": "stdout",
     "output_type": "stream",
     "text": [
      "{'test_loss': 0.33069946830791813, 'test_accuracy': 0.5853524124847784, 'test_precision': 0.2811137143546418, 'test_recall': 0.5853524124847784, 'test_f1': 0.2949462432279941, 'test_mcc': 0.0}\n",
      "(hidden_layers=2, neurons=2048, dropout=0.2, threshold=0.5, learning_rate=0.0001, weight_decay=0.0)\n"
     ]
    },
    {
     "name": "stderr",
     "output_type": "stream",
     "text": [
      "Fold 1: 100%|██████████| 20/20 [00:05<00:00,  3.97it/s]\n",
      "Testing: 100%|██████████| 62/62 [00:00<00:00, 991.49it/s]\n",
      "Fold 2: 100%|██████████| 20/20 [00:05<00:00,  3.88it/s]\n",
      "Testing: 100%|██████████| 62/62 [00:00<00:00, 861.72it/s]\n",
      "Fold 3: 100%|██████████| 20/20 [00:05<00:00,  3.73it/s]\n",
      "Testing: 100%|██████████| 62/62 [00:00<00:00, 792.84it/s]\n",
      "Fold 4: 100%|██████████| 20/20 [00:05<00:00,  3.80it/s]\n",
      "Testing: 100%|██████████| 62/62 [00:00<00:00, 719.41it/s]\n",
      "Fold 5: 100%|██████████| 20/20 [00:05<00:00,  3.75it/s]\n",
      "Testing: 100%|██████████| 62/62 [00:00<00:00, 714.40it/s]\n"
     ]
    },
    {
     "name": "stdout",
     "output_type": "stream",
     "text": [
      "{'test_loss': 0.3452438397993965, 'test_accuracy': 0.5854241164816723, 'test_precision': 0.28096238159242193, 'test_recall': 0.5854241164816723, 'test_f1': 0.295011421935622, 'test_mcc': 0.0}\n",
      "(hidden_layers=2, neurons=2048, dropout=0.2, threshold=0.6, learning_rate=0.001, weight_decay=0.0)\n"
     ]
    },
    {
     "name": "stderr",
     "output_type": "stream",
     "text": [
      "Fold 1: 100%|██████████| 20/20 [00:05<00:00,  3.83it/s]\n",
      "Testing: 100%|██████████| 62/62 [00:00<00:00, 793.21it/s]\n",
      "Fold 2: 100%|██████████| 20/20 [00:04<00:00,  4.12it/s]\n",
      "Testing: 100%|██████████| 62/62 [00:00<00:00, 794.27it/s]\n",
      "Fold 3: 100%|██████████| 20/20 [00:04<00:00,  4.15it/s]\n",
      "Testing: 100%|██████████| 62/62 [00:00<00:00, 765.55it/s]\n",
      "Fold 4: 100%|██████████| 20/20 [00:04<00:00,  4.02it/s]\n",
      "Testing: 100%|██████████| 62/62 [00:00<00:00, 764.75it/s]\n",
      "Fold 5: 100%|██████████| 20/20 [00:04<00:00,  4.14it/s]\n",
      "Testing: 100%|██████████| 62/62 [00:00<00:00, 793.55it/s]\n"
     ]
    },
    {
     "name": "stdout",
     "output_type": "stream",
     "text": [
      "{'test_loss': 0.33854659011647587, 'test_accuracy': 0.5936728281520133, 'test_precision': 0.2810896758931033, 'test_recall': 0.5936728281520133, 'test_f1': 0.2864691623412584, 'test_mcc': 0.0}\n",
      "(hidden_layers=2, neurons=2048, dropout=0.2, threshold=0.6, learning_rate=0.0001, weight_decay=0.0)\n"
     ]
    },
    {
     "name": "stderr",
     "output_type": "stream",
     "text": [
      "Fold 1: 100%|██████████| 20/20 [00:04<00:00,  4.09it/s]\n",
      "Testing: 100%|██████████| 62/62 [00:00<00:00, 920.35it/s]\n",
      "Fold 2: 100%|██████████| 20/20 [00:04<00:00,  4.02it/s]\n",
      "Testing: 100%|██████████| 62/62 [00:00<00:00, 793.96it/s]\n",
      "Fold 3: 100%|██████████| 20/20 [00:05<00:00,  3.99it/s]\n",
      "Testing: 100%|██████████| 62/62 [00:00<00:00, 793.61it/s]\n",
      "Fold 4: 100%|██████████| 20/20 [00:04<00:00,  4.13it/s]\n",
      "Testing: 100%|██████████| 62/62 [00:00<00:00, 660.91it/s]\n",
      "Fold 5: 100%|██████████| 20/20 [00:05<00:00,  3.78it/s]\n",
      "Testing: 100%|██████████| 62/62 [00:00<00:00, 793.61it/s]\n"
     ]
    },
    {
     "name": "stdout",
     "output_type": "stream",
     "text": [
      "{'test_loss': 0.35618302305980076, 'test_accuracy': 0.5894264801621814, 'test_precision': 0.28101637274016306, 'test_recall': 0.5894264801621814, 'test_f1': 0.29008675930013855, 'test_mcc': 0.0}\n",
      "(hidden_layers=2, neurons=2048, dropout=0.2, threshold=0.7, learning_rate=0.001, weight_decay=0.0)\n"
     ]
    },
    {
     "name": "stderr",
     "output_type": "stream",
     "text": [
      "Fold 1: 100%|██████████| 20/20 [00:05<00:00,  3.95it/s]\n",
      "Testing: 100%|██████████| 62/62 [00:00<00:00, 958.93it/s]\n",
      "Fold 2: 100%|██████████| 20/20 [00:04<00:00,  4.43it/s]\n",
      "Testing: 100%|██████████| 62/62 [00:00<00:00, 991.85it/s]\n",
      "Fold 3: 100%|██████████| 20/20 [00:04<00:00,  4.36it/s]\n",
      "Testing: 100%|██████████| 62/62 [00:00<00:00, 793.58it/s]\n",
      "Fold 4: 100%|██████████| 20/20 [00:04<00:00,  4.33it/s]\n",
      "Testing: 100%|██████████| 62/62 [00:00<00:00, 794.27it/s]\n",
      "Fold 5: 100%|██████████| 20/20 [00:04<00:00,  4.48it/s]\n",
      "Testing: 100%|██████████| 62/62 [00:00<00:00, 992.10it/s]\n"
     ]
    },
    {
     "name": "stdout",
     "output_type": "stream",
     "text": [
      "{'test_loss': 0.3758624673490563, 'test_accuracy': 0.5878451343629254, 'test_precision': 0.28109164524991137, 'test_recall': 0.5878451343629254, 'test_f1': 0.29209123867599424, 'test_mcc': 0.0}\n",
      "(hidden_layers=2, neurons=2048, dropout=0.2, threshold=0.7, learning_rate=0.0001, weight_decay=0.0)\n"
     ]
    },
    {
     "name": "stderr",
     "output_type": "stream",
     "text": [
      "Fold 1: 100%|██████████| 20/20 [00:04<00:00,  4.33it/s]\n",
      "Testing: 100%|██████████| 62/62 [00:00<00:00, 793.54it/s]\n",
      "Fold 2: 100%|██████████| 20/20 [00:04<00:00,  4.18it/s]\n",
      "Testing: 100%|██████████| 62/62 [00:00<00:00, 793.62it/s]\n",
      "Fold 3: 100%|██████████| 20/20 [00:04<00:00,  4.21it/s]\n",
      "Testing: 100%|██████████| 62/62 [00:00<00:00, 991.90it/s]\n",
      "Fold 4: 100%|██████████| 20/20 [00:04<00:00,  4.10it/s]\n",
      "Testing: 100%|██████████| 62/62 [00:00<00:00, 793.19it/s]\n",
      "Fold 5: 100%|██████████| 20/20 [00:04<00:00,  4.09it/s]\n",
      "Testing: 100%|██████████| 62/62 [00:00<00:00, 794.29it/s]\n"
     ]
    },
    {
     "name": "stdout",
     "output_type": "stream",
     "text": [
      "{'test_loss': 0.3620048400735663, 'test_accuracy': 0.5868286032691741, 'test_precision': 0.2809552857536729, 'test_recall': 0.5868286032691741, 'test_f1': 0.29357322675270076, 'test_mcc': 0.0}\n",
      "(hidden_layers=2, neurons=2048, dropout=0.4, threshold=0.5, learning_rate=0.001, weight_decay=0.0)\n"
     ]
    },
    {
     "name": "stderr",
     "output_type": "stream",
     "text": [
      "Fold 1: 100%|██████████| 20/20 [00:04<00:00,  4.16it/s]\n",
      "Testing: 100%|██████████| 62/62 [00:00<00:00, 793.57it/s]\n",
      "Fold 2: 100%|██████████| 20/20 [00:04<00:00,  4.28it/s]\n",
      "Testing: 100%|██████████| 62/62 [00:00<00:00, 793.45it/s]\n",
      "Fold 3: 100%|██████████| 20/20 [00:05<00:00,  3.85it/s]\n",
      "Testing: 100%|██████████| 62/62 [00:00<00:00, 965.91it/s]\n",
      "Fold 4: 100%|██████████| 20/20 [00:04<00:00,  4.25it/s]\n",
      "Testing: 100%|██████████| 62/62 [00:00<00:00, 793.36it/s]\n",
      "Fold 5: 100%|██████████| 20/20 [00:04<00:00,  4.02it/s]\n",
      "Testing: 100%|██████████| 62/62 [00:00<00:00, 794.29it/s]\n"
     ]
    },
    {
     "name": "stdout",
     "output_type": "stream",
     "text": [
      "{'test_loss': 0.24927306189652412, 'test_accuracy': 0.5833506347901146, 'test_precision': 0.2809552857536729, 'test_recall': 0.5833506347901146, 'test_f1': 0.2966582094408583, 'test_mcc': 0.0}\n",
      "(hidden_layers=2, neurons=2048, dropout=0.4, threshold=0.5, learning_rate=0.0001, weight_decay=0.0)\n"
     ]
    },
    {
     "name": "stderr",
     "output_type": "stream",
     "text": [
      "Fold 1: 100%|██████████| 20/20 [00:06<00:00,  2.88it/s]\n",
      "Testing: 100%|██████████| 62/62 [00:00<00:00, 439.82it/s]\n",
      "Fold 2: 100%|██████████| 20/20 [00:07<00:00,  2.53it/s]\n",
      "Testing: 100%|██████████| 62/62 [00:00<00:00, 440.87it/s]\n",
      "Fold 3: 100%|██████████| 20/20 [00:07<00:00,  2.54it/s]\n",
      "Testing: 100%|██████████| 62/62 [00:00<00:00, 436.43it/s]\n",
      "Fold 4: 100%|██████████| 20/20 [00:07<00:00,  2.55it/s]\n",
      "Testing: 100%|██████████| 62/62 [00:00<00:00, 495.99it/s]\n",
      "Fold 5: 100%|██████████| 20/20 [00:07<00:00,  2.60it/s]\n",
      "Testing: 100%|██████████| 62/62 [00:00<00:00, 776.99it/s]\n"
     ]
    },
    {
     "name": "stdout",
     "output_type": "stream",
     "text": [
      "{'test_loss': 0.29830713514238594, 'test_accuracy': 0.5883634347565371, 'test_precision': 0.2810140095119934, 'test_recall': 0.5883634347565371, 'test_f1': 0.29127958629172834, 'test_mcc': 0.0}\n",
      "(hidden_layers=2, neurons=2048, dropout=0.4, threshold=0.6, learning_rate=0.001, weight_decay=0.0)\n"
     ]
    },
    {
     "name": "stderr",
     "output_type": "stream",
     "text": [
      "Fold 1: 100%|██████████| 20/20 [00:04<00:00,  4.24it/s]\n",
      "Testing: 100%|██████████| 62/62 [00:00<00:00, 793.58it/s]\n",
      "Fold 2: 100%|██████████| 20/20 [00:05<00:00,  3.58it/s]\n",
      "Testing: 100%|██████████| 62/62 [00:00<00:00, 767.87it/s]\n",
      "Fold 3: 100%|██████████| 20/20 [00:04<00:00,  4.48it/s]\n",
      "Testing: 100%|██████████| 62/62 [00:00<00:00, 957.25it/s]\n",
      "Fold 4: 100%|██████████| 20/20 [00:05<00:00,  3.71it/s]\n",
      "Testing: 100%|██████████| 62/62 [00:00<00:00, 566.76it/s]\n",
      "Fold 5: 100%|██████████| 20/20 [00:06<00:00,  3.24it/s]\n",
      "Testing: 100%|██████████| 62/62 [00:00<00:00, 662.02it/s]\n"
     ]
    },
    {
     "name": "stdout",
     "output_type": "stream",
     "text": [
      "{'test_loss': 0.2432899684074425, 'test_accuracy': 0.5915100169689248, 'test_precision': 0.2809537102682264, 'test_recall': 0.5915100169689248, 'test_f1': 0.28853037105956564, 'test_mcc': 0.0}\n",
      "(hidden_layers=2, neurons=2048, dropout=0.4, threshold=0.6, learning_rate=0.0001, weight_decay=0.0)\n"
     ]
    },
    {
     "name": "stderr",
     "output_type": "stream",
     "text": [
      "Fold 1: 100%|██████████| 20/20 [00:06<00:00,  3.22it/s]\n",
      "Testing: 100%|██████████| 62/62 [00:00<00:00, 690.77it/s]\n",
      "Fold 2: 100%|██████████| 20/20 [00:05<00:00,  3.50it/s]\n",
      "Testing: 100%|██████████| 62/62 [00:00<00:00, 645.70it/s]\n",
      "Fold 3: 100%|██████████| 20/20 [00:06<00:00,  3.25it/s]\n",
      "Testing: 100%|██████████| 62/62 [00:00<00:00, 566.81it/s]\n",
      "Fold 4: 100%|██████████| 20/20 [00:06<00:00,  3.25it/s]\n",
      "Testing: 100%|██████████| 62/62 [00:00<00:00, 566.84it/s]\n",
      "Fold 5: 100%|██████████| 20/20 [00:06<00:00,  3.10it/s]\n",
      "Testing: 100%|██████████| 62/62 [00:00<00:00, 566.73it/s]\n"
     ]
    },
    {
     "name": "stdout",
     "output_type": "stream",
     "text": [
      "{'test_loss': 0.2709563552191661, 'test_accuracy': 0.5967280577914814, 'test_precision': 0.2810739087301587, 'test_recall': 0.5967280577914814, 'test_f1': 0.2825365792842999, 'test_mcc': 0.0}\n",
      "(hidden_layers=2, neurons=2048, dropout=0.4, threshold=0.7, learning_rate=0.001, weight_decay=0.0)\n"
     ]
    },
    {
     "name": "stderr",
     "output_type": "stream",
     "text": [
      "Fold 1: 100%|██████████| 20/20 [00:06<00:00,  3.22it/s]\n",
      "Testing: 100%|██████████| 62/62 [00:00<00:00, 640.63it/s]\n",
      "Fold 2:  75%|███████▌  | 15/20 [00:04<00:01,  3.12it/s]\n"
     ]
    },
    {
     "ename": "KeyboardInterrupt",
     "evalue": "",
     "output_type": "error",
     "traceback": [
      "\u001B[1;31m---------------------------------------------------------------------------\u001B[0m",
      "\u001B[1;31mKeyboardInterrupt\u001B[0m                         Traceback (most recent call last)",
      "Cell \u001B[1;32mIn[3], line 1\u001B[0m\n\u001B[1;32m----> 1\u001B[0m \u001B[43mkfold_grid_search\u001B[49m\u001B[43m(\u001B[49m\u001B[43mdataset\u001B[49m\u001B[43m,\u001B[49m\u001B[43m \u001B[49m\u001B[43mdevice\u001B[49m\u001B[43m,\u001B[49m\n\u001B[0;32m      2\u001B[0m \u001B[43m                  \u001B[49m\u001B[43mcheckpoint_file_path\u001B[49m\u001B[38;5;241;43m=\u001B[39;49m\u001B[38;5;28;43;01mNone\u001B[39;49;00m\u001B[43m,\u001B[49m\u001B[43m  \u001B[49m\u001B[38;5;66;43;03m#\"grid-search-25.json\",\u001B[39;49;00m\n\u001B[0;32m      3\u001B[0m \u001B[43m                  \u001B[49m\u001B[43mbatch_size\u001B[49m\u001B[38;5;241;43m=\u001B[39;49m\u001B[38;5;241;43m128\u001B[39;49m\u001B[43m,\u001B[49m\n\u001B[0;32m      4\u001B[0m \u001B[43m                  \u001B[49m\u001B[43mhidden_layer_combs\u001B[49m\u001B[38;5;241;43m=\u001B[39;49m\u001B[43m[\u001B[49m\u001B[38;5;241;43m1\u001B[39;49m\u001B[43m,\u001B[49m\u001B[43m \u001B[49m\u001B[38;5;241;43m2\u001B[39;49m\u001B[43m,\u001B[49m\u001B[43m \u001B[49m\u001B[38;5;241;43m3\u001B[39;49m\u001B[43m,\u001B[49m\u001B[43m \u001B[49m\u001B[38;5;241;43m4\u001B[39;49m\u001B[43m]\u001B[49m\u001B[43m,\u001B[49m\n\u001B[0;32m      5\u001B[0m \u001B[43m                  \u001B[49m\u001B[43mneuron_combs\u001B[49m\u001B[38;5;241;43m=\u001B[39;49m\u001B[43m[\u001B[49m\u001B[38;5;241;43m2048\u001B[39;49m\u001B[43m,\u001B[49m\u001B[43m \u001B[49m\u001B[38;5;241;43m4096\u001B[39;49m\u001B[43m]\u001B[49m\u001B[43m,\u001B[49m\n\u001B[0;32m      6\u001B[0m \u001B[43m                  \u001B[49m\u001B[43mlearning_rate_combs\u001B[49m\u001B[38;5;241;43m=\u001B[39;49m\u001B[43m[\u001B[49m\u001B[38;5;241;43m0.001\u001B[39;49m\u001B[43m,\u001B[49m\u001B[43m \u001B[49m\u001B[38;5;241;43m0.0001\u001B[39;49m\u001B[43m]\u001B[49m\u001B[43m,\u001B[49m\n\u001B[0;32m      7\u001B[0m \u001B[43m                  \u001B[49m\u001B[43mdropout_combs\u001B[49m\u001B[38;5;241;43m=\u001B[39;49m\u001B[43m[\u001B[49m\u001B[38;5;241;43m0.2\u001B[39;49m\u001B[43m,\u001B[49m\u001B[43m \u001B[49m\u001B[38;5;241;43m0.4\u001B[39;49m\u001B[43m]\u001B[49m\u001B[43m,\u001B[49m\n\u001B[0;32m      8\u001B[0m \u001B[43m                  \u001B[49m\u001B[43mthreshold_combs\u001B[49m\u001B[38;5;241;43m=\u001B[39;49m\u001B[43m[\u001B[49m\u001B[38;5;241;43m0.5\u001B[39;49m\u001B[43m,\u001B[49m\u001B[43m \u001B[49m\u001B[38;5;241;43m0.6\u001B[39;49m\u001B[43m,\u001B[49m\u001B[43m \u001B[49m\u001B[38;5;241;43m0.7\u001B[39;49m\u001B[43m]\u001B[49m\u001B[43m)\u001B[49m\n",
      "File \u001B[1;32m~\\PycharmProjects\\project-module\\train.py:53\u001B[0m, in \u001B[0;36mkfold_grid_search\u001B[1;34m(dataset, device, checkpoint_file_path, k, max_epochs, batch_size, hidden_layer_combs, neuron_combs, dropout_combs, threshold_combs, learning_rate_combs, weight_decay_combs)\u001B[0m\n\u001B[0;32m     50\u001B[0m model_builder \u001B[38;5;241m=\u001B[39m MLPModel(in_features\u001B[38;5;241m=\u001B[39m\u001B[38;5;241m2048\u001B[39m, hidden_layers\u001B[38;5;241m=\u001B[39mhidden_layers, neurons_per_layer\u001B[38;5;241m=\u001B[39mneurons,\n\u001B[0;32m     51\u001B[0m                          dropout\u001B[38;5;241m=\u001B[39mdropout, threshold\u001B[38;5;241m=\u001B[39mthreshold)\n\u001B[0;32m     52\u001B[0m \u001B[38;5;28;01mfor\u001B[39;00m learning_rate, weight_decay \u001B[38;5;129;01min\u001B[39;00m itertools\u001B[38;5;241m.\u001B[39mproduct(learning_rate_combs, weight_decay_combs):\n\u001B[1;32m---> 53\u001B[0m     param_key \u001B[38;5;241m=\u001B[39m \u001B[38;5;124mf\u001B[39m\u001B[38;5;124m\"\u001B[39m\u001B[38;5;124m(hidden_layers=\u001B[39m\u001B[38;5;132;01m{\u001B[39;00mhidden_layers\u001B[38;5;132;01m}\u001B[39;00m\u001B[38;5;124m, neurons=\u001B[39m\u001B[38;5;132;01m{\u001B[39;00mneurons\u001B[38;5;132;01m}\u001B[39;00m\u001B[38;5;124m, dropout=\u001B[39m\u001B[38;5;132;01m{\u001B[39;00mdropout\u001B[38;5;132;01m}\u001B[39;00m\u001B[38;5;124m, threshold=\u001B[39m\u001B[38;5;132;01m{\u001B[39;00mthreshold\u001B[38;5;132;01m}\u001B[39;00m\u001B[38;5;124m, learning_rate=\u001B[39m\u001B[38;5;132;01m{\u001B[39;00mlearning_rate\u001B[38;5;132;01m}\u001B[39;00m\u001B[38;5;124m, weight_decay=\u001B[39m\u001B[38;5;132;01m{\u001B[39;00mweight_decay\u001B[38;5;132;01m}\u001B[39;00m\u001B[38;5;124m)\u001B[39m\u001B[38;5;124m\"\u001B[39m\n\u001B[0;32m     54\u001B[0m     \u001B[38;5;28mprint\u001B[39m(\u001B[38;5;124mf\u001B[39m\u001B[38;5;124m\"\u001B[39m\u001B[38;5;124m(\u001B[39m\u001B[38;5;132;01m{\u001B[39;00mi\u001B[38;5;132;01m}\u001B[39;00m\u001B[38;5;124m/\u001B[39m\u001B[38;5;132;01m{\u001B[39;00mmax_iters\u001B[38;5;132;01m}\u001B[39;00m\u001B[38;5;124m) \u001B[39m\u001B[38;5;132;01m{\u001B[39;00mparam_key\u001B[38;5;132;01m}\u001B[39;00m\u001B[38;5;124m\"\u001B[39m)\n\u001B[0;32m     55\u001B[0m     \u001B[38;5;28;01mif\u001B[39;00m \u001B[38;5;129;01mnot\u001B[39;00m param_key \u001B[38;5;129;01min\u001B[39;00m param_to_metrics:\n",
      "File \u001B[1;32m~\\PycharmProjects\\project-module\\train.py:97\u001B[0m, in \u001B[0;36mkfold_train_eval\u001B[1;34m(model, dataset, device, k, learning_rate, weight_decay, max_epochs, batch_size)\u001B[0m\n\u001B[0;32m     95\u001B[0m batch_x \u001B[38;5;241m=\u001B[39m batch_x\u001B[38;5;241m.\u001B[39mto(device)\n\u001B[0;32m     96\u001B[0m batch_y \u001B[38;5;241m=\u001B[39m batch_y\u001B[38;5;241m.\u001B[39mto(device)\n\u001B[1;32m---> 97\u001B[0m logits \u001B[38;5;241m=\u001B[39m model\u001B[38;5;241m.\u001B[39mforward(batch_x)\n\u001B[0;32m     98\u001B[0m loss \u001B[38;5;241m=\u001B[39m model\u001B[38;5;241m.\u001B[39mloss_function(logits, batch_y)\n\u001B[0;32m     99\u001B[0m loss\u001B[38;5;241m.\u001B[39mbackward()\n",
      "File \u001B[1;32m~\\PycharmProjects\\project-module\\venv\\Lib\\site-packages\\torch\\optim\\optimizer.py:391\u001B[0m, in \u001B[0;36mOptimizer.profile_hook_step.<locals>.wrapper\u001B[1;34m(*args, **kwargs)\u001B[0m\n\u001B[0;32m    386\u001B[0m         \u001B[38;5;28;01melse\u001B[39;00m:\n\u001B[0;32m    387\u001B[0m             \u001B[38;5;28;01mraise\u001B[39;00m \u001B[38;5;167;01mRuntimeError\u001B[39;00m(\n\u001B[0;32m    388\u001B[0m                 \u001B[38;5;124mf\u001B[39m\u001B[38;5;124m\"\u001B[39m\u001B[38;5;132;01m{\u001B[39;00mfunc\u001B[38;5;132;01m}\u001B[39;00m\u001B[38;5;124m must return None or a tuple of (new_args, new_kwargs), but got \u001B[39m\u001B[38;5;132;01m{\u001B[39;00mresult\u001B[38;5;132;01m}\u001B[39;00m\u001B[38;5;124m.\u001B[39m\u001B[38;5;124m\"\u001B[39m\n\u001B[0;32m    389\u001B[0m             )\n\u001B[1;32m--> 391\u001B[0m out \u001B[38;5;241m=\u001B[39m \u001B[43mfunc\u001B[49m\u001B[43m(\u001B[49m\u001B[38;5;241;43m*\u001B[39;49m\u001B[43margs\u001B[49m\u001B[43m,\u001B[49m\u001B[43m \u001B[49m\u001B[38;5;241;43m*\u001B[39;49m\u001B[38;5;241;43m*\u001B[39;49m\u001B[43mkwargs\u001B[49m\u001B[43m)\u001B[49m\n\u001B[0;32m    392\u001B[0m \u001B[38;5;28mself\u001B[39m\u001B[38;5;241m.\u001B[39m_optimizer_step_code()\n\u001B[0;32m    394\u001B[0m \u001B[38;5;66;03m# call optimizer step post hooks\u001B[39;00m\n",
      "File \u001B[1;32m~\\PycharmProjects\\project-module\\venv\\Lib\\site-packages\\torch\\optim\\optimizer.py:76\u001B[0m, in \u001B[0;36m_use_grad_for_differentiable.<locals>._use_grad\u001B[1;34m(self, *args, **kwargs)\u001B[0m\n\u001B[0;32m     74\u001B[0m     torch\u001B[38;5;241m.\u001B[39mset_grad_enabled(\u001B[38;5;28mself\u001B[39m\u001B[38;5;241m.\u001B[39mdefaults[\u001B[38;5;124m'\u001B[39m\u001B[38;5;124mdifferentiable\u001B[39m\u001B[38;5;124m'\u001B[39m])\n\u001B[0;32m     75\u001B[0m     torch\u001B[38;5;241m.\u001B[39m_dynamo\u001B[38;5;241m.\u001B[39mgraph_break()\n\u001B[1;32m---> 76\u001B[0m     ret \u001B[38;5;241m=\u001B[39m \u001B[43mfunc\u001B[49m\u001B[43m(\u001B[49m\u001B[38;5;28;43mself\u001B[39;49m\u001B[43m,\u001B[49m\u001B[43m \u001B[49m\u001B[38;5;241;43m*\u001B[39;49m\u001B[43margs\u001B[49m\u001B[43m,\u001B[49m\u001B[43m \u001B[49m\u001B[38;5;241;43m*\u001B[39;49m\u001B[38;5;241;43m*\u001B[39;49m\u001B[43mkwargs\u001B[49m\u001B[43m)\u001B[49m\n\u001B[0;32m     77\u001B[0m \u001B[38;5;28;01mfinally\u001B[39;00m:\n\u001B[0;32m     78\u001B[0m     torch\u001B[38;5;241m.\u001B[39m_dynamo\u001B[38;5;241m.\u001B[39mgraph_break()\n",
      "File \u001B[1;32m~\\PycharmProjects\\project-module\\venv\\Lib\\site-packages\\torch\\optim\\adam.py:168\u001B[0m, in \u001B[0;36mAdam.step\u001B[1;34m(self, closure)\u001B[0m\n\u001B[0;32m    157\u001B[0m     beta1, beta2 \u001B[38;5;241m=\u001B[39m group[\u001B[38;5;124m'\u001B[39m\u001B[38;5;124mbetas\u001B[39m\u001B[38;5;124m'\u001B[39m]\n\u001B[0;32m    159\u001B[0m     has_complex \u001B[38;5;241m=\u001B[39m \u001B[38;5;28mself\u001B[39m\u001B[38;5;241m.\u001B[39m_init_group(\n\u001B[0;32m    160\u001B[0m         group,\n\u001B[0;32m    161\u001B[0m         params_with_grad,\n\u001B[1;32m   (...)\u001B[0m\n\u001B[0;32m    165\u001B[0m         max_exp_avg_sqs,\n\u001B[0;32m    166\u001B[0m         state_steps)\n\u001B[1;32m--> 168\u001B[0m     \u001B[43madam\u001B[49m\u001B[43m(\u001B[49m\n\u001B[0;32m    169\u001B[0m \u001B[43m        \u001B[49m\u001B[43mparams_with_grad\u001B[49m\u001B[43m,\u001B[49m\n\u001B[0;32m    170\u001B[0m \u001B[43m        \u001B[49m\u001B[43mgrads\u001B[49m\u001B[43m,\u001B[49m\n\u001B[0;32m    171\u001B[0m \u001B[43m        \u001B[49m\u001B[43mexp_avgs\u001B[49m\u001B[43m,\u001B[49m\n\u001B[0;32m    172\u001B[0m \u001B[43m        \u001B[49m\u001B[43mexp_avg_sqs\u001B[49m\u001B[43m,\u001B[49m\n\u001B[0;32m    173\u001B[0m \u001B[43m        \u001B[49m\u001B[43mmax_exp_avg_sqs\u001B[49m\u001B[43m,\u001B[49m\n\u001B[0;32m    174\u001B[0m \u001B[43m        \u001B[49m\u001B[43mstate_steps\u001B[49m\u001B[43m,\u001B[49m\n\u001B[0;32m    175\u001B[0m \u001B[43m        \u001B[49m\u001B[43mamsgrad\u001B[49m\u001B[38;5;241;43m=\u001B[39;49m\u001B[43mgroup\u001B[49m\u001B[43m[\u001B[49m\u001B[38;5;124;43m'\u001B[39;49m\u001B[38;5;124;43mamsgrad\u001B[39;49m\u001B[38;5;124;43m'\u001B[39;49m\u001B[43m]\u001B[49m\u001B[43m,\u001B[49m\n\u001B[0;32m    176\u001B[0m \u001B[43m        \u001B[49m\u001B[43mhas_complex\u001B[49m\u001B[38;5;241;43m=\u001B[39;49m\u001B[43mhas_complex\u001B[49m\u001B[43m,\u001B[49m\n\u001B[0;32m    177\u001B[0m \u001B[43m        \u001B[49m\u001B[43mbeta1\u001B[49m\u001B[38;5;241;43m=\u001B[39;49m\u001B[43mbeta1\u001B[49m\u001B[43m,\u001B[49m\n\u001B[0;32m    178\u001B[0m \u001B[43m        \u001B[49m\u001B[43mbeta2\u001B[49m\u001B[38;5;241;43m=\u001B[39;49m\u001B[43mbeta2\u001B[49m\u001B[43m,\u001B[49m\n\u001B[0;32m    179\u001B[0m \u001B[43m        \u001B[49m\u001B[43mlr\u001B[49m\u001B[38;5;241;43m=\u001B[39;49m\u001B[43mgroup\u001B[49m\u001B[43m[\u001B[49m\u001B[38;5;124;43m'\u001B[39;49m\u001B[38;5;124;43mlr\u001B[39;49m\u001B[38;5;124;43m'\u001B[39;49m\u001B[43m]\u001B[49m\u001B[43m,\u001B[49m\n\u001B[0;32m    180\u001B[0m \u001B[43m        \u001B[49m\u001B[43mweight_decay\u001B[49m\u001B[38;5;241;43m=\u001B[39;49m\u001B[43mgroup\u001B[49m\u001B[43m[\u001B[49m\u001B[38;5;124;43m'\u001B[39;49m\u001B[38;5;124;43mweight_decay\u001B[39;49m\u001B[38;5;124;43m'\u001B[39;49m\u001B[43m]\u001B[49m\u001B[43m,\u001B[49m\n\u001B[0;32m    181\u001B[0m \u001B[43m        \u001B[49m\u001B[43meps\u001B[49m\u001B[38;5;241;43m=\u001B[39;49m\u001B[43mgroup\u001B[49m\u001B[43m[\u001B[49m\u001B[38;5;124;43m'\u001B[39;49m\u001B[38;5;124;43meps\u001B[39;49m\u001B[38;5;124;43m'\u001B[39;49m\u001B[43m]\u001B[49m\u001B[43m,\u001B[49m\n\u001B[0;32m    182\u001B[0m \u001B[43m        \u001B[49m\u001B[43mmaximize\u001B[49m\u001B[38;5;241;43m=\u001B[39;49m\u001B[43mgroup\u001B[49m\u001B[43m[\u001B[49m\u001B[38;5;124;43m'\u001B[39;49m\u001B[38;5;124;43mmaximize\u001B[39;49m\u001B[38;5;124;43m'\u001B[39;49m\u001B[43m]\u001B[49m\u001B[43m,\u001B[49m\n\u001B[0;32m    183\u001B[0m \u001B[43m        \u001B[49m\u001B[43mforeach\u001B[49m\u001B[38;5;241;43m=\u001B[39;49m\u001B[43mgroup\u001B[49m\u001B[43m[\u001B[49m\u001B[38;5;124;43m'\u001B[39;49m\u001B[38;5;124;43mforeach\u001B[39;49m\u001B[38;5;124;43m'\u001B[39;49m\u001B[43m]\u001B[49m\u001B[43m,\u001B[49m\n\u001B[0;32m    184\u001B[0m \u001B[43m        \u001B[49m\u001B[43mcapturable\u001B[49m\u001B[38;5;241;43m=\u001B[39;49m\u001B[43mgroup\u001B[49m\u001B[43m[\u001B[49m\u001B[38;5;124;43m'\u001B[39;49m\u001B[38;5;124;43mcapturable\u001B[39;49m\u001B[38;5;124;43m'\u001B[39;49m\u001B[43m]\u001B[49m\u001B[43m,\u001B[49m\n\u001B[0;32m    185\u001B[0m \u001B[43m        \u001B[49m\u001B[43mdifferentiable\u001B[49m\u001B[38;5;241;43m=\u001B[39;49m\u001B[43mgroup\u001B[49m\u001B[43m[\u001B[49m\u001B[38;5;124;43m'\u001B[39;49m\u001B[38;5;124;43mdifferentiable\u001B[39;49m\u001B[38;5;124;43m'\u001B[39;49m\u001B[43m]\u001B[49m\u001B[43m,\u001B[49m\n\u001B[0;32m    186\u001B[0m \u001B[43m        \u001B[49m\u001B[43mfused\u001B[49m\u001B[38;5;241;43m=\u001B[39;49m\u001B[43mgroup\u001B[49m\u001B[43m[\u001B[49m\u001B[38;5;124;43m'\u001B[39;49m\u001B[38;5;124;43mfused\u001B[39;49m\u001B[38;5;124;43m'\u001B[39;49m\u001B[43m]\u001B[49m\u001B[43m,\u001B[49m\n\u001B[0;32m    187\u001B[0m \u001B[43m        \u001B[49m\u001B[43mgrad_scale\u001B[49m\u001B[38;5;241;43m=\u001B[39;49m\u001B[38;5;28;43mgetattr\u001B[39;49m\u001B[43m(\u001B[49m\u001B[38;5;28;43mself\u001B[39;49m\u001B[43m,\u001B[49m\u001B[43m \u001B[49m\u001B[38;5;124;43m\"\u001B[39;49m\u001B[38;5;124;43mgrad_scale\u001B[39;49m\u001B[38;5;124;43m\"\u001B[39;49m\u001B[43m,\u001B[49m\u001B[43m \u001B[49m\u001B[38;5;28;43;01mNone\u001B[39;49;00m\u001B[43m)\u001B[49m\u001B[43m,\u001B[49m\n\u001B[0;32m    188\u001B[0m \u001B[43m        \u001B[49m\u001B[43mfound_inf\u001B[49m\u001B[38;5;241;43m=\u001B[39;49m\u001B[38;5;28;43mgetattr\u001B[39;49m\u001B[43m(\u001B[49m\u001B[38;5;28;43mself\u001B[39;49m\u001B[43m,\u001B[49m\u001B[43m \u001B[49m\u001B[38;5;124;43m\"\u001B[39;49m\u001B[38;5;124;43mfound_inf\u001B[39;49m\u001B[38;5;124;43m\"\u001B[39;49m\u001B[43m,\u001B[49m\u001B[43m \u001B[49m\u001B[38;5;28;43;01mNone\u001B[39;49;00m\u001B[43m)\u001B[49m\u001B[43m,\u001B[49m\n\u001B[0;32m    189\u001B[0m \u001B[43m    \u001B[49m\u001B[43m)\u001B[49m\n\u001B[0;32m    191\u001B[0m \u001B[38;5;28;01mreturn\u001B[39;00m loss\n",
      "File \u001B[1;32m~\\PycharmProjects\\project-module\\venv\\Lib\\site-packages\\torch\\optim\\adam.py:318\u001B[0m, in \u001B[0;36madam\u001B[1;34m(params, grads, exp_avgs, exp_avg_sqs, max_exp_avg_sqs, state_steps, foreach, capturable, differentiable, fused, grad_scale, found_inf, has_complex, amsgrad, beta1, beta2, lr, weight_decay, eps, maximize)\u001B[0m\n\u001B[0;32m    315\u001B[0m \u001B[38;5;28;01melse\u001B[39;00m:\n\u001B[0;32m    316\u001B[0m     func \u001B[38;5;241m=\u001B[39m _single_tensor_adam\n\u001B[1;32m--> 318\u001B[0m \u001B[43mfunc\u001B[49m\u001B[43m(\u001B[49m\u001B[43mparams\u001B[49m\u001B[43m,\u001B[49m\n\u001B[0;32m    319\u001B[0m \u001B[43m     \u001B[49m\u001B[43mgrads\u001B[49m\u001B[43m,\u001B[49m\n\u001B[0;32m    320\u001B[0m \u001B[43m     \u001B[49m\u001B[43mexp_avgs\u001B[49m\u001B[43m,\u001B[49m\n\u001B[0;32m    321\u001B[0m \u001B[43m     \u001B[49m\u001B[43mexp_avg_sqs\u001B[49m\u001B[43m,\u001B[49m\n\u001B[0;32m    322\u001B[0m \u001B[43m     \u001B[49m\u001B[43mmax_exp_avg_sqs\u001B[49m\u001B[43m,\u001B[49m\n\u001B[0;32m    323\u001B[0m \u001B[43m     \u001B[49m\u001B[43mstate_steps\u001B[49m\u001B[43m,\u001B[49m\n\u001B[0;32m    324\u001B[0m \u001B[43m     \u001B[49m\u001B[43mamsgrad\u001B[49m\u001B[38;5;241;43m=\u001B[39;49m\u001B[43mamsgrad\u001B[49m\u001B[43m,\u001B[49m\n\u001B[0;32m    325\u001B[0m \u001B[43m     \u001B[49m\u001B[43mhas_complex\u001B[49m\u001B[38;5;241;43m=\u001B[39;49m\u001B[43mhas_complex\u001B[49m\u001B[43m,\u001B[49m\n\u001B[0;32m    326\u001B[0m \u001B[43m     \u001B[49m\u001B[43mbeta1\u001B[49m\u001B[38;5;241;43m=\u001B[39;49m\u001B[43mbeta1\u001B[49m\u001B[43m,\u001B[49m\n\u001B[0;32m    327\u001B[0m \u001B[43m     \u001B[49m\u001B[43mbeta2\u001B[49m\u001B[38;5;241;43m=\u001B[39;49m\u001B[43mbeta2\u001B[49m\u001B[43m,\u001B[49m\n\u001B[0;32m    328\u001B[0m \u001B[43m     \u001B[49m\u001B[43mlr\u001B[49m\u001B[38;5;241;43m=\u001B[39;49m\u001B[43mlr\u001B[49m\u001B[43m,\u001B[49m\n\u001B[0;32m    329\u001B[0m \u001B[43m     \u001B[49m\u001B[43mweight_decay\u001B[49m\u001B[38;5;241;43m=\u001B[39;49m\u001B[43mweight_decay\u001B[49m\u001B[43m,\u001B[49m\n\u001B[0;32m    330\u001B[0m \u001B[43m     \u001B[49m\u001B[43meps\u001B[49m\u001B[38;5;241;43m=\u001B[39;49m\u001B[43meps\u001B[49m\u001B[43m,\u001B[49m\n\u001B[0;32m    331\u001B[0m \u001B[43m     \u001B[49m\u001B[43mmaximize\u001B[49m\u001B[38;5;241;43m=\u001B[39;49m\u001B[43mmaximize\u001B[49m\u001B[43m,\u001B[49m\n\u001B[0;32m    332\u001B[0m \u001B[43m     \u001B[49m\u001B[43mcapturable\u001B[49m\u001B[38;5;241;43m=\u001B[39;49m\u001B[43mcapturable\u001B[49m\u001B[43m,\u001B[49m\n\u001B[0;32m    333\u001B[0m \u001B[43m     \u001B[49m\u001B[43mdifferentiable\u001B[49m\u001B[38;5;241;43m=\u001B[39;49m\u001B[43mdifferentiable\u001B[49m\u001B[43m,\u001B[49m\n\u001B[0;32m    334\u001B[0m \u001B[43m     \u001B[49m\u001B[43mgrad_scale\u001B[49m\u001B[38;5;241;43m=\u001B[39;49m\u001B[43mgrad_scale\u001B[49m\u001B[43m,\u001B[49m\n\u001B[0;32m    335\u001B[0m \u001B[43m     \u001B[49m\u001B[43mfound_inf\u001B[49m\u001B[38;5;241;43m=\u001B[39;49m\u001B[43mfound_inf\u001B[49m\u001B[43m)\u001B[49m\n",
      "File \u001B[1;32m~\\PycharmProjects\\project-module\\venv\\Lib\\site-packages\\torch\\optim\\adam.py:522\u001B[0m, in \u001B[0;36m_multi_tensor_adam\u001B[1;34m(params, grads, exp_avgs, exp_avg_sqs, max_exp_avg_sqs, state_steps, grad_scale, found_inf, amsgrad, has_complex, beta1, beta2, lr, weight_decay, eps, maximize, capturable, differentiable)\u001B[0m\n\u001B[0;32m    519\u001B[0m         device_grads \u001B[38;5;241m=\u001B[39m torch\u001B[38;5;241m.\u001B[39m_foreach_add(device_grads, device_params, alpha\u001B[38;5;241m=\u001B[39mweight_decay)\n\u001B[0;32m    521\u001B[0m \u001B[38;5;66;03m# Decay the first and second moment running average coefficient\u001B[39;00m\n\u001B[1;32m--> 522\u001B[0m \u001B[43mtorch\u001B[49m\u001B[38;5;241;43m.\u001B[39;49m\u001B[43m_foreach_lerp_\u001B[49m\u001B[43m(\u001B[49m\u001B[43mdevice_exp_avgs\u001B[49m\u001B[43m,\u001B[49m\u001B[43m \u001B[49m\u001B[43mdevice_grads\u001B[49m\u001B[43m,\u001B[49m\u001B[43m \u001B[49m\u001B[38;5;241;43m1\u001B[39;49m\u001B[43m \u001B[49m\u001B[38;5;241;43m-\u001B[39;49m\u001B[43m \u001B[49m\u001B[43mbeta1\u001B[49m\u001B[43m)\u001B[49m\n\u001B[0;32m    524\u001B[0m torch\u001B[38;5;241m.\u001B[39m_foreach_mul_(device_exp_avg_sqs, beta2)\n\u001B[0;32m    525\u001B[0m torch\u001B[38;5;241m.\u001B[39m_foreach_addcmul_(device_exp_avg_sqs, device_grads, device_grads, \u001B[38;5;241m1\u001B[39m \u001B[38;5;241m-\u001B[39m beta2)\n",
      "\u001B[1;31mKeyboardInterrupt\u001B[0m: "
     ]
    }
   ],
   "execution_count": 3
  },
  {
   "metadata": {
    "ExecuteTime": {
     "end_time": "2024-09-02T15:25:59.653300300Z",
     "start_time": "2024-09-02T01:00:05.345696Z"
    }
   },
   "cell_type": "code",
   "source": [
    "print(f\"Training ends {datetime.now().isoformat()}\")\n",
    "# for metric in [\"accuracy\", \"precision\", \"recall\", \"f1\", \"mcc\"]:\n",
    "#     if len(model_metrics[f\"test_{metric}\"]) > 0:\n",
    "#         print(f\"Test {metric}:\", model_metrics[f\"test_{metric}\"][-1])\n",
    "# \n",
    "# plot_model_metrics(model_metrics)"
   ],
   "id": "1adc092f5a37613c",
   "outputs": [
    {
     "name": "stdout",
     "output_type": "stream",
     "text": [
      "Training ends 2024-09-02T03:00:05.346599\n"
     ]
    }
   ],
   "execution_count": 4
  }
 ],
 "metadata": {
  "kernelspec": {
   "display_name": "Python 3",
   "language": "python",
   "name": "python3"
  },
  "language_info": {
   "codemirror_mode": {
    "name": "ipython",
    "version": 2
   },
   "file_extension": ".py",
   "mimetype": "text/x-python",
   "name": "python",
   "nbconvert_exporter": "python",
   "pygments_lexer": "ipython2",
   "version": "2.7.6"
  }
 },
 "nbformat": 4,
 "nbformat_minor": 5
}
