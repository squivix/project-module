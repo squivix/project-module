{
 "cells": [
  {
   "metadata": {
    "ExecuteTime": {
     "end_time": "2024-11-13T18:16:07.895509Z",
     "start_time": "2024-11-13T18:16:05.352145Z"
    }
   },
   "cell_type": "code",
   "source": [
    "\n",
    "from datetime import datetime\n",
    "\n",
    "import torch\n",
    "from torch.utils.data import DataLoader\n",
    "\n",
    "from datasets.LabeledImageDataset import LabeledImageDataset\n",
    "from models.resnet import Resnet50Model, Resnet18Model\n",
    "from train import train_classifier\n",
    "from utils import plot_model_metrics\n",
    "from utils import reduce_dataset, split_dataset, undersample_dataset\n",
    "\n",
    "device = torch.device('cuda:0' if torch.cuda.is_available() else 'cpu')\n",
    "print(f\"Device: {device}\")\n",
    "\n",
    "batch_size = 128\n",
    "dataset = LabeledImageDataset(\"data/candidates\")\n",
    "dataset = reduce_dataset(dataset, discard_ratio=0.0)\n",
    "train_dataset, test_dataset = split_dataset(dataset, train_ratio=0.7)\n",
    "train_dataset = undersample_dataset(train_dataset)\n",
    "\n",
    "train_loader = DataLoader(train_dataset,\n",
    "                          batch_size=batch_size,\n",
    "                          shuffle=True)\n",
    "test_loader = DataLoader(test_dataset,\n",
    "                         batch_size=batch_size,\n",
    "                         shuffle=True, )\n",
    "\n",
    "model = Resnet18Model(hidden_layers=2, units_per_layer=2048, dropout=0.4)\n",
    "\n",
    "print(f\"Dataset: {len(train_dataset):,} training, {len(test_dataset):,} testing\")\n"
   ],
   "id": "2918b0fcff38b179",
   "outputs": [
    {
     "name": "stdout",
     "output_type": "stream",
     "text": [
      "Device: cuda:0\n",
      "Dataset: 296 training, 2,470 testing\n"
     ]
    }
   ],
   "execution_count": 1
  },
  {
   "metadata": {
    "ExecuteTime": {
     "end_time": "2024-11-13T18:16:07.919888Z",
     "start_time": "2024-11-13T18:16:07.911143Z"
    }
   },
   "cell_type": "code",
   "source": "print(model)",
   "id": "85466ad8a5636af",
   "outputs": [
    {
     "name": "stdout",
     "output_type": "stream",
     "text": [
      "Resnet18Model(\n",
      "  (pretrained_model): ResNet(\n",
      "    (conv1): Conv2d(3, 64, kernel_size=(7, 7), stride=(2, 2), padding=(3, 3), bias=False)\n",
      "    (bn1): BatchNorm2d(64, eps=1e-05, momentum=0.1, affine=True, track_running_stats=True)\n",
      "    (relu): ReLU(inplace=True)\n",
      "    (maxpool): MaxPool2d(kernel_size=3, stride=2, padding=1, dilation=1, ceil_mode=False)\n",
      "    (layer1): Sequential(\n",
      "      (0): BasicBlock(\n",
      "        (conv1): Conv2d(64, 64, kernel_size=(3, 3), stride=(1, 1), padding=(1, 1), bias=False)\n",
      "        (bn1): BatchNorm2d(64, eps=1e-05, momentum=0.1, affine=True, track_running_stats=True)\n",
      "        (relu): ReLU(inplace=True)\n",
      "        (conv2): Conv2d(64, 64, kernel_size=(3, 3), stride=(1, 1), padding=(1, 1), bias=False)\n",
      "        (bn2): BatchNorm2d(64, eps=1e-05, momentum=0.1, affine=True, track_running_stats=True)\n",
      "      )\n",
      "      (1): BasicBlock(\n",
      "        (conv1): Conv2d(64, 64, kernel_size=(3, 3), stride=(1, 1), padding=(1, 1), bias=False)\n",
      "        (bn1): BatchNorm2d(64, eps=1e-05, momentum=0.1, affine=True, track_running_stats=True)\n",
      "        (relu): ReLU(inplace=True)\n",
      "        (conv2): Conv2d(64, 64, kernel_size=(3, 3), stride=(1, 1), padding=(1, 1), bias=False)\n",
      "        (bn2): BatchNorm2d(64, eps=1e-05, momentum=0.1, affine=True, track_running_stats=True)\n",
      "      )\n",
      "    )\n",
      "    (layer2): Sequential(\n",
      "      (0): BasicBlock(\n",
      "        (conv1): Conv2d(64, 128, kernel_size=(3, 3), stride=(2, 2), padding=(1, 1), bias=False)\n",
      "        (bn1): BatchNorm2d(128, eps=1e-05, momentum=0.1, affine=True, track_running_stats=True)\n",
      "        (relu): ReLU(inplace=True)\n",
      "        (conv2): Conv2d(128, 128, kernel_size=(3, 3), stride=(1, 1), padding=(1, 1), bias=False)\n",
      "        (bn2): BatchNorm2d(128, eps=1e-05, momentum=0.1, affine=True, track_running_stats=True)\n",
      "        (downsample): Sequential(\n",
      "          (0): Conv2d(64, 128, kernel_size=(1, 1), stride=(2, 2), bias=False)\n",
      "          (1): BatchNorm2d(128, eps=1e-05, momentum=0.1, affine=True, track_running_stats=True)\n",
      "        )\n",
      "      )\n",
      "      (1): BasicBlock(\n",
      "        (conv1): Conv2d(128, 128, kernel_size=(3, 3), stride=(1, 1), padding=(1, 1), bias=False)\n",
      "        (bn1): BatchNorm2d(128, eps=1e-05, momentum=0.1, affine=True, track_running_stats=True)\n",
      "        (relu): ReLU(inplace=True)\n",
      "        (conv2): Conv2d(128, 128, kernel_size=(3, 3), stride=(1, 1), padding=(1, 1), bias=False)\n",
      "        (bn2): BatchNorm2d(128, eps=1e-05, momentum=0.1, affine=True, track_running_stats=True)\n",
      "      )\n",
      "    )\n",
      "    (layer3): Sequential(\n",
      "      (0): BasicBlock(\n",
      "        (conv1): Conv2d(128, 256, kernel_size=(3, 3), stride=(2, 2), padding=(1, 1), bias=False)\n",
      "        (bn1): BatchNorm2d(256, eps=1e-05, momentum=0.1, affine=True, track_running_stats=True)\n",
      "        (relu): ReLU(inplace=True)\n",
      "        (conv2): Conv2d(256, 256, kernel_size=(3, 3), stride=(1, 1), padding=(1, 1), bias=False)\n",
      "        (bn2): BatchNorm2d(256, eps=1e-05, momentum=0.1, affine=True, track_running_stats=True)\n",
      "        (downsample): Sequential(\n",
      "          (0): Conv2d(128, 256, kernel_size=(1, 1), stride=(2, 2), bias=False)\n",
      "          (1): BatchNorm2d(256, eps=1e-05, momentum=0.1, affine=True, track_running_stats=True)\n",
      "        )\n",
      "      )\n",
      "      (1): BasicBlock(\n",
      "        (conv1): Conv2d(256, 256, kernel_size=(3, 3), stride=(1, 1), padding=(1, 1), bias=False)\n",
      "        (bn1): BatchNorm2d(256, eps=1e-05, momentum=0.1, affine=True, track_running_stats=True)\n",
      "        (relu): ReLU(inplace=True)\n",
      "        (conv2): Conv2d(256, 256, kernel_size=(3, 3), stride=(1, 1), padding=(1, 1), bias=False)\n",
      "        (bn2): BatchNorm2d(256, eps=1e-05, momentum=0.1, affine=True, track_running_stats=True)\n",
      "      )\n",
      "    )\n",
      "    (layer4): Sequential(\n",
      "      (0): BasicBlock(\n",
      "        (conv1): Conv2d(256, 512, kernel_size=(3, 3), stride=(2, 2), padding=(1, 1), bias=False)\n",
      "        (bn1): BatchNorm2d(512, eps=1e-05, momentum=0.1, affine=True, track_running_stats=True)\n",
      "        (relu): ReLU(inplace=True)\n",
      "        (conv2): Conv2d(512, 512, kernel_size=(3, 3), stride=(1, 1), padding=(1, 1), bias=False)\n",
      "        (bn2): BatchNorm2d(512, eps=1e-05, momentum=0.1, affine=True, track_running_stats=True)\n",
      "        (downsample): Sequential(\n",
      "          (0): Conv2d(256, 512, kernel_size=(1, 1), stride=(2, 2), bias=False)\n",
      "          (1): BatchNorm2d(512, eps=1e-05, momentum=0.1, affine=True, track_running_stats=True)\n",
      "        )\n",
      "      )\n",
      "      (1): BasicBlock(\n",
      "        (conv1): Conv2d(512, 512, kernel_size=(3, 3), stride=(1, 1), padding=(1, 1), bias=False)\n",
      "        (bn1): BatchNorm2d(512, eps=1e-05, momentum=0.1, affine=True, track_running_stats=True)\n",
      "        (relu): ReLU(inplace=True)\n",
      "        (conv2): Conv2d(512, 512, kernel_size=(3, 3), stride=(1, 1), padding=(1, 1), bias=False)\n",
      "        (bn2): BatchNorm2d(512, eps=1e-05, momentum=0.1, affine=True, track_running_stats=True)\n",
      "      )\n",
      "    )\n",
      "    (avgpool): AdaptiveAvgPool2d(output_size=(1, 1))\n",
      "    (fc): Identity()\n",
      "  )\n",
      "  (model): MLPModel(\n",
      "    (model): Sequential(\n",
      "      (0): Linear(in_features=512, out_features=2048, bias=True)\n",
      "      (1): ReLU()\n",
      "      (2): Dropout(p=0.4, inplace=False)\n",
      "      (3): Linear(in_features=2048, out_features=2048, bias=True)\n",
      "      (4): ReLU()\n",
      "      (5): Dropout(p=0.4, inplace=False)\n",
      "      (6): Linear(in_features=2048, out_features=2048, bias=True)\n",
      "      (7): ReLU()\n",
      "      (8): Dropout(p=0.4, inplace=False)\n",
      "      (9): Linear(in_features=2048, out_features=1, bias=True)\n",
      "      (10): Sigmoid()\n",
      "    )\n",
      "  )\n",
      ")\n"
     ]
    }
   ],
   "execution_count": 2
  },
  {
   "metadata": {
    "ExecuteTime": {
     "end_time": "2024-11-13T18:16:08.031172Z",
     "start_time": "2024-11-13T18:16:08.028211Z"
    }
   },
   "cell_type": "code",
   "source": "print(f\"Training starts {datetime.now().isoformat()}\")",
   "id": "abba64f7aab96b14",
   "outputs": [
    {
     "name": "stdout",
     "output_type": "stream",
     "text": [
      "Training starts 2024-11-13T19:16:08.028211\n"
     ]
    }
   ],
   "execution_count": 3
  },
  {
   "metadata": {
    "ExecuteTime": {
     "end_time": "2024-11-13T18:22:59.790039Z",
     "start_time": "2024-11-13T18:16:08.113395Z"
    }
   },
   "cell_type": "code",
   "source": [
    "\n",
    "model = model.to(device)\n",
    "model, model_metrics = train_classifier(model, train_loader, test_loader, device,\n",
    "                                        learning_rate=0.0001,\n",
    "                                        max_epochs=50,\n",
    "                                        checkpoint_every=1,\n",
    "                                        eval_every=1)\n"
   ],
   "id": "f7966b42beaf358a",
   "outputs": [
    {
     "name": "stderr",
     "output_type": "stream",
     "text": [
      "Epoch 1 training: 100%|██████████| 3/3 [00:01<00:00,  2.71it/s]\n"
     ]
    },
    {
     "name": "stdout",
     "output_type": "stream",
     "text": [
      "Train: 1/50: loss:0.6909335056940714\n"
     ]
    },
    {
     "name": "stderr",
     "output_type": "stream",
     "text": [
      "Epoch 1 testing: 100%|██████████| 20/20 [00:06<00:00,  3.32it/s]\n"
     ]
    },
    {
     "name": "stdout",
     "output_type": "stream",
     "text": [
      "Test: 1/50: loss:0.6981625705957413, accuracy:0.46040296052631574, precision:0.042421565253082036, recall:0.9083333333333332, f1:0.08016566135999137, mcc:0.11894277971744797, epoch:0\n"
     ]
    },
    {
     "name": "stderr",
     "output_type": "stream",
     "text": [
      "Epoch 2 training: 100%|██████████| 3/3 [00:00<00:00,  3.64it/s]\n"
     ]
    },
    {
     "name": "stdout",
     "output_type": "stream",
     "text": [
      "Train: 2/50: loss:0.6743270556131998\n"
     ]
    },
    {
     "name": "stderr",
     "output_type": "stream",
     "text": [
      "Epoch 2 testing: 100%|██████████| 20/20 [00:06<00:00,  3.00it/s]\n"
     ]
    },
    {
     "name": "stdout",
     "output_type": "stream",
     "text": [
      "Test: 2/50: loss:0.7388274252414704, accuracy:0.19475740131578947, precision:0.03000205705027642, recall:0.95, f1:0.05768684745059212, mcc:0.06717083174700773, epoch:1\n"
     ]
    },
    {
     "name": "stderr",
     "output_type": "stream",
     "text": [
      "Epoch 3 training: 100%|██████████| 3/3 [00:00<00:00,  3.68it/s]\n"
     ]
    },
    {
     "name": "stdout",
     "output_type": "stream",
     "text": [
      "Train: 3/50: loss:0.6531545122464498\n"
     ]
    },
    {
     "name": "stderr",
     "output_type": "stream",
     "text": [
      "Epoch 3 testing: 100%|██████████| 20/20 [00:06<00:00,  2.97it/s]\n"
     ]
    },
    {
     "name": "stdout",
     "output_type": "stream",
     "text": [
      "Test: 3/50: loss:0.6818375051021576, accuracy:0.6072574013157894, precision:0.05648097764375674, recall:0.8607142857142858, f1:0.1043618502965065, mcc:0.15872709572371682, epoch:2\n"
     ]
    },
    {
     "name": "stderr",
     "output_type": "stream",
     "text": [
      "Epoch 4 training: 100%|██████████| 3/3 [00:00<00:00,  3.77it/s]\n"
     ]
    },
    {
     "name": "stdout",
     "output_type": "stream",
     "text": [
      "Train: 4/50: loss:0.6248336037000021\n"
     ]
    },
    {
     "name": "stderr",
     "output_type": "stream",
     "text": [
      "Epoch 4 testing: 100%|██████████| 20/20 [00:07<00:00,  2.84it/s]\n"
     ]
    },
    {
     "name": "stdout",
     "output_type": "stream",
     "text": [
      "Test: 4/50: loss:0.6141751050949097, accuracy:0.7705797697368422, precision:0.0949460374929851, recall:0.9161904761904761, f1:0.1690431789819012, mcc:0.24314570319803747, epoch:3\n"
     ]
    },
    {
     "name": "stderr",
     "output_type": "stream",
     "text": [
      "Epoch 5 training: 100%|██████████| 3/3 [00:00<00:00,  3.59it/s]\n"
     ]
    },
    {
     "name": "stdout",
     "output_type": "stream",
     "text": [
      "Train: 5/50: loss:0.6003541350364685\n"
     ]
    },
    {
     "name": "stderr",
     "output_type": "stream",
     "text": [
      "Epoch 5 testing: 100%|██████████| 20/20 [00:07<00:00,  2.81it/s]\n"
     ]
    },
    {
     "name": "stdout",
     "output_type": "stream",
     "text": [
      "Test: 5/50: loss:0.5863943666219711, accuracy:0.7673108552631579, precision:0.094991927568921, recall:0.9191666666666667, f1:0.1682314030112816, mcc:0.24242001044961511, epoch:4\n"
     ]
    },
    {
     "name": "stderr",
     "output_type": "stream",
     "text": [
      "Epoch 6 training: 100%|██████████| 3/3 [00:00<00:00,  3.47it/s]\n"
     ]
    },
    {
     "name": "stdout",
     "output_type": "stream",
     "text": [
      "Train: 6/50: loss:0.552790234486262\n"
     ]
    },
    {
     "name": "stderr",
     "output_type": "stream",
     "text": [
      "Epoch 6 testing: 100%|██████████| 20/20 [00:07<00:00,  2.79it/s]\n"
     ]
    },
    {
     "name": "stdout",
     "output_type": "stream",
     "text": [
      "Test: 6/50: loss:0.6344547867774963, accuracy:0.6655222039473684, precision:0.06827791518772902, recall:0.9458333333333334, f1:0.12540610532366467, mcc:0.1930098803481024, epoch:5\n"
     ]
    },
    {
     "name": "stderr",
     "output_type": "stream",
     "text": [
      "Epoch 7 training: 100%|██████████| 3/3 [00:00<00:00,  3.47it/s]\n"
     ]
    },
    {
     "name": "stdout",
     "output_type": "stream",
     "text": [
      "Train: 7/50: loss:0.5285229086875916\n"
     ]
    },
    {
     "name": "stderr",
     "output_type": "stream",
     "text": [
      "Epoch 7 testing: 100%|██████████| 20/20 [00:07<00:00,  2.80it/s]\n"
     ]
    },
    {
     "name": "stdout",
     "output_type": "stream",
     "text": [
      "Test: 7/50: loss:0.5088234797120095, accuracy:0.7890830592105262, precision:0.09842214158485577, recall:0.7208333333333333, f1:0.17031147255307671, mcc:0.2243541857100276, epoch:6\n"
     ]
    },
    {
     "name": "stderr",
     "output_type": "stream",
     "text": [
      "Epoch 8 training: 100%|██████████| 3/3 [00:00<00:00,  3.46it/s]\n"
     ]
    },
    {
     "name": "stdout",
     "output_type": "stream",
     "text": [
      "Train: 8/50: loss:0.47685545682907104\n"
     ]
    },
    {
     "name": "stderr",
     "output_type": "stream",
     "text": [
      "Epoch 8 testing: 100%|██████████| 20/20 [00:07<00:00,  2.83it/s]\n"
     ]
    },
    {
     "name": "stdout",
     "output_type": "stream",
     "text": [
      "Test: 8/50: loss:0.4388764321804047, accuracy:0.8180921052631579, precision:0.1123624430489419, recall:0.8147222222222222, f1:0.19325987385224846, mcc:0.2561050081639388, epoch:7\n"
     ]
    },
    {
     "name": "stderr",
     "output_type": "stream",
     "text": [
      "Epoch 9 training: 100%|██████████| 3/3 [00:00<00:00,  3.66it/s]\n"
     ]
    },
    {
     "name": "stdout",
     "output_type": "stream",
     "text": [
      "Train: 9/50: loss:0.42365436752637226\n"
     ]
    },
    {
     "name": "stderr",
     "output_type": "stream",
     "text": [
      "Epoch 9 testing: 100%|██████████| 20/20 [00:07<00:00,  2.80it/s]\n"
     ]
    },
    {
     "name": "stdout",
     "output_type": "stream",
     "text": [
      "Test: 9/50: loss:0.493417726457119, accuracy:0.7858141447368421, precision:0.10184140948021567, recall:0.9094444444444445, f1:0.17892742500167716, mcc:0.254482919712796, epoch:8\n"
     ]
    },
    {
     "name": "stderr",
     "output_type": "stream",
     "text": [
      "Epoch 10 training: 100%|██████████| 3/3 [00:00<00:00,  3.66it/s]\n"
     ]
    },
    {
     "name": "stdout",
     "output_type": "stream",
     "text": [
      "Train: 10/50: loss:0.3965207238992055\n"
     ]
    },
    {
     "name": "stderr",
     "output_type": "stream",
     "text": [
      "Epoch 10 testing: 100%|██████████| 20/20 [00:07<00:00,  2.83it/s]\n"
     ]
    },
    {
     "name": "stdout",
     "output_type": "stream",
     "text": [
      "Test: 10/50: loss:0.3484059050679207, accuracy:0.8525493421052632, precision:0.13768329334351007, recall:0.7150000000000001, f1:0.22252027713665648, mcc:0.2688699703535167, epoch:9\n"
     ]
    },
    {
     "name": "stderr",
     "output_type": "stream",
     "text": [
      "Epoch 11 training: 100%|██████████| 3/3 [00:00<00:00,  3.84it/s]\n"
     ]
    },
    {
     "name": "stdout",
     "output_type": "stream",
     "text": [
      "Train: 11/50: loss:0.36946338415145874\n"
     ]
    },
    {
     "name": "stderr",
     "output_type": "stream",
     "text": [
      "Epoch 11 testing: 100%|██████████| 20/20 [00:07<00:00,  2.76it/s]\n"
     ]
    },
    {
     "name": "stdout",
     "output_type": "stream",
     "text": [
      "Test: 11/50: loss:0.4588456660509109, accuracy:0.807874177631579, precision:0.10336011465518107, recall:0.834047619047619, f1:0.1802322990595671, mcc:0.24678351274342605, epoch:10\n"
     ]
    },
    {
     "name": "stderr",
     "output_type": "stream",
     "text": [
      "Epoch 12 training: 100%|██████████| 3/3 [00:00<00:00,  3.35it/s]\n"
     ]
    },
    {
     "name": "stdout",
     "output_type": "stream",
     "text": [
      "Train: 12/50: loss:0.3624122043450673\n"
     ]
    },
    {
     "name": "stderr",
     "output_type": "stream",
     "text": [
      "Epoch 12 testing: 100%|██████████| 20/20 [00:07<00:00,  2.78it/s]\n"
     ]
    },
    {
     "name": "stdout",
     "output_type": "stream",
     "text": [
      "Test: 12/50: loss:0.5602001190185547, accuracy:0.7740953947368421, precision:0.09575183467972843, recall:0.875, f1:0.17067594949821116, mcc:0.241305728295315, epoch:11\n"
     ]
    },
    {
     "name": "stderr",
     "output_type": "stream",
     "text": [
      "Epoch 13 training: 100%|██████████| 3/3 [00:00<00:00,  3.29it/s]\n"
     ]
    },
    {
     "name": "stdout",
     "output_type": "stream",
     "text": [
      "Train: 13/50: loss:0.31877845525741577\n"
     ]
    },
    {
     "name": "stderr",
     "output_type": "stream",
     "text": [
      "Epoch 13 testing: 100%|██████████| 20/20 [00:07<00:00,  2.80it/s]\n"
     ]
    },
    {
     "name": "stdout",
     "output_type": "stream",
     "text": [
      "Test: 13/50: loss:0.4675129309296608, accuracy:0.8096422697368422, precision:0.11080490311205597, recall:0.8741666666666668, f1:0.1918841641449281, mcc:0.2597331472917382, epoch:12\n"
     ]
    },
    {
     "name": "stderr",
     "output_type": "stream",
     "text": [
      "Epoch 14 training: 100%|██████████| 3/3 [00:00<00:00,  3.47it/s]\n"
     ]
    },
    {
     "name": "stdout",
     "output_type": "stream",
     "text": [
      "Train: 14/50: loss:0.35328327616055805\n"
     ]
    },
    {
     "name": "stderr",
     "output_type": "stream",
     "text": [
      "Epoch 14 testing: 100%|██████████| 20/20 [00:07<00:00,  2.75it/s]\n"
     ]
    },
    {
     "name": "stdout",
     "output_type": "stream",
     "text": [
      "Test: 14/50: loss:0.5236543923616409, accuracy:0.7996299342105263, precision:0.10300368001213303, recall:0.7966666666666666, f1:0.17931477156788028, mcc:0.24191602805023943, epoch:13\n"
     ]
    },
    {
     "name": "stderr",
     "output_type": "stream",
     "text": [
      "Epoch 15 training: 100%|██████████| 3/3 [00:00<00:00,  3.36it/s]\n"
     ]
    },
    {
     "name": "stdout",
     "output_type": "stream",
     "text": [
      "Train: 15/50: loss:0.29712724188963574\n"
     ]
    },
    {
     "name": "stderr",
     "output_type": "stream",
     "text": [
      "Epoch 15 testing: 100%|██████████| 20/20 [00:07<00:00,  2.80it/s]\n"
     ]
    },
    {
     "name": "stdout",
     "output_type": "stream",
     "text": [
      "Test: 15/50: loss:0.49169434905052184, accuracy:0.8086143092105263, precision:0.10843541986051637, recall:0.8895238095238096, f1:0.19084007020355528, mcc:0.2658086785559345, epoch:14\n"
     ]
    },
    {
     "name": "stderr",
     "output_type": "stream",
     "text": [
      "Epoch 16 training: 100%|██████████| 3/3 [00:00<00:00,  3.50it/s]\n"
     ]
    },
    {
     "name": "stdout",
     "output_type": "stream",
     "text": [
      "Train: 16/50: loss:0.3214864631493886\n"
     ]
    },
    {
     "name": "stderr",
     "output_type": "stream",
     "text": [
      "Epoch 16 testing: 100%|██████████| 20/20 [00:07<00:00,  2.77it/s]\n"
     ]
    },
    {
     "name": "stdout",
     "output_type": "stream",
     "text": [
      "Test: 16/50: loss:0.4025721326470375, accuracy:0.8425986842105264, precision:0.11064710136186781, recall:0.6947619047619048, f1:0.1851205544753932, mcc:0.23305357702020096, epoch:15\n"
     ]
    },
    {
     "name": "stderr",
     "output_type": "stream",
     "text": [
      "Epoch 17 training: 100%|██████████| 3/3 [00:00<00:00,  3.80it/s]\n"
     ]
    },
    {
     "name": "stdout",
     "output_type": "stream",
     "text": [
      "Train: 17/50: loss:0.2976459562778473\n"
     ]
    },
    {
     "name": "stderr",
     "output_type": "stream",
     "text": [
      "Epoch 17 testing: 100%|██████████| 20/20 [00:07<00:00,  2.77it/s]\n"
     ]
    },
    {
     "name": "stdout",
     "output_type": "stream",
     "text": [
      "Test: 17/50: loss:0.5949312552809716, accuracy:0.7719983552631579, precision:0.09592837629505585, recall:0.8691666666666666, f1:0.1711655121422206, mcc:0.24319671164776527, epoch:16\n"
     ]
    },
    {
     "name": "stderr",
     "output_type": "stream",
     "text": [
      "Epoch 18 training: 100%|██████████| 3/3 [00:00<00:00,  3.31it/s]\n"
     ]
    },
    {
     "name": "stdout",
     "output_type": "stream",
     "text": [
      "Train: 18/50: loss:0.2867836554845174\n"
     ]
    },
    {
     "name": "stderr",
     "output_type": "stream",
     "text": [
      "Epoch 18 testing: 100%|██████████| 20/20 [00:07<00:00,  2.80it/s]\n"
     ]
    },
    {
     "name": "stdout",
     "output_type": "stream",
     "text": [
      "Test: 18/50: loss:0.5965353071689605, accuracy:0.7674547697368421, precision:0.0974189698576837, recall:0.8816666666666666, f1:0.17296446179317124, mcc:0.2443845192068296, epoch:17\n"
     ]
    },
    {
     "name": "stderr",
     "output_type": "stream",
     "text": [
      "Epoch 19 training: 100%|██████████| 3/3 [00:00<00:00,  3.39it/s]\n"
     ]
    },
    {
     "name": "stdout",
     "output_type": "stream",
     "text": [
      "Train: 19/50: loss:0.27479055027167004\n"
     ]
    },
    {
     "name": "stderr",
     "output_type": "stream",
     "text": [
      "Epoch 19 testing: 100%|██████████| 20/20 [00:07<00:00,  2.81it/s]\n"
     ]
    },
    {
     "name": "stdout",
     "output_type": "stream",
     "text": [
      "Test: 19/50: loss:0.4692008212208748, accuracy:0.8169202302631579, precision:0.10754875124615657, recall:0.8233333333333335, f1:0.18680752724287206, mcc:0.25265070781032833, epoch:18\n"
     ]
    },
    {
     "name": "stderr",
     "output_type": "stream",
     "text": [
      "Epoch 20 training: 100%|██████████| 3/3 [00:00<00:00,  3.58it/s]\n"
     ]
    },
    {
     "name": "stdout",
     "output_type": "stream",
     "text": [
      "Train: 20/50: loss:0.2614495853583018\n"
     ]
    },
    {
     "name": "stderr",
     "output_type": "stream",
     "text": [
      "Epoch 20 testing: 100%|██████████| 20/20 [00:07<00:00,  2.81it/s]\n"
     ]
    },
    {
     "name": "stdout",
     "output_type": "stream",
     "text": [
      "Test: 20/50: loss:0.5127229019999504, accuracy:0.7994860197368421, precision:0.09979590222297911, recall:0.7541666666666667, f1:0.17289884102008723, mcc:0.23013050992760237, epoch:19\n"
     ]
    },
    {
     "name": "stderr",
     "output_type": "stream",
     "text": [
      "Epoch 21 training: 100%|██████████| 3/3 [00:00<00:00,  3.22it/s]\n"
     ]
    },
    {
     "name": "stdout",
     "output_type": "stream",
     "text": [
      "Train: 21/50: loss:0.27354907989501953\n"
     ]
    },
    {
     "name": "stderr",
     "output_type": "stream",
     "text": [
      "Epoch 21 testing: 100%|██████████| 20/20 [00:07<00:00,  2.68it/s]\n"
     ]
    },
    {
     "name": "stdout",
     "output_type": "stream",
     "text": [
      "Test: 21/50: loss:0.4717602521181107, accuracy:0.8140419407894737, precision:0.10775893763155227, recall:0.7595238095238096, f1:0.18404000398066747, mcc:0.2422025298572727, epoch:20\n"
     ]
    },
    {
     "name": "stderr",
     "output_type": "stream",
     "text": [
      "Epoch 22 training: 100%|██████████| 3/3 [00:00<00:00,  3.32it/s]\n"
     ]
    },
    {
     "name": "stdout",
     "output_type": "stream",
     "text": [
      "Train: 22/50: loss:0.21670982738335928\n"
     ]
    },
    {
     "name": "stderr",
     "output_type": "stream",
     "text": [
      "Epoch 22 testing: 100%|██████████| 20/20 [00:07<00:00,  2.71it/s]\n"
     ]
    },
    {
     "name": "stdout",
     "output_type": "stream",
     "text": [
      "Test: 22/50: loss:0.36681382954120634, accuracy:0.8518708881578947, precision:0.12351448235000864, recall:0.724047619047619, f1:0.20498833144519896, mcc:0.2532108808831409, epoch:21\n"
     ]
    },
    {
     "name": "stderr",
     "output_type": "stream",
     "text": [
      "Epoch 23 training: 100%|██████████| 3/3 [00:00<00:00,  3.49it/s]\n"
     ]
    },
    {
     "name": "stdout",
     "output_type": "stream",
     "text": [
      "Train: 23/50: loss:0.2095919797817866\n"
     ]
    },
    {
     "name": "stderr",
     "output_type": "stream",
     "text": [
      "Epoch 23 testing: 100%|██████████| 20/20 [00:07<00:00,  2.80it/s]\n"
     ]
    },
    {
     "name": "stdout",
     "output_type": "stream",
     "text": [
      "Test: 23/50: loss:0.7676792472600937, accuracy:0.707360197368421, precision:0.07192434667349783, recall:0.8541666666666666, f1:0.13105002250910663, mcc:0.18981412149307672, epoch:22\n"
     ]
    },
    {
     "name": "stderr",
     "output_type": "stream",
     "text": [
      "Epoch 24 training: 100%|██████████| 3/3 [00:00<00:00,  3.30it/s]\n"
     ]
    },
    {
     "name": "stdout",
     "output_type": "stream",
     "text": [
      "Train: 24/50: loss:0.2805161078770955\n"
     ]
    },
    {
     "name": "stderr",
     "output_type": "stream",
     "text": [
      "Epoch 24 testing: 100%|██████████| 20/20 [00:07<00:00,  2.71it/s]\n"
     ]
    },
    {
     "name": "stdout",
     "output_type": "stream",
     "text": [
      "Test: 24/50: loss:0.3451762914657593, accuracy:0.8605057565789475, precision:0.12709577536775005, recall:0.7386904761904762, f1:0.20878611113103734, mcc:0.2600658316227372, epoch:23\n"
     ]
    },
    {
     "name": "stderr",
     "output_type": "stream",
     "text": [
      "Epoch 25 training: 100%|██████████| 3/3 [00:00<00:00,  3.31it/s]\n"
     ]
    },
    {
     "name": "stdout",
     "output_type": "stream",
     "text": [
      "Train: 25/50: loss:0.49287839730580646\n"
     ]
    },
    {
     "name": "stderr",
     "output_type": "stream",
     "text": [
      "Epoch 25 testing: 100%|██████████| 20/20 [00:07<00:00,  2.72it/s]\n"
     ]
    },
    {
     "name": "stdout",
     "output_type": "stream",
     "text": [
      "Test: 25/50: loss:0.4697904884815216, accuracy:0.8124794407894737, precision:0.1059611688353476, recall:0.7691666666666667, f1:0.18171614225206795, mcc:0.24006696089576796, epoch:24\n"
     ]
    },
    {
     "name": "stderr",
     "output_type": "stream",
     "text": [
      "Epoch 26 training: 100%|██████████| 3/3 [00:00<00:00,  3.17it/s]\n"
     ]
    },
    {
     "name": "stdout",
     "output_type": "stream",
     "text": [
      "Train: 26/50: loss:0.29994813601175946\n"
     ]
    },
    {
     "name": "stderr",
     "output_type": "stream",
     "text": [
      "Epoch 26 testing: 100%|██████████| 20/20 [00:07<00:00,  2.77it/s]\n"
     ]
    },
    {
     "name": "stdout",
     "output_type": "stream",
     "text": [
      "Test: 26/50: loss:1.3916069835424423, accuracy:0.5264185855263157, precision:0.0494661978050419, recall:0.9108333333333334, f1:0.09221787839905277, mcc:0.14096505641263618, epoch:25\n"
     ]
    },
    {
     "name": "stderr",
     "output_type": "stream",
     "text": [
      "Epoch 27 training: 100%|██████████| 3/3 [00:00<00:00,  3.40it/s]\n"
     ]
    },
    {
     "name": "stdout",
     "output_type": "stream",
     "text": [
      "Train: 27/50: loss:0.2792853315671285\n"
     ]
    },
    {
     "name": "stderr",
     "output_type": "stream",
     "text": [
      "Epoch 27 testing: 100%|██████████| 20/20 [00:07<00:00,  2.78it/s]\n"
     ]
    },
    {
     "name": "stdout",
     "output_type": "stream",
     "text": [
      "Test: 27/50: loss:0.3827919401228428, accuracy:0.8446957236842104, precision:0.11703439099258287, recall:0.7810714285714285, f1:0.19665242201226185, mcc:0.2570383601063891, epoch:26\n"
     ]
    },
    {
     "name": "stderr",
     "output_type": "stream",
     "text": [
      "Epoch 28 training: 100%|██████████| 3/3 [00:00<00:00,  3.34it/s]\n"
     ]
    },
    {
     "name": "stdout",
     "output_type": "stream",
     "text": [
      "Train: 28/50: loss:0.23622803886731467\n"
     ]
    },
    {
     "name": "stderr",
     "output_type": "stream",
     "text": [
      "Epoch 28 testing: 100%|██████████| 20/20 [00:07<00:00,  2.77it/s]\n"
     ]
    },
    {
     "name": "stdout",
     "output_type": "stream",
     "text": [
      "Test: 28/50: loss:0.27231655120849607, accuracy:0.8920024671052632, precision:0.15497605956845087, recall:0.6325000000000001, f1:0.24125837634850916, mcc:0.27370768353812824, epoch:27\n"
     ]
    },
    {
     "name": "stderr",
     "output_type": "stream",
     "text": [
      "Epoch 29 training: 100%|██████████| 3/3 [00:00<00:00,  3.40it/s]\n"
     ]
    },
    {
     "name": "stdout",
     "output_type": "stream",
     "text": [
      "Train: 29/50: loss:0.1840947891275088\n"
     ]
    },
    {
     "name": "stderr",
     "output_type": "stream",
     "text": [
      "Epoch 29 testing: 100%|██████████| 20/20 [00:07<00:00,  2.70it/s]\n"
     ]
    },
    {
     "name": "stdout",
     "output_type": "stream",
     "text": [
      "Test: 29/50: loss:0.701942378282547, accuracy:0.7344983552631579, precision:0.0813864610865341, recall:0.875, f1:0.1469958752288893, mcc:0.21511755384742423, epoch:28\n"
     ]
    },
    {
     "name": "stderr",
     "output_type": "stream",
     "text": [
      "Epoch 30 training: 100%|██████████| 3/3 [00:00<00:00,  3.26it/s]\n"
     ]
    },
    {
     "name": "stdout",
     "output_type": "stream",
     "text": [
      "Train: 30/50: loss:0.24724580844243368\n"
     ]
    },
    {
     "name": "stderr",
     "output_type": "stream",
     "text": [
      "Epoch 30 testing: 100%|██████████| 20/20 [00:07<00:00,  2.79it/s]\n"
     ]
    },
    {
     "name": "stdout",
     "output_type": "stream",
     "text": [
      "Test: 30/50: loss:0.7198789119720459, accuracy:0.7313322368421054, precision:0.07718019550328815, recall:0.8302777777777777, f1:0.13841840453335078, mcc:0.20054162951660998, epoch:29\n"
     ]
    },
    {
     "name": "stderr",
     "output_type": "stream",
     "text": [
      "Epoch 31 training: 100%|██████████| 3/3 [00:00<00:00,  3.29it/s]\n"
     ]
    },
    {
     "name": "stdout",
     "output_type": "stream",
     "text": [
      "Train: 31/50: loss:0.163178617755572\n"
     ]
    },
    {
     "name": "stderr",
     "output_type": "stream",
     "text": [
      "Epoch 31 testing: 100%|██████████| 20/20 [00:07<00:00,  2.80it/s]\n"
     ]
    },
    {
     "name": "stdout",
     "output_type": "stream",
     "text": [
      "Test: 31/50: loss:0.32276682183146477, accuracy:0.8735402960526315, precision:0.13773337610102315, recall:0.7348214285714285, f1:0.21879743391807022, mcc:0.2695906421128328, epoch:30\n"
     ]
    },
    {
     "name": "stderr",
     "output_type": "stream",
     "text": [
      "Epoch 32 training: 100%|██████████| 3/3 [00:00<00:00,  3.30it/s]\n"
     ]
    },
    {
     "name": "stdout",
     "output_type": "stream",
     "text": [
      "Train: 32/50: loss:0.2847694009542465\n"
     ]
    },
    {
     "name": "stderr",
     "output_type": "stream",
     "text": [
      "Epoch 32 testing: 100%|██████████| 20/20 [00:07<00:00,  2.79it/s]\n"
     ]
    },
    {
     "name": "stdout",
     "output_type": "stream",
     "text": [
      "Test: 32/50: loss:0.4763756409287453, accuracy:0.8230057565789475, precision:0.10419823807839994, recall:0.7150000000000001, f1:0.17788608368225245, mcc:0.229824912395335, epoch:31\n"
     ]
    },
    {
     "name": "stderr",
     "output_type": "stream",
     "text": [
      "Epoch 33 training: 100%|██████████| 3/3 [00:00<00:00,  3.20it/s]\n"
     ]
    },
    {
     "name": "stdout",
     "output_type": "stream",
     "text": [
      "Train: 33/50: loss:0.1685058573881785\n"
     ]
    },
    {
     "name": "stderr",
     "output_type": "stream",
     "text": [
      "Epoch 33 testing: 100%|██████████| 20/20 [00:07<00:00,  2.79it/s]\n"
     ]
    },
    {
     "name": "stdout",
     "output_type": "stream",
     "text": [
      "Test: 33/50: loss:1.0339840471744537, accuracy:0.6492598684210527, precision:0.06415085053473664, recall:0.8125, f1:0.11711360718939719, mcc:0.17210325344790356, epoch:32\n"
     ]
    },
    {
     "name": "stderr",
     "output_type": "stream",
     "text": [
      "Epoch 34 training: 100%|██████████| 3/3 [00:00<00:00,  3.46it/s]\n"
     ]
    },
    {
     "name": "stdout",
     "output_type": "stream",
     "text": [
      "Train: 34/50: loss:0.26181313892205554\n"
     ]
    },
    {
     "name": "stderr",
     "output_type": "stream",
     "text": [
      "Epoch 34 testing: 100%|██████████| 20/20 [00:07<00:00,  2.75it/s]\n"
     ]
    },
    {
     "name": "stdout",
     "output_type": "stream",
     "text": [
      "Test: 34/50: loss:0.6331603571772575, accuracy:0.7716488486842106, precision:0.09774564107737786, recall:0.9025000000000001, f1:0.1715449336160287, mcc:0.24102866780389723, epoch:33\n"
     ]
    },
    {
     "name": "stderr",
     "output_type": "stream",
     "text": [
      "Epoch 35 training: 100%|██████████| 3/3 [00:00<00:00,  3.26it/s]\n"
     ]
    },
    {
     "name": "stdout",
     "output_type": "stream",
     "text": [
      "Train: 35/50: loss:0.1767174700895945\n"
     ]
    },
    {
     "name": "stderr",
     "output_type": "stream",
     "text": [
      "Epoch 35 testing: 100%|██████████| 20/20 [00:07<00:00,  2.79it/s]\n"
     ]
    },
    {
     "name": "stdout",
     "output_type": "stream",
     "text": [
      "Test: 35/50: loss:0.2750081218779087, accuracy:0.8983963815789474, precision:0.15901346202816793, recall:0.6932142857142857, f1:0.24470943760252553, mcc:0.2871911601532638, epoch:34\n"
     ]
    },
    {
     "name": "stderr",
     "output_type": "stream",
     "text": [
      "Epoch 36 training: 100%|██████████| 3/3 [00:00<00:00,  3.40it/s]\n"
     ]
    },
    {
     "name": "stdout",
     "output_type": "stream",
     "text": [
      "Train: 36/50: loss:0.19685745735963187\n"
     ]
    },
    {
     "name": "stderr",
     "output_type": "stream",
     "text": [
      "Epoch 36 testing: 100%|██████████| 20/20 [00:07<00:00,  2.77it/s]\n"
     ]
    },
    {
     "name": "stdout",
     "output_type": "stream",
     "text": [
      "Test: 36/50: loss:0.4399608552455902, accuracy:0.8378083881578947, precision:0.12062215457609274, recall:0.8228571428571427, f1:0.20543271572072222, mcc:0.26907278034323084, epoch:35\n"
     ]
    },
    {
     "name": "stderr",
     "output_type": "stream",
     "text": [
      "Epoch 37 training: 100%|██████████| 3/3 [00:00<00:00,  3.29it/s]\n"
     ]
    },
    {
     "name": "stdout",
     "output_type": "stream",
     "text": [
      "Train: 37/50: loss:0.17255597313245138\n"
     ]
    },
    {
     "name": "stderr",
     "output_type": "stream",
     "text": [
      "Epoch 37 testing: 100%|██████████| 20/20 [00:07<00:00,  2.79it/s]\n"
     ]
    },
    {
     "name": "stdout",
     "output_type": "stream",
     "text": [
      "Test: 37/50: loss:0.7898187786340714, accuracy:0.7268708881578947, precision:0.08808976264635236, recall:0.9275, f1:0.1554365589236324, mcc:0.22432571821986363, epoch:36\n"
     ]
    },
    {
     "name": "stderr",
     "output_type": "stream",
     "text": [
      "Epoch 38 training: 100%|██████████| 3/3 [00:00<00:00,  3.37it/s]\n"
     ]
    },
    {
     "name": "stdout",
     "output_type": "stream",
     "text": [
      "Train: 38/50: loss:0.15527340024709702\n"
     ]
    },
    {
     "name": "stderr",
     "output_type": "stream",
     "text": [
      "Epoch 38 testing: 100%|██████████| 20/20 [00:07<00:00,  2.79it/s]\n"
     ]
    },
    {
     "name": "stdout",
     "output_type": "stream",
     "text": [
      "Test: 38/50: loss:0.5719640746712684, accuracy:0.8023231907894737, precision:0.10086798931794187, recall:0.8203571428571429, f1:0.17802744482180055, mcc:0.24485053513674235, epoch:37\n"
     ]
    },
    {
     "name": "stderr",
     "output_type": "stream",
     "text": [
      "Epoch 39 training: 100%|██████████| 3/3 [00:00<00:00,  3.37it/s]\n"
     ]
    },
    {
     "name": "stdout",
     "output_type": "stream",
     "text": [
      "Train: 39/50: loss:0.10199026887615521\n"
     ]
    },
    {
     "name": "stderr",
     "output_type": "stream",
     "text": [
      "Epoch 39 testing: 100%|██████████| 20/20 [00:07<00:00,  2.75it/s]\n"
     ]
    },
    {
     "name": "stdout",
     "output_type": "stream",
     "text": [
      "Test: 39/50: loss:0.39281087964773176, accuracy:0.8582648026315789, precision:0.122152595592813, recall:0.6761904761904762, f1:0.20198223296499157, mcc:0.2462226866936139, epoch:38\n"
     ]
    },
    {
     "name": "stderr",
     "output_type": "stream",
     "text": [
      "Epoch 40 training: 100%|██████████| 3/3 [00:00<00:00,  3.16it/s]\n"
     ]
    },
    {
     "name": "stdout",
     "output_type": "stream",
     "text": [
      "Train: 40/50: loss:0.14415904879570007\n"
     ]
    },
    {
     "name": "stderr",
     "output_type": "stream",
     "text": [
      "Epoch 40 testing: 100%|██████████| 20/20 [00:07<00:00,  2.71it/s]\n"
     ]
    },
    {
     "name": "stdout",
     "output_type": "stream",
     "text": [
      "Test: 40/50: loss:0.4282258689403534, accuracy:0.8458675986842105, precision:0.12695955302219605, recall:0.7629166666666667, f1:0.2128517687796403, mcc:0.26597469630406445, epoch:39\n"
     ]
    },
    {
     "name": "stderr",
     "output_type": "stream",
     "text": [
      "Epoch 41 training: 100%|██████████| 3/3 [00:00<00:00,  3.40it/s]\n"
     ]
    },
    {
     "name": "stdout",
     "output_type": "stream",
     "text": [
      "Train: 41/50: loss:0.11940295000871022\n"
     ]
    },
    {
     "name": "stderr",
     "output_type": "stream",
     "text": [
      "Epoch 41 testing: 100%|██████████| 20/20 [00:07<00:00,  2.75it/s]\n"
     ]
    },
    {
     "name": "stdout",
     "output_type": "stream",
     "text": [
      "Test: 41/50: loss:0.5928299561142921, accuracy:0.7993832236842106, precision:0.10875687840164525, recall:0.8223809523809524, f1:0.18626708340758452, mcc:0.24710440860327734, epoch:40\n"
     ]
    },
    {
     "name": "stderr",
     "output_type": "stream",
     "text": [
      "Epoch 42 training: 100%|██████████| 3/3 [00:00<00:00,  3.56it/s]\n"
     ]
    },
    {
     "name": "stdout",
     "output_type": "stream",
     "text": [
      "Train: 42/50: loss:0.12646954754988352\n"
     ]
    },
    {
     "name": "stderr",
     "output_type": "stream",
     "text": [
      "Epoch 42 testing: 100%|██████████| 20/20 [00:07<00:00,  2.76it/s]\n"
     ]
    },
    {
     "name": "stdout",
     "output_type": "stream",
     "text": [
      "Test: 42/50: loss:0.55666174441576, accuracy:0.8095394736842104, precision:0.10859396965949997, recall:0.8175000000000001, f1:0.18766253624918522, mcc:0.25088679970852124, epoch:41\n"
     ]
    },
    {
     "name": "stderr",
     "output_type": "stream",
     "text": [
      "Epoch 43 training: 100%|██████████| 3/3 [00:00<00:00,  3.40it/s]\n"
     ]
    },
    {
     "name": "stdout",
     "output_type": "stream",
     "text": [
      "Train: 43/50: loss:0.1191746195157369\n"
     ]
    },
    {
     "name": "stderr",
     "output_type": "stream",
     "text": [
      "Epoch 43 testing: 100%|██████████| 20/20 [00:07<00:00,  2.75it/s]\n"
     ]
    },
    {
     "name": "stdout",
     "output_type": "stream",
     "text": [
      "Test: 43/50: loss:0.3556464366614819, accuracy:0.8737458881578947, precision:0.14334958879270024, recall:0.6758333333333334, f1:0.22832294205796702, mcc:0.26977803964987007, epoch:42\n"
     ]
    },
    {
     "name": "stderr",
     "output_type": "stream",
     "text": [
      "Epoch 44 training: 100%|██████████| 3/3 [00:00<00:00,  3.56it/s]\n"
     ]
    },
    {
     "name": "stdout",
     "output_type": "stream",
     "text": [
      "Train: 44/50: loss:0.09144657974441846\n"
     ]
    },
    {
     "name": "stderr",
     "output_type": "stream",
     "text": [
      "Epoch 44 testing: 100%|██████████| 20/20 [00:07<00:00,  2.73it/s]\n"
     ]
    },
    {
     "name": "stdout",
     "output_type": "stream",
     "text": [
      "Test: 44/50: loss:0.4859709843993187, accuracy:0.8306332236842104, precision:0.10974416120051685, recall:0.7932142857142856, f1:0.1893115925746228, mcc:0.25194282498491527, epoch:43\n"
     ]
    },
    {
     "name": "stderr",
     "output_type": "stream",
     "text": [
      "Epoch 45 training: 100%|██████████| 3/3 [00:00<00:00,  3.42it/s]\n"
     ]
    },
    {
     "name": "stdout",
     "output_type": "stream",
     "text": [
      "Train: 45/50: loss:0.09383329252401988\n"
     ]
    },
    {
     "name": "stderr",
     "output_type": "stream",
     "text": [
      "Epoch 45 testing: 100%|██████████| 20/20 [00:07<00:00,  2.80it/s]\n"
     ]
    },
    {
     "name": "stdout",
     "output_type": "stream",
     "text": [
      "Test: 45/50: loss:0.7614596173167228, accuracy:0.7609580592105263, precision:0.08748024441432686, recall:0.7495238095238095, f1:0.1543209032701286, mcc:0.20821713507852876, epoch:44\n"
     ]
    },
    {
     "name": "stderr",
     "output_type": "stream",
     "text": [
      "Epoch 46 training: 100%|██████████| 3/3 [00:00<00:00,  3.26it/s]\n"
     ]
    },
    {
     "name": "stdout",
     "output_type": "stream",
     "text": [
      "Train: 46/50: loss:0.10709601143995921\n"
     ]
    },
    {
     "name": "stderr",
     "output_type": "stream",
     "text": [
      "Epoch 46 testing: 100%|██████████| 20/20 [00:07<00:00,  2.73it/s]\n"
     ]
    },
    {
     "name": "stdout",
     "output_type": "stream",
     "text": [
      "Test: 46/50: loss:0.5920317128300667, accuracy:0.8107113486842105, precision:0.10795966511087478, recall:0.8133333333333332, f1:0.18699613149357147, mcc:0.25042058912640985, epoch:45\n"
     ]
    },
    {
     "name": "stderr",
     "output_type": "stream",
     "text": [
      "Epoch 47 training: 100%|██████████| 3/3 [00:00<00:00,  3.29it/s]\n"
     ]
    },
    {
     "name": "stdout",
     "output_type": "stream",
     "text": [
      "Train: 47/50: loss:0.07154003654917081\n"
     ]
    },
    {
     "name": "stderr",
     "output_type": "stream",
     "text": [
      "Epoch 47 testing: 100%|██████████| 20/20 [00:07<00:00,  2.81it/s]\n"
     ]
    },
    {
     "name": "stdout",
     "output_type": "stream",
     "text": [
      "Test: 47/50: loss:0.38447517305612566, accuracy:0.8711554276315789, precision:0.14448091455328296, recall:0.7583333333333333, f1:0.23714887646466593, mcc:0.28813436323561126, epoch:46\n"
     ]
    },
    {
     "name": "stderr",
     "output_type": "stream",
     "text": [
      "Epoch 48 training: 100%|██████████| 3/3 [00:00<00:00,  3.52it/s]\n"
     ]
    },
    {
     "name": "stdout",
     "output_type": "stream",
     "text": [
      "Train: 48/50: loss:0.09542812407016754\n"
     ]
    },
    {
     "name": "stderr",
     "output_type": "stream",
     "text": [
      "Epoch 48 testing: 100%|██████████| 20/20 [00:07<00:00,  2.77it/s]\n"
     ]
    },
    {
     "name": "stdout",
     "output_type": "stream",
     "text": [
      "Test: 48/50: loss:0.6093661084771156, accuracy:0.8006578947368421, precision:0.1049624134902917, recall:0.8595833333333334, f1:0.1822865044010852, mcc:0.250711798375834, epoch:47\n"
     ]
    },
    {
     "name": "stderr",
     "output_type": "stream",
     "text": [
      "Epoch 49 training: 100%|██████████| 3/3 [00:00<00:00,  3.25it/s]\n"
     ]
    },
    {
     "name": "stdout",
     "output_type": "stream",
     "text": [
      "Train: 49/50: loss:0.06796123708287875\n"
     ]
    },
    {
     "name": "stderr",
     "output_type": "stream",
     "text": [
      "Epoch 49 testing: 100%|██████████| 20/20 [00:07<00:00,  2.72it/s]\n"
     ]
    },
    {
     "name": "stdout",
     "output_type": "stream",
     "text": [
      "Test: 49/50: loss:0.8106121182441711, accuracy:0.7564761513157895, precision:0.08734954059868272, recall:0.8416666666666666, f1:0.1559143832576028, mcc:0.21578474220304206, epoch:48\n"
     ]
    },
    {
     "name": "stderr",
     "output_type": "stream",
     "text": [
      "Epoch 50 training: 100%|██████████| 3/3 [00:00<00:00,  3.32it/s]\n"
     ]
    },
    {
     "name": "stdout",
     "output_type": "stream",
     "text": [
      "Train: 50/50: loss:0.05998960385719935\n"
     ]
    },
    {
     "name": "stderr",
     "output_type": "stream",
     "text": [
      "Epoch 50 testing: 100%|██████████| 20/20 [00:07<00:00,  2.82it/s]\n"
     ]
    },
    {
     "name": "stdout",
     "output_type": "stream",
     "text": [
      "Test: 50/50: loss:0.5595508962869644, accuracy:0.8218955592105264, precision:0.11387562563272502, recall:0.8411904761904762, f1:0.19809675489339235, mcc:0.2645131718241228, epoch:49\n"
     ]
    }
   ],
   "execution_count": 4
  },
  {
   "metadata": {
    "ExecuteTime": {
     "end_time": "2024-11-13T18:22:59.941001Z",
     "start_time": "2024-11-13T18:22:59.795749Z"
    }
   },
   "cell_type": "code",
   "source": [
    "\n",
    "print(f\"Training ends {datetime.now().isoformat()}\")\n",
    "for metric in [\"accuracy\", \"precision\", \"recall\", \"f1\", \"mcc\"]:\n",
    "    if len(model_metrics[f\"test_{metric}\"]) > 0:\n",
    "        print(f\"Test {metric}:\", model_metrics[f\"test_{metric}\"][-1])\n",
    "\n",
    "plot_model_metrics(model_metrics)"
   ],
   "id": "1adc092f5a37613c",
   "outputs": [
    {
     "name": "stdout",
     "output_type": "stream",
     "text": [
      "Training ends 2024-11-13T19:22:59.795749\n",
      "Test accuracy: 0.8218955592105264\n",
      "Test precision: 0.11387562563272502\n",
      "Test recall: 0.8411904761904762\n",
      "Test f1: 0.19809675489339235\n",
      "Test mcc: 0.2645131718241228\n"
     ]
    },
    {
     "data": {
      "text/plain": [
       "<Figure size 1000x1000 with 2 Axes>"
      ],
      "image/png": "[encoded data removed]"
     },
     "metadata": {},
     "output_type": "display_data"
    }
   ],
   "execution_count": 5
  },
  {
   "metadata": {
    "ExecuteTime": {
     "end_time": "2024-11-13T18:22:59.952817Z",
     "start_time": "2024-11-13T18:22:59.946376Z"
    }
   },
   "cell_type": "code",
   "source": "",
   "id": "e26b680b0bf2f825",
   "outputs": [],
   "execution_count": null
  }
 ],
 "metadata": {
  "kernelspec": {
   "display_name": "Python 3",
   "language": "python",
   "name": "python3"
  },
  "language_info": {
   "codemirror_mode": {
    "name": "ipython",
    "version": 2
   },
   "file_extension": ".py",
   "mimetype": "text/x-python",
   "name": "python",
   "nbconvert_exporter": "python",
   "pygments_lexer": "ipython2",
   "version": "2.7.6"
  }
 },
 "nbformat": 4,
 "nbformat_minor": 5
}
