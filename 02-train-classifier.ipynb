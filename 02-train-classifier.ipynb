{
 "cells": [
  {
   "metadata": {},
   "cell_type": "code",
   "outputs": [],
   "execution_count": null,
   "source": [
    "import numpy as np\n",
    "import torch\n",
    "from torch.utils.data import DataLoader, random_split, Subset, ConcatDataset\n",
    "from torchvision import transforms\n",
    "from torchvision.datasets import ImageFolder\n",
    "\n",
    "from models.cnn import CnnModel\n",
    "from train import mlp_train\n",
    "from utils import plot_model_metrics"
   ],
   "id": "e895b6bf9fc07088"
  },
  {
   "metadata": {},
   "cell_type": "code",
   "outputs": [],
   "execution_count": null,
   "source": [
    "data_dir = 'data/DeepHP'\n",
    "device = torch.device('cuda:0' if torch.cuda.is_available() else 'cpu')\n",
    "print(device)\n",
    "\n",
    "transform = transforms.Compose([\n",
    "    transforms.Resize((256, 256)),  # Resize the image to 256x256\n",
    "    transforms.ToTensor(),  # Convert the image to a tensor\n",
    "])\n",
    "dataset_class_0 = ImageFolder(root=f\"{data_dir}/Negative\", transform=transform)\n",
    "dataset_class_1 = ImageFolder(root=f\"{data_dir}/Positive\", transform=transform,\n",
    "                              target_transform=transforms.Lambda(lambda x: x + 1))  # hack\n",
    "batch_size = 512\n",
    "\n",
    "class_size = 100_000\n",
    "dataset = ConcatDataset([\n",
    "    Subset(dataset_class_0, np.random.choice(len(dataset_class_0), class_size, replace=False)),\n",
    "    Subset(dataset_class_1, np.random.choice(len(dataset_class_1), class_size, replace=False)),\n",
    "])\n",
    "\n",
    "train_dataset, test_dataset = random_split(dataset, [0.7, 0.3])\n",
    "# num_workers = 4\n",
    "train_loader = DataLoader(train_dataset,\n",
    "                          batch_size=batch_size,\n",
    "                          shuffle=True, )\n",
    "test_loader = DataLoader(test_dataset,\n",
    "                         batch_size=batch_size,\n",
    "                         shuffle=True, )\n",
    "\n",
    "model = CnnModel(output_dim=2)\n",
    "print(model)\n"
   ],
   "id": "30cc3ca486f5064b"
  },
  {
   "cell_type": "code",
   "execution_count": null,
   "id": "initial_id",
   "metadata": {
    "collapsed": true
   },
   "outputs": [],
   "source": [
    "model = model.to(device)\n",
    "model, model_metrics = mlp_train(model, train_loader, test_loader, device,\n",
    "                                 learning_rate=0.001,\n",
    "                                 max_epochs=50)\n",
    "print(model_metrics)\n",
    "plot_model_metrics(model_metrics)"
   ]
  },
  {
   "metadata": {},
   "cell_type": "code",
   "outputs": [],
   "execution_count": null,
   "source": "torch.save(model.state_dict(), \"./model5.bin\")",
   "id": "3e677db27325e540"
  }
 ],
 "metadata": {
  "kernelspec": {
   "display_name": "Python 3",
   "language": "python",
   "name": "python3"
  },
  "language_info": {
   "codemirror_mode": {
    "name": "ipython",
    "version": 2
   },
   "file_extension": ".py",
   "mimetype": "text/x-python",
   "name": "python",
   "nbconvert_exporter": "python",
   "pygments_lexer": "ipython2",
   "version": "2.7.6"
  }
 },
 "nbformat": 4,
 "nbformat_minor": 5
}
