{
 "cells": [
  {
   "metadata": {
    "ExecuteTime": {
     "end_time": "2024-09-02T01:12:33.995219Z",
     "start_time": "2024-09-02T01:12:31.111239Z"
    }
   },
   "cell_type": "code",
   "source": [
    "\n",
    "from datetime import datetime\n",
    "\n",
    "import torch\n",
    "\n",
    "from datasets.CustomTrainingImageDataset import generate_balanced_dataset\n",
    "from train import kfold_grid_search\n",
    "\n",
    "device = torch.device('cuda:0' if torch.cuda.is_available() else 'cpu')\n",
    "print(f\"Device: {device}\")\n",
    "\n",
    "batch_size = 128\n",
    "\n",
    "dataset, _ = generate_balanced_dataset(discard_ratio=0.9, test_ratio=0, undersample=False)\n",
    "\n",
    "print(f\"Dataset: {len(dataset):,} examples\")"
   ],
   "id": "2918b0fcff38b179",
   "outputs": [
    {
     "name": "stdout",
     "output_type": "stream",
     "text": [
      "Device: cuda:0\n",
      "Dataset: 39,492 examples\n"
     ]
    }
   ],
   "execution_count": 1
  },
  {
   "metadata": {
    "ExecuteTime": {
     "end_time": "2024-09-02T01:12:34.074269Z",
     "start_time": "2024-09-02T01:12:34.071488Z"
    }
   },
   "cell_type": "code",
   "source": "print(f\"Training starts {datetime.now().isoformat()}\")",
   "id": "abba64f7aab96b14",
   "outputs": [
    {
     "name": "stdout",
     "output_type": "stream",
     "text": [
      "Training starts 2024-09-02T03:12:34.072824\n"
     ]
    }
   ],
   "execution_count": 2
  },
  {
   "metadata": {
    "jupyter": {
     "is_executing": true
    },
    "ExecuteTime": {
     "start_time": "2024-09-02T01:12:34.178391Z"
    }
   },
   "cell_type": "code",
   "source": [
    "kfold_grid_search(dataset, device,\n",
    "                  batch_size=128,\n",
    "                  hidden_layer_combs=[1, 2, 3, 4],\n",
    "                  neuron_combs=[512, 1024, 2048, 4096],\n",
    "                  learning_rate_combs=[0.1, 0.01, 0.0001], )"
   ],
   "id": "f7966b42beaf358a",
   "outputs": [
    {
     "name": "stdout",
     "output_type": "stream",
     "text": [
      "(hidden_layers=1, neurons=512, learning_rate=0.1, weight_decay=0.0)\n"
     ]
    },
    {
     "name": "stderr",
     "output_type": "stream",
     "text": [
      "Fold 1:   5%|▌         | 1/20 [00:19<06:18, 19.90s/it]"
     ]
    }
   ],
   "execution_count": null
  },
  {
   "metadata": {
    "ExecuteTime": {
     "end_time": "2024-09-02T01:09:26.822520864Z",
     "start_time": "2024-09-02T01:00:05.345696Z"
    }
   },
   "cell_type": "code",
   "source": [
    "print(f\"Training ends {datetime.now().isoformat()}\")\n",
    "# for metric in [\"accuracy\", \"precision\", \"recall\", \"f1\", \"mcc\"]:\n",
    "#     if len(model_metrics[f\"test_{metric}\"]) > 0:\n",
    "#         print(f\"Test {metric}:\", model_metrics[f\"test_{metric}\"][-1])\n",
    "# \n",
    "# plot_model_metrics(model_metrics)"
   ],
   "id": "1adc092f5a37613c",
   "outputs": [
    {
     "name": "stdout",
     "output_type": "stream",
     "text": [
      "Training ends 2024-09-02T03:00:05.346599\n"
     ]
    }
   ],
   "execution_count": 4
  }
 ],
 "metadata": {
  "kernelspec": {
   "display_name": "Python 3",
   "language": "python",
   "name": "python3"
  },
  "language_info": {
   "codemirror_mode": {
    "name": "ipython",
    "version": 2
   },
   "file_extension": ".py",
   "mimetype": "text/x-python",
   "name": "python",
   "nbconvert_exporter": "python",
   "pygments_lexer": "ipython2",
   "version": "2.7.6"
  }
 },
 "nbformat": 4,
 "nbformat_minor": 5
}
