{
 "cells": [
  {
   "metadata": {
    "ExecuteTime": {
     "end_time": "2024-09-02T11:48:15.317542Z",
     "start_time": "2024-09-02T11:48:13.489781Z"
    }
   },
   "cell_type": "code",
   "source": [
    "\n",
    "from datetime import datetime\n",
    "\n",
    "import torch\n",
    "from torch.ao.nn.quantized.functional import threshold\n",
    "\n",
    "from datasets.CustomTrainingImageDataset import generate_balanced_dataset\n",
    "from train import kfold_grid_search\n",
    "\n",
    "device = torch.device('cuda:0' if torch.cuda.is_available() else 'cpu')\n",
    "print(f\"Device: {device}\")\n",
    "\n",
    "batch_size = 128\n",
    "\n",
    "dataset, _ = generate_balanced_dataset(discard_ratio=0.9, test_ratio=0, undersample=False)\n",
    "\n",
    "print(f\"Dataset: {len(dataset):,} examples\")"
   ],
   "id": "2918b0fcff38b179",
   "outputs": [
    {
     "name": "stdout",
     "output_type": "stream",
     "text": [
      "Device: cuda:0\n",
      "Dataset: 39,492 examples\n"
     ]
    }
   ],
   "execution_count": 1
  },
  {
   "metadata": {
    "ExecuteTime": {
     "end_time": "2024-09-02T11:48:15.399209Z",
     "start_time": "2024-09-02T11:48:15.395648Z"
    }
   },
   "cell_type": "code",
   "source": "print(f\"Training starts {datetime.now().isoformat()}\")",
   "id": "abba64f7aab96b14",
   "outputs": [
    {
     "name": "stdout",
     "output_type": "stream",
     "text": [
      "Training starts 2024-09-02T13:48:15.397267\n"
     ]
    }
   ],
   "execution_count": 2
  },
  {
   "metadata": {
    "jupyter": {
     "is_executing": true
    },
    "ExecuteTime": {
     "start_time": "2024-09-02T11:48:15.507051Z"
    }
   },
   "cell_type": "code",
   "source": [
    "kfold_grid_search(dataset, device,\n",
    "                  checkpoint_file_path=None,  #\"grid-search-25.json\",\n",
    "                  batch_size=128,\n",
    "                  hidden_layer_combs=[1, 2, 3, 4],\n",
    "                  neuron_combs=[2048, 4096],\n",
    "                  learning_rate_combs=[0.001, 0.0001],\n",
    "                  dropout_combs=[0.2, 0.4],\n",
    "                  threshold_combs=[0.5, 0.6, 0.7])"
   ],
   "id": "f7966b42beaf358a",
   "outputs": [
    {
     "name": "stdout",
     "output_type": "stream",
     "text": [
      "(hidden_layers=1, neurons=2048, dropout=0.2, threshold=0.5, learning_rate=0.001, weight_decay=0.0)\n"
     ]
    },
    {
     "name": "stderr",
     "output_type": "stream",
     "text": [
      "Fold 1:  20%|██        | 4/20 [00:30<01:51,  6.99s/it]"
     ]
    }
   ],
   "execution_count": null
  },
  {
   "metadata": {
    "ExecuteTime": {
     "end_time": "2024-09-02T11:48:01.682005894Z",
     "start_time": "2024-09-02T01:00:05.345696Z"
    }
   },
   "cell_type": "code",
   "source": [
    "print(f\"Training ends {datetime.now().isoformat()}\")\n",
    "# for metric in [\"accuracy\", \"precision\", \"recall\", \"f1\", \"mcc\"]:\n",
    "#     if len(model_metrics[f\"test_{metric}\"]) > 0:\n",
    "#         print(f\"Test {metric}:\", model_metrics[f\"test_{metric}\"][-1])\n",
    "# \n",
    "# plot_model_metrics(model_metrics)"
   ],
   "id": "1adc092f5a37613c",
   "outputs": [
    {
     "name": "stdout",
     "output_type": "stream",
     "text": [
      "Training ends 2024-09-02T03:00:05.346599\n"
     ]
    }
   ],
   "execution_count": 4
  }
 ],
 "metadata": {
  "kernelspec": {
   "display_name": "Python 3",
   "language": "python",
   "name": "python3"
  },
  "language_info": {
   "codemirror_mode": {
    "name": "ipython",
    "version": 2
   },
   "file_extension": ".py",
   "mimetype": "text/x-python",
   "name": "python",
   "nbconvert_exporter": "python",
   "pygments_lexer": "ipython2",
   "version": "2.7.6"
  }
 },
 "nbformat": 4,
 "nbformat_minor": 5
}
