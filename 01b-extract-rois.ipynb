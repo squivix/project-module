{
 "cells": [
  {
   "metadata": {
    "ExecuteTime": {
     "end_time": "2024-09-12T16:10:51.064920Z",
     "start_time": "2024-09-12T16:10:51.030940Z"
    }
   },
   "cell_type": "code",
   "source": [
    "\n",
    "import os\n",
    "\n",
    "if hasattr(os, 'add_dll_directory'):\n",
    "    # Windows\n",
    "    OPENSLIDE_PATH = os.path.join(os.path.abspath(os.getcwd()),\n",
    "                                  \"libs/openslide-bin-4.0.0.3-windows-x64/bin\")\n",
    "    with os.add_dll_directory(OPENSLIDE_PATH):\n",
    "        import openslide\n",
    "else:\n",
    "    import openslide"
   ],
   "id": "c1ed2ce3ce1b8c6d",
   "outputs": [],
   "execution_count": 18
  },
  {
   "cell_type": "code",
   "id": "initial_id",
   "metadata": {
    "collapsed": true,
    "ExecuteTime": {
     "end_time": "2024-09-12T16:10:51.426416Z",
     "start_time": "2024-09-12T16:10:51.064920Z"
    }
   },
   "source": [
    "import json\n",
    "import os\n",
    "import xml.etree.ElementTree as ET\n",
    "from pathlib import Path\n",
    "\n",
    "import cv2\n",
    "import numpy as np\n",
    "import openslide\n",
    "\n",
    "input_dir = \"data/whole-slides/gut\"\n",
    "\n",
    "for filename in os.listdir(input_dir):\n",
    "    if Path(filename).suffix != \".xml\":\n",
    "        continue\n",
    "    regions_tag = ET.parse(f'{input_dir}/{filename}').getroot().find('Annotation/Regions')\n",
    "    bounding_boxes = []\n",
    "    for region_tag in regions_tag.findall('Region'):\n",
    "        # print(region_tag)\n",
    "        xs = []\n",
    "        ys = []\n",
    "        for vertex_tag in region_tag.findall('Vertices/Vertex'):\n",
    "            x, y = int(vertex_tag.attrib['X']), int(vertex_tag.attrib['Y'])\n",
    "            xs.append(x)\n",
    "            ys.append(y)\n",
    "        x_min, y_min = min(xs), min(ys)\n",
    "        x_max, y_max = max(xs), max(ys)\n",
    "        width = x_max - x_min\n",
    "        height = y_max - y_min\n",
    "        bounding_boxes.append({\"x_min\": x_min, \"y_min\": y_min, \"width\": width, \"height\": height})\n",
    "    print()\n",
    "    print(bounding_boxes)\n",
    "    with open(f\"{input_dir}/{Path(filename).stem}.json\", 'w') as f:\n",
    "        json.dump(bounding_boxes, f)\n",
    "\n",
    "    slide_filename = f\"{Path(filename).stem}.svs\"\n",
    "    output_dir = f\"data/rois/{Path(slide_filename).stem}/\"\n",
    "    os.makedirs(output_dir, exist_ok=True)\n",
    "    slide = openslide.OpenSlide(f\"{input_dir}/{slide_filename}\")\n",
    "    for i, bounding_box in enumerate(bounding_boxes):\n",
    "        x, y, w, h = bounding_box[\"x_min\"], bounding_box[\"y_min\"], bounding_box[\"width\"], bounding_box[\"height\"]\n",
    "        roi = np.array(slide.read_region((x, y), 0, (w, h)))\n",
    "        cv2.imwrite(f\"{output_dir}/{i}_{x},{y}_{w},{h}.png\", roi)"
   ],
   "outputs": [
    {
     "name": "stdout",
     "output_type": "stream",
     "text": [
      "\n",
      "[{'x_min': 108200, 'y_min': 23667, 'width': 292, 'height': 323}]\n",
      "\n",
      "[{'x_min': 162664, 'y_min': 29288, 'width': 242, 'height': 236}, {'x_min': 163485, 'y_min': 29469, 'width': 253, 'height': 244}, {'x_min': 162129, 'y_min': 29096, 'width': 173, 'height': 164}, {'x_min': 167794, 'y_min': 20703, 'width': 486, 'height': 196}, {'x_min': 150454, 'y_min': 35879, 'width': 157, 'height': 129}, {'x_min': 147624, 'y_min': 32247, 'width': 178, 'height': 140}, {'x_min': 155621, 'y_min': 25969, 'width': 341, 'height': 218}, {'x_min': 168227, 'y_min': 22700, 'width': 335, 'height': 178}, {'x_min': 149590, 'y_min': 16378, 'width': 168, 'height': 330}, {'x_min': 134934, 'y_min': 39834, 'width': 178, 'height': 144}, {'x_min': 132153, 'y_min': 38294, 'width': 178, 'height': 234}, {'x_min': 127993, 'y_min': 39672, 'width': 199, 'height': 225}, {'x_min': 104503, 'y_min': 39517, 'width': 373, 'height': 403}, {'x_min': 103250, 'y_min': 38803, 'width': 307, 'height': 316}, {'x_min': 101910, 'y_min': 37489, 'width': 186, 'height': 419}, {'x_min': 101635, 'y_min': 37146, 'width': 199, 'height': 291}, {'x_min': 119333, 'y_min': 24050, 'width': 526, 'height': 371}, {'x_min': 119854, 'y_min': 22849, 'width': 278, 'height': 207}, {'x_min': 119600, 'y_min': 22489, 'width': 338, 'height': 240}, {'x_min': 125084, 'y_min': 26427, 'width': 283, 'height': 254}, {'x_min': 124953, 'y_min': 26139, 'width': 439, 'height': 177}, {'x_min': 123417, 'y_min': 24341, 'width': 214, 'height': 124}, {'x_min': 119942, 'y_min': 21901, 'width': 403, 'height': 308}, {'x_min': 73785, 'y_min': 42199, 'width': 248, 'height': 136}, {'x_min': 81963, 'y_min': 41210, 'width': 303, 'height': 177}, {'x_min': 81823, 'y_min': 40909, 'width': 266, 'height': 103}, {'x_min': 81981, 'y_min': 41653, 'width': 137, 'height': 180}, {'x_min': 76467, 'y_min': 24298, 'width': 165, 'height': 159}, {'x_min': 65087, 'y_min': 26468, 'width': 331, 'height': 225}, {'x_min': 61611, 'y_min': 27439, 'width': 288, 'height': 152}, {'x_min': 26972, 'y_min': 17544, 'width': 129, 'height': 92}]\n"
     ]
    }
   ],
   "execution_count": 19
  },
  {
   "metadata": {
    "ExecuteTime": {
     "end_time": "2024-09-12T16:10:51.457560Z",
     "start_time": "2024-09-12T16:10:51.441936Z"
    }
   },
   "cell_type": "code",
   "source": "",
   "id": "ea19232dc25ed06e",
   "outputs": [],
   "execution_count": null
  }
 ],
 "metadata": {
  "kernelspec": {
   "display_name": "Python 3",
   "language": "python",
   "name": "python3"
  },
  "language_info": {
   "codemirror_mode": {
    "name": "ipython",
    "version": 2
   },
   "file_extension": ".py",
   "mimetype": "text/x-python",
   "name": "python",
   "nbconvert_exporter": "python",
   "pygments_lexer": "ipython2",
   "version": "2.7.6"
  }
 },
 "nbformat": 4,
 "nbformat_minor": 5
}
