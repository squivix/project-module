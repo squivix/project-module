{
 "cells": [
  {
   "metadata": {
    "ExecuteTime": {
     "end_time": "2024-11-10T16:42:02.406364Z",
     "start_time": "2024-11-10T16:42:02.381294Z"
    }
   },
   "cell_type": "code",
   "source": [
    "\n",
    "import os\n",
    "\n",
    "if hasattr(os, 'add_dll_directory'):\n",
    "    # Windows\n",
    "    OPENSLIDE_PATH = os.path.join(os.path.abspath(os.getcwd()),\n",
    "                                  \"libs/openslide-bin-4.0.0.3-windows-x64/bin\")\n",
    "    with os.add_dll_directory(OPENSLIDE_PATH):\n",
    "        import openslide\n",
    "else:\n",
    "    import openslide"
   ],
   "id": "c1ed2ce3ce1b8c6d",
   "outputs": [],
   "execution_count": 1
  },
  {
   "cell_type": "code",
   "id": "initial_id",
   "metadata": {
    "collapsed": true,
    "ExecuteTime": {
     "end_time": "2024-11-10T16:42:03.883550Z",
     "start_time": "2024-11-10T16:42:02.428713Z"
    }
   },
   "source": [
    "import json\n",
    "import os\n",
    "import xml.etree.ElementTree as ET\n",
    "from pathlib import Path\n",
    "\n",
    "import cv2\n",
    "import numpy as np\n",
    "import openslide\n",
    "\n",
    "input_dir = \"data/whole-slides/gut\"\n",
    "\n",
    "for filename in os.listdir(input_dir):\n",
    "    if Path(filename).suffix != \".xml\":\n",
    "        continue\n",
    "    regions_tag = ET.parse(f'{input_dir}/{filename}').getroot().find('Annotation/Regions')\n",
    "    bounding_boxes = []\n",
    "    for region_tag in regions_tag.findall('Region'):\n",
    "        # print(region_tag)\n",
    "        xs = []\n",
    "        ys = []\n",
    "        for vertex_tag in region_tag.findall('Vertices/Vertex'):\n",
    "            x, y = int(vertex_tag.attrib['X']), int(vertex_tag.attrib['Y'])\n",
    "            xs.append(x)\n",
    "            ys.append(y)\n",
    "        x_min, y_min = min(xs), min(ys)\n",
    "        x_max, y_max = max(xs), max(ys)\n",
    "        width = x_max - x_min\n",
    "        height = y_max - y_min\n",
    "        bounding_boxes.append({\"x_min\": x_min, \"y_min\": y_min, \"width\": width, \"height\": height})\n",
    "    print()\n",
    "    print(bounding_boxes)\n",
    "    with open(f\"{input_dir}/{Path(filename).stem}.json\", 'w') as f:\n",
    "        json.dump(bounding_boxes, f)\n",
    "\n",
    "    slide_filename = f\"{Path(filename).stem}.svs\"\n",
    "    output_dir = f\"data/rois/{Path(slide_filename).stem}/\"\n",
    "    os.makedirs(output_dir, exist_ok=True)\n",
    "    slide = openslide.OpenSlide(f\"{input_dir}/{slide_filename}\")\n",
    "    for i, bounding_box in enumerate(bounding_boxes):\n",
    "        x, y, w, h = bounding_box[\"x_min\"], bounding_box[\"y_min\"], bounding_box[\"width\"], bounding_box[\"height\"]\n",
    "        roi = np.array(slide.read_region((x, y), 0, (w, h)))\n",
    "        cv2.imwrite(f\"{output_dir}/{i}_{x},{y}_{w},{h}.png\", roi)"
   ],
   "outputs": [
    {
     "name": "stdout",
     "output_type": "stream",
     "text": [
      "\n",
      "[{'x_min': 162664, 'y_min': 29288, 'width': 242, 'height': 236}, {'x_min': 163485, 'y_min': 29469, 'width': 253, 'height': 244}, {'x_min': 162129, 'y_min': 29096, 'width': 173, 'height': 164}, {'x_min': 167794, 'y_min': 20703, 'width': 486, 'height': 196}, {'x_min': 150454, 'y_min': 35879, 'width': 157, 'height': 129}, {'x_min': 147624, 'y_min': 32247, 'width': 178, 'height': 140}, {'x_min': 155621, 'y_min': 25969, 'width': 341, 'height': 218}, {'x_min': 168227, 'y_min': 22700, 'width': 335, 'height': 178}, {'x_min': 149590, 'y_min': 16378, 'width': 168, 'height': 330}, {'x_min': 134934, 'y_min': 39834, 'width': 178, 'height': 144}, {'x_min': 132153, 'y_min': 38294, 'width': 178, 'height': 234}, {'x_min': 127993, 'y_min': 39672, 'width': 199, 'height': 225}, {'x_min': 104503, 'y_min': 39517, 'width': 373, 'height': 403}, {'x_min': 103250, 'y_min': 38803, 'width': 307, 'height': 316}, {'x_min': 101910, 'y_min': 37489, 'width': 186, 'height': 419}, {'x_min': 101635, 'y_min': 37146, 'width': 199, 'height': 291}, {'x_min': 119333, 'y_min': 24050, 'width': 526, 'height': 371}, {'x_min': 119854, 'y_min': 22849, 'width': 278, 'height': 207}, {'x_min': 119600, 'y_min': 22489, 'width': 338, 'height': 240}, {'x_min': 125084, 'y_min': 26427, 'width': 283, 'height': 254}, {'x_min': 124953, 'y_min': 26139, 'width': 439, 'height': 177}, {'x_min': 123417, 'y_min': 24341, 'width': 214, 'height': 124}, {'x_min': 119942, 'y_min': 21901, 'width': 403, 'height': 308}, {'x_min': 73785, 'y_min': 42199, 'width': 248, 'height': 136}, {'x_min': 81963, 'y_min': 41210, 'width': 303, 'height': 177}, {'x_min': 81823, 'y_min': 40909, 'width': 266, 'height': 103}, {'x_min': 81981, 'y_min': 41653, 'width': 137, 'height': 180}, {'x_min': 76467, 'y_min': 24298, 'width': 165, 'height': 159}, {'x_min': 65087, 'y_min': 26468, 'width': 331, 'height': 225}, {'x_min': 61611, 'y_min': 27439, 'width': 288, 'height': 152}, {'x_min': 26972, 'y_min': 17544, 'width': 129, 'height': 92}]\n",
      "\n",
      "[{'x_min': 97339, 'y_min': 22547, 'width': 107, 'height': 116}, {'x_min': 97421, 'y_min': 22917, 'width': 121, 'height': 130}, {'x_min': 97584, 'y_min': 23096, 'width': 126, 'height': 85}, {'x_min': 97699, 'y_min': 23208, 'width': 400, 'height': 439}, {'x_min': 100991, 'y_min': 23273, 'width': 274, 'height': 139}, {'x_min': 101386, 'y_min': 23084, 'width': 208, 'height': 164}, {'x_min': 101417, 'y_min': 22771, 'width': 237, 'height': 246}, {'x_min': 100992, 'y_min': 22590, 'width': 457, 'height': 184}, {'x_min': 100355, 'y_min': 22322, 'width': 238, 'height': 78}, {'x_min': 100566, 'y_min': 21904, 'width': 148, 'height': 187}, {'x_min': 100307, 'y_min': 19796, 'width': 186, 'height': 153}, {'x_min': 99918, 'y_min': 19754, 'width': 72, 'height': 75}, {'x_min': 100643, 'y_min': 14992, 'width': 151, 'height': 146}, {'x_min': 100868, 'y_min': 15189, 'width': 229, 'height': 315}, {'x_min': 100206, 'y_min': 14840, 'width': 222, 'height': 154}, {'x_min': 99997, 'y_min': 14510, 'width': 341, 'height': 205}, {'x_min': 99671, 'y_min': 15216, 'width': 122, 'height': 78}, {'x_min': 98714, 'y_min': 14636, 'width': 93, 'height': 66}, {'x_min': 107353, 'y_min': 13620, 'width': 186, 'height': 94}, {'x_min': 107492, 'y_min': 12953, 'width': 274, 'height': 265}, {'x_min': 107679, 'y_min': 12212, 'width': 176, 'height': 303}, {'x_min': 59121, 'y_min': 11761, 'width': 80, 'height': 48}, {'x_min': 60776, 'y_min': 13188, 'width': 117, 'height': 113}, {'x_min': 60841, 'y_min': 13457, 'width': 147, 'height': 139}, {'x_min': 60768, 'y_min': 14067, 'width': 141, 'height': 184}, {'x_min': 60326, 'y_min': 15054, 'width': 162, 'height': 169}, {'x_min': 59009, 'y_min': 15670, 'width': 240, 'height': 118}, {'x_min': 58305, 'y_min': 15866, 'width': 155, 'height': 116}, {'x_min': 56812, 'y_min': 15702, 'width': 67, 'height': 55}, {'x_min': 55816, 'y_min': 15742, 'width': 137, 'height': 73}, {'x_min': 56020, 'y_min': 15704, 'width': 98, 'height': 102}, {'x_min': 51441, 'y_min': 13592, 'width': 204, 'height': 140}, {'x_min': 51495, 'y_min': 13904, 'width': 236, 'height': 145}, {'x_min': 52281, 'y_min': 14370, 'width': 203, 'height': 160}, {'x_min': 52961, 'y_min': 14492, 'width': 175, 'height': 139}, {'x_min': 52950, 'y_min': 14787, 'width': 284, 'height': 179}, {'x_min': 53294, 'y_min': 15001, 'width': 164, 'height': 204}, {'x_min': 51939, 'y_min': 19680, 'width': 158, 'height': 74}, {'x_min': 51961, 'y_min': 19998, 'width': 94, 'height': 213}, {'x_min': 51898, 'y_min': 20747, 'width': 185, 'height': 141}, {'x_min': 51418, 'y_min': 21350, 'width': 136, 'height': 97}, {'x_min': 6272, 'y_min': 14187, 'width': 168, 'height': 132}, {'x_min': 5947, 'y_min': 14045, 'width': 172, 'height': 114}, {'x_min': 7059, 'y_min': 8435, 'width': 65, 'height': 75}, {'x_min': 6971, 'y_min': 8377, 'width': 122, 'height': 96}, {'x_min': 6267, 'y_min': 7129, 'width': 147, 'height': 161}, {'x_min': 10484, 'y_min': 9586, 'width': 184, 'height': 119}, {'x_min': 14860, 'y_min': 9214, 'width': 148, 'height': 144}, {'x_min': 15403, 'y_min': 8608, 'width': 159, 'height': 180}, {'x_min': 15471, 'y_min': 7598, 'width': 153, 'height': 138}]\n",
      "\n",
      "[{'x_min': 24745, 'y_min': 19279, 'width': 224, 'height': 95}, {'x_min': 24449, 'y_min': 19394, 'width': 195, 'height': 111}, {'x_min': 25258, 'y_min': 18819, 'width': 138, 'height': 94}, {'x_min': 25041, 'y_min': 18470, 'width': 137, 'height': 125}, {'x_min': 25355, 'y_min': 18412, 'width': 189, 'height': 125}, {'x_min': 24893, 'y_min': 18656, 'width': 186, 'height': 118}, {'x_min': 24786, 'y_min': 18863, 'width': 80, 'height': 119}, {'x_min': 24865, 'y_min': 18914, 'width': 177, 'height': 103}, {'x_min': 24627, 'y_min': 18959, 'width': 124, 'height': 111}, {'x_min': 25404, 'y_min': 18705, 'width': 208, 'height': 115}, {'x_min': 25534, 'y_min': 18196, 'width': 167, 'height': 137}, {'x_min': 25745, 'y_min': 18507, 'width': 96, 'height': 115}, {'x_min': 25841, 'y_min': 18144, 'width': 260, 'height': 189}, {'x_min': 25254, 'y_min': 18254, 'width': 153, 'height': 123}, {'x_min': 25933, 'y_min': 17862, 'width': 240, 'height': 105}, {'x_min': 26160, 'y_min': 17619, 'width': 139, 'height': 142}, {'x_min': 25819, 'y_min': 17575, 'width': 94, 'height': 130}, {'x_min': 25920, 'y_min': 17408, 'width': 130, 'height': 97}, {'x_min': 25981, 'y_min': 16085, 'width': 177, 'height': 113}, {'x_min': 26019, 'y_min': 14648, 'width': 196, 'height': 138}, {'x_min': 26020, 'y_min': 14298, 'width': 262, 'height': 144}, {'x_min': 25891, 'y_min': 13723, 'width': 174, 'height': 119}, {'x_min': 26220, 'y_min': 13643, 'width': 254, 'height': 154}, {'x_min': 26199, 'y_min': 13948, 'width': 179, 'height': 154}, {'x_min': 25931, 'y_min': 13561, 'width': 189, 'height': 164}, {'x_min': 26007, 'y_min': 12967, 'width': 163, 'height': 146}, {'x_min': 26198, 'y_min': 12888, 'width': 178, 'height': 104}, {'x_min': 26138, 'y_min': 13176, 'width': 319, 'height': 275}, {'x_min': 13050, 'y_min': 8407, 'width': 134, 'height': 74}, {'x_min': 13438, 'y_min': 9772, 'width': 312, 'height': 309}, {'x_min': 12377, 'y_min': 11055, 'width': 93, 'height': 126}, {'x_min': 11953, 'y_min': 11366, 'width': 214, 'height': 231}, {'x_min': 11606, 'y_min': 11787, 'width': 163, 'height': 169}, {'x_min': 10811, 'y_min': 12098, 'width': 145, 'height': 134}, {'x_min': 6563, 'y_min': 9912, 'width': 236, 'height': 175}, {'x_min': 7076, 'y_min': 9582, 'width': 283, 'height': 219}, {'x_min': 6716, 'y_min': 10120, 'width': 282, 'height': 201}, {'x_min': 6515, 'y_min': 10278, 'width': 155, 'height': 151}, {'x_min': 6247, 'y_min': 10389, 'width': 121, 'height': 128}, {'x_min': 6091, 'y_min': 10613, 'width': 200, 'height': 150}, {'x_min': 6312, 'y_min': 11010, 'width': 147, 'height': 147}, {'x_min': 5952, 'y_min': 10231, 'width': 106, 'height': 103}, {'x_min': 5568, 'y_min': 10873, 'width': 108, 'height': 194}, {'x_min': 4360, 'y_min': 10819, 'width': 127, 'height': 109}, {'x_min': 4433, 'y_min': 11282, 'width': 124, 'height': 135}, {'x_min': 4869, 'y_min': 11079, 'width': 82, 'height': 133}, {'x_min': 4902, 'y_min': 10815, 'width': 116, 'height': 89}, {'x_min': 4690, 'y_min': 10403, 'width': 238, 'height': 161}, {'x_min': 4752, 'y_min': 10142, 'width': 87, 'height': 127}, {'x_min': 5064, 'y_min': 10529, 'width': 179, 'height': 168}, {'x_min': 5155, 'y_min': 9917, 'width': 146, 'height': 179}, {'x_min': 5428, 'y_min': 10143, 'width': 150, 'height': 102}, {'x_min': 5624, 'y_min': 10086, 'width': 133, 'height': 108}, {'x_min': 5468, 'y_min': 9802, 'width': 202, 'height': 145}, {'x_min': 5362, 'y_min': 9513, 'width': 166, 'height': 93}, {'x_min': 6026, 'y_min': 9980, 'width': 173, 'height': 125}, {'x_min': 6257, 'y_min': 9798, 'width': 165, 'height': 159}, {'x_min': 5875, 'y_min': 9650, 'width': 184, 'height': 223}, {'x_min': 6080, 'y_min': 9350, 'width': 193, 'height': 125}, {'x_min': 6229, 'y_min': 9264, 'width': 251, 'height': 151}, {'x_min': 6699, 'y_min': 9428, 'width': 257, 'height': 177}, {'x_min': 4817, 'y_min': 8990, 'width': 129, 'height': 114}, {'x_min': 5441, 'y_min': 9135, 'width': 113, 'height': 109}, {'x_min': 5223, 'y_min': 8808, 'width': 140, 'height': 93}, {'x_min': 4114, 'y_min': 7632, 'width': 139, 'height': 108}, {'x_min': 4200, 'y_min': 7794, 'width': 107, 'height': 108}, {'x_min': 4438, 'y_min': 7659, 'width': 130, 'height': 125}, {'x_min': 4811, 'y_min': 7997, 'width': 139, 'height': 149}, {'x_min': 4553, 'y_min': 7834, 'width': 130, 'height': 141}, {'x_min': 4701, 'y_min': 8158, 'width': 198, 'height': 187}, {'x_min': 3069, 'y_min': 7421, 'width': 264, 'height': 270}, {'x_min': 3325, 'y_min': 7155, 'width': 323, 'height': 466}, {'x_min': 3758, 'y_min': 7264, 'width': 199, 'height': 176}, {'x_min': 3622, 'y_min': 7937, 'width': 94, 'height': 122}, {'x_min': 3284, 'y_min': 8132, 'width': 98, 'height': 118}, {'x_min': 2852, 'y_min': 7734, 'width': 108, 'height': 101}, {'x_min': 2730, 'y_min': 7318, 'width': 136, 'height': 149}, {'x_min': 4104, 'y_min': 7194, 'width': 177, 'height': 170}, {'x_min': 3528, 'y_min': 6800, 'width': 514, 'height': 134}, {'x_min': 3206, 'y_min': 5749, 'width': 334, 'height': 295}, {'x_min': 3338, 'y_min': 5964, 'width': 321, 'height': 155}, {'x_min': 3225, 'y_min': 6180, 'width': 221, 'height': 314}, {'x_min': 3516, 'y_min': 5307, 'width': 94, 'height': 142}, {'x_min': 7258, 'y_min': 9153, 'width': 244, 'height': 208}, {'x_min': 7609, 'y_min': 9155, 'width': 261, 'height': 332}, {'x_min': 7170, 'y_min': 8914, 'width': 129, 'height': 95}, {'x_min': 8485, 'y_min': 9116, 'width': 159, 'height': 304}, {'x_min': 9160, 'y_min': 7304, 'width': 435, 'height': 261}, {'x_min': 8654, 'y_min': 6445, 'width': 323, 'height': 340}, {'x_min': 7896, 'y_min': 6476, 'width': 363, 'height': 234}, {'x_min': 6931, 'y_min': 6898, 'width': 270, 'height': 354}, {'x_min': 6419, 'y_min': 6148, 'width': 142, 'height': 164}, {'x_min': 6709, 'y_min': 6462, 'width': 329, 'height': 208}, {'x_min': 6375, 'y_min': 6525, 'width': 103, 'height': 119}]\n",
      "\n",
      "[{'x_min': 108200, 'y_min': 23667, 'width': 292, 'height': 323}]\n",
      "\n",
      "[{'x_min': 97136, 'y_min': 56763, 'width': 152, 'height': 173}, {'x_min': 97486, 'y_min': 58161, 'width': 270, 'height': 205}, {'x_min': 99602, 'y_min': 56719, 'width': 136, 'height': 145}, {'x_min': 108866, 'y_min': 51025, 'width': 185, 'height': 216}, {'x_min': 108558, 'y_min': 51169, 'width': 115, 'height': 241}, {'x_min': 109301, 'y_min': 50993, 'width': 275, 'height': 165}, {'x_min': 108996, 'y_min': 50427, 'width': 615, 'height': 283}, {'x_min': 109841, 'y_min': 50503, 'width': 156, 'height': 325}, {'x_min': 110407, 'y_min': 50533, 'width': 78, 'height': 85}, {'x_min': 110413, 'y_min': 50674, 'width': 78, 'height': 89}, {'x_min': 110838, 'y_min': 49674, 'width': 499, 'height': 384}, {'x_min': 125106, 'y_min': 49651, 'width': 119, 'height': 105}, {'x_min': 127127, 'y_min': 51077, 'width': 139, 'height': 213}, {'x_min': 118543, 'y_min': 43226, 'width': 166, 'height': 232}, {'x_min': 121229, 'y_min': 39073, 'width': 177, 'height': 173}, {'x_min': 23967, 'y_min': 41160, 'width': 131, 'height': 115}, {'x_min': 26798, 'y_min': 39551, 'width': 213, 'height': 93}, {'x_min': 26195, 'y_min': 39417, 'width': 207, 'height': 172}, {'x_min': 27615, 'y_min': 40111, 'width': 83, 'height': 129}, {'x_min': 41507, 'y_min': 43753, 'width': 315, 'height': 245}, {'x_min': 39844, 'y_min': 41778, 'width': 236, 'height': 209}, {'x_min': 34451, 'y_min': 33772, 'width': 306, 'height': 274}, {'x_min': 34580, 'y_min': 34145, 'width': 200, 'height': 179}, {'x_min': 35234, 'y_min': 33241, 'width': 186, 'height': 185}, {'x_min': 35461, 'y_min': 32829, 'width': 206, 'height': 238}, {'x_min': 37460, 'y_min': 33258, 'width': 178, 'height': 191}, {'x_min': 37485, 'y_min': 32837, 'width': 223, 'height': 168}, {'x_min': 37609, 'y_min': 32419, 'width': 250, 'height': 200}, {'x_min': 38228, 'y_min': 30957, 'width': 167, 'height': 128}, {'x_min': 34711, 'y_min': 26018, 'width': 297, 'height': 188}, {'x_min': 121608, 'y_min': 39346, 'width': 184, 'height': 144}]\n",
      "\n",
      "[{'x_min': 8829, 'y_min': 4740, 'width': 83, 'height': 114}]\n",
      "\n",
      "[{'x_min': 90561, 'y_min': 7327, 'width': 110, 'height': 151}, {'x_min': 91199, 'y_min': 7588, 'width': 96, 'height': 66}, {'x_min': 41994, 'y_min': 3634, 'width': 56, 'height': 72}, {'x_min': 42238, 'y_min': 3934, 'width': 138, 'height': 110}, {'x_min': 42561, 'y_min': 3767, 'width': 88, 'height': 135}, {'x_min': 42169, 'y_min': 4087, 'width': 70, 'height': 62}, {'x_min': 42397, 'y_min': 3878, 'width': 111, 'height': 77}, {'x_min': 44058, 'y_min': 7931, 'width': 319, 'height': 214}, {'x_min': 44184, 'y_min': 8327, 'width': 228, 'height': 191}, {'x_min': 44096, 'y_min': 9618, 'width': 200, 'height': 187}, {'x_min': 43653, 'y_min': 10198, 'width': 201, 'height': 89}, {'x_min': 36991, 'y_min': 10833, 'width': 83, 'height': 86}, {'x_min': 33848, 'y_min': 5142, 'width': 124, 'height': 102}, {'x_min': 12526, 'y_min': 6086, 'width': 149, 'height': 165}]\n",
      "\n",
      "[{'x_min': 55888, 'y_min': 7320, 'width': 134, 'height': 190}, {'x_min': 55814, 'y_min': 7062, 'width': 240, 'height': 196}, {'x_min': 55751, 'y_min': 6896, 'width': 138, 'height': 176}, {'x_min': 54842, 'y_min': 5176, 'width': 190, 'height': 209}, {'x_min': 54572, 'y_min': 4811, 'width': 316, 'height': 203}, {'x_min': 53673, 'y_min': 3666, 'width': 134, 'height': 198}, {'x_min': 51369, 'y_min': 2901, 'width': 310, 'height': 242}, {'x_min': 49596, 'y_min': 7028, 'width': 233, 'height': 139}, {'x_min': 49411, 'y_min': 7295, 'width': 444, 'height': 303}, {'x_min': 49651, 'y_min': 7646, 'width': 283, 'height': 165}, {'x_min': 49006, 'y_min': 7478, 'width': 154, 'height': 211}, {'x_min': 49500, 'y_min': 13317, 'width': 198, 'height': 82}, {'x_min': 49237, 'y_min': 13318, 'width': 211, 'height': 100}, {'x_min': 49194, 'y_min': 13635, 'width': 208, 'height': 52}, {'x_min': 52769, 'y_min': 14198, 'width': 293, 'height': 452}, {'x_min': 53230, 'y_min': 14211, 'width': 252, 'height': 218}, {'x_min': 53767, 'y_min': 14044, 'width': 263, 'height': 226}, {'x_min': 54187, 'y_min': 14146, 'width': 327, 'height': 120}, {'x_min': 54829, 'y_min': 13927, 'width': 275, 'height': 191}, {'x_min': 54890, 'y_min': 13741, 'width': 193, 'height': 200}, {'x_min': 55407, 'y_min': 13420, 'width': 120, 'height': 168}, {'x_min': 55065, 'y_min': 10060, 'width': 206, 'height': 112}, {'x_min': 54784, 'y_min': 10257, 'width': 97, 'height': 115}, {'x_min': 54609, 'y_min': 10041, 'width': 150, 'height': 127}, {'x_min': 54162, 'y_min': 9949, 'width': 192, 'height': 91}, {'x_min': 54504, 'y_min': 9704, 'width': 268, 'height': 89}, {'x_min': 9744, 'y_min': 11756, 'width': 199, 'height': 158}, {'x_min': 9865, 'y_min': 11835, 'width': 148, 'height': 170}, {'x_min': 9899, 'y_min': 11630, 'width': 137, 'height': 158}, {'x_min': 9929, 'y_min': 12033, 'width': 164, 'height': 280}, {'x_min': 9244, 'y_min': 11067, 'width': 239, 'height': 129}, {'x_min': 9110, 'y_min': 10782, 'width': 140, 'height': 91}, {'x_min': 9125, 'y_min': 10218, 'width': 170, 'height': 172}, {'x_min': 9018, 'y_min': 9973, 'width': 132, 'height': 169}, {'x_min': 6920, 'y_min': 8433, 'width': 131, 'height': 101}, {'x_min': 5868, 'y_min': 8132, 'width': 179, 'height': 299}, {'x_min': 5208, 'y_min': 8157, 'width': 358, 'height': 148}, {'x_min': 3674, 'y_min': 12713, 'width': 362, 'height': 279}, {'x_min': 3875, 'y_min': 12420, 'width': 193, 'height': 102}, {'x_min': 3277, 'y_min': 12938, 'width': 189, 'height': 236}, {'x_min': 3854, 'y_min': 13560, 'width': 157, 'height': 159}, {'x_min': 3747, 'y_min': 13874, 'width': 114, 'height': 171}, {'x_min': 4164, 'y_min': 13802, 'width': 132, 'height': 96}, {'x_min': 3335, 'y_min': 13691, 'width': 55, 'height': 106}, {'x_min': 3557, 'y_min': 13844, 'width': 118, 'height': 138}, {'x_min': 3706, 'y_min': 14855, 'width': 175, 'height': 109}, {'x_min': 3502, 'y_min': 15089, 'width': 182, 'height': 159}, {'x_min': 3264, 'y_min': 15101, 'width': 150, 'height': 165}, {'x_min': 3059, 'y_min': 15249, 'width': 114, 'height': 154}, {'x_min': 3331, 'y_min': 15363, 'width': 170, 'height': 128}, {'x_min': 3737, 'y_min': 15303, 'width': 162, 'height': 159}, {'x_min': 3598, 'y_min': 15542, 'width': 160, 'height': 112}, {'x_min': 3612, 'y_min': 15577, 'width': 194, 'height': 89}, {'x_min': 4107, 'y_min': 15523, 'width': 109, 'height': 114}, {'x_min': 4119, 'y_min': 16245, 'width': 123, 'height': 100}, {'x_min': 3414, 'y_min': 16833, 'width': 345, 'height': 255}, {'x_min': 3857, 'y_min': 17172, 'width': 149, 'height': 121}, {'x_min': 7784, 'y_min': 19672, 'width': 293, 'height': 367}, {'x_min': 8122, 'y_min': 19374, 'width': 266, 'height': 174}, {'x_min': 9906, 'y_min': 18672, 'width': 428, 'height': 258}]\n"
     ]
    }
   ],
   "execution_count": 2
  },
  {
   "metadata": {
    "ExecuteTime": {
     "end_time": "2024-11-10T16:42:03.950175Z",
     "start_time": "2024-11-10T16:42:03.948930Z"
    }
   },
   "cell_type": "code",
   "source": "",
   "id": "ea19232dc25ed06e",
   "outputs": [],
   "execution_count": null
  }
 ],
 "metadata": {
  "kernelspec": {
   "display_name": "Python 3",
   "language": "python",
   "name": "python3"
  },
  "language_info": {
   "codemirror_mode": {
    "name": "ipython",
    "version": 2
   },
   "file_extension": ".py",
   "mimetype": "text/x-python",
   "name": "python",
   "nbconvert_exporter": "python",
   "pygments_lexer": "ipython2",
   "version": "2.7.6"
  }
 },
 "nbformat": 4,
 "nbformat_minor": 5
}
